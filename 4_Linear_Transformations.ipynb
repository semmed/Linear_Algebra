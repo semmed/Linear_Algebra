{
 "cells": [
  {
   "cell_type": "markdown",
   "id": "7a3a8365",
   "metadata": {},
   "source": [
    "<img align=\"left\" width=\"32%\" style=\"padding-right:10px;\" src=\"Images/Ccom.png\">\n",
    "\n",
    "\n",
    "___\n",
    "# Review of Linear Algebra\n",
    "## 4 Linear Transformations\n",
    "\n",
    "Jupyter Notebook Implementation: *Semme J. Dijkstra, 2022*\n",
    "\n",
    "Original Linear Algebra text and in text examples: <br>*David E. Wells, Kresho Frankich, 1994*\n",
    "___\n",
    "\n",
    "<a href=\"https://teams.microsoft.com/l/team/19%3auL2OnH3RSfCWwU2Fd3VYGLT_03BYOfA3KB_OBp10CIY1%40thread.tacv2/conversations?groupId=5c11a428-14b6-429d-b7f5-a61ebc0a440b&tenantId=d6241893-512d-46dc-8d2b-be47e25f5666\"><img src=\"Images/help.png\"  title=\"Ask questions on Teams\" align=\"right\" width=\"10%\" alt=\"Teams.com\\\"></a> \n",
    "\n",
    "Minor additional notes and edits: Semme J. Dijkstra, 2022<br>\n",
    "Additional examples: Semme J. Dijkstra, 2022<br>\n",
    "Python code and explanations: Semme J. Dijkstra, 2022\n",
    "___"
   ]
  },
  {
   "cell_type": "code",
   "execution_count": 3,
   "id": "9529f640",
   "metadata": {},
   "outputs": [],
   "source": [
    "import matplotlib.pyplot as plt\n",
    "import numpy as np\n",
    "from numpy import pi, sin, cos, sqrt\n",
    "import numpy.linalg as la\n",
    "from numpy.testing import assert_allclose\n",
    "from my_code.latex_output import display_matrix, latex_matrix\n",
    "from my_code.boat import boat\n",
    "from my_code.plottransform import plottransform\n",
    "from IPython.display import display, Math, Markdown, Latex\n",
    "# %matplotlib notebook  # Can be useful when wanting to manipulate plots\n",
    "from matplotlib.animation import FuncAnimation\n",
    "%load_ext autoreload\n",
    "%autoreload 2\n"
   ]
  },
  {
   "cell_type": "markdown",
   "id": "1e230edf",
   "metadata": {},
   "source": [
    "___\n",
    "<img align=\"left\" width=\"6%\" style=\"padding-right:10px;\" src=\"./Images/info.png\">\n",
    "\n",
    "# LaTex<br>\n",
    "\n",
    "This is a [Jupyter](https://jupyter.org/) notebook in which heavy use of [LaTex](https://www.latex-project.org/) is made. LaTex is *\\\"a high-quality typesetting system; it includes features designed for the production of technical and scientific documentation. LaTeX is the de facto standard for the communication and publication of scientific documents.\\\"* according to [the Latex project](https://www.latex-project.org/)\n",
    "\n",
    "Latex allows the creation of macros and other type-setting methods of convenience. This particular Markdown cell you are reading is used for the definition of new LaTex operators and commands, but they are hidden from view. If you are interested: double click on this cell to enter its edit mode and you will be able see how they are implemented.\n",
    "\n",
    "<div hidden>\n",
    "$\\usepackage{amsmath,amssymb}$\n",
    "\n",
    "$\\DeclareRobustCommand{\\bbone}{\\text{\\usefont{U}{bbold}{m}{n}1}}$\n",
    "\n",
    "$\\DeclareMathOperator{\\EX}{\\mathbb{E}}% expected value$\n",
    "\n",
    "$\\DeclareMathOperator{\\res}{\\vec{r}}$\n",
    "\n",
    "$\\DeclareMathOperator{\\mf}{\\mu_{1}\\sigma_{2}^{2}+\\mu_{2}\\sigma_{1}^{2}\\over{\\sigma_{1}^{2} + \\sigma_{2}^{2}}}$\n",
    "    \n",
    "$\\DeclareMathOperator{\\sf}{{\\sigma_{1}^{2}\\sigma_{2}^{2}}\\over{\\sigma_{1}^{2}+\\sigma_{2}^{2}}}$\n",
    "    \n",
    "$\\newcommand{\\ex}[1]{\\mathbb{E}\\{#1\\}}$\n",
    "    \n",
    "$\\newcommand{\\dev}[1]{\\mathbb{E}\\{#1^o_i - \\mathbb{E}\\{#1\\}\\}}$\n",
    "    \n",
    "$\\newcommand{\\cov}[1]{\\mathbb{E}\\{(#1^o_i - \\mathbb{E}\\{#1\\})(#1 - \\mathbb{E}\\{#1\\})^T\\}}$\n",
    "    \n",
    "$\\newcommand{\\m}[1]{\\mathbf{#1}}$\n",
    "\n",
    "$\\newcommand{\\col}[2]{\\begin{pmatrix}#1 \\\\ #2 \\end{pmatrix}}$\n",
    "    \n",
    "</div>"
   ]
  },
  {
   "cell_type": "markdown",
   "id": "d7fbf9db",
   "metadata": {},
   "source": [
    "___\n",
    "# 4 Linear Transformations\n",
    "\n",
    "So-far we have mostly looked at vectors from an algebraic point of view, treating them as rows of columns of real numbers. From the geometric point of view we are familiar with the concept of a vector in two or three dimensions as a ***directed line segment***. We can describe such vectors in algebraic language by specifying the components with respect to some ***reference frame*** defined by a ***coordinate system***, which leads to a row (or column) of two or three real numbers, as before. We know that such vectors can also be uniquely defined by specifying their ***length*** and ***direction***.\n",
    "\n",
    "We can generalize these geometric ideas and interpret a row or column of $n \\in \\mathbb{N}^+$ real numbers as a vector in the same sense as in two or three dimensions. The problem is that if $n>3$ we can no longer draw a picture of the vector. However, all the properties of the $2$D or $3$D vectors can be maintained for $n$-dimensional vectors.\n",
    "\n",
    "For example: the ***length*** of a vector:\n",
    "\n",
    "$$\\lVert x\\lVert=\\sqrt{\\m{x}^T\\m{x}}\\tag{124}$$\n",
    "\n",
    "which leads to:\n",
    "\n",
    "$$\\lVert x\\lVert=\\sqrt{\\sum_{i=1}^n}x_i^2\\tag{125}$$\n",
    "\n",
    "and the ***orientation*** of a vector (as represented by its vector of ***direction cosines***)\n",
    "\n",
    "$$\\m{u}_x = \\dfrac{\\m{x}}{\\lVert x\\lVert}\\tag{126}$$\n",
    "\n",
    "Note that the ***direction cosines*** are the cosines of the angles that the directed line segment makes which each of the axes of the reference frame respectively.\n",
    "\n",
    "For any two vectors having the same number of elements, the ***scalar*** product between them is\n",
    "\n",
    "$$\\m{x}^T\\m{y} = \\m{y}^T\\m{x} =\\sqrt{\\sum_{i=1}^n}x_i y_i\\tag{127}$$\n",
    "\n",
    "The ***distance*** between the end-points of the two vectors is:\n",
    "\n",
    "$$\\lVert x-y\\lVert = \\sqrt{\\sum_{i=1}^n}(x_i-y_i)^2\\tag{128}$$\n",
    "\n",
    "and the ***angle*** in the plane subtended between the two vectors is (from the cosine rule):\n",
    "\n",
    "$$\\cos\\theta=\\dfrac{\\m{x}^T\\m{y}}{\\lVert x\\lVert\\lVert y\\lVert}\\tag{129}$$\n",
    "\n",
    "The matrix equation:\n",
    "<a id='eq130'></a>\n",
    "$$\\m{y} = \\m{Ax}+\\m{b}\\tag{130}$$\n",
    "\n",
    "where $\\m{A}$ is a matrix, can be regarded as a ***linear transformation*** of $\\m{x}$, in which the matrix $\\m{A}$ is called the ***transformation matrix*** and $\\m{b}$ is the ***translation vector***. There are two related interpretations of such transformations:\n",
    "\n",
    "- $\\m{x}$ and $\\m{y}$ are different vectors whose elements are referred to the same reference frame<br>\n",
    "    The transformation matrix describes the coordinates of $\\m{y}$ in terms of the coordinates of $\\m{x}$, or the operations that must be performed on  $\\m{x}$ to transform it into $\\m{y}$\n",
    "<br><br>\n",
    "- $\\m{x}$ and $\\m{y}$ are the same vector whose elements are referred to different reference frames<br>\n",
    "    The transformation matrix describes the relationship between the reference frames, or the operations that must be performed on the coordinate system to which $\\m{x}$ refers to transform it into the coordinate system to which $\\m{y}$ refers"
   ]
  },
  {
   "cell_type": "markdown",
   "id": "2bdb5377",
   "metadata": {},
   "source": [
    "___\n",
    "## 4.0 Introduction to Transforms and Python\n",
    "\n",
    "Note that `matplotlib` has a `transforms` module that implement most commonly used linear transforms in an efficient manner. Since this module is specifically aimed at learning about the transforms we will often not use the `matplotlib` functionality, but rather implement them ourselves. Even more efficiency than using `matplotlib` may be gained by using code that specifically makes use of your GPU, this may be done with modules such as `pygame` and can gain you significant performance benefits if so required. One of the goals of these notebooks is then to give you the foundations required to understand the functionality of such highly optimized transformation algorithms.\n",
    "\n",
    "Before we go much further let's look at the code example below. For this code example we will define $n$ vertices $\\m{v}_i,i\\in \\mathopen[0\\dots n\\mathclose)$ representing a simple boat shape and capture them as a polygon in matrix $\\m{B}$ represented by variable B:\n",
    "\n",
    "$$\\m{v}_1=\\col{-6}{-2}, \\m{v}_2=\\col{4}{-2}, \\m{v}_3=\\col{6}{0}, \\m{v}_4=\\col{4}{2}, \\m{v}_5=\\col{-6}{2}$$\n",
    "\n",
    "$$\\m{B} = \\left(\\begin{array}{c|c|c|c|c}\\m{v}_1&\\m{v}_2&\\m{v}_3&\\m{v}_4&\\m{v}_5\\end{array}\\right) = \\begin{pmatrix} -6&4&6&4&-6\\\\ -2&-2&0&2&2\\end{pmatrix}$$"
   ]
  },
  {
   "cell_type": "code",
   "execution_count": 4,
   "id": "cf80fb91",
   "metadata": {},
   "outputs": [
    {
     "name": "stdout",
     "output_type": "stream",
     "text": [
      "Matrix B holds a polygon defining a boat shape\n"
     ]
    },
    {
     "data": {
      "text/latex": [
       "$\\displaystyle \\begin{bmatrix} \n",
       " -6.0000& 4.0000& 6.0000& 4.0000& -6.0000\\\\\n",
       " -2.0000& -2.0000& 0.0000& 2.0000& 2.0000\\\\\n",
       "\\end{bmatrix}$"
      ],
      "text/plain": [
       "<IPython.core.display.Math object>"
      ]
     },
     "metadata": {},
     "output_type": "display_data"
    },
    {
     "data": {
      "image/png": "[encoded data removed]",
      "text/plain": [
       "<Figure size 288x288 with 1 Axes>"
      ]
     },
     "metadata": {
      "needs_background": "light"
     },
     "output_type": "display_data"
    }
   ],
   "source": [
    "\n",
    "B = np.asarray([[-6, 4, 6, 4, -6],[-2, -2, 0, 2, 2]])\n",
    "t =  np.asarray([[8],[-1]])\n",
    "Bt = B + t\n",
    "print('Matrix B holds a polygon defining a boat shape')\n",
    "display_matrix(B)\n",
    "\n",
    "plt.figure(figsize=(4, 4))\n",
    "plt.axis('equal')\n",
    "plt.fill(B[0,:],B[1,:],'C0', ec='k',zorder=0)\n",
    "for i in range(B.shape[1]):\n",
    "    plt.plot([B[0,i], Bt[0,i]],[B[1,i],Bt[1,i]],'k--',zorder=1)\n",
    "    \n",
    "plt.fill(Bt[0,:],Bt[1,:],'C1', ec='k', alpha=.8,zorder=2)\n",
    "plt.show()"
   ]
  },
  {
   "cell_type": "markdown",
   "id": "f24298be",
   "metadata": {},
   "source": [
    "What all happened here?\n",
    "\n",
    "    B = np.asarray([[-6, 4, 6, 4, -6],[-2, -2, 0, 2, 2]])\n",
    "    \n",
    "Creates a `numpy` array defining the matrix $\\m{B}$ that holds a polygon of vertices in the form of the top view of a, admittedly, simple boat (shown in blue in the plot). Note that it would be more 'pythonesque' to name the matrix `B` `boat` instead, as it is more descriptive. However, since the purpose here is to illuminate principles of linear algebra we will follow the common usage of using a single capital letter, possibly augmented by a lower case specifier, as the name of a matrix. The vertices of the matrix are then given by the columns of matrix `B`, where the row 0 element defines the 0-axis (horizontal) position, and the row 1 element defines the 1-axis (vertical) position.\n",
    "\n",
    "    t =  np.asarray([[8],[-1]])\n",
    "    \n",
    "Creates a column vector with the elements `8` and `-1`\n",
    "\n",
    "    Bt = B + t\n",
    "    \n",
    "This is the statement that really warrants the step-by-step explanation; what happens here is not part of traditional linear algebra, but is a very useful addition for when you program - the process is called **implicit expansion** and allows you to write cleaner looking code. In linear algebra there is a mismatch in dimensions in the expression written above; Python recognizes this and replaces the vector $\\m{t}$ represented by the variable `t` by the matrix $[\\m{t, t, ... t}]$ matching the number of columns in `B` and thus resulting in the addition of the vector `t` to every vertex contained within `B`. Thus matrix `Bt` is matrix `B` transformed by pure translation vector `t` (you'll learn what a pure translation is next).\n",
    "\n",
    "    print('Matrix B holds a polygon defining a boat shape')\n",
    "    display_matrix(B)\n",
    "\n",
    "This just lets the user know the numerical contents of `B` in an appropriate format using LaTeX.\n",
    "\n",
    "    plt.figure(figsize=(8, 8))\n",
    "\n",
    "This creates the plot canvas\n",
    "\n",
    "    plt.axis('equal')\n",
    "    \n",
    "This equals the scaling of the units on the plot axes (1 unit on the 0-axis matches in size to 1 unit on the 1-axis).\n",
    "\n",
    "    plt.fill(B[0,:],B[1,:],'C0', ec='k',zorder=0)\n",
    "    \n",
    "This plots the matrix `B` as a filled polygon, using row 0 elements for the 0-axis coordinates, row 1 elements for the 1-axis, the first color in the color cycle C0, a black outline 'k', and puts the `zorder` at 0 i.e., in the background.\n",
    "\n",
    "    for i in range(B.shape[1]):\n",
    "        plt.plot([B[0,i], Bt[0,i]],[B[1,i],Bt[1,i]],'k--',zorder=1)\n",
    "        \n",
    "This plots black dotted connecting lines from all polygon vertices `i` contained in B to its transformed vertices in `Bt`. Since `zorder=1` the vertices are drawn over the previously drawn polygon.\n",
    "\n",
    "    plt.fill(Bt[0,:],Bt[1,:], alpha=.8,zorder=2)\n",
    "    \n",
    "This plots the transformed matrix `Bt` in the second color in the color cycle (C1), and a black outline ('k') over all previously drawn shapes. Those still are visible because the polygon is made transparent by setting the value `alpha=.8`\n",
    "\n",
    "    plt.show()\n",
    "    \n",
    "This forces the plot to be shown on the screen."
   ]
  },
  {
   "cell_type": "markdown",
   "id": "c7b984e1",
   "metadata": {},
   "source": [
    "### 4.0 Self study exercise 1\n",
    "\n",
    "    a) Add at least 4 vertices to the boat matrix B\n",
    "    b) Create a different vector t\n",
    "    c) Perform a pure translation of B using t\n",
    "    \n",
    "In the mycode folder you will find the file plottransform.py containing the function `plottransform` that takes the arguments B and Bt.\n",
    "\n",
    "    d) Update function plottransform so that it reproduces the plot produced by the code cell above (hint, a simple copy and paste operation should achieve your goal)"
   ]
  },
  {
   "cell_type": "code",
   "execution_count": 5,
   "id": "3ea6b381",
   "metadata": {},
   "outputs": [
    {
     "data": {
      "image/png": "[encoded data removed]",
      "text/plain": [
       "<Figure size 288x288 with 1 Axes>"
      ]
     },
     "metadata": {
      "needs_background": "light"
     },
     "output_type": "display_data"
    }
   ],
   "source": [
    "### 4.0 Self study exercise 1\n",
    "\n",
    "B = np.asarray([[-6, 4, 6, 4, -6],[-2, -2, 0, 2, 2]])\n",
    "t =  np.asarray([[8],[-1]])\n",
    "Bt = B + t\n",
    "fg = plt.figure(figsize=(4, 4));\n",
    "plottransform(B,Bt)\n",
    "plt.show()"
   ]
  },
  {
   "cell_type": "markdown",
   "id": "68cf0c37",
   "metadata": {},
   "source": [
    "___\n",
    "## 4.1 Special (Affine) Transformations\n",
    "\n",
    "In this section we restrict our attention to matrices that are square and nonsingular ($\\text{det}\\left(\\m{A}\\right)\\neq 0$) in which case the inverse $\\m{A}^{-1}$ exists, so that:\n",
    "\n",
    "$$\\m{x}=\\m{A}^{-1}\\left(\\m{y}-\\m{b}\\right)\\tag{131}$$\n",
    "\n",
    "This restricted class of linear transformations are called ***affine transformations*** which have as a property that they may be inverted to obtain the original vector $\\m{x}$. There are six kinds of ***elementary affine transformations***. Any general affine transformation can be factored into a sequence of these elementary transformations. Note that there is one special affine transformation for which $\\m{A} = \\m{I}$ which is known as:\n",
    "\n",
    "    pure translation\n",
    "    \n",
    "for all others $\\m{b} = \\m{0}$ thus, these are known as ***homogeneous affine transformations*** and are called: \n",
    "\n",
    "    rotation\n",
    "    reflection\n",
    "    scalar transformation\n",
    "    simple elongation\n",
    "    simple shear\n",
    "\n",
    "We will look at all these individually."
   ]
  },
  {
   "cell_type": "markdown",
   "id": "914b04d7",
   "metadata": {},
   "source": [
    "___\n",
    "<a id='4_1_2_Pure_Translation'></a>\n",
    "### 4.1.1 Elementary Affine Transformations: Pure Translation\n",
    "\n",
    "The only non-homogeneous elementary affine transformation is ***pure translation*** w\n",
    "\n",
    "$$\\m{y} = \\m{x}+\\m{b}\\tag{132}$$\n",
    "\n",
    "for which, in [(130)](#eq130)\n",
    "\n",
    "$$\\m{A} = \\m{I}\\tag{133}$$\n",
    "\n",
    "An example is:\n",
    "\n",
    "$$_2t_1=\\begin{pmatrix} 8 \\\\ -1 \\end{pmatrix}\\tag{134}$$\n",
    "\n",
    "translating\n",
    "\n",
    "$$_2x_1=\\begin{pmatrix} 4 \\\\ 1 \\end{pmatrix}\\tag{135}$$\n",
    "\n",
    "by $\\m{t}$ gives:\n",
    "\n",
    "$$\\m{y}= \\m{x}+\\m{t}=\\begin{pmatrix} 12 \\\\ 0 \\end{pmatrix}\\tag{136}$$\n",
    "\n",
    "<img align=\"left\" width=\"30%\" style=\"padding-right:10px;\" src=\"Images/pure_translation.png\">\n",
    "\n",
    "<br><br>Translating all vertices of the boat $\\begin{pmatrix}-6\\\\-2\\end{pmatrix}$,$\\begin{pmatrix}4\\\\-2\\end{pmatrix}$,$\\begin{pmatrix}6\\\\0\\end{pmatrix}$,$\\begin{pmatrix}4\\\\2\\end{pmatrix}$,$\\begin{pmatrix}-6\\\\2\\end{pmatrix}$ produces the result shown in the figure to the left\n"
   ]
  },
  {
   "cell_type": "markdown",
   "id": "09cca748",
   "metadata": {},
   "source": [
    "___\n",
    "#### 4.1.1 Self Study Exercise 1\n",
    "\n",
    "We will illustrate the elementary affine transforms using figures. In this exercise we will aim to reproduce the figure above. To this end we will update the `plottransform()` function you created to take an additional argument named `plot_title` with a default value of an empty string i.e., `plot_title = ''`. We will use this argument to plot an appropriate title.\n",
    "\n",
    "    a) Add the `plot_title = ''` argument to the function declaration of `plottransform()`\n",
    "    b) Update the `plottransform` code so that it will plot the title using `plt.title()`\n",
    "    c) Create a matrix of vertices called `X` and assign it the vertices returned by the `boat()`\n",
    "    d) Define the translation vector `t` according to (134)\n",
    "    e) Transform `X` to `Xt` using the pure translation given by `t`\n",
    "    f) create a 8x8 figure `fg` using the `plt.figure()` function \n",
    "    g) Plot `X` and its transform `Xt` with the title 'Pure Translation' using `plottransform()`\n",
    "    h) Verify that your plot corresponds to the figure above\n",
    "    "
   ]
  },
  {
   "cell_type": "code",
   "execution_count": 6,
   "id": "9fe155e1",
   "metadata": {},
   "outputs": [
    {
     "data": {
      "image/png": "[encoded data removed]",
      "text/plain": [
       "<Figure size 288x288 with 1 Axes>"
      ]
     },
     "metadata": {
      "needs_background": "light"
     },
     "output_type": "display_data"
    }
   ],
   "source": [
    "X = boat()\n",
    "t =  np.asarray([[8],[-1]])\n",
    "Xt = X + t\n",
    "fg = plt.figure(figsize=(4, 4));\n",
    "plottransform(X,Xt,'Pure Translation')\n",
    "plt.show()"
   ]
  },
  {
   "cell_type": "markdown",
   "id": "91acc75f",
   "metadata": {},
   "source": [
    "___\n",
    "<a id='Rotation'></a>\n",
    "### 4.1.2 Special Transformations: Rotation and Reflection\n",
    "\n",
    "***Rotations*** and ***Reflections*** leave the length of a vector unchanged, hence the length of the square of a vector also remains unchanged. Thus given a transformation (rotation or reflection) matrix $\\m{A}$, for any arbitrary $\\m{x}$ we will obtain the transformed (rotated or reflected vector)\n",
    "\n",
    "$$\\m{y} = \\m{Ax}\\tag{137}$$ \n",
    "\n",
    "such that\n",
    "\n",
    "$$\\m{y}^T\\m{y} = \\m{x}^T\\m{x}\\tag{138}$$\n",
    "\n",
    "or\n",
    "\n",
    "$$\\m{y}^T\\m{y} = \\left(\\m{Ax}\\right)^T\\m{Ax}=\\m{x}^T\\left(\\m{A}^T\\m{A}\\right)\\m{x}=\\m{x}^T\\m{x}\\tag{139}$$\n",
    "\n",
    "Therefore\n",
    "\n",
    "$$\\m{A}^T\\m{A}=\\m{I}\\tag{140}$$\n",
    "\n",
    "That is, the transformation matrix must be ***orthogonal***. Rotation matrices are ***proper*** orthogonal matrices i.e, \n",
    "\n",
    "$$\\text{det}\\left(\\m{A}\\right)=+1\\tag{141}$$\n",
    "\n",
    "Reflection matrices are ***improper*** orthogonal matrices i.e, \n",
    "\n",
    "$$\\text{det}\\left(\\m{A}\\right)=-1\\tag{142}$$\n",
    "\n",
    "Any improper matrix can be expressed  as the product of a rotation and a reflection. The inverse of a rotation is its transpose, the inverse of a reflection is itself.\n",
    "\n",
    "An example of a rotation matrix is:\n",
    "\n",
    "$$_2\\m{R}_2=\\begin{pmatrix}\\cos 30^o & \\sin 30^o \\\\ -\\sin 30^o & \\cos 30^o\\end{pmatrix}\\tag{143}$$\n",
    "\n",
    "Transforming\n",
    "\n",
    "$$\\m{x}=\\begin{pmatrix}4\\\\1\\end{pmatrix}\\tag{144}$$\n",
    "\n",
    "by $\\m{R}$ gives:\n",
    "\n",
    "$$\\m{y}=\\m{Rx}=\\begin{pmatrix}3.96\\\\-1.13\\end{pmatrix}\\tag{145}$$\n",
    "\n",
    "\n",
    "<img align=\"left\" width=\"30%\" style=\"padding-right:10px;\" src=\"Images/rotation.png\">\n",
    "\n",
    "<br><br>Rotating all vertices of the boat $\\begin{pmatrix}-6\\\\-2\\end{pmatrix}$,$\\begin{pmatrix}4\\\\-2\\end{pmatrix}$,$\\begin{pmatrix}6\\\\0\\end{pmatrix}$,$\\begin{pmatrix}4\\\\2\\end{pmatrix}$,$\\begin{pmatrix}-6\\\\2\\end{pmatrix}$ by $\\m{R}$ produces the result shown in the figure to the left"
   ]
  },
  {
   "cell_type": "markdown",
   "id": "6d33e6f4",
   "metadata": {},
   "source": [
    "___\n",
    "#### 4.1.2 Self Study Exercise 1\n",
    "\n",
    "Similar to how you reproduced the pure translation figure, reproduce the rotation figure shown above \n",
    "\n",
    "    a) Create a matrix of vertices called `X` and assign it the vertices returned by the `boat()`\\\n",
    "    b) Define the rotation angle `th` as pi/6 radians (we use radians)\n",
    "    c) Define the rotation matrix `R` according to (143), using angle th \n",
    "    d) Transform `X` to `Xt` using the rotation defined by `R`\n",
    "    e) create a 8x8 figure `fg` using the `plt.figure()` function \n",
    "    f) Plot `X` and its transform `Xt` with the title 'Rotation' using `plottransform()`\n",
    "    g) Verify that your plot corresponds to the figure above\n",
    "    h) Is this rotation in the direction that you expected?\n",
    "    "
   ]
  },
  {
   "cell_type": "code",
   "execution_count": 7,
   "id": "e59c9f44",
   "metadata": {},
   "outputs": [
    {
     "data": {
      "image/png": "[encoded data removed]",
      "text/plain": [
       "<Figure size 288x288 with 1 Axes>"
      ]
     },
     "metadata": {
      "needs_background": "light"
     },
     "output_type": "display_data"
    }
   ],
   "source": [
    "X = boat()\n",
    "th = pi/6\n",
    "R = np.asarray([[cos(th), sin(th)],[-sin(th),cos(th)]])\n",
    "Xt = R@X\n",
    "fg = plt.figure(figsize=(4, 4))\n",
    "plottransform(X,Xt,'Rotation')\n",
    "plt.show()\n",
    "\n",
    "q_4_1_2_1_h = 'I expected that a positive rotation would rotate the boat in clockwise/anticlockwise direction'"
   ]
  },
  {
   "cell_type": "markdown",
   "id": "e1ef73f1",
   "metadata": {},
   "source": [
    "___\n",
    "\n",
    "An example of a reflection matrix is:\n",
    "\n",
    "$$_2\\m{F}_2 = \\begin{pmatrix}-1&0\\\\0&-\\end{pmatrix}\\tag{146}$$\n",
    "\n",
    "Transforming\n",
    "\n",
    "$$\\m{x} = \\begin{pmatrix}4\\\\1\\end{pmatrix}\\tag{147}$$\n",
    "\n",
    "by $\\m{F}$ gives\n",
    "\n",
    "$$\\m{y} = \\m{Fx}=\\begin{pmatrix}-4\\\\1\\end{pmatrix}\\tag{148}$$\n",
    "\n",
    "<img align=\"left\" width=\"30%\" style=\"padding-right:10px;\" src=\"Images/reflection.png\">\n",
    "\n",
    "<br><br>Reflecting all vertices of the boat $\\begin{pmatrix}-6\\\\-2\\end{pmatrix}$,$\\begin{pmatrix}4\\\\-2\\end{pmatrix}$,$\\begin{pmatrix}6\\\\0\\end{pmatrix}$,$\\begin{pmatrix}4\\\\2\\end{pmatrix}$,$\\begin{pmatrix}-6\\\\2\\end{pmatrix}$ by $\\m{F}$ produces the result shown in the figure to the left"
   ]
  },
  {
   "cell_type": "markdown",
   "id": "05665b5c",
   "metadata": {},
   "source": [
    "___\n",
    "#### 4.1.2 Self Study Exercise 2\n",
    "\n",
    "Similar to how you reproduced the Rotation figure, reproduce the Reflection figure shown above \n",
    "\n",
    "    a) Create a matrix of vertices called `X` and assign it the vertices returned by the `boat()`\\\n",
    "    b) Define the reflection matrix `F` according to (146)\n",
    "    c) Transform `X` to `Xt` using the reflection defined by `F`\n",
    "    d) create a 8x8 figure `fg` using the `plt.figure()` function \n",
    "    e) Plot `X` and its transform `Xt` with the title 'Reflection' using `plottransform()`\n",
    "    f) Verify that your plot corresponds to the figure above\n",
    "    "
   ]
  },
  {
   "cell_type": "code",
   "execution_count": 8,
   "id": "c8aff19b",
   "metadata": {
    "scrolled": true
   },
   "outputs": [
    {
     "data": {
      "image/png": "[encoded data removed]",
      "text/plain": [
       "<Figure size 288x288 with 1 Axes>"
      ]
     },
     "metadata": {
      "needs_background": "light"
     },
     "output_type": "display_data"
    }
   ],
   "source": [
    "X = boat()\n",
    "F = np.asarray([[-1,0],[0,1]])\n",
    "Xt = F@X\n",
    "fg = plt.figure(figsize=(4, 4))\n",
    "plottransform(X,Xt,'Reflection')\n",
    "plt.show()\n"
   ]
  },
  {
   "cell_type": "markdown",
   "id": "d030afcc",
   "metadata": {},
   "source": [
    "___\n",
    "<a id='Scalar_Transformation'></a>\n",
    "### 4.1.3 Scalar Transformation\n",
    "\n",
    "A scalar transformation leaves the direction of a vector unchanged, hence can only change vector lengths. This transformation produces the same change in length (or scale) whatever the vector, and has a ***scalar transformation matrix***\n",
    "\n",
    "$$\\m{A} = k\\m{I}\\tag{149}$$ \n",
    "\n",
    "such that\n",
    "\n",
    "$$\\m{y} = \\m{Ax}\\tag{150}$$\n",
    "\n",
    "can be written\n",
    "\n",
    "$$\\m{y} = k\\m{x}\\tag{151}$$\n",
    "\n",
    "The inverse of a scalar transformation $k$ is $\\dfrac{1}{k}$\n",
    "\n",
    "an example of a scalar transformation is:\n",
    "\n",
    "$$_2K_2 = \\begin{pmatrix} \\sqrt{3} & 0 \\\\ 0 & \\sqrt(3) \\end{pmatrix}\\tag{152}$$ \n",
    "\n",
    "Transforming\n",
    "\n",
    "$$\\m{x} = \\begin{pmatrix}4\\\\1\\end{pmatrix}\\tag{153}$$\n",
    "\n",
    "by $\\m{K}$ gives\n",
    "\n",
    "$$\\m{y} = \\m{Kx}=\\begin{pmatrix}6.93\\\\1.73\\end{pmatrix}\\tag{154}$$\n",
    "\n",
    "<img align=\"left\" width=\"30%\" style=\"padding-right:10px;\" src=\"Images/scaling.png\">\n",
    "\n",
    "<br><br>Scaling all vertices of the boat $\\begin{pmatrix}-6\\\\-2\\end{pmatrix}$,$\\begin{pmatrix}4\\\\-2\\end{pmatrix}$,$\\begin{pmatrix}6\\\\0\\end{pmatrix}$,$\\begin{pmatrix}4\\\\2\\end{pmatrix}$,$\\begin{pmatrix}-6\\\\2\\end{pmatrix}$ by $\\m{K}$ produces the result shown in the figure to the left"
   ]
  },
  {
   "cell_type": "markdown",
   "id": "eebeabbe",
   "metadata": {},
   "source": [
    "___\n",
    "#### 4.1.3 Self Study Exercise 1\n",
    "\n",
    "Similar to how you reproduced the Reflection figure, reproduce the Scalar Transformation figure shown above \n",
    "\n",
    "    a) Create a matrix of vertices called `X` and assign it the vertices returned by the `boat()`\\\n",
    "    b) Define the scalar matrix `K` according to (152)\n",
    "    c) Transform `X` to `Xt` using the scaling defined by `K`\n",
    "    d) create a 8x8 figure `fg` using the `plt.figure()` function \n",
    "    e) Plot `X` and its transform `Xt` with the title 'Scaling' using `plottransform()`\n",
    "    f) Verify that your plot corresponds to the figure above\n",
    "    "
   ]
  },
  {
   "cell_type": "code",
   "execution_count": 9,
   "id": "8f808eec",
   "metadata": {
    "scrolled": true
   },
   "outputs": [
    {
     "data": {
      "image/png": "[encoded data removed]",
      "text/plain": [
       "<Figure size 288x288 with 1 Axes>"
      ]
     },
     "metadata": {
      "needs_background": "light"
     },
     "output_type": "display_data"
    }
   ],
   "source": [
    "X = boat()\n",
    "K = np.asarray([[3**.5,0],[0,3**.5]])\n",
    "Xt = K@X\n",
    "fg = plt.figure(figsize=(4, 4))\n",
    "plottransform(X,Xt,'Scaling')\n",
    "plt.show()"
   ]
  },
  {
   "cell_type": "markdown",
   "id": "330d9b39",
   "metadata": {},
   "source": [
    "<a id='Simple_Elongation'></a>\n",
    "### 4.1.4 Simple Elongation\n",
    "\n",
    "A Simple Elongation or compression changes the scale along one coordinate axis only, and has a diagonal matrix in which all diagonal elements but one are $+1$. The remaining element, corresponding to the scale change axis, is either greater than one (for elongation), or less than one (for compression). The inverse of such a transform contains the reciprocal of the scale change in the same diagonal location. An example is:\n",
    "\n",
    "$$_2E_2 = \\begin{pmatrix} 1& 0 \\\\ 0 & 2 \\end{pmatrix}\\tag{155}$$ \n",
    "\n",
    "Transforming\n",
    "\n",
    "$$\\m{x} = \\begin{pmatrix}4\\\\1\\end{pmatrix}\\tag{156}$$\n",
    "\n",
    "by $\\m{E}$ gives\n",
    "\n",
    "$$\\m{y} = \\m{Ex}=\\begin{pmatrix}4\\\\2\\end{pmatrix}\\tag{157}$$\n",
    "\n",
    "<img align=\"left\" width=\"30%\" style=\"padding-right:10px;\" src=\"Images/elongation.png\">\n",
    "\n",
    "<br><br>Elongating all vertices of the boat $\\begin{pmatrix}-6\\\\-2\\end{pmatrix}$,$\\begin{pmatrix}4\\\\-2\\end{pmatrix}$,$\\begin{pmatrix}6\\\\0\\end{pmatrix}$,$\\begin{pmatrix}4\\\\2\\end{pmatrix}$,$\\begin{pmatrix}-6\\\\2\\end{pmatrix}$ by $\\m{E}$ produces the result shown in the figure to the left"
   ]
  },
  {
   "cell_type": "markdown",
   "id": "68200306",
   "metadata": {},
   "source": [
    "___\n",
    "#### 4.1.4 Self Study Exercise 1\n",
    "\n",
    "Similar to how you reproduced the Scalar figure, reproduce the Elongation Transformation figure shown above \n",
    "\n",
    "    a) Create a matrix of vertices called `X` and assign it the vertices returned by `boat()`\\\n",
    "    b) Define the elongation matrix `E` according to (155)\n",
    "    c) Transform `X` to `Xt` using the scaling defined by `E`\n",
    "    d) create a 8x8 figure `fg` using the `plt.figure()` function \n",
    "    e) Plot `X` and its transform `Xt` with the title 'Elongation' using `plottransform()`\n",
    "    f) Verify that your plot corresponds to the figure above\n",
    "    "
   ]
  },
  {
   "cell_type": "code",
   "execution_count": 10,
   "id": "aefc8957",
   "metadata": {
    "scrolled": true
   },
   "outputs": [
    {
     "data": {
      "image/png": "[encoded data removed]",
      "text/plain": [
       "<Figure size 288x288 with 1 Axes>"
      ]
     },
     "metadata": {
      "needs_background": "light"
     },
     "output_type": "display_data"
    }
   ],
   "source": [
    "X = boat()\n",
    "E = np.asarray([[1,0],[0,2]])\n",
    "Xt = E@X\n",
    "fg = plt.figure(figsize=(4, 4))\n",
    "plottransform(X,Xt,'Elongation')\n",
    "plt.show()\n"
   ]
  },
  {
   "cell_type": "markdown",
   "id": "959c9c3d",
   "metadata": {},
   "source": [
    "<a id='Simple_Elongation'></a>\n",
    "### 4.1.5 Simple Elongation\n",
    "\n",
    "A Simple Shear or compression involves shear along one coordinate axis only, and has a transformation matrix in which all diagonal elements are $+1$ and only one off-diagonal element is non-zero. The inverse of such a transform contains the negative of the off-diagonal component in the same location. An example is:\n",
    "\n",
    "$$_2S_2 = \\begin{pmatrix} 1& 3 \\\\ 0 & 1 \\end{pmatrix}\\tag{158}$$ \n",
    "\n",
    "Transforming\n",
    "\n",
    "$$\\m{x} = \\begin{pmatrix}4\\\\1\\end{pmatrix}\\tag{159}$$\n",
    "\n",
    "by $\\m{S}$ gives\n",
    "\n",
    "$$\\m{y} = \\m{Sx}=\\begin{pmatrix}7\\\\1\\end{pmatrix}\\tag{160}$$\n",
    "\n",
    "<img align=\"left\" width=\"30%\" style=\"padding-right:10px;\" src=\"Images/shear.png\">\n",
    "\n",
    "<br><br>Shearing all vertices of the boat $\\begin{pmatrix}-6\\\\-2\\end{pmatrix}$,$\\begin{pmatrix}4\\\\-2\\end{pmatrix}$,$\\begin{pmatrix}6\\\\0\\end{pmatrix}$,$\\begin{pmatrix}4\\\\2\\end{pmatrix}$,$\\begin{pmatrix}-6\\\\2\\end{pmatrix}$ by $\\m{S}$ produces the result shown in the figure to the left"
   ]
  },
  {
   "cell_type": "markdown",
   "id": "42383547",
   "metadata": {},
   "source": [
    "___\n",
    "#### 4.1.5 Self Study Exercise 1\n",
    "\n",
    "Similar to how you reproduced the Elongation figure, reproduce the Shear Transformation figure shown above \n",
    "\n",
    "    a) Create a matrix of vertices called `X` and assign it the vertices returned by `boat()`\\\n",
    "    b) Define the shear matrix `S` according to (158)\n",
    "    c) Transform `X` to `Xt` using the scaling defined by `S`\n",
    "    d) create a 8x8 figure `fg` using the `plt.figure()` function \n",
    "    e) Plot `X` and its transform `Xt` with the title 'Elongation' using `plottransform()`\n",
    "    f) Verify that your plot corresponds to the figure above\n",
    "    g) Rotate the boat by \n",
    "    "
   ]
  },
  {
   "cell_type": "code",
   "execution_count": 11,
   "id": "bd2ba09b",
   "metadata": {
    "scrolled": true
   },
   "outputs": [
    {
     "data": {
      "image/png": "[encoded data removed]",
      "text/plain": [
       "<Figure size 288x288 with 1 Axes>"
      ]
     },
     "metadata": {
      "needs_background": "light"
     },
     "output_type": "display_data"
    }
   ],
   "source": [
    "X = boat()\n",
    "S = np.asarray([[1,3],[0,1]])\n",
    "Xt = S@X\n",
    "fg = plt.figure(figsize=(4, 4))\n",
    "plottransform(X,Xt,'Shear')\n",
    "plt.show()\n"
   ]
  },
  {
   "cell_type": "markdown",
   "id": "a2b9bca5",
   "metadata": {},
   "source": [
    "___\n",
    "<a id='Affine_properties'></a>\n",
    "## 4.1.6 Special (Affine) Transformations: Properties and Examples\n",
    "\n",
    "From the figures in 4.1.1 through 4.1.5 we see that\n",
    "\n",
    "- Translations, rotations, and reflections preserve shape and size, but may change orientation. Such transformations are often referred to as ***rigid body*** transformations\n",
    "\n",
    "- Translations, rotations, reflections and, scalar transformations preserve the shape (size of the angles) of the figure. Such transformations are called ***isogonal*** \n",
    "\n",
    "- All affine transformations transform parallel lines into parallel lines\n",
    "\n",
    "Examples of general affine transformations are:\n",
    "\n",
    "$$_2G_2 = \\begin{pmatrix}-3&2\\sqrt{3} \\\\ 2\\sqrt{3} & -1\\end{pmatrix}\\tag{161}$$\n",
    "\n",
    "and\n",
    "\n",
    "$$_2H_2 = \\begin{pmatrix}3&0 \\\\ 3\\sqrt{3} & -2\\end{pmatrix}\\tag{162}$$\n",
    "\n",
    "Each such affine transformations can be represented by sequences of elementary affine transformations, for example:\n",
    "\n",
    "$$_2G_2 = \\begin{pmatrix}3&0 \\\\ 0 & 3\\end{pmatrix}\n",
    "\\begin{pmatrix}1& 0 \\\\ \\dfrac{-2}{\\sqrt{3}} & 1\\end{pmatrix}\n",
    "\\begin{pmatrix}-1&0 \\\\ 0 & 1\\end{pmatrix}\n",
    "\\begin{pmatrix}1&\\dfrac{-2}{\\sqrt{3}} \\\\ 0 & 1\\end{pmatrix}\\tag{163}$$"
   ]
  },
  {
   "cell_type": "markdown",
   "id": "f51e408d",
   "metadata": {},
   "source": [
    "___\n",
    "#### 4.1.6 Self Study Exercise 1\n",
    "\n",
    "    a) Create an array `G` representing (161) and display is using `display_matrix()`\n",
    "    b) Represent the elementary affine transformations of (161) by `A1`,`A2`,`A3` and,`A4`\n",
    "    c) Calculate  and display the result of (161) using `A1`,`A2`,`A3` and,`A4`\n",
    "    "
   ]
  },
  {
   "cell_type": "code",
   "execution_count": 12,
   "id": "6476f689",
   "metadata": {},
   "outputs": [
    {
     "name": "stdout",
     "output_type": "stream",
     "text": [
      "G:\n"
     ]
    },
    {
     "data": {
      "text/latex": [
       "$\\displaystyle \\begin{bmatrix} \n",
       " -3.0000& 3.4641\\\\\n",
       " 3.4641& -1.0000\\\\\n",
       "\\end{bmatrix}$"
      ],
      "text/plain": [
       "<IPython.core.display.Math object>"
      ]
     },
     "metadata": {},
     "output_type": "display_data"
    },
    {
     "name": "stdout",
     "output_type": "stream",
     "text": [
      "A4@A3@A2@A1)\n"
     ]
    },
    {
     "data": {
      "text/latex": [
       "$\\displaystyle \\begin{bmatrix} \n",
       " -3.0000& 3.4641\\\\\n",
       " 3.4641& -1.0000\\\\\n",
       "\\end{bmatrix}$"
      ],
      "text/plain": [
       "<IPython.core.display.Math object>"
      ]
     },
     "metadata": {},
     "output_type": "display_data"
    }
   ],
   "source": [
    "G = np.array([[-3,2*sqrt(3)],[2*sqrt(3),-1]])\n",
    "print('G:')\n",
    "display_matrix(G)\n",
    "A1 = np.array([[1,-2/sqrt(3)],[0,1]])\n",
    "A2 = np.array([[-1,0],[0,1]])\n",
    "A3 = np.array([[1,0],[-2/sqrt(3),1]])\n",
    "A4 = np.array([[3,0],[0,3]])\n",
    "print('A4@A3@A2@A1)')\n",
    "display_matrix(A4@A3@A2@A1)\n"
   ]
  },
  {
   "cell_type": "markdown",
   "id": "0449df90",
   "metadata": {},
   "source": [
    "___\n",
    "#### 4.1.6 Self Study Exercise 2\n",
    "\n",
    "    a) Create an array `H` representing (162) and display is using `display_matrix()`\n",
    "    b) Find a sequence of n elementary affine transformations that represents the transformation `H`\n",
    "    c) Create a sequence of matrices `Ai` (i = 1 through n) that represent the matrices from b)\n",
    "    d) Calculate  and display the result of performing the sequence of transformations\n"
   ]
  },
  {
   "cell_type": "code",
   "execution_count": 13,
   "id": "97640b3e",
   "metadata": {},
   "outputs": [
    {
     "name": "stdout",
     "output_type": "stream",
     "text": [
      "H:\n"
     ]
    },
    {
     "data": {
      "text/latex": [
       "$\\displaystyle \\begin{bmatrix} \n",
       " 3.0000& 0.0000\\\\\n",
       " 5.1962& -2.0000\\\\\n",
       "\\end{bmatrix}$"
      ],
      "text/plain": [
       "<IPython.core.display.Math object>"
      ]
     },
     "metadata": {},
     "output_type": "display_data"
    },
    {
     "data": {
      "text/latex": [
       "$\\displaystyle \\begin{bmatrix} \n",
       " 3.0000& 0.0000\\\\\n",
       " 5.1962& 3.0000\\\\\n",
       "\\end{bmatrix}$"
      ],
      "text/plain": [
       "<IPython.core.display.Math object>"
      ]
     },
     "metadata": {},
     "output_type": "display_data"
    }
   ],
   "source": [
    "H = np.array([[3,0],[3*sqrt(3),-2]])\n",
    "print('H:')\n",
    "display_matrix(H)\n",
    "\n",
    "A1 = np.array([[1,0],[3/sqrt(3),1]])\n",
    "A2 = np.array([[3,0],[0,3]])\n",
    "\n",
    "display_matrix(A2@A1)"
   ]
  },
  {
   "cell_type": "markdown",
   "id": "1e69e4b4",
   "metadata": {},
   "source": [
    "___\n",
    "<a id='Eigen'></a>\n",
    "## 4.2 Eigenvalues and Eigenvectors of Symmetric Matrices\n",
    "\n",
    "A problem which often arises concerning a linear transformation matrix $\\m{C}$ is to find the vectors $\\m{x}$ which will be changed in length but not in direction by $\\m{C}$. Expressed in equation form, this problem is, given $\\m{C}$, find $\\lambda$ and $\\m{x}$ such that:\n",
    "\n",
    "<a id='eq164'></a>\n",
    "$$\\m{Cx} = \\lambda\\m{x}\\tag{164}$$\n",
    "\n",
    "Solutions may exist for any $\\m{C}$, but this discussion is restricted to non-singular matrices $\\m{C}$. We can rewrite [(164)](#eq164) as:\n",
    "\n",
    "<a id='eq165'></a>\n",
    "$$\\left(\\m{C}-\\lambda \\m{I}\\right)\\m{x} = \\m{0}\\tag{165}$$\n",
    "\n",
    "which is a system of homogeneous equations. As shown in [3 Solution of Linear Equations](3_Solution_of_Linear_Equations.ipynb#Possible_Linear_Equation_Relationships) a non-trivial solution for $\\m{x}$ exists only when the rank of $\\left(\\m{C}-\\lambda \\m{I}\\right)$ is less than the dimension of $\\m{x}$, that is when $\\left(\\m{C}-\\lambda \\m{I}\\right)$ is singular or:\n",
    "\n",
    "<a id='eq166'></a>\n",
    "$$\\text{det}\\left(\\m{C}-\\lambda \\m{I}\\right)=0\\tag{166}$$\n",
    "\n",
    "This equation is called the ***characteristic equation*** of the matrix $\\m{C}$ and serves to determine $n$ values of $\\lambda$, where $n$ is the order of $\\m{C}$. These values $\\lambda$ are called the ***Eigenvalues*** (or *characteristic roots* or *latent roots*) of the matrix $\\m{C}$. For symmetric matrices the Eigenvalues are always real numbers. For each Eigenvalue $\\lambda_i$ there is a nonzero Eigenvector $\\m{x}_i$ that satisfies [(165)](#eq165) called the ***Eigenvector*** (or *characteristic vector* or *latent vector*) of $\\m{C}$ corresponding to Eigenvalue $\\lambda_i$. For symmetric matrices the Eigenvectors corresponding to Eigenvalues with different values are orthogonal i.e.:\n",
    "\n",
    "$$\\m{x}_i\\perp \\m{x}_j\\;\\;\\forall i\\neq j\\tag{167}$$\n",
    "\n",
    "For non-singular matrices $\\m{C}$, [(166)](#eq166) forces the rank of $\\text{det}\\left(\\m{C}-\\lambda \\m{I}\\right)$ to be exactly one less than the dimension of $\\m{x}$ in [(165)](#eq165). In this case, as shown in [3 Solution of Linear Equations](3_Solution_of_Linear_Equations.ipynb#Possible_Linear_Equation_Relationships), $\\m{x}$ is not uniquely determined, one element of $\\m{x}$ must be (not-so) arbitrarily defined. We remove this arbitrary specification by specifying that the Eigenvectors $\\m{x}$ each have a length of one, that is:\n",
    "\n",
    "<a id='eq168'></a>\n",
    "$$\\m{x}^T\\m{x} = 1\\tag{168}$$\n",
    "\n",
    "For each value $\\lambda_i$ and its equivalent Eigenvector $\\m{x_i}$, we have from [(164)](#eq164):\n",
    "\n",
    "$$\\m{Cx}_i=\\lambda_i\\m{x}_i \\;\\; \\forall\\;\\; i\\in[1\\dots n]\\tag{169}$$\n",
    "\n",
    "We can then combine these $n$ equations into:\n",
    "\n",
    "$$\\m{CP} = \\m{DP}\\tag{170}$$\n",
    "\n",
    "where $\\m{P}$ is an $n\\times n$ matrix whose columns are the normalized Eigenvectors $\\m{x}_i$ and, $\\m{D}$ is a diagonal matrix whose elements are the Eigenvalues $\\lambda_i$. Because $\\m{D}$ is diagonal each one of the Eigenvalues acts as a scalar multiplier on the corresponding Eigenvector in $\\m{P}$, and since [scalar multiplication is commutative](2_Matrix_Algebra.ipynb#eq23) it follows that:\n",
    "\n",
    "<a id='eq171'></a>\n",
    "$$\\m{CP} = \\m{PD}\\tag{171}$$\n",
    "\n",
    "Because the normalized Eigenvectors are orthogonal $\\m{P}$ is an orthogonal matrix, so that:\n",
    "\n",
    "$$\\m{P}^{-1} = \\m{P}^T\\tag{172}$$\n",
    "\n",
    "Since the determinant $\\text{det}\\left(\\m{P}\\right)=1\\;\\;\\m{P}$ is a [**rotation** matrix](#Rotation)\n",
    "\n",
    "combining with [(171)](#eq171):\n",
    "\n",
    "<a id='eq173'></a>\n",
    "$$\\m{P}^T\\m{CP} = \\m{D}\\tag{173}$$\n",
    "\n",
    "We interpret [(173)](#eq173) by stating that every nonsingular symmetric matrix $\\m{C}$ is ***orthogonally similar*** to a diagonal matrix $\\m{D}$ made up of the Eigenvalues of $\\m{C}$.,and the ***similarity transformation*** matrix $\\m{P}$ is made up of column vectors that are the Eigenvectors of $\\m{C}$.\n",
    "\n",
    "For example, the symmetric matrix:\n",
    "<a id='eq174'></a>\n",
    "$$\\begin{pmatrix}5&3 \\\\ 3&5\\end{pmatrix}\\tag{174}$$\n",
    "\n",
    "has the characteristic equation:\n",
    "\n",
    "$$\\text{det}\\left(\\m{C}-\\lambda \\m{I}\\right)=\\text{det}\\begin{pmatrix}(5-\\lambda)&3 \\\\ 3&(5-\\lambda)\\end{pmatrix} = (5-\\lambda)^2-9 = 0\\tag{175}$$\n",
    "\n",
    "or:\n",
    "\n",
    "$$\\lambda^2-10\\lambda+16 = 0\\tag{176}$$\n",
    "\n",
    "which has solutions $\\lambda_1 = 8$ and $\\lambda_2 = 2$ i.e., the Eigenvalues of this $\\m{C}$ are 8 and 2. for $\\lambda_1 = 8$ the Eigenvector $\\m{x}_1$ is found from [(165)](#eq165):\n",
    "\n",
    "$$\\left(\\m{C}-\\lambda_1 \\m{I}\\right)\\m{x}_1 = \\left[ \\begin{pmatrix} 5&3 \\\\ 3&5 \\end{pmatrix}-\\begin{pmatrix}8 &0 \\\\ 0&8 \\end{pmatrix} \\right]\\begin{pmatrix}x_{1,1} \\\\ x_{2,1} \\end{pmatrix}=\\begin{pmatrix}-3 & 3 \\\\ 3&-3 \\end{pmatrix}\\begin{pmatrix}x_{1,1} \\\\ x_{2,1} \\end{pmatrix}=0\\tag{177}$$\n",
    "\n",
    "we enforce [(168)](#eq168) and combine with [(177)](#eq177):\n",
    "\n",
    "$$\\left.\\begin{array}. \\m{x}_1^T\\m{x}_1&=&1 \\\\ x_{1,1}&=&x_{2,1}\\end{array}\\right\\}\\Rightarrow \\m{x}_1 = \\begin{pmatrix}\\dfrac{1}{\\sqrt{2}} \\\\ \\dfrac{1}{\\sqrt{2}} \\end{pmatrix}\\tag{178}$$ \n",
    "\n",
    "similarly for $\\lambda_2 = 2$ the Eigenvector $\\m{x}_1$ is:\n",
    "\n",
    "$$\\left(\\m{C}-\\lambda_1 \\m{I}\\right)\\m{x}_2 = \\left[ \\begin{pmatrix} 5&3 \\\\ 3&5 \\end{pmatrix}-\\begin{pmatrix}2 &0 \\\\ 0&2 \\end{pmatrix} \\right]\\begin{pmatrix}x_{1,2} \\\\ x_{2,2} \\end{pmatrix}=\\begin{pmatrix}3 & 3 \\\\ 3&3 \\end{pmatrix}\\begin{pmatrix}x_{1,2} \\\\ x_{2,2} \\end{pmatrix}=0\\tag{179}$$\n",
    "\n",
    "again enforcing [(168)](#eq168) and combining with [(179)](#eq179):\n",
    "\n",
    "$$\\left.\\begin{array}. \\m{x}_2^T\\m{x}_2&=&1 \\\\ x_{1,2}&=&-x_{2,2}\\end{array}\\right\\}\\Rightarrow \\m{x}_2 = \\begin{pmatrix}-\\dfrac{1}{\\sqrt{2}} \\\\ \\dfrac{1}{\\sqrt{2}} \\end{pmatrix}\\tag{180}$$ \n",
    "\n",
    "Hence:\n",
    "\n",
    "$$\\m{P} = \\sqrt{2}\\begin{pmatrix}1&-1 \\\\ 1&1\\end{pmatrix}\\tag{181}$$\n",
    "\n",
    "$$\\m{D} = \\begin{pmatrix}8&0 \\\\ 0&2\\end{pmatrix}\\tag{182}$$"
   ]
  },
  {
   "cell_type": "code",
   "execution_count": 22,
   "id": "8f3bc7cc",
   "metadata": {},
   "outputs": [
    {
     "name": "stdout",
     "output_type": "stream",
     "text": [
      "P is a rotation matrix\n",
      "The matrix multiplication of P and its transpose is identity i.e. the transpose is the inverse\n",
      "The characteristic equation holds for eigenvalue 8.00\n",
      "The characteristic equation holds for eigenvalue 2.00\n"
     ]
    }
   ],
   "source": [
    "# Create two reference frame axes\n",
    "X = np.array([[1,0],[0,1]])\n",
    "Y = X.copy()\n",
    "# Linear transformation matrix C\n",
    "C = np.array([[5,3],[3,5]])\n",
    "\n",
    "# Create an identity matrix of the order of C\n",
    "I = np.eye(C.shape[0])\n",
    "\n",
    "# Get the eigenvalues and vectors of C\n",
    "l,P = la.eig(C)\n",
    "\n",
    "# Demonstrate that the determinant of P is +1, thus that P is a rotation matrix\n",
    "det_C = la.det(P)\n",
    "try:\n",
    "    assert_allclose(det_C,1)\n",
    "    print('P is a rotation matrix')\n",
    "except:\n",
    "    print('P is a NOT rotation matrix')\n",
    "    \n",
    "# Also demonstrate that the transpose of P is the inverse of P\n",
    "try:\n",
    "    assert_allclose( P.T@P, I)\n",
    "    print('The matrix multiplication of P and its transpose is identity i.e. the transpose is the inverse')\n",
    "except:\n",
    "    print('The matrix multiplication of P and its transpose is not identity i.e. the transpose is NOT the inverse!')\n",
    "\n",
    "# Show the Eigenvalues and Eigenvectors and, that they satisfy the characteristic equation \n",
    "# Note that you should use the `numpy` `isclose` function to compare floating point numbers\n",
    "for i in range(C.shape[0]):\n",
    "    if np.isclose(la.det(C-l[i]*I), 0):\n",
    "        print('The characteristic equation holds for eigenvalue %.2f'%l[i])\n",
    "    else:\n",
    "        print('The characteristic equation fails for eigenvalue %.2f'%l[i])"
   ]
  },
  {
   "cell_type": "markdown",
   "id": "23229253",
   "metadata": {},
   "source": [
    "The output of the code cell is rather cryptic. Someone with python coding skills can easily understand what happened here. However for readers that do not have these skills a much more detailed output is required. We can make use of the fact that Jupyter notebooks have the capacity of displaying the LaTeX markup language. Thus we may replace the code in the cell above with:"
   ]
  },
  {
   "cell_type": "code",
   "execution_count": 26,
   "id": "f184ee0b",
   "metadata": {},
   "outputs": [
    {
     "data": {
      "text/latex": [
       "$\\displaystyle \\text{Coefficient matrix }\\mathbf{C}=\\begin{bmatrix} \n",
       " 5.0000& 3.0000\\\\\n",
       " 3.0000& 5.0000\\\\\n",
       "\\end{bmatrix}$"
      ],
      "text/plain": [
       "<IPython.core.display.Math object>"
      ]
     },
     "metadata": {},
     "output_type": "display_data"
    },
    {
     "data": {
      "text/latex": [
       "$\\displaystyle \\text{ Eigenvector matrix }\\mathbf{P}\\text{ of }\\mathbf{C}=\\begin{bmatrix} \n",
       " 0.7071& -0.7071\\\\\n",
       " 0.7071& 0.7071\\\\\n",
       "\\end{bmatrix}$"
      ],
      "text/plain": [
       "<IPython.core.display.Math object>"
      ]
     },
     "metadata": {},
     "output_type": "display_data"
    },
    {
     "data": {
      "text/latex": [
       "$\\displaystyle \\text{The determinant of Eigenvector matrix }\\mathbf{P} \\text{ is: }1.00 \\text{, thus it is a proper orthogonal i.e., rotation matrix}$"
      ],
      "text/plain": [
       "<IPython.core.display.Math object>"
      ]
     },
     "metadata": {},
     "output_type": "display_data"
    },
    {
     "data": {
      "text/latex": [
       "$\\displaystyle \\mathbf{P}\\cdot\\mathbf{P}^T=\\mathbf{I}\\text{ thus the transpose of the Eigenvector matrix is its inverse}$"
      ],
      "text/plain": [
       "<IPython.core.display.Math object>"
      ]
     },
     "metadata": {},
     "output_type": "display_data"
    },
    {
     "name": "stdout",
     "output_type": "stream",
     "text": [
      "___\n"
     ]
    },
    {
     "data": {
      "text/latex": [
       "$\\displaystyle \\text{For Eigenvalue }\\lambda_1 = 8.00 \\text{ the Eigenvector }\\mathbf{x}_1 = \\begin{bmatrix} \n",
       " 0.7071 \\\\ 0.7071 \\\\\\end{bmatrix}$"
      ],
      "text/plain": [
       "<IPython.core.display.Math object>"
      ]
     },
     "metadata": {},
     "output_type": "display_data"
    },
    {
     "data": {
      "text/latex": [
       "$\\displaystyle \\text{The characteristic equation det}\\left( \\mathbf{C}-\\lambda_1\\mathbf{I}\\right)=0$"
      ],
      "text/plain": [
       "<IPython.core.display.Math object>"
      ]
     },
     "metadata": {},
     "output_type": "display_data"
    },
    {
     "data": {
      "text/latex": [
       "$\\displaystyle \\text{det}\\left(\\begin{bmatrix} \n",
       " 5.0000& 3.0000\\\\\n",
       " 3.0000& 5.0000\\\\\n",
       "\\end{bmatrix}-\\begin{bmatrix} \n",
       " 8.0000& 0.0000\\\\\n",
       " 0.0000& 8.0000\\\\\n",
       "\\end{bmatrix}\\right)=\\text{det}\\begin{bmatrix} \n",
       " -3.0000& 3.0000\\\\\n",
       " 3.0000& -3.0000\\\\\n",
       "\\end{bmatrix}=0.00$"
      ],
      "text/plain": [
       "<IPython.core.display.Math object>"
      ]
     },
     "metadata": {},
     "output_type": "display_data"
    },
    {
     "data": {
      "text/latex": [
       "$\\displaystyle \\text{Thus for }\\lambda_1 \\text{ the characteristic equation holds}$"
      ],
      "text/plain": [
       "<IPython.core.display.Math object>"
      ]
     },
     "metadata": {},
     "output_type": "display_data"
    },
    {
     "name": "stdout",
     "output_type": "stream",
     "text": [
      "___\n"
     ]
    },
    {
     "data": {
      "text/latex": [
       "$\\displaystyle \\text{For Eigenvalue }\\lambda_2 = 2.00 \\text{ the Eigenvector }\\mathbf{x}_2 = \\begin{bmatrix} \n",
       " -0.7071 \\\\ 0.7071 \\\\\\end{bmatrix}$"
      ],
      "text/plain": [
       "<IPython.core.display.Math object>"
      ]
     },
     "metadata": {},
     "output_type": "display_data"
    },
    {
     "data": {
      "text/latex": [
       "$\\displaystyle \\text{The characteristic equation det}\\left( \\mathbf{C}-\\lambda_2\\mathbf{I}\\right)=0$"
      ],
      "text/plain": [
       "<IPython.core.display.Math object>"
      ]
     },
     "metadata": {},
     "output_type": "display_data"
    },
    {
     "data": {
      "text/latex": [
       "$\\displaystyle \\text{det}\\left(\\begin{bmatrix} \n",
       " 5.0000& 3.0000\\\\\n",
       " 3.0000& 5.0000\\\\\n",
       "\\end{bmatrix}-\\begin{bmatrix} \n",
       " 2.0000& 0.0000\\\\\n",
       " 0.0000& 2.0000\\\\\n",
       "\\end{bmatrix}\\right)=\\text{det}\\begin{bmatrix} \n",
       " 3.0000& 3.0000\\\\\n",
       " 3.0000& 3.0000\\\\\n",
       "\\end{bmatrix}=0.00$"
      ],
      "text/plain": [
       "<IPython.core.display.Math object>"
      ]
     },
     "metadata": {},
     "output_type": "display_data"
    },
    {
     "data": {
      "text/latex": [
       "$\\displaystyle \\text{Thus for }\\lambda_2 \\text{ the characteristic equation holds}$"
      ],
      "text/plain": [
       "<IPython.core.display.Math object>"
      ]
     },
     "metadata": {},
     "output_type": "display_data"
    }
   ],
   "source": [
    "# Linear transformation matrix C\n",
    "C = np.array([[5,3],[3,5]])\n",
    "s = '\\\\text{Coefficient matrix }\\mathbf{C}=' + latex_matrix(C)\n",
    "display(Math(s))\n",
    "\n",
    "# Create an identity matrix of the order of C\n",
    "I = np.eye(C.shape[0])\n",
    "\n",
    "# Get the eigenvalues and vectors of C\n",
    "l,P = la.eig(C)\n",
    "\n",
    "# Show the Eigenvector matrix P\n",
    "s = '\\\\text{ Eigenvector matrix }\\mathbf{P}\\\\text{ of }\\mathbf{C}=' + latex_matrix(P)\n",
    "display(Math(s))\n",
    "\n",
    "# Demonstrate that the determinant of P is +1, thus that P is a rotation matrix\n",
    "det_C = la.det(P)\n",
    "try:\n",
    "    assert_allclose(det_C,1)\n",
    "    s = '\\\\text{The determinant of Eigenvector matrix }\\mathbf{P} \\\\text{ is: }%.2f \\\\text{, thus it is a proper orthogonal i.e., rotation matrix}'%(det_C)\n",
    "except:\n",
    "    s = '\\\\text{The determinant of Eigenvector matrix }\\mathbf{P} \\\\text{ is: }%.2f \\\\text{, thus it is NOT a rotation matrix}'%(det_C)\n",
    "display(Math(s))\n",
    "\n",
    "# Also demonstrate that the transpose of P is the inverse of P\n",
    "try:\n",
    "    assert_allclose( P.T@P, I)\n",
    "    s = '\\\\mathbf{P}\\cdot\\mathbf{P}^T=\\mathbf{I}\\\\text{ thus the transpose of the Eigenvector matrix is its inverse}'\n",
    "except:\n",
    "    s = '\\\\mathbf{P}\\cdot\\mathbf{P}^T\\neq\\mathbf{I}\\\\text{ thus the transpose of the Eigenvector matrix is NOT its inverse}'\n",
    "display(Math(s))\n",
    "\n",
    "# Show the Eigenvalues and Eigenvectors and, that they satisfy the characteristic equation \n",
    "# Note that you should always use the `numpy` `isclose` function to compare floating point numbers\n",
    "for i in range(C.shape[0]):\n",
    "    print('___')\n",
    "    s = '\\\\text{For Eigenvalue }\\lambda_%d = %.2f \\\\text{ the Eigenvector }\\mathbf{x}_%d = '%(i+1,l[i],i+1) + latex_matrix(P[:,i])\n",
    "    display(Math(s))\n",
    "    s = '\\\\text{The characteristic equation det}\\left( \\mathbf{C}-\\lambda_%d\\mathbf{I}\\\\right)=0'%(i+1)\n",
    "    display(Math(s))\n",
    "    s = '\\\\text{det}\\left('+latex_matrix(C)+'-'\n",
    "    s +=latex_matrix(l[i]*I)\n",
    "    s +='\\\\right)='+'\\\\text{det}' \n",
    "    s += latex_matrix(C-l[i]*I) + '='\n",
    "    s += '%.2f'%la.det(C-l[i]*I)\n",
    "    display(Math(s))\n",
    "    if np.isclose(la.det(C-l[i]*I), 0):\n",
    "        display(Math('\\\\text{Thus for }\\lambda_%d \\\\text{ the characteristic equation holds}'%(i+1)))\n",
    "    else:\n",
    "        display(Math('\\\\text{Thus for }\\lambda_%d \\\\text{ the characteristic equation fails}'%(i+1)))\n",
    "        \n",
    "\n"
   ]
  },
  {
   "cell_type": "markdown",
   "id": "6264fe88",
   "metadata": {},
   "source": [
    "The code cell above produces much more legible output, but at the cost of much harder to read code that takes significantly more time to create. Considering that you are learning to use Python for Linear Algebra we will stay more consistent with the first code cell. The second code cell is just to whet your appetite. We could have attempted to write the entire set of Linear Algebra Review notes in code cells; but they would likely have never been finished, due to it being unnecessarily complex and overly time consuming to do so. As a programmer you will often have to weigh complexity versus completeness (and define what completeness means in the first place)."
   ]
  },
  {
   "cell_type": "markdown",
   "id": "d030def3",
   "metadata": {},
   "source": [
    "___\n",
    "<a id='Eigenvalue_Matrix_Characterization'></a>\n",
    "### 4.2.1 Eigenvalue Characterization of Nonsingular Matrices $\\m{C}$\n",
    "\n",
    "A nonsingular matrix $\\m{C}$ can now be characterized according to the magnitudes of its Eigenvalues\n",
    "\n",
    "$$\\begin{array}{|c|c|}\\m{C}&\\text{Eigenvalues of }\\m{C}\\\\ \\hline \n",
    "\\text{positive definite} & \\text{all positive} \\\\\n",
    "\\text{negative definite} & \\text{all negative} \\\\\n",
    "\\text{positive semi-definite} & \\text{all positive or zero} \\\\\n",
    "\\text{negative semi-definite} & \\text{all negative or zero} \\\\\n",
    "\\text{indefinite} & \\text{some positive, some negative} \\\\\n",
    "\\end{array}$$\n",
    "\n",
    "There are many reasons that we should care about Eigenvectors and Eigenvalues. In Ocean Mapping they are prevalent in the characterization of uncertainty of estimates of an unknown such as a vessel position represented by e.g., vector $\\m{x}$."
   ]
  },
  {
   "cell_type": "markdown",
   "id": "48995889",
   "metadata": {},
   "source": [
    "___\n",
    "<a id='Eigenvalue_error_ellipses'></a>\n",
    "### 4.3 Eigenvalues, Eigenvectors and, Error Ellipses\n",
    "\n",
    "The vectors involved in Least Squares Adjustment usually have associated with them a ***covariance matrix***. A covariance matrix of unknown vector $\\m{x}$ is nonsingular, often referred to as $\\m{C_x}$. The diagonal elements of $\\m{C_x}$ represent the variances of the corresponding elements of the unknown vector $\\m{x}$ that is being estimated. Each off-diagonal element represents a covariance, or statistical dependence, between pairs of elements of $\\m{x}$ i.e., the covariance between the $3^d$ and $5^{\\text{th}}$ elements of $\\m{x}$ may be found on row 3, column 5, or since it is symmetric, row 5, column 3, of the covariance matrix $\\m{C_x}$. It may be proven from the fact that the variances are always greater than zero that a covariance matrix is always [positive definite](#Eigenvalue_Matrix_Characterization).\n",
    "\n",
    "From [$\\m{P}^T\\m{C_x P} = \\m{D}$](#eq173) it follows that every covariance $\\m{C_x}$ is orthogonally similar to a diagonal matrix $\\m{D}$ containing the Eigenvalues of $\\m{C_x}$. Since $\\m{D}$ is made up of the Eigenvalues of $\\m{C_x}$ it will have non-zero positive values along its diagonal, be symmetric and, thus, nonsingular [(81)](2_Matrix_Algebra.ipynb#Inverse_of_a_Diagonal_Matrix_Computation). We can interpret $\\m{D}$ as the covariance matrix of some other vector $\\m{y}$, the elements of which are not statistically dependent. We know consider two questions\n",
    "\n",
    "1) How are $\\m{x}$ and $\\m{y}$ related?<br>\n",
    "2) What is the geometrical interpretation of $\\m{C_x}$ and $\\m{D}$?\n",
    "\n",
    "First we consider a generalization of the expression $\\m{x}^T\\m{x}$ for the square of the length of a vector. This generalizations is $\\m{x}^T\\m{C_x}\\m{x}$ and is known as the ***quadratic form***. In the special case where all the elements of $\\m{x}$ have unit variance and are statistically independent $\\m{C_x} = \\m{I}$ and the quadratic form reduces to the length of $\\m{x}$ squared"
   ]
  },
  {
   "cell_type": "code",
   "execution_count": 16,
   "id": "e46d7c5f",
   "metadata": {},
   "outputs": [
    {
     "name": "stdout",
     "output_type": "stream",
     "text": [
      "x=\n"
     ]
    },
    {
     "data": {
      "text/latex": [
       "$\\displaystyle \\begin{bmatrix} \n",
       " 1.0000 \\\\ 2.0000 \\\\ 3.0000 \\\\\\end{bmatrix}$"
      ],
      "text/plain": [
       "<IPython.core.display.Math object>"
      ]
     },
     "metadata": {},
     "output_type": "display_data"
    },
    {
     "name": "stdout",
     "output_type": "stream",
     "text": [
      "\n",
      "Squared length of x: 𝐱𝑇𝐱 = 14.00\n",
      "Elements of x have unit variance and are independent, thus Cx=\n"
     ]
    },
    {
     "data": {
      "text/latex": [
       "$\\displaystyle \\begin{bmatrix} \n",
       " 1.0000& 0.0000& 0.0000\\\\\n",
       " 0.0000& 1.0000& 0.0000\\\\\n",
       " 0.0000& 0.0000& 1.0000\\\\\n",
       "\\end{bmatrix}$"
      ],
      "text/plain": [
       "<IPython.core.display.Math object>"
      ]
     },
     "metadata": {},
     "output_type": "display_data"
    },
    {
     "name": "stdout",
     "output_type": "stream",
     "text": [
      "\n",
      "The quadratic form remains identical to the squared length of x for C=I,  𝐱𝑇𝐂𝐱 = 14.00\n"
     ]
    }
   ],
   "source": [
    "x = np.array([[1],[2],[3]])\n",
    "print('x=')\n",
    "display_matrix(x)\n",
    "print('\\nSquared length of x: 𝐱𝑇𝐱 = %.2f'%(x.T@x))\n",
    "Cx = np.eye(3)\n",
    "print('Elements of x have unit variance and are independent, thus Cx=')\n",
    "display_matrix(Cx)\n",
    "print('\\nThe quadratic form remains identical to the squared length of x for C=I,  𝐱𝑇𝐂𝐱 = %.2f'%(x.T@Cx@x))"
   ]
  },
  {
   "cell_type": "markdown",
   "id": "55202455",
   "metadata": {},
   "source": [
    "However, when $\\m{C}\\neq\\m{I}$ the quadratic form can be interpreted as some kind of statistically weighted and correlated square of the \"length\" of $\\m{x}$ i.e.,\n",
    "\n",
    "$$\\m{x}^T\\m{C_x}\\m{x}=k^2\\tag{183}$$\n",
    " \n",
    "Similarly we have  $\\m{y}^T\\m{D}\\m{y}$, the quadratic form for $\\m{y}$. Since $\\m{D}$ is diagonal we only use statistically independent weights on each element of $\\m{y}$ to compute the square of the \"length\" of $\\m{y}$. If we force the \"lengths\" of $\\m{x}$ and $\\m{y}$ to be identical we find\n",
    "\n",
    "$$\\m{x}^T\\m{C_x}\\m{x} = \\m{y}^T\\m{D}\\m{y}=k^2\\tag{184}$$\n",
    "\n",
    "From [(173)](#eq173) we have\n",
    "\n",
    "$$\\m{y}^T\\m{Dy} = \\m{y}^T\\m{P}^T\\m{C_x P}\\m{y}\\tag{185}$$\n",
    "\n",
    "Hence we can see that we can preserve the equality of the \"lengths\" by setting:\n",
    "\n",
    "<a id='eq186'></a>\n",
    "$$\\m{x}=\\m{Py}\\tag{186}$$\n",
    "\n",
    "or, equivalently:\n",
    "<a id='eq187'></a>\n",
    "$$\\m{y}=\\m{P}^T\\m{y}\\tag{187}$$\n",
    "\n",
    "This answers the first question: $\\m{y}$ is obtained from $\\m{x}$ by means of the transformation matrix $\\m{P}^T$, the *rows* of which are the normalized Eigenvector of $\\m{Cx}$, since $\\m{P}$ is orthogonal and has:\n",
    "\n",
    "$$\\text{det}(\\m{P})=1\\tag{188}$$\n",
    "\n",
    "this is some kind of rotation of $\\m{x}$ into $\\m{y}$. Thus we may consider that $\\m{x}$ and $\\m{y}$ represent the same vector in two reference frames that are rotated with respect to each-other.\n",
    "\n",
    "\n",
    "In the code cell below you see an illustration of this. "
   ]
  },
  {
   "cell_type": "code",
   "execution_count": 17,
   "id": "9c81efd0",
   "metadata": {},
   "outputs": [
    {
     "data": {
      "image/png": "[encoded data removed]",
      "text/plain": [
       "<Figure size 576x360 with 1 Axes>"
      ]
     },
     "metadata": {
      "needs_background": "light"
     },
     "output_type": "display_data"
    }
   ],
   "source": [
    "origin = np.array([0, 0])  # origin point\n",
    "# Create two reference frame axes\n",
    "X = np.array([[1, 0], [0, 1]])\n",
    "Y = X.copy()\n",
    "# Covariance matrix Cx\n",
    "Cx = np.array([[5, 3], [3, 5]])\n",
    "s = '\\mathbf{C}=' + latex_matrix(Cx)\n",
    "# display(Math(s))\n",
    "\n",
    "# Create an identity matrix of the order of Cx\n",
    "I = np.eye(Cx.shape[0])\n",
    "\n",
    "# Get the eigenvalues and vectors of Cx\n",
    "l, P = la.eig(Cx)\n",
    "\n",
    "fig, (ax1) = plt.subplots(nrows=1, ncols=1, figsize=(8, 5))\n",
    "\n",
    "# Plot the axes for the Eigenvectors x contained in P\n",
    "for i, x in enumerate(X.T):\n",
    "    ax1.quiver(*origin, 2*x[0], 2*x[1], color='b', angles='xy', scale_units='xy',\n",
    "               scale=1, width=.003, zorder=0)\n",
    "    ax1.text(2*x[0], 2*x[1], '$   x_%d$ axis' %\n",
    "             (i+1), color='C0', size='large', zorder=1)\n",
    "\n",
    "# Plot the Eigenvectors as axes y\n",
    "for i, y in enumerate(P):\n",
    "    ax1.quiver(*origin, 2*y[0], 2*y[1], color='r', angles='xy', scale_units='xy',\n",
    "               scale=1, width=.003, zorder=0)\n",
    "    ax1.text(2*y[0], 2*y[1], '   $y_%d$ axis' %\n",
    "             (i+1), color='r', size='large', zorder=1)\n",
    "\n",
    "# Now plot the Eigenvectors\n",
    "for i, p in enumerate(P):\n",
    "    ax1.quiver(*origin, p[0], p[1], color='C4',\n",
    "               angles='xy', scale_units='xy', scale=1)\n",
    "    ax1.text(p[0], p[1], '   Eigenvector $\\mathbf{x}_%d = \\mathbf{y}_%d$' % (\n",
    "        i+1, i+1), color='C4', size='large', zorder=2)\n",
    "\n",
    "ax1.set_xlim((-2.2, 4.2))\n",
    "ax1.set_ylim((-2.2, 2.7))\n",
    "ax1.plot([0, 0], [0, 0], '.')\n",
    "\n",
    "ax1.set_aspect('equal')\n",
    "plt.draw()\n",
    "plt.show()"
   ]
  },
  {
   "cell_type": "markdown",
   "id": "8d92d287",
   "metadata": {},
   "source": [
    "From the code in the cell above and the figure that it produces it can be seen that the Eigenvectors $\\m{x}$ of $\\m{Cx}$ form an orthogonal basis for a new rotated coordinate system. The Eigenvectors $\\m{x}_i$ are identical to $\\m{y}_i$ in the new system, where $\\m{y}_i$ are unit vectors defining the basis of the new system.\n",
    "\n",
    "To answer the second question (what is the geometrical interpretation of 𝐂𝐱 and 𝐃?), we consider the equation\n",
    "\n",
    "<a id='eq189'></a>\n",
    "$$\\m{y}^T\\m{Dy}=\\sum\\lambda_i y_i^2 = k^2\\tag{189}$$\n",
    "\n",
    "where $\\lambda_i$ are the Eigenvalues of C. We see that [(189)](#189) **is the equation of an ellipse (in two dimensions), an ellipsoid (in three dimensions), or some kind of hyper-ellipsoid (in higher dimensions)**\n",
    "\n",
    "\n",
    "$$ \\sum\\lambda_i \\dfrac{y_i^2}{k^2}=1\\text{, equation of an ellipse with axes }\\dfrac{k^2}{\n",
    "\\lambda_i}\\;\\;\\forall\\;\\; i\\tag{190}$$\n",
    "\n",
    "Thus  $\\lambda_i$ define the lengths of the ***principal axes*** and we can use $k$ to scale them.\n",
    "\n",
    "However:\n",
    "\n",
    "$$\\m{x}^T\\m{C_x x}=k^2\\tag{191}$$\n",
    "\n",
    "is identical to \n",
    "\n",
    "$$\\m{y}^T\\m{D y}=k^2\\tag{192}$$\n",
    "\n",
    "except for the rotational transformation [(186)](#186) or [(187)](#187) connecting them. Therefore the quadratic forms represent the ***same*** ellipse, but referred to different coordinate systems, and these coordinate systems are related through the transformation $\\m{P}$ (as demonstrated in the code cell above). The Eigenvalues $\\lambda_i$ of $\\m{C}$ define the lengths of the principal axes of the ellipse represented by the quadratic forms of $\\m{C}$ or $\\m{D}$, and the normalized Eigenvectors of $\\m{C}$ defines the directions of each of these principal axes with respect to the coordinate system in which $\\m{C}$ is specified.\n",
    "\n",
    "\n",
    "From the example [(174)](#174), which we also used in the code cell above, we have:\n",
    "\n",
    "$$\\m{C}=\\begin{pmatrix}5&3 \\\\ 3 & 5\\end{pmatrix}\\tag{193}$$\n",
    "\n",
    "$$\\m{P}=\\dfrac{1}{\\sqrt{2}}\\begin{pmatrix}1&-1 \\\\ 1 & 1\\end{pmatrix}\\tag{194}$$\n",
    "\n",
    "$$\\m{D}=\\begin{pmatrix}8&0 \\\\ 0 & 2\\end{pmatrix}\\tag{195}$$\n",
    "\n",
    "Note that we have cleverly selected $\\m{C}$ to have normalized Eigenvectors such that the matrix whose columns are the these vector ($\\m{P}$) represents a rotation of $45^o$. In equation form:\n",
    "\n",
    "$$\\m{P} = \\begin{pmatrix}\\cos 45^\\circ & -\\sin 45^\\circ \\\\ \\sin 45^\\circ & \\cos 45^\\circ \\end{pmatrix}\\tag{196}$$"
   ]
  },
  {
   "cell_type": "markdown",
   "id": "b50e0372",
   "metadata": {},
   "source": [
    "____"
   ]
  },
  {
   "cell_type": "code",
   "execution_count": 18,
   "id": "80cd7141",
   "metadata": {},
   "outputs": [
    {
     "data": {
      "image/png": "[encoded data removed]",
      "text/plain": [
       "<Figure size 576x360 with 1 Axes>"
      ]
     },
     "metadata": {
      "needs_background": "light"
     },
     "output_type": "display_data"
    }
   ],
   "source": [
    "# Define a circle for plotting\n",
    "t = np.linspace(0,2*pi,100)\n",
    "circle = np.array([cos(t),sin(t)])\n",
    "fig, (ax1) = plt.subplots(nrows=1, ncols=1, figsize=(8, 5))\n",
    "ax1.plot(circle[0,:],circle[1,:])\n",
    "\n",
    "# Plot a different size circle\n",
    "k = 1\n",
    "small_circle = .3 * circle\n",
    "ax1.plot(small_circle[0,:],small_circle[1,:])\n",
    "\n",
    "# Plot an ellipse with semi-major axis a, and semi-minor axis b\n",
    "a = 1.5\n",
    "b = .75\n",
    "D = la.inv(np.array([[a,0],[0,b]]))\n",
    "ellipse = la.inv(D)@circle\n",
    "ax1.plot(ellipse[0,:],ellipse[1,:])\n",
    "\n",
    "# Plot a rotated, scaled ellipse\n",
    "th = pi/6\n",
    "R = np.array([[cos(th),-sin(th)],[sin(th),cos(th)]])\n",
    "ellipse = k*R@la.inv(D)@circle\n",
    "ax1.plot(ellipse[0,:],ellipse[1,:])\n",
    "\n",
    "\n",
    "ax1.set_aspect('equal')\n",
    "plt.show()"
   ]
  },
  {
   "cell_type": "markdown",
   "id": "3010f634",
   "metadata": {},
   "source": [
    "___\n",
    "\n",
    "Before we go further we should quickly address how to plot circles and ellipses. It is simplest to use parametric equations for the drawing of a circle i.e.,\n",
    "\n",
    "$$ \\begin{array}{} t\\in\\{\\mathbb{R}|0\\leq t \\leq 2\\pi\\} \\\\ x = \\cos t \\\\ y=\\sin t \\end{array}\\tag{197}$$ \n",
    "\n",
    "it is beneficial to group the x and y coordinates in a single numpy array:\n",
    "\n",
    "    t = np.linspace(0,2*pi,100)\n",
    "    circle = np.array([cos(t),sin(t)])\n",
    "    \n",
    "results in the `numpy` array `circle` whose columns contain the coordinates defining the perimeter of unit circle. The circle can then simply be scaled e.g.:\n",
    "\n",
    "    k = .3\n",
    "    small_circle = .3 * circle\n",
    "    \n",
    "generates a copy of the circle, whose radius is now `k` or 0.3\n",
    "\n",
    "An ellipse is generated by scaling the x and y values independently, this scaling may be implemented in a diagonal matrix. For example if we want to create an with ellipse with semi-major axes `a=1.5` and semi minor axes `b=.75` we can create a diagonal matrix D so that:\n",
    "\n",
    "$$\\m{D} = \\begin{pmatrix}a&0 \\\\ 0&b\\end{pmatrix}^{-1}=\\begin{pmatrix}\\dfrac{2}{3}&0 \\\\ 0&\\dfrac{4}{3}\\end{pmatrix}^{-1}=\\begin{pmatrix}1.5&0 \\\\ 0&0.75\\end{pmatrix}\\tag{197}$$ \n",
    "\n",
    "which in coding results in:\n",
    "\n",
    "    a = 1.5\n",
    "    b = .75\n",
    "    D = la.inv(np.array([[a,0],[0,b]]))\n",
    "    ellipse = la.inv(D)@circle\n",
    "    ax1.plot(ellipse[0,:],ellipse[1,:])\n",
    "    \n",
    "- You may wonder why `D` is created by using the inverse of the matrix with the principal axe values. We chose to do this $\\m{D}$ to stress the similarity between this matrix and the matrix of Eigenvectors $\\m{D}$ that determines the size of the principal axes in the quadratic form ([(190)](#190) and [(192)](#192)) i.e., **we may use the inverse of the matrix of Eigenvalues directly to transform a circle into an ellipse** representing the quadratic form.\n",
    "    \n",
    "If we want to rotate the ellipse by $\\pi/6$ we create a `numpy` array `R` representing a rotation matrix $\\m{R}$ and then multiplying the ellipse \n",
    "\n",
    "    th = pi/6\n",
    "    R = np.array([[cos(th),-sin(th)],[sin(th),cos(th)]])\n",
    "    \n",
    "We can also do this directly from the circle, but remember that matrices are generally not commutative i.e., the order of operations matters\n",
    "\n",
    "    ellipse = R@D@circle\n",
    "    \n",
    "Finally we can scale the ellipse as a whole using a scalar e.g., the already defined `k` \n",
    "\n",
    "\n",
    "    ellipse = k*R@D@circle\n",
    "\n",
    "All these manipulations are applied in, and visualized by, the code cell above\n"
   ]
  },
  {
   "cell_type": "markdown",
   "id": "7e3c3d7b",
   "metadata": {},
   "source": [
    "From [(189)](#189) we see that the quadratic form represents an ellipse. We can scale the size of the ellipse by choosing a value for $k$ e.g., $k^2=4$ leads to:\n",
    "\n",
    "$$\\m{x}^T\\m{C_x x}=5x_1^2+3x_1x_2+3x_1x_2+5x_2^2=5x_1^2+6x_1x_2+5x_2^2=4\\tag{198}$$\n",
    "\n",
    "and (the much simpler):\n",
    "\n",
    "$$\\m{y}^T\\m{D y}=8y_1^2+2y_2^2=4\\tag{199}$$\n",
    "\n",
    "What has gone on here geometrically?\n",
    "\n",
    "<img align=\"center\" width=\"60%\" style=\"padding-right:10px;\" src=\"Images/Quadratic_form_wrt_x.png\">\n",
    "\n",
    "The figure above shows a geometrical interpretation for the equation of an ellipse obtained from the quadratic form with the covariance matrix $\\m{C_x}$, and referred to the coordinate system $\\m{x}$ whose axes are not coincident with the axes of the ellipse, also shown is a second coordinate system $\\m{y}$ with the coordinate axes aligned to the principal axes of the ellipse. As shown the ellipse is rotated $45^\\circ$ counter-clockwise which is equivalent to rotating the coordinate system aligned to the ellipse $45^\\circ$ clockwise, using the rotation matrix $\\m{P}$ and the transformation:\n",
    "\n",
    "$$\\m{y} =\\m{P}^T\\m{x}\\tag{200}$$\n",
    "\n",
    "The axes of the new coordinate system are aligned to the Eigenvectors of $\\m{C_x}$. The semi-axes $a_i$ of the ellipse are related to the Eigenvalues of $\\m{C_x}$ and the value of the quadratic form $k^2$ by\n",
    "\n",
    "$$a_i^2 =\\dfrac{k^2}{\\lambda_i}\\Rightarrow a_i =\\dfrac{k}{\\sqrt{\\lambda_i}}\\tag{201}$$\n",
    "\n",
    "in our case we chose $k^2 = 4$, so for $\\lambda_1=8$\n",
    "\n",
    "$$a_1 = \\dfrac{1}{\\sqrt{2}}\\tag{202}$$\n",
    "\n",
    "and for $\\lambda_2=2$\n",
    "\n",
    "$$a_2 = \\sqrt{2}\\tag{203}$$\n",
    "\n",
    "___\n",
    "\n",
    "<img align=\"center\" width=\"30%\" style=\"padding-right:10px;\" src=\"Images/Quadratic_form_wrt_y.png\">\n",
    "\n",
    "For many applications with covariance matrices it is thus much simpler to perform operations in a coordinate system aligned to the principal axes (here $\\m{y}$); a simple rotation then satisfies our need to show the results in the reference frame in which the covariance matrix is defined."
   ]
  },
  {
   "cell_type": "markdown",
   "id": "3dc593c5",
   "metadata": {},
   "source": [
    "___\n",
    "## 4.3 Self Study Exercise 1\n",
    "\n",
    "The code below was used to generate the images in the paragraph above, in the code you see that the variable `y` gets defined first, then the variable `x` is generated by rotating `y`\n",
    "\n",
    "    a) what does `y` represent? Use the term Eigenvectors, Principal axes, quadratic form, and ellipse \n",
    "       in your answer\n",
    "    b) what does `x` represent? Use the same terms as in a)\n",
    "    c) What is the advantage of defining `y` before `x`? \n",
    "    d) write some code that demonstrates that for every column of `x` and `y` the quadratic equations \n",
    "      (198) and (199)  hold valid. Remember to use `np.isclose()` instead of the `==` operator \n",
    "      for this purpose."
   ]
  },
  {
   "cell_type": "code",
   "execution_count": 19,
   "id": "6a155e8d",
   "metadata": {},
   "outputs": [
    {
     "data": {
      "image/png": "[encoded data removed]",
      "text/plain": [
       "<Figure size 1152x360 with 3 Axes>"
      ]
     },
     "metadata": {
      "needs_background": "light"
     },
     "output_type": "display_data"
    }
   ],
   "source": [
    "origin = np.array([0, 0])  # origin point\n",
    "\n",
    "# Parametric representation of circle\n",
    "t = np.linspace(0,2*pi,100)\n",
    "circle = np.array([cos(t),sin(t)])\n",
    "\n",
    "# Create two reference frame axes\n",
    "X = np.array([[1, 0], [0, 1]])\n",
    "Y = X.copy()\n",
    "\n",
    "# The outcome k_2 of the quadratic equations (only appears as k^2)\n",
    "k = 2\n",
    "\n",
    "# Covariance matrix Cx\n",
    "Cx = np.array([[5, 3], [3, 5]])\n",
    "s = '\\mathbf{C}=' + latex_matrix(Cx)\n",
    "# display(Math(s))\n",
    "\n",
    "\n",
    "# Get the eigenvalues and vectors of Cx\n",
    "l, P = la.eig(Cx)\n",
    "\n",
    "# For clarity explity create a Diagonal matrix D with the Eigenvalues along the diagonal\n",
    "# Create an identity matrix of the order of Cx, note the use of the * (piecewise multiplier) \n",
    "# rather than the @ (matrix multiplier) operator\n",
    "D = l*np.eye(Cx.shape[0])\n",
    "\n",
    "fig, (ax1,ax2,ax3) = plt.subplots(nrows=1, ncols=3, figsize=(16, 5))\n",
    "\n",
    "# Plot the axes for the x-coordinate reference frame used in ax1, ax2\n",
    "for i, x_ax in enumerate(X.T):\n",
    "    ax1.quiver(*origin, 2*x_ax[0], 2*x_ax[1], color='b', angles='xy', scale_units='xy',\n",
    "               scale=1, width=.003, zorder=0)\n",
    "    ax1.text(2*x_ax[0], 2*x_ax[1], '$   x_%d$' %\n",
    "             (i+1), color='b', size='large', zorder=1)\n",
    "    ax2.quiver(*origin, 2*x_ax[0], 2*x_ax[1], color='b', angles='xy', scale_units='xy',\n",
    "               scale=1, width=.003, zorder=0)\n",
    "    ax2.text(2*x_ax[0], 2*x_ax[1], '$   x_%d$' %\n",
    "             (i+1), color='b', size='large', zorder=1)\n",
    "    \n",
    "# Plot the axes for the y coordinate frame  used in ax3\n",
    "for i, y_ax in enumerate(Y.T):\n",
    "    ax3.quiver(*origin, 2*y_ax[0], 2*y_ax[1], color='r', angles='xy', scale_units='xy',\n",
    "               scale=1, width=.003, zorder=0)\n",
    "    ax3.text(2*y_ax[0], 2*y_ax[1], '$   y_%d$' %\n",
    "             (i+1), color='r', size='large', zorder=1)\n",
    "\n",
    "\n",
    "# Plot the Eigenvectors as axes\n",
    "for i, y_ax in enumerate(P.T):\n",
    "    ax2.quiver(*origin, 2*y_ax[0], 2*y_ax[1], color='r', angles='xy', scale_units='xy',\n",
    "               scale=1, width=.003, zorder=0)\n",
    "    ax2.text(2*y_ax[0], 2*y_ax[1], '   $y_%d$' %\n",
    "             (i+1), color='r', size='large', zorder=1)\n",
    "for i, x_ax in enumerate(P):\n",
    "    ax3.quiver(*origin, 2*x_ax[0], 2*x_ax[1], color='b', angles='xy', scale_units='xy',\n",
    "               scale=1, width=.003, zorder=0)\n",
    "    ax3.text(2*x_ax[0], 2*x_ax[1], '   $x_%d$' %\n",
    "             (i+1), color='b', size='large', zorder=1)\n",
    "\n",
    "\n",
    "y = k*la.inv(sqrt(D))@circle\n",
    "ax3.plot(y[0],y[1],'C0')\n",
    "x = P@y\n",
    "ax1.plot(x[0],x[1],'C0')\n",
    "ax2.plot(x[0],x[1],'C0')\n",
    "\n",
    "\n",
    "ax1.set_xlim((-2.2, 4.2))\n",
    "ax1.set_ylim((-2.2, 2.7))\n",
    "\n",
    "ax2.set_xlim((-2.2, 4.2))\n",
    "ax2.set_ylim((-2.2, 2.7))\n",
    "\n",
    "ax3.set_xlim((-2.2, 4.2))\n",
    "ax3.set_ylim((-2.2, 2.7))\n",
    "\n",
    "ax1.set_aspect('equal')\n",
    "ax2.set_aspect('equal')\n",
    "ax3.set_aspect('equal')\n",
    "\n",
    "ax1.set_title('Quadratic Form of $\\mathbf{C}x$ wrt to $\\mathbf{x}$')\n",
    "ax2.set_title('Quadratic Form of $\\mathbf{C}x$ wrt $\\mathbf{x}$ and $\\mathbf{D}$ wrt $\\mathbf{y}$')\n",
    "ax3.set_title('Quadratic Form of $\\mathbf{D}$ wrt $\\mathbf{y}$ ')\n",
    "\n",
    "plt.draw()\n",
    "plt.show()"
   ]
  },
  {
   "cell_type": "code",
   "execution_count": 20,
   "id": "4f08b249",
   "metadata": {},
   "outputs": [
    {
     "name": "stdout",
     "output_type": "stream",
     "text": [
      "Quadratic form for `y` holds\n",
      "Quadratic form for `x` holds\n"
     ]
    }
   ],
   "source": [
    "if all(np.isclose(8*y[0]**2+2*y[1]**2,4)):\n",
    "    print('Quadratic form for `y` holds')\n",
    "else:\n",
    "    print('Quadratic form for `y` does not hold')\n",
    "    \n",
    "if all(np.isclose(5*x[0]**2+6*x[0]*x[1]+5*x[1]**2,4)):\n",
    "    print('Quadratic form for `x` holds')\n",
    "else:\n",
    "    print('Quadratic form for `x` does not hold')"
   ]
  },
  {
   "cell_type": "markdown",
   "id": "6305c566",
   "metadata": {},
   "source": [
    "___\n",
    "## Jump to Chapter\n",
    "\n",
    "[2: Matrix Algebra.ipynb](2_Matrix_Algebra.ipynb)<br>\n",
    "[3: Solution_of_Linear_Equations](3_Solution_of_Linear_Equations.ipynb)<br>\n",
    "[4: Linear Transformations](4_Linear_Transformations.ipynb)<br>\n",
    "[5: Solution of Nonlinear Equations](5_Solution_of_Nonlinear_Equations.ipynb)<br>"
   ]
  },
  {
   "cell_type": "markdown",
   "id": "5fa41cb5",
   "metadata": {},
   "source": [
    "___\n",
    "#### Copyright 2022, Semme J. Dijkstra\n",
    "\n",
    "Permission is hereby granted, free of charge, to any person obtaining a copy of this software and associated documentation files (the \"Software\"), to deal in the Software without restriction, including without limitation the rights to use, copy, modify, merge, publish, distribute, sublicense, and/or sell copies of the Software, and to permit persons to whom the Software is furnished to do so, subject to the following conditions:\n",
    "\n",
    "The above copyright notice and this permission notice shall be included in all copies or substantial portions of the Software.\n",
    "\n",
    "THE SOFTWARE IS PROVIDED \"AS IS\", WITHOUT WARRANTY OF ANY KIND, EXPRESS OR IMPLIED, INCLUDING BUT NOT LIMITED TO THE WARRANTIES OF MERCHANTABILITY, FITNESS FOR A PARTICULAR PURPOSE AND NONINFRINGEMENT. IN NO EVENT SHALL THE AUTHORS OR COPYRIGHT HOLDERS BE LIABLE FOR ANY CLAIM, DAMAGES OR OTHER LIABILITY, WHETHER IN AN ACTION OF CONTRACT, TORT OR OTHERWISE, ARISING FROM, OUT OF OR IN CONNECTION WITH THE SOFTWARE OR THE USE OR OTHER DEALINGS IN THE SOFTWARE."
   ]
  },
  {
   "cell_type": "code",
   "execution_count": null,
   "id": "86ff40fe",
   "metadata": {},
   "outputs": [],
   "source": []
  }
 ],
 "metadata": {
  "kernelspec": {
   "display_name": "Python 3 (ipykernel)",
   "language": "python",
   "name": "python3"
  },
  "language_info": {
   "codemirror_mode": {
    "name": "ipython",
    "version": 3
   },
   "file_extension": ".py",
   "mimetype": "text/x-python",
   "name": "python",
   "nbconvert_exporter": "python",
   "pygments_lexer": "ipython3",
   "version": "3.9.7"
  }
 },
 "nbformat": 4,
 "nbformat_minor": 5
}
