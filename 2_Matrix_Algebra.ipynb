{
 "cells": [
  {
   "cell_type": "markdown",
   "id": "7a3a8365",
   "metadata": {},
   "source": [
    "<img align=\"left\" width=\"30%\" style=\"padding-right:10px;\" src=\"Images/Ccom.png\">\n",
    "\n",
    "___\n",
    "# Review of Linear Algebra\n",
    "# Matrix Algebra\n",
    "<br><br><br><br><br>\n",
    "Linear Algebra text and examples:\n",
    "David E. Wells, Kresho Frankich, 1994\n",
    "\n",
    "Jupyter Notebook Implementation: Semme J. Dijkstra, 2022<br>\n",
    "Python code and explanations: Semme J. Dijkstra, 2022\n",
    "\n",
    "<a href=\"https://teams.microsoft.com/l/team/19%3auL2OnH3RSfCWwU2Fd3VYGLT_03BYOfA3KB_OBp10CIY1%40thread.tacv2/conversations?groupId=5c11a428-14b6-429d-b7f5-a61ebc0a440b&tenantId=d6241893-512d-46dc-8d2b-be47e25f5666\"><img src=\"Images/help.png\"  title=\"Ask questions on Teams\" align=\"right\" width=\"10%\" alt=\"Teams.com\\\"></a><br><br> "
   ]
  },
  {
   "cell_type": "code",
   "execution_count": 157,
   "id": "9529f640",
   "metadata": {},
   "outputs": [
    {
     "name": "stdout",
     "output_type": "stream",
     "text": [
      "The autoreload extension is already loaded. To reload it, use:\n",
      "  %reload_ext autoreload\n"
     ]
    }
   ],
   "source": [
    "import matplotlib.pyplot as plt\n",
    "import numpy as np\n",
    "from my_code.latex_output import display_matrix\n",
    "%load_ext autoreload\n",
    "%autoreload 2"
   ]
  },
  {
   "cell_type": "markdown",
   "id": "1e230edf",
   "metadata": {},
   "source": [
    "___\n",
    "<img align=\"left\" width=\"6%\" style=\"padding-right:10px;\" src=\"./Images/info.png\">\n",
    "\n",
    "# LaTex<br>\n",
    "\n",
    "This is a [Jupyter](https://jupyter.org/) notebook in which heavy use of [LaTex](https://www.latex-project.org/) is made. LaTex is *\\\"a high-quality typesetting system; it includes features designed for the production of technical and scientific documentation. LaTeX is the de facto standard for the communication and publication of scientific documents.\\\"* according to [the Latex project](https://www.latex-project.org/)\n",
    "\n",
    "Latex allows the creation of macros and other type-setting methods of convenience. This particular Markdown cell you are reading is used for the definition of new LaTex operators and commands, but they are hidden from view. If you are interested: double click on this cell to enter its edit mode and you will be able see how they are implemented.\n",
    "\n",
    "<div hidden>\n",
    "$\\usepackage{amsmath,amssymb}$\n",
    "\n",
    "$\\DeclareRobustCommand{\\bbone}{\\text{\\usefont{U}{bbold}{m}{n}1}}$\n",
    "\n",
    "$\\DeclareMathOperator{\\EX}{\\mathbb{E}}% expected value$\n",
    "\n",
    "$\\DeclareMathOperator{\\res}{\\vec{r}}$\n",
    "\n",
    "$\\DeclareMathOperator{\\mf}{\\mu_{1}\\sigma_{2}^{2}+\\mu_{2}\\sigma_{1}^{2}\\over{\\sigma_{1}^{2} + \\sigma_{2}^{2}}}$\n",
    "    \n",
    "$\\DeclareMathOperator{\\sf}{{\\sigma_{1}^{2}\\sigma_{2}^{2}}\\over{\\sigma_{1}^{2}+\\sigma_{2}^{2}}}$\n",
    "    \n",
    "$\\newcommand{\\ex}[1]{\\mathbb{E}\\{#1\\}}$\n",
    "    \n",
    "$\\newcommand{\\dev}[1]{\\mathbb{E}\\{#1^o_i - \\mathbb{E}\\{#1\\}\\}}$\n",
    "    \n",
    "$\\newcommand{\\cov}[1]{\\mathbb{E}\\{(#1^o_i - \\mathbb{E}\\{#1\\})(#1 - \\mathbb{E}\\{#1\\})^T\\}}$\n",
    "    \n",
    "$\\newcommand{\\m}[1]{\\mathbf{#1}}$\n",
    "</div>"
   ]
  },
  {
   "cell_type": "markdown",
   "id": "2bdb5377",
   "metadata": {},
   "source": [
    "___\n",
    "## 2.1 Special Matrices\n",
    "\n",
    "We will often be concerned with matrices having the same numbers of columns as rows. Such a matrix ks called a ***square*** matrix:\n",
    "\n",
    "$$_n\\m{S}_n=\\begin{pmatrix}\n",
    "a_{11} & a_{12} & \\dots & a_{1n}\\\\\n",
    "a_{21} & a_{22} & \\dots & a_{2n}\\\\\n",
    "\\vdots & \\vdots & \\ddots & \\vdots \\\\\n",
    "a_{n1} & a_{n2} & \\dots & a_{nn}\n",
    "\\end{pmatrix}\\tag{4}$$\n",
    "\n",
    "\n",
    "A square matrix having all elements zero except along the principal diagonal running from the top left to the bottom right is a ***diagonal matrix***:\n",
    "\n",
    "$$_3\\m{D}_3=\\begin{pmatrix}\n",
    "-1 & 0 & 0\\\\\n",
    "0 & 1 & 0\\\\\n",
    "0 & 0 & 0\n",
    "\\end{pmatrix}\\tag{5}$$\n",
    "\n",
    "A diagonal matrix which has all the diagonal elements equal is called a ***scalar matrix***:\n",
    "\n",
    "$$_4\\m{K}_4=\\begin{pmatrix}\n",
    "3 & 0 & 0 & 0\\\\\n",
    "0 & 3 & 0 & 0\\\\\n",
    "0 & 0 & 3 & 0\\\\\n",
    "0 & 0 & 0 & 3\n",
    "\\end{pmatrix}\\tag{6}$$\n",
    "\n",
    "A scalar matrix which has diagonal elements equal to one is called a ***unit*** or ***identity matrix*** and is usually denoted $I$:\n",
    "\n",
    "$$_2\\m{I}_2=\\begin{pmatrix}\n",
    "1 & 0 \\\\\n",
    "0 & 1\n",
    "\\end{pmatrix}\\tag{7}$$\n"
   ]
  },
  {
   "cell_type": "markdown",
   "id": "2db456fd",
   "metadata": {},
   "source": [
    "___\n",
    "### 2.1 Self Study Exercise 1\n",
    "\n",
    "Write out the linear equations $\\m{Ax} = \\m{y}$ explicitly, when $\\m{A}$ is equal to the examples $(4)$ to $(7)$ on a piece of paper.\n",
    "\n",
    "Comment on the nature of these equations in each case in the code cell below"
   ]
  },
  {
   "cell_type": "code",
   "execution_count": 158,
   "id": "8ed97b75",
   "metadata": {},
   "outputs": [],
   "source": [
    "### 2.1 Self Study Exercise 7\n",
    "\n",
    "q_2_1_1a = 'The matrix S above ...'\n",
    "q_2_1_1b = 'The matrix D above ...'\n",
    "q_2_1_1c = 'The matrix K above ...'\n",
    "q_2_1_1d = 'The matrix I above ...'"
   ]
  },
  {
   "cell_type": "markdown",
   "id": "a13cafae",
   "metadata": {},
   "source": [
    "A square matrix in which all the elements above the diagonal are zero is a ***lower triangular*** matrix:\n",
    "\n",
    "$$_3\\m{L}_3=\\begin{pmatrix}\n",
    "5 & 0 & 0\\\\\n",
    "7 & 9 & 0\\\\\n",
    "8 & 6 & 3\n",
    "\\end{pmatrix}\\tag{8}$$\n",
    "\n",
    "If all the elements below the diagonal are zero, it is an ***upper triangular*** matrix.\n",
    "\n",
    "$$_3\\m{U}_3=\\begin{pmatrix}\n",
    "3 & 1 & 1 & 1\\\\\n",
    "0 & 3 & 1 & 1\\\\\n",
    "0 & 0 & 3 & 1\\\\\n",
    "0 & 0 & 0 & 3\n",
    "\\end{pmatrix}\\tag{9}$$\n",
    "\n",
    "If the equivalent elements above and below the diagonal are equal (that is for $\\m{A} a_{ij}=a{ji}$ for all $i,j$) then the matrix is a ***symmetric matrix***\n",
    "\n",
    "$$_2\\m{S}_2=\\begin{pmatrix}\n",
    "2 & 3 \\\\\n",
    "3 & 1\n",
    "\\end{pmatrix}\\tag{10}$$"
   ]
  },
  {
   "cell_type": "markdown",
   "id": "3f0c0eea",
   "metadata": {},
   "source": [
    "___\n",
    "### 2.1 Self Study Exercise 2\n",
    "\n",
    "Write out the linear equations $\\m{Ax} = \\m{y}$ explicitly, when $\\m{A}$ is equal to the examples $(8)$ to $(10)$ on a piece of paper.\n",
    "\n",
    "Comment on the nature of these equations in each case in the code cell below"
   ]
  },
  {
   "cell_type": "code",
   "execution_count": 159,
   "id": "f9eccdf2",
   "metadata": {},
   "outputs": [],
   "source": [
    "### 2.1 Self Study Exercise 7\n",
    "\n",
    "q_2_1_2a = 'The matrix L above ...'\n",
    "q_2_1_2b = 'The matrix U above ...'\n",
    "q_2_1_2c = 'The matrix S above ...'"
   ]
  },
  {
   "cell_type": "markdown",
   "id": "87e9884d",
   "metadata": {},
   "source": [
    "Finally, if all the elements of a matrix are zero the matrix is called a ***null matrix***, denoted $\\m{0}$.\n",
    "\n",
    "$$_2\\m{0}_3=\\begin{pmatrix}\n",
    "0 & 0 & 0 \\\\\n",
    "0 & 0 & 0\n",
    "\\end{pmatrix}\\tag{11}$$"
   ]
  },
  {
   "cell_type": "markdown",
   "id": "21156857",
   "metadata": {},
   "source": [
    "___\n",
    "## 2.2 Basic Matrix Operations\n",
    "\n",
    "The four basic operations on scalars are familiar: \n",
    "    \n",
    "    - addition\n",
    "    - subtraction\n",
    "    - multiplication\n",
    "    - division\n",
    "    \n",
    "Close equivalents of the first three of these are used on matrices. While there is no direct matrix equivalent to scalar division, matrix *inversion* is equivalent to taking the *reciprocal* of a scalar. This is discussed separately in the next section. There are some other operations on matrices that have no scalar equivalent, such as the multiplication of a matrix by a scalar, ***transposition*** of a matrix, finding the ***trace*** of a matrix, and finding the ***determinant*** of a matrix.\n"
   ]
  },
  {
   "cell_type": "markdown",
   "id": "fdaddb17",
   "metadata": {},
   "source": [
    "___\n",
    "### 2.2.1 Basic Matrix Operations: Equality\n",
    "\n",
    "Two matrices $_m\\m{A}_n$ and $_p\\m{B}_q$ are *identical* only if they have the same dimensions i.e., $m=p$ and $n=q$, and if all corresponding elements are equal $(a_{ij}=b_{ij}\\text{  }\\forall\\text{  }i,j)$. Note that the $\\forall$ symbol means **'for all'**.\n",
    "\n",
    "Note that the `equality operator` in `numpy` will allow the evaluation of `numpy` arrays of unequal dimension.\n"
   ]
  },
  {
   "cell_type": "markdown",
   "id": "00884fe8",
   "metadata": {},
   "source": [
    "___\n",
    "### 2.2.1.1 Basic Matrix Operations: Equality and Using Numpy Arrays\n",
    "\n",
    "`numpy` handles arrays very efficiently, but this comes with some consequences that may initially be confusing to programmers. \n",
    "\n",
    "If you for example want to create a copy of an instance of a matrix $\\m{D}$ and name it $\\m{E}$ it is tempting to use:\n",
    "\n",
    "    B = A"
   ]
  },
  {
   "cell_type": "code",
   "execution_count": 110,
   "id": "fb59cfdc",
   "metadata": {},
   "outputs": [
    {
     "name": "stdout",
     "output_type": "stream",
     "text": [
      "Matrix A:\n"
     ]
    },
    {
     "data": {
      "text/latex": [
       "$\\displaystyle \\begin{bmatrix} \n",
       " 1.0000& 2.0000\\\\\n",
       " 3.0000& 4.0000\\\\\n",
       "\\end{bmatrix}$"
      ],
      "text/plain": [
       "<IPython.core.display.Math object>"
      ]
     },
     "metadata": {},
     "output_type": "display_data"
    },
    {
     "name": "stdout",
     "output_type": "stream",
     "text": [
      "Matrix B:\n"
     ]
    },
    {
     "data": {
      "text/latex": [
       "$\\displaystyle \\begin{bmatrix} \n",
       " 1.0000& 2.0000\\\\\n",
       " 3.0000& 4.0000\\\\\n",
       "\\end{bmatrix}$"
      ],
      "text/plain": [
       "<IPython.core.display.Math object>"
      ]
     },
     "metadata": {},
     "output_type": "display_data"
    }
   ],
   "source": [
    "A = np.asarray([[1., 2.],[3., 4.]])\n",
    "print('Matrix A:')\n",
    "display_matrix(A)\n",
    "B = A\n",
    "print('Matrix B:')\n",
    "display_matrix(B)"
   ]
  },
  {
   "cell_type": "markdown",
   "id": "9cb7dca2",
   "metadata": {},
   "source": [
    "From the above code cell it appears that everything worked as intended, the elements of `B` match those of `A` and we can happily use `B` or our purposes. But let us first see what happens if we change an element of `B`:"
   ]
  },
  {
   "cell_type": "code",
   "execution_count": 111,
   "id": "42db46e5",
   "metadata": {},
   "outputs": [
    {
     "name": "stdout",
     "output_type": "stream",
     "text": [
      "Matrix A after manipulation of B:\n"
     ]
    },
    {
     "data": {
      "text/latex": [
       "$\\displaystyle \\begin{bmatrix} \n",
       " 11.0000& 2.0000\\\\\n",
       " 3.0000& 4.0000\\\\\n",
       "\\end{bmatrix}$"
      ],
      "text/plain": [
       "<IPython.core.display.Math object>"
      ]
     },
     "metadata": {},
     "output_type": "display_data"
    },
    {
     "name": "stdout",
     "output_type": "stream",
     "text": [
      "Matrix B after manipulation of B:\n"
     ]
    },
    {
     "data": {
      "text/latex": [
       "$\\displaystyle \\begin{bmatrix} \n",
       " 11.0000& 2.0000\\\\\n",
       " 3.0000& 4.0000\\\\\n",
       "\\end{bmatrix}$"
      ],
      "text/plain": [
       "<IPython.core.display.Math object>"
      ]
     },
     "metadata": {},
     "output_type": "display_data"
    }
   ],
   "source": [
    "A = np.asarray([[1., 2.],[3., 4.]])\n",
    "B = A\n",
    "B[0,0] = 11\n",
    "print('Matrix A after manipulation of B:')\n",
    "display_matrix(A)\n",
    "print('Matrix B after manipulation of B:')\n",
    "display_matrix(B)"
   ]
  },
  {
   "cell_type": "markdown",
   "id": "ec1792fd",
   "metadata": {},
   "source": [
    "This is probably not the outcome that you expected. What happened here is that `B` is **completely identical** to `A`, it is another reference to the place in your computers memory that holds the variable `A` i.e., the **elements** of `A` are the exact same as those of `B`. This is helpful for writing efficient code, especially if you want `B` to represent a subset of `A`, *but it often leads to unintended consequences for the unwary*.\n",
    "\n",
    "If we intend to create an *independent* matrix `B` that has different **elements** that hold the same **element values** as `A` we should use the `copy` method provided by `numpy`: \n",
    "\n",
    "    B = A.copy()"
   ]
  },
  {
   "cell_type": "code",
   "execution_count": 112,
   "id": "4939cae8",
   "metadata": {},
   "outputs": [
    {
     "name": "stdout",
     "output_type": "stream",
     "text": [
      "Matrix A\n"
     ]
    },
    {
     "data": {
      "text/latex": [
       "$\\displaystyle \\begin{bmatrix} \n",
       " 1.0000& 2.0000\\\\\n",
       " 3.0000& 4.0000\\\\\n",
       "\\end{bmatrix}$"
      ],
      "text/plain": [
       "<IPython.core.display.Math object>"
      ]
     },
     "metadata": {},
     "output_type": "display_data"
    },
    {
     "name": "stdout",
     "output_type": "stream",
     "text": [
      "Matrix B\n"
     ]
    },
    {
     "data": {
      "text/latex": [
       "$\\displaystyle \\begin{bmatrix} \n",
       " 11.0000& 2.0000\\\\\n",
       " 3.0000& 4.0000\\\\\n",
       "\\end{bmatrix}$"
      ],
      "text/plain": [
       "<IPython.core.display.Math object>"
      ]
     },
     "metadata": {},
     "output_type": "display_data"
    },
    {
     "name": "stdout",
     "output_type": "stream",
     "text": [
      "Matrix A after manipulation of B:\n"
     ]
    },
    {
     "data": {
      "text/latex": [
       "$\\displaystyle \\begin{bmatrix} \n",
       " 1.0000& 2.0000\\\\\n",
       " 3.0000& 4.0000\\\\\n",
       "\\end{bmatrix}$"
      ],
      "text/plain": [
       "<IPython.core.display.Math object>"
      ]
     },
     "metadata": {},
     "output_type": "display_data"
    },
    {
     "name": "stdout",
     "output_type": "stream",
     "text": [
      "Matrix B after manipulation of B:\n"
     ]
    },
    {
     "data": {
      "text/latex": [
       "$\\displaystyle \\begin{bmatrix} \n",
       " 11.0000& 2.0000\\\\\n",
       " 3.0000& 4.0000\\\\\n",
       "\\end{bmatrix}$"
      ],
      "text/plain": [
       "<IPython.core.display.Math object>"
      ]
     },
     "metadata": {},
     "output_type": "display_data"
    }
   ],
   "source": [
    "A = np.asarray([[1., 2.],[3., 4.]])\n",
    "B = A.copy()\n",
    "print('Matrix A')\n",
    "display_matrix(A)\n",
    "print('Matrix B')\n",
    "display_matrix(C)\n",
    "B[0,0] = 11\n",
    "print('Matrix A after manipulation of B:')\n",
    "display_matrix(A)\n",
    "print('Matrix B after manipulation of B:')\n",
    "display_matrix(B)"
   ]
  },
  {
   "cell_type": "markdown",
   "id": "34e3a02a",
   "metadata": {},
   "source": [
    "___\n",
    "<img align=\"left\" width=\"6%\" style=\"padding-right:10px;\" src=\"./Images/info.png\">\n",
    "\n",
    "## `C = A.copy()` vs `C=A`<br>\n",
    "\n",
    "\n",
    "\n",
    "often it is `C = A.copy()` that we should use, especially as an inexperienced coder. If you want to write very fast code you should note that this is a much more costly statement than `C=A` which just copies the reference to the location in memory of `A`. In the case of `C = A.copy()` the size of `A` must be determined, then an unused location in memory that allows the storage of a variable of that size needs to be found, and finally, all the properties and  element values of `A` need to be copied; this is a much costlier set of operations in terms of memory and cpu usage.\n",
    "\n",
    "All in all:\n",
    "\n",
    "`C=A` is very fast, uses little memory, but may have unintended consequences for the unwary<br>\n",
    "`C = A.copy()` is slow, doubles memory usage, but is much more predictable"
   ]
  },
  {
   "cell_type": "markdown",
   "id": "8a84aae5",
   "metadata": {},
   "source": [
    "___\n",
    "#### 2.2.1.2 Basic Matrix Operations: `Numpy` Array Equivalency: `numpy.array_equal(A,B)`\n",
    "\n",
    "Before going further: **the appropriate statement to evaluate the equivalence of matrices $\\m{A}$ and $\\m{B}$ using `numpy` is:**\n",
    "\n",
    "    numpy.array_equal(A,B)\n",
    "\n",
    "\n",
    "In python code you will often see the `==` operator is used to test equality, `numpy` extends the use of the `==` operator to `numpy arrays`. Given the difference in use of the assignment operator (`=`) in `numpy` it should be stressed that the `==` verifies the equivalence of the types and values of the elements, not whether these are the same locations in your memory. Using the `==` operator to test equivalence is dangerous for reasons that you will see below.\n",
    "\n",
    "It is probably best to explain the use of the equality operator with `numpy` arrays at the hand of some examples"
   ]
  },
  {
   "cell_type": "code",
   "execution_count": 113,
   "id": "bdd753b4",
   "metadata": {},
   "outputs": [
    {
     "name": "stdout",
     "output_type": "stream",
     "text": [
      "[ True]\n"
     ]
    }
   ],
   "source": [
    "x = np.asarray([3.])  #Creates a 1x1 array with a single element of value 3\n",
    "print(3==x)"
   ]
  },
  {
   "cell_type": "markdown",
   "id": "93639499",
   "metadata": {},
   "source": [
    "In the code cell above a $1\\times 1$ `numpy` array is created that has a single element that holds the value 3. In this case it is compared to the scalar $3$ and since there is only value in the array the returned value is a $1\\times 1$ `numpy` array with the boolean element value `True`. "
   ]
  },
  {
   "cell_type": "code",
   "execution_count": 114,
   "id": "f9fe6ea5",
   "metadata": {},
   "outputs": [
    {
     "name": "stdout",
     "output_type": "stream",
     "text": [
      "3==x\n",
      "[ True  True]\n",
      "\n",
      "3==X\n",
      "[[False False]\n",
      " [ True False]]\n"
     ]
    }
   ],
   "source": [
    "x = np.asarray([3., 3.])  #Creates a 1x2 array with a single element of value 3\n",
    "X = np.asarray([[1., 2.],[3, 4]])  #Creates a 2x2 array \n",
    "print('3==x\\n'+str(3==x))\n",
    "print()\n",
    "print('3==X\\n'+str((3==X)))"
   ]
  },
  {
   "cell_type": "markdown",
   "id": "e147ae3b",
   "metadata": {},
   "source": [
    "In the code cell above a row vector `x` and a matrix `X` In this case `numpy` recognizes the size difference and iterates through all the element values returning a boolean value for each. "
   ]
  },
  {
   "cell_type": "code",
   "execution_count": 115,
   "id": "34da44ba",
   "metadata": {},
   "outputs": [
    {
     "name": "stdout",
     "output_type": "stream",
     "text": [
      "3==x True\n",
      "\n",
      "3==X False\n"
     ]
    }
   ],
   "source": [
    "x = np.asarray([3., 3.])  #Creates a 1x2 array with a single element of value 3\n",
    "X = np.asarray([[1., 2.],[3., 4.]])  #Creates a 2x2 array \n",
    "print('3==x '+str((3==x).all()))\n",
    "print()\n",
    "print('3==X '+str((3==X).all()))"
   ]
  },
  {
   "cell_type": "markdown",
   "id": "b97d59d5",
   "metadata": {},
   "source": [
    "We consider matrices unequal if *any* of the elements is unequal. For testing arrays `numpy` provides the `all()` method to evaluate whether all its contents evaluate to `True`"
   ]
  },
  {
   "cell_type": "code",
   "execution_count": 116,
   "id": "05fec385",
   "metadata": {},
   "outputs": [
    {
     "name": "stdout",
     "output_type": "stream",
     "text": [
      "x==X\n",
      "[[ True  True]\n",
      " [ True  True]]\n",
      "\n",
      "x==X True\n"
     ]
    }
   ],
   "source": [
    "x = np.asarray([1., 2.])  #Creates a 1x2 array with a single element of value 3\n",
    "X = np.asarray([[1., 2.],[1., 2.]])  #Creates a 2x2 array \n",
    "print('x==X\\n'+str((x==X)))\n",
    "print()\n",
    "print('x==X '+str((x==X).all()))"
   ]
  },
  {
   "cell_type": "markdown",
   "id": "52b0b0f8",
   "metadata": {},
   "source": [
    "**The code cell above the pitfall for comparing matrices using the `==` operator; the vector `x` is *not* equal to the matrix `X`! However, `(x==X).all()` fails to recognize this.**"
   ]
  },
  {
   "cell_type": "code",
   "execution_count": 117,
   "id": "d87167a9",
   "metadata": {},
   "outputs": [
    {
     "name": "stdout",
     "output_type": "stream",
     "text": [
      "np.array_equal(x,X): False\n"
     ]
    }
   ],
   "source": [
    "x = np.asarray([1., 2.])  #Creates a 1x2 array with a single element of value 3\n",
    "X = np.asarray([[1., 2.],[1., 2.]])  #Creates a 2x2 array \n",
    "\n",
    "print('np.array_equal(x,X): ' + str(np.array_equal(x,X)))"
   ]
  },
  {
   "cell_type": "markdown",
   "id": "6266cfe5",
   "metadata": {},
   "source": [
    "This is the outcome that we should find. In short your life will be easier if you:\n",
    "\n",
    "#### Test matrix equivalence using the `numpy.array_equal( )` method, or...\n",
    "#### Test matrix equivalence using the `numpy.allclose( )` method for tolerable differences\n",
    "\n",
    "Both methods test the matrix dimensions as well as the element values. However, for practical purposes `numpy.allclose( )` is often preferable, as can be seen from the code cell below"
   ]
  },
  {
   "cell_type": "code",
   "execution_count": 118,
   "id": "c2720008",
   "metadata": {},
   "outputs": [
    {
     "name": "stdout",
     "output_type": "stream",
     "text": [
      "np.array_equal(X,Y): False\n",
      "np.allclose(X,Y): True\n"
     ]
    }
   ],
   "source": [
    "relative_tolerance = 1e-6\n",
    "absolute_tolerance = 1e-9\n",
    "X = np.asarray([[1., 2.],[1., 2.]])\n",
    "Y = X.copy()\n",
    "Y[0,0] += 1e-7 # Example of an insignificant change\n",
    "\n",
    "print('np.array_equal(X,Y): ' + str(np.array_equal(X,Y)))\n",
    "print('np.allclose(X,Y): ' + str(np.allclose(X,Y,relative_tolerance,absolute_tolerance)))"
   ]
  },
  {
   "cell_type": "markdown",
   "id": "feb89332",
   "metadata": {},
   "source": [
    "Due to the nature of numerical methods it could be that element values are so close that they are essentially the same. Testing equivalency using `numpy.array_equal( )` could lead to an undesirable result as the differences are insignificant. `numpy.allclose( )` allows you to test at a level of significance of your choosing. From the `numpy` [webpage](https://numpy.org/doc/stable/reference/generated/numpy.allclose.html#numpy.allclose):\n",
    "\n",
    "    numpy.allclose(a, b, rtol=1e-05, atol=1e-08, equal_nan=False)\n",
    "    \n",
    "    Returns True if two arrays are element-wise equal within a tolerance.\n",
    "    \n",
    "    The tolerance values are positive, typically very small numbers. \n",
    "    The relative difference (rtol * abs(b)) and the absolute difference \n",
    "    atol are added together to compare against the absolute difference \n",
    "    between a and b."
   ]
  },
  {
   "cell_type": "markdown",
   "id": "f426f52d",
   "metadata": {},
   "source": [
    "___\n",
    "\n",
    "### 2.2.2 Basic Matrix Operations: Addition\n",
    "\n",
    "The addition of two matrices $_m\\m{A}_n$ and $_p\\m{B}_q$ can be performed when the matrices are *conformable for addition*: they must have the number of rows i.e., $m=p$, and columns i.e. $n=q$. Then the sum is:\n",
    "\n",
    "$$_m\\m{C}_n=_m\\m{A}_n+_m\\m{B}_n\\tag{12}$$\n",
    "\n",
    "where:\n",
    "\n",
    "$$c_{ij} = a_{ij} +b_{ij}\\text{  }\\forall\\text{  }i,j\\tag{13}$$ \n",
    "\n",
    "For example, given:\n",
    "$$_2\\m{A}_2=\\begin{pmatrix}3 & 1 \\\\1 & 5\\end{pmatrix}\\tag{14}$$\n",
    "\n",
    "$$_2\\m{B}_2=\\begin{pmatrix}2 & 6 \\\\5 & 3\\end{pmatrix}\\tag{15}$$\n",
    "\n",
    "then\n",
    "$$_2\\m{C}_2=_m\\m{A}_n+_m\\m{B}_n=\\begin{pmatrix}3+2 & 1+6 \\\\1+5 & 3+5\\end{pmatrix}=\\begin{pmatrix}5 & 7 \\\\6 & 8\\end{pmatrix}\\tag{16}$$\n",
    "\n",
    "Matrix addition is ***commutative***:\n",
    "\n",
    "$$\\m{A}+\\m{B}=\\m{B}+\\m{A}\\tag{17}$$\n",
    "\n",
    "Matrix addition is ***associative***:\n",
    "\n",
    "$$(\\m{A}+\\m{B})+\\m{C}=\\m{A}+(\\m{B}+\\m{C})\\tag{18}$$\n",
    "\n",
    "\n"
   ]
  },
  {
   "cell_type": "markdown",
   "id": "5733303a",
   "metadata": {},
   "source": [
    "___\n",
    "\n",
    "### 2.2.2 Self Study Exercise 1\n",
    "\n",
    "    a) Create the matrices of (14) and (15) as `numpy` `A` and `B`, make \n",
    "       sure to make the elements floating point values by the addition of a decimal.\n",
    "    b) Print matrices A and B using the `display_matrix()` function \n",
    "       defined in the `display_matrix.py` file found in the `my_code` folder.\n",
    "    c) Calculate matrix C as defined in (16)\n",
    "    d) Demonstrate that addition is commutative using `A`, `B` \n",
    "       and the `numpy.array_equal()` method\n",
    "    d) Demonstrate that addition is associative using `A`, `B`, `C` and the \n",
    "       `numpy.array_equal()` method"
   ]
  },
  {
   "cell_type": "code",
   "execution_count": 137,
   "id": "d91067c9",
   "metadata": {},
   "outputs": [
    {
     "name": "stdout",
     "output_type": "stream",
     "text": [
      "A:\n"
     ]
    },
    {
     "data": {
      "text/latex": [
       "$\\displaystyle \\begin{bmatrix} \n",
       " 3.0000& 1.0000\\\\\n",
       " 1.0000& 5.0000\\\\\n",
       "\\end{bmatrix}$"
      ],
      "text/plain": [
       "<IPython.core.display.Math object>"
      ]
     },
     "metadata": {},
     "output_type": "display_data"
    },
    {
     "name": "stdout",
     "output_type": "stream",
     "text": [
      "B:\n"
     ]
    },
    {
     "data": {
      "text/latex": [
       "$\\displaystyle \\begin{bmatrix} \n",
       " 2.0000& 6.0000\\\\\n",
       " 5.0000& 3.0000\\\\\n",
       "\\end{bmatrix}$"
      ],
      "text/plain": [
       "<IPython.core.display.Math object>"
      ]
     },
     "metadata": {},
     "output_type": "display_data"
    },
    {
     "name": "stdout",
     "output_type": "stream",
     "text": [
      "C = A + B:\n"
     ]
    },
    {
     "data": {
      "text/latex": [
       "$\\displaystyle \\begin{bmatrix} \n",
       " 5.0000& 7.0000\\\\\n",
       " 6.0000& 8.0000\\\\\n",
       "\\end{bmatrix}$"
      ],
      "text/plain": [
       "<IPython.core.display.Math object>"
      ]
     },
     "metadata": {},
     "output_type": "display_data"
    },
    {
     "name": "stdout",
     "output_type": "stream",
     "text": [
      "Addition is commutative\n",
      "Addition is associative\n"
     ]
    }
   ],
   "source": [
    "### 2.2.2 Self Study Exercise 1\n",
    "# Define and print A\n",
    "A = np.asarray([[3,1],[1,5]])\n",
    "print('A:')\n",
    "display_matrix(A)\n",
    "\n",
    "# Define and print B\n",
    "B = np.asarray([[2,6],[5,3]])\n",
    "print('B:')\n",
    "display_matrix(B)\n",
    "\n",
    "# Define and print C\n",
    "C = A+B\n",
    "print('C = A + B:')\n",
    "display_matrix(C)\n",
    "\n",
    "# Demonstrate addition is commutative\n",
    "if np.array_equal(A+B,B+A):\n",
    "    print('Addition is commutative')\n",
    "else:\n",
    "    print('Addition is not commutative')\n",
    "    \n",
    "# Demonstrate addition is associative\n",
    "if np.array_equal(A+(B+C),(A+B)+C):\n",
    "    print('Addition is associative')\n",
    "else:\n",
    "    print('Addition is not associative')"
   ]
  },
  {
   "cell_type": "markdown",
   "id": "9f081318",
   "metadata": {},
   "source": [
    "___\n",
    "\n",
    "### 2.2.3 Basic Matrix Operations: Subtraction\n",
    "\n",
    "The subtraction of two matrices $_m\\m{A}_n$ and $_p\\m{B}_q$ is analogous to the addition. Thus the difference is:\n",
    "\n",
    "$$_m\\m{C}_n=_m\\m{A}_n-_m\\m{B}_n\\tag{19}$$\n",
    "\n",
    "where:\n",
    "\n",
    "$$c_{ij} = a_{ij} -b_{ij}\\text{  }\\forall\\text{  }i,j\\tag{20}$$ \n",
    "\n",
    "For example, given the matrices from $(14)$ and $(15)$:\n",
    "\n",
    "$$_2\\m{C}_2=_m\\m{A}_n-_m\\m{B}_n=\\begin{pmatrix}3-2 & 1-6 \\\\1-5 & 5-3\\end{pmatrix}=\\begin{pmatrix}1 & -5 \\\\-4 & 2\\end{pmatrix}$$\n",
    "\n",
    "Matrix subtraction is commutative:\n",
    "\n",
    "$$\\m{A}-\\m{B}=\\m{B}-\\m{A}$$\n",
    "\n",
    "Matrix subtraction is associative:\n",
    "\n",
    "$$(\\m{A}-\\m{B})+\\m{C}=\\m{A}-(\\m{B}+\\m{C})$$"
   ]
  },
  {
   "cell_type": "markdown",
   "id": "8f2b7ea8",
   "metadata": {},
   "source": [
    "___\n",
    "\n",
    "### 2.2.3 Self Study Exercise 1\n",
    "\n",
    "    a) Create the matrices of (14) and (15) as `numpy` `A` and `B`, make \n",
    "       sure to make the elements floating point values by the addition of a decimal.\n",
    "    b) Print matrices A and B using the `display_matrix()` function \n",
    "       defined in the `display_matrix.py` file found in the `my_code` folder.\n",
    "    c) Calculate matrix C as A-B (16)\n",
    "    d) Demonstrate that subtraction is commutative using `A`, `B` \n",
    "       and the `numpy.array_equal()` method\n",
    "    d) Demonstrate that subtraction is associative using `A`, `B`, `C` and the \n",
    "       `numpy.array_equal()` method"
   ]
  },
  {
   "cell_type": "code",
   "execution_count": 143,
   "id": "b5ab9ceb",
   "metadata": {},
   "outputs": [
    {
     "name": "stdout",
     "output_type": "stream",
     "text": [
      "A:\n"
     ]
    },
    {
     "data": {
      "text/latex": [
       "$\\displaystyle \\begin{bmatrix} \n",
       " 3.0000& 1.0000\\\\\n",
       " 1.0000& 5.0000\\\\\n",
       "\\end{bmatrix}$"
      ],
      "text/plain": [
       "<IPython.core.display.Math object>"
      ]
     },
     "metadata": {},
     "output_type": "display_data"
    },
    {
     "name": "stdout",
     "output_type": "stream",
     "text": [
      "B:\n"
     ]
    },
    {
     "data": {
      "text/latex": [
       "$\\displaystyle \\begin{bmatrix} \n",
       " 2.0000& 6.0000\\\\\n",
       " 5.0000& 3.0000\\\\\n",
       "\\end{bmatrix}$"
      ],
      "text/plain": [
       "<IPython.core.display.Math object>"
      ]
     },
     "metadata": {},
     "output_type": "display_data"
    },
    {
     "name": "stdout",
     "output_type": "stream",
     "text": [
      "C = A - B:\n"
     ]
    },
    {
     "data": {
      "text/latex": [
       "$\\displaystyle \\begin{bmatrix} \n",
       " 1.0000& -5.0000\\\\\n",
       " -4.0000& 2.0000\\\\\n",
       "\\end{bmatrix}$"
      ],
      "text/plain": [
       "<IPython.core.display.Math object>"
      ]
     },
     "metadata": {},
     "output_type": "display_data"
    },
    {
     "name": "stdout",
     "output_type": "stream",
     "text": [
      "Subtraction is not commutative\n",
      "Subtraction is not associative\n"
     ]
    }
   ],
   "source": [
    "### 2.2.3 Self Study Exercise 1\n",
    "# Define and print A\n",
    "A = np.asarray([[3,1],[1,5]])\n",
    "print('A:')\n",
    "display_matrix(A)\n",
    "\n",
    "# Define and print B\n",
    "B = np.asarray([[2,6],[5,3]])\n",
    "print('B:')\n",
    "display_matrix(B)\n",
    "\n",
    "# Define and print C\n",
    "C = A-B\n",
    "print('C = A - B:')\n",
    "display_matrix(C)\n",
    "\n",
    "# Demonstrate addition is commutative\n",
    "if np.array_equal(A-B,B-A):\n",
    "    print('Subtraction is commutative')\n",
    "else:\n",
    "    print('Subtraction is not commutative')\n",
    "    \n",
    "# Demonstrate addition is associative\n",
    "if np.array_equal(A-(B-C),(A-B)-C):\n",
    "    print('Subtraction is associative')\n",
    "else:\n",
    "    print('Subtraction is not associative')"
   ]
  },
  {
   "cell_type": "markdown",
   "id": "2d7a3674",
   "metadata": {},
   "source": [
    "___\n",
    "\n",
    "### 2.2.4 Basic Matrix Operations: Scalar Multiplication\n",
    "\n",
    "The ***scalar multiplication*** of a matrix $_m\\m{A}_n$ ais obtained when the matrix is multiplied by a scalar $k$:\n",
    "\n",
    "$$_m\\m{B}_n = k _m\\m{A}_n\\tag{21}$$\n",
    "\n",
    "where\n",
    "\n",
    "$$b_{ij} = k\\cdot a_{ij}\\text{  }\\forall\\text{  }i,j\\tag{22}$$\n",
    "\n",
    "Scalar multiplication is commutative:\n",
    "\n",
    "$$k\\m{A} = \\m{A}k\\tag{23}$$"
   ]
  },
  {
   "cell_type": "markdown",
   "id": "22c294f5",
   "metadata": {},
   "source": [
    "___\n",
    "\n",
    "### 2.2.4 Self Study Exercise 1\n",
    "\n",
    "    a) Create the matrices of (14) as `numpy` array `A`, make \n",
    "       sure to make the elements floating point values by the addition of a decimal.\n",
    "    b) Print matrix A using the `display_matrix()` function\n",
    "    c) Create scalar `k` and assign it the value 3\n",
    "    c) Calculate matrix B according to (21)\n",
    "    d) Demonstrate that scalar multiplication is commutative using `k`, `A` \n",
    "       and the `numpy.array_equal()` method"
   ]
  },
  {
   "cell_type": "code",
   "execution_count": 154,
   "id": "c4313dcf",
   "metadata": {},
   "outputs": [
    {
     "name": "stdout",
     "output_type": "stream",
     "text": [
      "A:\n"
     ]
    },
    {
     "data": {
      "text/latex": [
       "$\\displaystyle \\begin{bmatrix} \n",
       " 3.0000& 1.0000\\\\\n",
       " 1.0000& 5.0000\\\\\n",
       "\\end{bmatrix}$"
      ],
      "text/plain": [
       "<IPython.core.display.Math object>"
      ]
     },
     "metadata": {},
     "output_type": "display_data"
    },
    {
     "name": "stdout",
     "output_type": "stream",
     "text": [
      "k:3\n",
      "Scalar multiplication is commutative\n"
     ]
    }
   ],
   "source": [
    "### 2.2.4 Self Study Exercise 1\n",
    "# Define and print A\n",
    "A = np.asarray([[3,1],[1,5]])\n",
    "print('A:')\n",
    "display_matrix(A)\n",
    "\n",
    "# Define and print k\n",
    "k = 3\n",
    "print('k:' + str(k))\n",
    "\n",
    "# Demonstrate addition is commutative\n",
    "if np.array_equal(k*A,A*k):\n",
    "    print('Scalar multiplication is commutative')\n",
    "else:\n",
    "    print('Scalar multiplication is not commutative')\n",
    "    "
   ]
  },
  {
   "cell_type": "markdown",
   "id": "16cd4645",
   "metadata": {},
   "source": [
    "___\n",
    "\n",
    "### 2.2.4 Basic Matrix Operations: Multiplication\n",
    "\n",
    "The multiplication of two matrices $_m\\m{A}_n$ and $_p\\m{B}_q$ can be performed only when the matrices are *conformable for multiplication*,  which is when the number of columns of $_m\\m{A}_n$ matches the number of rows $_m\\m{B}_n$ i.e, $n=p$. \n",
    "\n",
    "$$_m\\m{C}_q = _m\\m{A}_n\\cdot_p\\m{B}_q\\tag{24}$$\n",
    "\n",
    "where:\n",
    "\n",
    "$$c_{ij} = \\sum_{k=1}^{n}a_{ik}b_{k,j}\\forall\\text{  }i,j\\tag{25}$$\n",
    "\n",
    "that is, $c_{ij}$ is the sum of the products of the elements in the $i$-th row of $\\m{A}$ and $j$-th column of $\\m{B}$, taken term by term. For example, given:\n",
    "\n",
    "$$_2\\m{A}_3 = \\begin{pmatrix}3 & 1 & 4 \\\\1 & 5 & 9\\end{pmatrix}\\tag{26}$$\n",
    "\n",
    "$$_3\\m{B}_1 = \\begin{pmatrix}2 \\\\6\\\\5\\end{pmatrix}\\tag{27}$$\n",
    "\n",
    "$$_2\\m{C}_1 = \\begin{pmatrix}3*2+1*6+4*5\\\\1*2+5*6+9*5\\end{pmatrix}=\\begin{pmatrix}32\\\\77\\end{pmatrix}\\tag{28}$$\n",
    "\n",
    "\n",
    "In `numpy` matrix multiplication has it's own operator: `@`, the `*` operator may also be used, but results in element-wise multiplication."
   ]
  },
  {
   "cell_type": "markdown",
   "id": "318a1085",
   "metadata": {},
   "source": [
    "___\n",
    "\n",
    "### 2.2.4 Self Study Exercise 2\n",
    "\n",
    "    a) Create the matrices of (26) and (27) as `numpy` arrays `A` and `B` make \n",
    "       sure to make the elements floating point values.\n",
    "    b) Calculate `C` as the product of `A` and `B`\n",
    "    c) Display C using the `display_matrix()` function\n",
    "    d) Does the result comply with (28)?"
   ]
  },
  {
   "cell_type": "code",
   "execution_count": 155,
   "id": "8ff4347a",
   "metadata": {},
   "outputs": [
    {
     "name": "stdout",
     "output_type": "stream",
     "text": [
      "A:\n"
     ]
    },
    {
     "data": {
      "text/latex": [
       "$\\displaystyle \\begin{bmatrix} \n",
       " 3.0000& 1.0000& 4.0000\\\\\n",
       " 1.0000& 5.0000& 9.0000\\\\\n",
       "\\end{bmatrix}$"
      ],
      "text/plain": [
       "<IPython.core.display.Math object>"
      ]
     },
     "metadata": {},
     "output_type": "display_data"
    },
    {
     "name": "stdout",
     "output_type": "stream",
     "text": [
      "B:\n"
     ]
    },
    {
     "data": {
      "text/latex": [
       "$\\displaystyle \\begin{bmatrix} \n",
       " 2.0000 \\\\ 6.0000 \\\\ 5.0000 \\\\\\end{bmatrix}$"
      ],
      "text/plain": [
       "<IPython.core.display.Math object>"
      ]
     },
     "metadata": {},
     "output_type": "display_data"
    },
    {
     "name": "stdout",
     "output_type": "stream",
     "text": [
      "C:\n"
     ]
    },
    {
     "data": {
      "text/latex": [
       "$\\displaystyle \\begin{bmatrix} \n",
       " 32.0000 \\\\ 77.0000 \\\\\\end{bmatrix}$"
      ],
      "text/plain": [
       "<IPython.core.display.Math object>"
      ]
     },
     "metadata": {},
     "output_type": "display_data"
    }
   ],
   "source": [
    "### 2.2.4 Self Study Exercise 2\n",
    "# Define and print A\n",
    "A = np.asarray([[3,1,4],[1,5,9]])\n",
    "print('A:')\n",
    "display_matrix(A)\n",
    "# Define and print B\n",
    "B = np.asarray([[2],[6],[5]])\n",
    "print('B:')\n",
    "display_matrix(B)\n",
    "\n",
    "#Calculate `C` as the product of `A` and `B` (You should use the @ operator)\n",
    "C = A@B\n",
    "print('C:')\n",
    "display_matrix(C)\n",
    "\n",
    "q_2_2_4_2 = 'The result ...'"
   ]
  },
  {
   "cell_type": "markdown",
   "id": "6984e003",
   "metadata": {},
   "source": [
    "___\n",
    "Matrix multiplications have the following properties:\n",
    "\n",
    "$\\begin{array}\n",
    "(\\m{A} (\\m{B}+\\m{C}) = \\m{A}\\m{B}+\\m{A}\\m{C} & \\text{distributive}\\\\\n",
    "(\\m{A}+\\m{B})\\m{C}=\\m{A}\\m{C}+\\m{B}\\m{C} & \\text{distributive}\\\\\n",
    "\\m{A}(\\m{B}\\m{C})=(\\m{A}\\m{B})\\m{C} & \\text{associative} \\\\\n",
    "\\m{A}\\m{B}\\neq\\m{B}\\m{A} & \\text{not generally commutative}\\\\\n",
    "\\m{A}\\m{B}=\\m{A}\\m{C} & \\text{does NOT imply }\\m{B}=\\m{C}\\\\\n",
    "\\m{A}\\m{B}=\\m{0} & \\text{does NOT imply }\\m{A}=\\m{0}\\text{ or }\\m{B}=\\m{0}\n",
    "\\end{array}\\tag{29}$\n",
    "\n",
    "Products $\\m{A}\\m{B}$ and $\\m{B}\\m{A}$ will both exist only if $\\m{A}$ and $\\m{B}$ are double conformable. For example $_n\\m{A}_m$ and $_m\\m{A}_n$ are doubly conformable (the number of rows of in one equals the number of columns in the other). Square matrices of the same size are double conformable. However, even should $\\m{A}\\m{B}$ and $\\m{B}\\m{A}$ both exist in general:\n",
    "\n",
    "$$\\m{A}\\m{B}\\neq\\m{B}\\m{A}\\tag{30}$$\n",
    "\n",
    "For example, given:\n",
    "\n",
    "$$_2\\m{A}_2 = \\begin{pmatrix} 1 & 2\\\\3 & 4\\end{pmatrix}\\tag{31}$$\n",
    "\n",
    "$$_2\\m{B}_2 = \\begin{pmatrix} 5 & 6\\\\7 & 8\\end{pmatrix}\\tag{32}$$\n",
    "\n",
    "then:\n",
    "\n",
    "$$\\m{AB} = \\begin{pmatrix} 19 & 22\\\\43 & 50\\end{pmatrix}\\tag{33}$$\n",
    "\n",
    "$$\\m{BA} = \\begin{pmatrix} 23 & 34\\\\31 & 46\\end{pmatrix}\\tag{34}$$\n"
   ]
  },
  {
   "cell_type": "markdown",
   "id": "b11de71e",
   "metadata": {},
   "source": [
    "___\n",
    "\n",
    "### 2.2.4 Self Study Exercise 3\n",
    "\n",
    "    a) Create and display the matrices of (31) and (32) as `numpy` \n",
    "       arrays `A` and `B`, make the elements floating point values.\n",
    "    b) Display the product AB\n",
    "    c) Display the product BA"
   ]
  },
  {
   "cell_type": "code",
   "execution_count": 156,
   "id": "f600d777",
   "metadata": {},
   "outputs": [
    {
     "name": "stdout",
     "output_type": "stream",
     "text": [
      "A:\n"
     ]
    },
    {
     "data": {
      "text/latex": [
       "$\\displaystyle \\begin{bmatrix} \n",
       " 1.0000& 2.0000\\\\\n",
       " 3.0000& 4.0000\\\\\n",
       "\\end{bmatrix}$"
      ],
      "text/plain": [
       "<IPython.core.display.Math object>"
      ]
     },
     "metadata": {},
     "output_type": "display_data"
    },
    {
     "name": "stdout",
     "output_type": "stream",
     "text": [
      "B:\n"
     ]
    },
    {
     "data": {
      "text/latex": [
       "$\\displaystyle \\begin{bmatrix} \n",
       " 5.0000& 6.0000\\\\\n",
       " 7.0000& 8.0000\\\\\n",
       "\\end{bmatrix}$"
      ],
      "text/plain": [
       "<IPython.core.display.Math object>"
      ]
     },
     "metadata": {},
     "output_type": "display_data"
    },
    {
     "name": "stdout",
     "output_type": "stream",
     "text": [
      "AB:\n"
     ]
    },
    {
     "data": {
      "text/latex": [
       "$\\displaystyle \\begin{bmatrix} \n",
       " 19.0000& 22.0000\\\\\n",
       " 43.0000& 50.0000\\\\\n",
       "\\end{bmatrix}$"
      ],
      "text/plain": [
       "<IPython.core.display.Math object>"
      ]
     },
     "metadata": {},
     "output_type": "display_data"
    },
    {
     "name": "stdout",
     "output_type": "stream",
     "text": [
      "BA:\n"
     ]
    },
    {
     "data": {
      "text/latex": [
       "$\\displaystyle \\begin{bmatrix} \n",
       " 23.0000& 34.0000\\\\\n",
       " 31.0000& 46.0000\\\\\n",
       "\\end{bmatrix}$"
      ],
      "text/plain": [
       "<IPython.core.display.Math object>"
      ]
     },
     "metadata": {},
     "output_type": "display_data"
    }
   ],
   "source": [
    "### 2.2.4 Self Study Exercise 3\n",
    "# Define and print A\n",
    "A = np.asarray([[1,2],[3,4]])\n",
    "print('A:')\n",
    "display_matrix(A)\n",
    "# Define and print B\n",
    "B = np.asarray([[5,6],[7,8]])\n",
    "print('B:')\n",
    "display_matrix(B)\n",
    "\n",
    "#Display the product AB\n",
    "print('AB:')\n",
    "display_matrix(A@B)\n",
    "\n",
    "#Display the product BA\n",
    "print('BA:')\n",
    "display_matrix(B@A)"
   ]
  },
  {
   "cell_type": "markdown",
   "id": "11f61a84",
   "metadata": {},
   "source": [
    "___\n",
    "in the special case of two square matrices $\\m{A},\\m{B}$ such that:\n",
    "\n",
    "$$\\m{A}\\m{B}=\\m{B}\\m{A}\\tag{35}$$\n",
    "\n",
    "the matrices are called ***commutative matrices***. Every square matrix is commutative with itself and with the identity matrix. Diagonal matrices of the same shape are also commutative. Other examples exist:\n",
    "\n",
    "$$_2\\m{A}_2 = \\begin{pmatrix} 4 & -2\\\\6 & 2\\end{pmatrix}\\tag{36}$$\n",
    "\n",
    "$$_2\\m{B}_2 = \\begin{pmatrix} 3 & -1\\\\3 & 2\\end{pmatrix}\\tag{37}$$\n",
    "\n",
    "for which:\n",
    "\n",
    "$$\\m{AB}=\\m{BA}=\\begin{pmatrix} 6 & -8\\\\24 & -2\\end{pmatrix}\\tag{38}$$ "
   ]
  },
  {
   "cell_type": "markdown",
   "id": "8ce63e1f",
   "metadata": {},
   "source": [
    "___\n",
    "\n",
    "### 2.2.4 Self Study Exercise 4\n",
    "\n",
    "    a) Create and display the matrices of (36) and (37) as `numpy` \n",
    "       arrays `A` and `B`, make the elements floating point values.\n",
    "    b) Display the product AB\n",
    "    c) Display the product BA"
   ]
  },
  {
   "cell_type": "code",
   "execution_count": 160,
   "id": "eb604772",
   "metadata": {},
   "outputs": [
    {
     "name": "stdout",
     "output_type": "stream",
     "text": [
      "A:\n"
     ]
    },
    {
     "data": {
      "text/latex": [
       "$\\displaystyle \\begin{bmatrix} \n",
       " 4.0000& -2.0000\\\\\n",
       " 6.0000& 2.0000\\\\\n",
       "\\end{bmatrix}$"
      ],
      "text/plain": [
       "<IPython.core.display.Math object>"
      ]
     },
     "metadata": {},
     "output_type": "display_data"
    },
    {
     "name": "stdout",
     "output_type": "stream",
     "text": [
      "B:\n"
     ]
    },
    {
     "data": {
      "text/latex": [
       "$\\displaystyle \\begin{bmatrix} \n",
       " 3.0000& -1.0000\\\\\n",
       " 3.0000& 2.0000\\\\\n",
       "\\end{bmatrix}$"
      ],
      "text/plain": [
       "<IPython.core.display.Math object>"
      ]
     },
     "metadata": {},
     "output_type": "display_data"
    },
    {
     "name": "stdout",
     "output_type": "stream",
     "text": [
      "AB:\n"
     ]
    },
    {
     "data": {
      "text/latex": [
       "$\\displaystyle \\begin{bmatrix} \n",
       " 6.0000& -8.0000\\\\\n",
       " 24.0000& -2.0000\\\\\n",
       "\\end{bmatrix}$"
      ],
      "text/plain": [
       "<IPython.core.display.Math object>"
      ]
     },
     "metadata": {},
     "output_type": "display_data"
    },
    {
     "name": "stdout",
     "output_type": "stream",
     "text": [
      "BA:\n"
     ]
    },
    {
     "data": {
      "text/latex": [
       "$\\displaystyle \\begin{bmatrix} \n",
       " 6.0000& -8.0000\\\\\n",
       " 24.0000& -2.0000\\\\\n",
       "\\end{bmatrix}$"
      ],
      "text/plain": [
       "<IPython.core.display.Math object>"
      ]
     },
     "metadata": {},
     "output_type": "display_data"
    }
   ],
   "source": [
    "### 2.2.4 Self Study Exercise 4\n",
    "# Define and print A\n",
    "A = np.asarray([[4,-2],[6,2]])\n",
    "print('A:')\n",
    "display_matrix(A)\n",
    "# Define and print B\n",
    "B = np.asarray([[3,-1],[3,2]])\n",
    "print('B:')\n",
    "display_matrix(B)\n",
    "\n",
    "#Display the product AB\n",
    "print('AB:')\n",
    "display_matrix(A@B)\n",
    "\n",
    "#Display the product BA\n",
    "print('BA:')\n",
    "display_matrix(B@A)"
   ]
  },
  {
   "cell_type": "markdown",
   "id": "31b61e22",
   "metadata": {},
   "source": [
    "___\n",
    "\n",
    "### 2.2.5 Basic Matrix Operations: Transposition\n",
    "\n",
    "When in a matrix $\\m{A}$ the rows and columns are interchanged, we obtain the ***transpose matrix*** denoted by $\\m{A}^T$ or $\\m{A}'$. For example, if we say $\\m{B}=\\m{A}^T then for:\n",
    "\n",
    "$$_2\\m{A}_3 = \\begin{pmatrix}1&7&-2\\\\4&3&5\\end{pmatrix}\\tag{39}$$\n",
    "\n",
    "$$_3\\m{B}_2 = \\m{A}^T = \\begin{pmatrix}1&4\\\\7&3\\\\-2&5\\end{pmatrix}\\tag{40}$$\n",
    "\n",
    "where:\n",
    "\n",
    "$$ b_{ij} = a_{ji}\\forall\\text{  }i,j\\tag{41}$$\n",
    "\n",
    "`Numpy` provides the transpose of an array through the attribute `T` i.e., the transpose of `A` is `A.T`."
   ]
  },
  {
   "cell_type": "markdown",
   "id": "90a777d7",
   "metadata": {},
   "source": [
    "___\n",
    "\n",
    "### 2.2.5 Self Study Exercise 1\n",
    "\n",
    "    a) Create and display the matrix `A` of (39)\n",
    "    b) Assign `B` the value of the transpose of `A`\n",
    "    c) display `B`\n"
   ]
  },
  {
   "cell_type": "code",
   "execution_count": 163,
   "id": "00b757d4",
   "metadata": {},
   "outputs": [
    {
     "name": "stdout",
     "output_type": "stream",
     "text": [
      "A:\n"
     ]
    },
    {
     "data": {
      "text/latex": [
       "$\\displaystyle \\begin{bmatrix} \n",
       " 1.0000& 7.0000& -2.0000\\\\\n",
       " 4.0000& 3.0000& 5.0000\\\\\n",
       "\\end{bmatrix}$"
      ],
      "text/plain": [
       "<IPython.core.display.Math object>"
      ]
     },
     "metadata": {},
     "output_type": "display_data"
    },
    {
     "name": "stdout",
     "output_type": "stream",
     "text": [
      "B:\n"
     ]
    },
    {
     "data": {
      "text/latex": [
       "$\\displaystyle \\begin{bmatrix} \n",
       " 1.0000& 4.0000\\\\\n",
       " 7.0000& 3.0000\\\\\n",
       " -2.0000& 5.0000\\\\\n",
       "\\end{bmatrix}$"
      ],
      "text/plain": [
       "<IPython.core.display.Math object>"
      ]
     },
     "metadata": {},
     "output_type": "display_data"
    }
   ],
   "source": [
    "### 2.2.5 Self Study Exercise 1\n",
    "# Define and print A\n",
    "A = np.asarray([[1,7,-2],[4,3,5]])\n",
    "print('A:')\n",
    "display_matrix(A)\n",
    "\n",
    "#DAssign `B` the value of the transpose of `A`\n",
    "B = A.T\n",
    "\n",
    "#Display B\n",
    "print('B:')\n",
    "display_matrix(B)"
   ]
  },
  {
   "cell_type": "markdown",
   "id": "ea33f256",
   "metadata": {},
   "source": [
    "___\n",
    "Transposition has the following properties:\n",
    "\n",
    "$$(\\m{A}^T)^T = \\m{A}\\tag{42}$$\n",
    "\n",
    "$$(\\m{A}+\\m{B})^T = \\m{A}^T+\\m{B}^T\\tag{43}$$\n",
    "\n",
    "$$(\\m{A}\\m{B})^T = \\m{B}^T+\\m{A}^T\\tag{note the reverse order) (44}$$\n",
    "\n",
    "$$(k\\m{A})^T = k\\m{A}^T\\tag{45}$$\n",
    "\n",
    "A square symmetric matrix $\\m{A}$ and its transpose $\\m{A}^T$ are equal ($\\m{A} = \\m{A}^T$), since for symmetric matrices $ a_{ij} = a_{ji}\\forall\\text{  }i,j$. For any square matrix $\\m{A}$, $(\\m{A}+\\m{A}^T)$ and $\\m{A}\\m{A}^T$ will be symmetric.\n",
    "\n",
    "For a square matrix $\\m{A}$ the sum of the elements along the main diagonal is called the ***trace*** of $\\m{A}$ and is denoted by $\\text{tr}(\\m{A})$:\n",
    "\n",
    "$$\\text{tr}(_n\\m{A}_n) = \\sum_{i=1}^{n}a_{ii}\\tag{46}$$\n",
    "\n",
    "For example, given the matrix:\n",
    "\n",
    "$$_3\\m{A}_3 = \\begin{pmatrix}1&2&3\\\\4&5&6\\\\7&8&9\\end{pmatrix}\\tag{47}$$\n",
    "\n",
    "its trace is \n",
    "\n",
    "$$\\text{tr}(\\m{A})=1+5+9 = 15\\tag{48}$$\n",
    "\n",
    "`numpy` allows you to determine the trace value through the `trace()` method e.g., the trace of `A` is found by `A.trace()`"
   ]
  },
  {
   "cell_type": "markdown",
   "id": "79dda18a",
   "metadata": {},
   "source": [
    "___\n",
    "\n",
    "### 2.2.5 Self Study Exercise 2\n",
    "\n",
    "    a) Create and display the matrix `A` of (47)\n",
    "    b) Determine and display the trace value of `A` \n"
   ]
  },
  {
   "cell_type": "code",
   "execution_count": 168,
   "id": "d03ce7f6",
   "metadata": {},
   "outputs": [
    {
     "name": "stdout",
     "output_type": "stream",
     "text": [
      "A:\n"
     ]
    },
    {
     "data": {
      "text/latex": [
       "$\\displaystyle \\begin{bmatrix} \n",
       " 1.0000& 2.0000& 3.0000\\\\\n",
       " 4.0000& 5.0000& 6.0000\\\\\n",
       " 7.0000& 8.0000& 9.0000\\\\\n",
       "\\end{bmatrix}$"
      ],
      "text/plain": [
       "<IPython.core.display.Math object>"
      ]
     },
     "metadata": {},
     "output_type": "display_data"
    },
    {
     "name": "stdout",
     "output_type": "stream",
     "text": [
      "the trace of A is: 15\n"
     ]
    }
   ],
   "source": [
    "### 2.2.5 Self Study Exercise 2\n",
    "# Define and print A\n",
    "A = np.asarray([[1,2,3],[4,5,6],[7,8,9]])\n",
    "print('A:')\n",
    "display_matrix(A)\n",
    "\n",
    "# Determine and display the trace value of `A` \n",
    "print('the trace of A is: ' + str(A.trace()))"
   ]
  },
  {
   "cell_type": "markdown",
   "id": "0625a631",
   "metadata": {},
   "source": [
    "___\n",
    "The trace of a matrix has the following properties:\n",
    "\n",
    "$$\\text{tr}(\\m{A}) = \\text{tr}(\\m{A}^T)\\tag{49}$$\n",
    "\n",
    "$$\\text{tr}(k\\m{A}) = k\\cdot\\text{tr}(\\m{A})\\tag{50}$$\n",
    "\n",
    "$$\\text{tr}(\\m{A}+\\m{B}) = \\text{tr}(\\m{A})+\\text{tr}(\\m{B})\\tag{51}$$\n",
    "\n",
    "$$\\text{tr}(\\m{A}\\m{B}) = \\text{tr}(\\m{B}\\m{A})\\tag{52}$$\n"
   ]
  },
  {
   "cell_type": "markdown",
   "id": "8e889c74",
   "metadata": {},
   "source": [
    "___\n",
    "\n",
    "## 2.3 Inverse of a Matrix \n",
    "\n",
    "The matrix operation which is closest to the scalar operation of division is ***inversion***. The inverse of a matrix $\\m{A}$ is denoted $\\m{A}^{-1}$ and satisfies the relations:\n",
    "\n",
    "$$\\m{A}\\m{A}^{-1} = \\m{A}^{-1}\\m{A}=\\m{I}\\tag{53}$$\n",
    "\n",
    "Inverses only exist in special circumstances. To enable us to describe when they exist the *determinant* and *rank* of a matrix are first defined. The practical problem of computing an inverse is then mentioned briefly. Manual computation quickly becomes a cumbersome and complex task, a good reason to use the Python `numpy` implementation to save a lot of work!\n",
    "\n",
    "The determinant of a square matrix $\\m{A}$ of dimension $n$ is a scalar denoted $\\text{det}(\\m{A})$ or $|\\m{A}|$. the determinant is defined by the relation:\n",
    "\n",
    "$$|\\m{A}|=\\sum\\pm a_{1i}\\:a_{2l}\\dots a_{nk}\\tag{54}$$\n",
    "\n",
    "First we need to understand permutations, say that we have $n$ elements then there may $n!$ ways of ordering these elements. For example if we have 3 elements then there are 6 permutations\n",
    "\n",
    "$$S ={1,2,3}\\tag{55}$$\n",
    "\n",
    "There are then the 6 permutations:\n",
    "\n",
    "$$\\begin{array}( (1,2,3)\\\\(1,3,2)\\\\(2,1,3)\\\\(2,3,1)\\\\(3,1,2)\\\\(3,2,1)\\end{array}\\tag{56}$$\n",
    "\n",
    "The **identity permutation** $e_n$ keeps the $n$ elements in order\"\n",
    "\n",
    "$$e_3 = (1,2,3)\\tag{57}$$\n",
    "\n",
    "A transposition of two elements is then the permutation that switches the elements e.g. $(1,3,2)$ switches the elements $2$ and $3$. The parity of transpositions it takes to get to the identify permutation is independent of how the transpositions are done.\n",
    "\n",
    "$$ (1,3,4,2)\\rightarrow(1,3,2,4)\\rightarrow(1,2,3,4)\\tag{even number of transpositions)  (58}$$\n",
    "$$ (4,1,2,3)\\rightarrow(3,1,2,4)\\rightarrow(2,1,3,4)\\rightarrow(1,2,3,4)\\tag{odd number of transpositions)  (59}$$\n",
    "\n",
    "A permutation is considered even when the number of transpositions to get to the identify permutation is even, and odd when the number of transpositions is odd.\n",
    "\n",
    "In equation (54) $i,j\\dots k$ are permutations of integers $1,2\\dots n$. The summation includes all $n!$ permutations. Individual terms obtain the positive sign if the permutation is even and the negative sign if the number permutation is odd.\n",
    "\n",
    "If the determinant of a square matrix is equal to zero ($|\\m{A}|=0$) the matrix is said to be **singular**. Those square matrices whose determinants differ from zero ($|\\m{A}|\\neq0$) are known as **nonsingular** matrices. Determinants have the properties:\n",
    "\n",
    "$$|\\m{A}^T|=|\\m{A}|\\tag{60}$$\n",
    "\n",
    "$$|\\m{A}\\m{B}|=|\\m{A}|\\cdot|\\m{B}|\\tag{61}$$\n",
    "\n",
    "The determinant of:\n",
    "\n",
    "$$_3\\m{A}_3=\\begin{pmatrix}a_{11}&a_{12}&a_{13}\\\\a_{21}&a_{22}&a_{23}\\\\a_{31}&a_{32}&a_{33}\\end{pmatrix}\\tag{62}$$\n",
    "\n",
    "$$|\\m{A}|=\\begin{array}+ +a_{11}a_{22}a_{33}\\\\\n",
    "                         -a_{11}a_{23}a_{32}\\\\\n",
    "                         -a_{12}a_{21}a_{33}\\\\\n",
    "                         +a_{12}a_{23}a_{31}\\\\\n",
    "                         +a_{13}a_{21}a_{32}\\\\\n",
    "                         -a_{13}a_{22}a_{31}\\end{array}\\tag{63}$$"
   ]
  },
  {
   "cell_type": "code",
   "execution_count": null,
   "id": "f3267fa3",
   "metadata": {},
   "outputs": [],
   "source": []
  }
 ],
 "metadata": {
  "kernelspec": {
   "display_name": "Python 3 (ipykernel)",
   "language": "python",
   "name": "python3"
  },
  "language_info": {
   "codemirror_mode": {
    "name": "ipython",
    "version": 3
   },
   "file_extension": ".py",
   "mimetype": "text/x-python",
   "name": "python",
   "nbconvert_exporter": "python",
   "pygments_lexer": "ipython3",
   "version": "3.9.7"
  }
 },
 "nbformat": 4,
 "nbformat_minor": 5
}
