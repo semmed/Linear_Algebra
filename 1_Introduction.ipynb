{
 "cells": [
  {
   "cell_type": "markdown",
   "id": "7a3a8365",
   "metadata": {},
   "source": [
    "<img align=\"left\" width=\"32%\" style=\"padding-right:10px;\" src=\"Images/epom.png\">\n",
    "\n",
    "\n",
    "___\n",
    "# Review of Linear Algebra\n",
    "## 1 Introduction\n",
    "\n",
    "Jupyter Notebook Implementation: *Semme J. Dijkstra, 2022*\n",
    "\n",
    "Original Linear Algebra text and in text examples: <br>*David E. Wells, Kresho Frankich, 1994*\n",
    "___\n",
    "\n",
    "<a href=\"https://teams.microsoft.com/l/team/19%3auL2OnH3RSfCWwU2Fd3VYGLT_03BYOfA3KB_OBp10CIY1%40thread.tacv2/conversations?groupId=5c11a428-14b6-429d-b7f5-a61ebc0a440b&tenantId=d6241893-512d-46dc-8d2b-be47e25f5666\"><img src=\"Images/help.png\"  title=\"Ask questions on Teams\" align=\"right\" width=\"10%\" alt=\"Teams.com\\\"></a> \n",
    "\n",
    "Minor additional notes and edits: *Semme J. Dijkstra, 2022*<br>\n",
    "Additional examples: *Semme J. Dijkstra, 2022*<br>\n",
    "Python code and explanations: *Semme J. Dijkstra, 2022*\n",
    "___"
   ]
  },
  {
   "cell_type": "code",
   "execution_count": 2,
   "id": "9529f640",
   "metadata": {},
   "outputs": [],
   "source": [
    "import matplotlib.pyplot as plt\n",
    "import numpy as np\n",
    "from numpy import pi, sin, cos\n",
    "from IPython.display import display, Math, Markdown, Latex\n",
    "from my_code.latex_output import display_matrix\n",
    "from my_code.my_boat import my_boat\n",
    "# %matplotlib notebook # Can be useful when wanting to manipulate plots\n",
    "%load_ext autoreload\n",
    "%autoreload 2"
   ]
  },
  {
   "cell_type": "markdown",
   "id": "1e230edf",
   "metadata": {},
   "source": [
    "___\n",
    "<img align=\"left\" width=\"6%\" style=\"padding-right:10px;\" src=\"./Images/info.png\">\n",
    "\n",
    "# LaTeX<br>\n",
    "\n",
    "This is a [Jupyter](https://jupyter.org/) notebook in which heavy use of [LaTeX](https://www.latex-project.org/) is made. LaTeX is \"a high-quality typesetting system; it includes features designed for the production of technical and scientific documentation. LaTeX is the de facto standard for the communication and publication of scientific documents. “according to [the LaTeX project](https://www.latex-project.org/).\n",
    "\n",
    "LaTeX allows the creation of macros and other type-setting methods of convenience. This Markdown cell you are reading is used for the definition of new LaTeX operators and commands, but they are hidden from view. If you are interested: double-click on this cell to enter its edit mode and you will be able to see how they are implemented.\n",
    "\n",
    "\n",
    "<div hidden>\n",
    "$\\usepackage{amsmath,amssymb}$\n",
    "\n",
    "$\\DeclareRobustCommand{\\bbone}{\\text{\\usefont{U}{bbold}{m}{n}1}}$\n",
    "\n",
    "$\\DeclareMathOperator{\\EX}{\\mathbb{E}}% expected value$\n",
    "\n",
    "$\\DeclareMathOperator{\\res}{\\vec{r}}$\n",
    "\n",
    "$\\DeclareMathOperator{\\mf}{\\mu_{1}\\sigma_{2}^{2}+\\mu_{2}\\sigma_{1}^{2}\\over{\\sigma_{1}^{2} + \\sigma_{2}^{2}}}$\n",
    "    \n",
    "$\\DeclareMathOperator{\\sf}{{\\sigma_{1}^{2}\\sigma_{2}^{2}}\\over{\\sigma_{1}^{2}+\\sigma_{2}^{2}}}$\n",
    "    \n",
    "$\\newcommand{\\ex}[1]{\\mathbb{E}\\{#1\\}}$\n",
    "    \n",
    "$\\newcommand{\\dev}[1]{\\mathbb{E}\\{#1^o_i - \\mathbb{E}\\{#1\\}\\}}$\n",
    "    \n",
    "$\\newcommand{\\cov}[1]{\\mathbb{E}\\{(#1^o_i - \\mathbb{E}\\{#1\\})(#1 - \\mathbb{E}\\{#1\\})^T\\}}$\n",
    "    \n",
    "$\\newcommand{\\m}[1]{\\mathbf{#1}}$\n",
    "    \n",
    "$\\newcommand{\\col}[2]{\\begin{pmatrix}#1 \\\\ #2 \\end{pmatrix}}$\n",
    "</div>"
   ]
  },
  {
   "cell_type": "markdown",
   "id": "2bdb5377",
   "metadata": {},
   "source": [
    "___\n",
    "## 1. Introduction\n",
    "\n",
    "Linear algebra is a recently developed branch of mathematics. Although some of its concepts are much older, modern linear algebra originated in the nineteenth century. Its key tool, the matrix, dates to 1850. Arthur Cayley's development of matrix multiplication and inversion a few years later, coupled with WR Hamilton's work on vector spaces, laid the foundations.\n",
    "\n",
    "Linear algebra deals with problems that can be formulated in terms of linear equations. A linear equation in two or more variables contains no products between the variables, or powers of the variables beyond the first power. The term *linear* comes from the fact that the graph of a linear equation in two variables $x, y$ is a straight *line* in the $xy$ plane. This is one example of the strong connection between *geometry* and linear algebra.\n",
    "\n"
   ]
  },
  {
   "cell_type": "markdown",
   "id": "ab143e75",
   "metadata": {},
   "source": [
    "___\n",
    "### 1. Self Study Exercise 1\n",
    "\n",
    "Give a sample of a linear equation in $x,y$ using the variables `x` and `y` and plot its graph to confirm that it is a straight line. \n",
    "\n",
    "We will make use of **numpy arrays** for all representations of linear arrays. The variable x should be defined as: \n",
    "\n",
    "    x = numpy.linspace(start, stop, num=50)\n",
    "    \n",
    "The result of the above statement is an array of 50 evenly spaced samples calculated over the interval $[start, stop]$ assigned to the variable $x$. Feel free to define your own start and stop values.\n",
    "\n",
    "\n",
    "1. Formulate the linear equation in the form $ax+by = c$ by choosing values for $a,b$ and $c$. \n",
    "2. Define a range for $x$ values by setting values for `x_start` and `x_stop` \n",
    "3. Create an array $x$ of 50  of values in the range defined in 2.\n",
    "4. Solve $y$ for all elements `x` and assign the resulting array to `y`.\n",
    "\n",
    "The last bit of code will create a figure and plot x vs. y."
   ]
  },
  {
   "cell_type": "code",
   "execution_count": 3,
   "id": "aff9b391",
   "metadata": {},
   "outputs": [
    {
     "data": {
      "image/png": "[encoded data removed]",
      "text/plain": [
       "<Figure size 288x288 with 1 Axes>"
      ]
     },
     "metadata": {
      "needs_background": "light"
     },
     "output_type": "display_data"
    }
   ],
   "source": [
    "# 1. Self Study Exercise 1\n",
    "\n",
    "# 1. Formulate the linear equation\n",
    "a = 3\n",
    "b = 4\n",
    "c = 20\n",
    "\n",
    "\n",
    "# 2. Define a range for x values\n",
    "x_start = 0\n",
    "x_stop = 10\n",
    "\n",
    "# 3. Create an array `x`\n",
    "x = np.linspace(x_start, x_stop, num=50)\n",
    "\n",
    "# 4. Solve $y$ for all elements `x`\n",
    "y = (c - a*x)/b\n",
    "\n",
    "# Plot the results\n",
    "plt.figure(figsize=(4, 4))\n",
    "plt.axis('equal')\n",
    "plt.plot(x, y)\n",
    "plt.show()"
   ]
  },
  {
   "cell_type": "markdown",
   "id": "8f4f6c07",
   "metadata": {},
   "source": [
    "___\n",
    "Worked Example:\n",
    "\n",
    "<img align=\"left\" width=\"30%\" style=\"padding-left:100px;padding-right:10px\" src=\"Images/sse1_1.png\">"
   ]
  },
  {
   "cell_type": "markdown",
   "id": "26bba0ba",
   "metadata": {},
   "source": [
    "___\n",
    "### 1. Self Study Exercise 2\n",
    "\n",
    "Describe what you think linearly means geometrically when we are dealing with linear equations with more than two variables.\n",
    "\n",
    "1. Assign the answer as a string to variable `q_1_2`"
   ]
  },
  {
   "cell_type": "code",
   "execution_count": 4,
   "id": "612e6075",
   "metadata": {},
   "outputs": [],
   "source": [
    "# 1. Self Study Exercise 2\n",
    "\n",
    "q_1_2 = 'When we are dealing with linear equations with more than two variables '\n",
    "q_1_2 += 'I think linearly means geometrically that If there are n variables '\n",
    "q_1_2 += 'then an n-dimensional space is defined and an n-parameter linear '\n",
    "q_1_2 += 'equation is represented by a straight line in n-dimensional space'"
   ]
  },
  {
   "cell_type": "markdown",
   "id": "e262874e",
   "metadata": {},
   "source": [
    "___\n",
    "\n",
    "As we shall see in more detail below, we can write a system of linear equations in matrix notation as:\n",
    "\n",
    "$$\\m{Ax} = \\m{y}\\tag{1}$$\n",
    "\n",
    "Where $\\m{A}$ is a matrix and $\\m{x},\\m{y}$ are vectors. \n",
    "\n",
    "The three types of problems in linear algebra are:\n",
    "\n",
    "___\n",
    "\n",
    "1) Given $\\m{A}$ and $\\m{y}$, find $\\m{x}$.\n",
    "\n",
    "This is the *solution of linear equations* discussed in [Notebook 3](3_Solution_of_Linear_Equations.ipynb). $\\m{A}$ is interpreted as a *coefficient matrix*.\n",
    "\n",
    "___\n",
    "    \n",
    "2) Given $\\m{A}$ and $\\m{x}$, find $\\m{y}$.\n",
    "\n",
    "This is the determination of *linear transformations* discussed in [Notebook 4](4_Linear_Transformations.ipynb). $\\m{A}$ is interpreted as a known *transformation matrix*.\n",
    "\n",
    "___\n",
    "    \n",
    "3) Given $\\m{x}$ and $\\m{y}$ (and some special conditions), find $\\m{A}$.\n",
    "\n",
    "This is also a *linear transformations* problem. This time with $\\m{A}$ as an *unknown* transformation matrix.\n"
   ]
  },
  {
   "cell_type": "markdown",
   "id": "5a498952",
   "metadata": {},
   "source": [
    "___\n",
    "### 1. Self Study Exercise 3\n",
    "\n",
    "Why do you think \"some special conditions\" are required if we want to determine a transformation matrix $\\m{A}$, given $\\m{x}$ and $\\m{y}$\n",
    "\n",
    "1. Assign the answer as a string to variable `q_1_3`"
   ]
  },
  {
   "cell_type": "code",
   "execution_count": 5,
   "id": "910a7c4b",
   "metadata": {},
   "outputs": [],
   "source": [
    "# 1. Self Study Exercise 3\n",
    "\n",
    "q_1_3 = 'I think \"some special conditions\" are required if we want to determine'\n",
    "q_1_3 += 'a transformation matrix 𝐀, given 𝐱 and 𝐲 because ...'"
   ]
  },
  {
   "cell_type": "markdown",
   "id": "1dfcf7b2",
   "metadata": {},
   "source": [
    "In surveying our problems are usually non-linear. However, it is possible to tap into the powerful tools of linear algebra in order to solve non-linear equations. This process of *linearization, correction*, and *iteration* is discussed in [Notebook 5](5_Solution_of_Nonlinear_Equations.ipynb).\n",
    "\n",
    "In mapping, we deal with *deterministic* and *statistical* relationships.  When linearized, deterministic relationships between variables can be represented by a *design (coefficient) matrix* as in the solution of linear equations. Statistical relationships between variables can be represented by a *covariance (transformation) matrix* as in linear transformations. Hence, we are interested in both these aspects of linear algebra.\n",
    "\n",
    "Some definitions and the algebra of matrices will be reviewed before discussing the solution of linear and non-linear equations and, of linear transformations."
   ]
  },
  {
   "cell_type": "markdown",
   "id": "77651eda",
   "metadata": {},
   "source": [
    "___\n",
    "### 1.1 Definitions\n",
    "\n",
    "We will be dealing with scalars, vectors, and matrices. We will denote a **scalar** by a plain-text lower case cursive letter e.g., $a$, $x$; a **vector** by a bold lower-case letter e.g., $\\m{a}$, $\\m{x}$; and a **matrix** by a bold upper-case letter e.g., $\\m{A}$, $\\m{X}$.\n",
    "\n",
    "***Scalars*** may be either real or complex numbers. Only real numbers will be considered in these notes. A ***scalar function*** is a function, possibly of something that is not a scalar, whose value is a scalar. For example, the length of a vector is a scalar function of something, a vector, which is not a scalar; $\\sin{\\theta}$ is a scalar function of the scalar value ($\\theta$). "
   ]
  },
  {
   "cell_type": "markdown",
   "id": "9c3a2799",
   "metadata": {},
   "source": [
    "___\n",
    "### 1.1 Self Study Exercise 4\n",
    "\n",
    "1. Give an example of scalar functions whose arguments are scalar(s)\n",
    "2. Give a further example of scalar functions whose arguments are vector(s)\n",
    "3. Optional - Give an example of scalar functions whose argument is a matrix"
   ]
  },
  {
   "cell_type": "code",
   "execution_count": 6,
   "id": "b632b500",
   "metadata": {},
   "outputs": [],
   "source": [
    "# 1.1 Self Study Exercise 4\n",
    "\n",
    "q_1_4_1 = 'An example of a scalar function whose arguments are scalars is ...'\n",
    "q_1_4_2 = 'An example of a scalar function whose arguments are not scalars is ...'\n",
    "q_1_4_3 = 'An example of a scalar function whose arguments is a matrix is ...'"
   ]
  },
  {
   "cell_type": "markdown",
   "id": "f0c10f61",
   "metadata": {},
   "source": [
    "A ***matrix*** is a two-dimensional (rectangular) array of *scalars* or *scalar functions*. The *scalars* or *scalar functions* making up this array are the ***elements*** of the matrix. The position of an element in the array is denoted by a double subscript. The first indicates in which ***row*** the element is located, and the second indicating in which ***column***. The matrix symbol itself may be subscripted to indicate the row and column dimensions of the array i.e., the total number of rows and columns. These dimensions are the ***order*** of the matrix.\n",
    "\n",
    "For example:\n",
    "\n",
    "$$_m\\m{A}_n=\\begin{pmatrix}\n",
    "a_{11} & a_{12} & \\dots & a_{1n}\\\\\n",
    "a_{21} & a_{22} & \\dots & a_{2n}\\\\\n",
    "\\vdots & \\vdots & \\ddots & \\vdots \\\\\n",
    "a_{m1} & a_{m2} & \\dots & a_{mn}\n",
    "\\end{pmatrix}\\tag{2}$$\n",
    "\n",
    "is a matrix with $m$ rows and $n$ columns ($A$ has *order* $m\\times n$), and $a_{ij}$ is the element at the intersection of row $i$ with column $j$."
   ]
  },
  {
   "cell_type": "markdown",
   "id": "c861314c",
   "metadata": {},
   "source": [
    "___\n",
    "### 1.1 Self Study Exercise 5\n",
    "\n",
    "1. Is it possible for a matrix to have elements which are vectors, or even other matrices?\n",
    "2. If your answer to 1. was yes, how can this be reconciled with the sentence in the paragraph above defining what a matrix is? "
   ]
  },
  {
   "cell_type": "code",
   "execution_count": 7,
   "id": "37fd6266",
   "metadata": {},
   "outputs": [],
   "source": [
    "# 1.1 Self Study Exercise 5\n",
    "\n",
    "q_1_5_1 = 'A matrix ... elements which are elements, or even other matrices'\n",
    "q_1_5_2 = '...'"
   ]
  },
  {
   "cell_type": "markdown",
   "id": "dbc035fd",
   "metadata": {},
   "source": [
    "A ***vector*** is a special matrix with only one row, a *row vector*, or one column, a *column vector*. In these notes vectors are column vectors, unless otherwise designated. Vectors thus obey all the rules of matrix algebra. However, since they are a special kind of matrix, there are extra rules of vector algebra. \n",
    "\n",
    "An example of a column vector is :\n",
    "\n",
    "$$_m\\m{a}_1=\\begin{pmatrix}\n",
    "a_{1}\\\\\n",
    "a_{2}\\\\\n",
    "\\vdots\\\\\n",
    "a_{n}\n",
    "\\end{pmatrix}\\tag{3}$$\n",
    "\n",
    "which has $m$ scalar elements $a_i$, where $i$ is the row index.\n"
   ]
  },
  {
   "cell_type": "markdown",
   "id": "ae292ca3",
   "metadata": {},
   "source": [
    "___\n",
    "### 1.1 Self Study Exercise 6\n",
    "\n",
    "Problem: if $\\sin\\theta$ is a scalar, what is $\\sin\\theta_i$, where $\\theta_i=\\{ 0^{\\circ}, 5^{\\circ}, \\cdots, 90^{\\circ}\\}$\n",
    "\n",
    "Note: the top-cell includes the line\n",
    "\n",
    "    from numpy import pi, sin, cos\n",
    "\n",
    "1. Define a `numpy` array `th` representing the values of $\\theta$ in degrees\n",
    "2. Convert `th` to radians by using $\\theta [\\text{rad}] = \\dfrac{\\pi}{180} \\theta^\\circ$\n",
    "3. Use `np.array2string` to create a comma separated string `s_result` of floating point values with a precision of $2$ representing the array $\\sin\\theta_i$ (You may calculate the result on the fly)\n",
    "\n",
    "The result will be included in a LaTeX string `s` that will be rendered using the `display(Math(s))` command. Have a close look to see whether you understand what happens here"
   ]
  },
  {
   "cell_type": "code",
   "execution_count": 52,
   "id": "823a50b9",
   "metadata": {},
   "outputs": [
    {
     "data": {
      "text/latex": [
       "$\\displaystyle \\sin\\theta_i \\\\ \\theta_i=\\{0^{\\circ},5^{\\circ},\\dots,90^{\\circ}\\} = [0.  ,0.09,0.17,0.26,0.34,0.42,0.5 ,0.57,0.64,0.71,0.77,0.82,0.87,0.91,\n",
       " 0.94,0.97,0.98,1.  ,1.  ]$"
      ],
      "text/plain": [
       "<IPython.core.display.Math object>"
      ]
     },
     "metadata": {},
     "output_type": "display_data"
    }
   ],
   "source": [
    "# 1.1 Self Study Exercise 5\n",
    "\n",
    "# 1. Define an array `th`\n",
    "th = np.linspace(0, 90, 19)\n",
    "\n",
    "# 2. Convert `th` to radians\n",
    "th *= pi/180\n",
    "\n",
    "# 3. Complete the `display` statement\n",
    "s_result = np.array2string(sin(th), precision=2, separator=',')\n",
    "\n",
    "# Render the outcome using LaTeX\n",
    "s = r'$\\sin\\theta_i \\\\ \\theta_i=\\{0^{\\circ},5^{\\circ},\\dots,90^{\\circ}\\} = %s' % s_result\n",
    "display(Math(s))"
   ]
  },
  {
   "cell_type": "markdown",
   "id": "0adf66d5",
   "metadata": {},
   "source": [
    "___\n",
    "Worked Example:\n",
    "\n",
    "$\\sin\\theta_i, (\\theta_i=\\{0^{\\circ},5^{\\circ},\\dots,90^{\\circ}\\}) = [0.,0.09,0.17,0.26,0.34,0.42,0.5,0.57,0.64,0.71,0.77,0.82,0.87,0.91,0.94,0.97,0.98,1.,1.]$"
   ]
  },
  {
   "cell_type": "markdown",
   "id": "7163de4e",
   "metadata": {},
   "source": [
    "___\n",
    "## 1.2 Matrices as Data Containers\n",
    "\n",
    "<a id='1_2_Matrices_as_Data_Containers'></a>\n",
    "\n",
    "We can use matrices as data repositories. For example we will define $n$ column vectors describing the vertices $\\m{v}_i,i\\in \\mathopen[0\\dots n\\mathclose)$. When connected these vertices describe a simple boat shape and we may capture them as a polygon in matrix $\\m{B}$ represented by variable B:\n",
    "\n",
    "$$\\m{v}_1=\\col{-2}{-6}, \\m{v}_2=\\col{-2}{4}, \\m{v}_3=\\col{0}{6}, \\m{v}_4=\\col{2}{4}, \\m{v}_5=\\col{2}{-6}$$\n",
    "\n",
    "$$\\m{B} = \\left(\\begin{array}{c|c|c|c|c}\\m{v}_1&\\m{v}_2&\\m{v}_3&\\m{v}_4&\\m{v}_5\\end{array}\\right) = \\begin{pmatrix}-2&-2&0&2&2\\\\-6&4&6&4&-6\\end{pmatrix}$$\n",
    "\n",
    "We may code this in Python, and then visualize it in an appropriate manner:"
   ]
  },
  {
   "cell_type": "code",
   "execution_count": 7,
   "id": "e9efcd49",
   "metadata": {
    "scrolled": true
   },
   "outputs": [
    {
     "name": "stdout",
     "output_type": "stream",
     "text": [
      "Matrix B holds a polygon defining a boat shape\n"
     ]
    },
    {
     "data": {
      "text/latex": [
       "$\\displaystyle \\begin{bmatrix} \n",
       " -2.0000& -2.0000& 0.0000& 2.0000& 2.0000\\\\\n",
       " -6.0000& 4.0000& 6.0000& 4.0000& -6.0000\\\\\n",
       "\\end{bmatrix}$"
      ],
      "text/plain": [
       "<IPython.core.display.Math object>"
      ]
     },
     "metadata": {},
     "output_type": "display_data"
    },
    {
     "data": {
      "image/png": "[encoded data removed]",
      "text/plain": [
       "<Figure size 288x288 with 1 Axes>"
      ]
     },
     "metadata": {
      "needs_background": "light"
     },
     "output_type": "display_data"
    }
   ],
   "source": [
    "B = np.asarray([[-2, -2, 0, 2, 2], [-6, 4, 6, 4, -6]])\n",
    "print('Matrix B holds a polygon defining a boat shape')\n",
    "display_matrix(B)\n",
    "\n",
    "plt.figure(figsize=(4, 4))\n",
    "plt.axis('equal')\n",
    "plt.fill(B[0, :], B[1, :], 'C0', ec='k')\n",
    "plt.show()"
   ]
  },
  {
   "cell_type": "markdown",
   "id": "037ec1d4",
   "metadata": {},
   "source": [
    "The code cell above illustrates how a matrix can be used as an organized data container for use in computations and visualizations."
   ]
  },
  {
   "cell_type": "markdown",
   "id": "2e081f49",
   "metadata": {},
   "source": [
    "___\n",
    "<a id='1_2_Self_Study_Exercise_1'></a>\n",
    "## 1.2 Self Study Exercise 1\n",
    "\n",
    "In the `my_code` folder you will find the file `my_boat.py`\n",
    "\n",
    "1. update the function `my_boat()` contained within this file so that it returns a `numpy` array holding the vertices of a boat identical to those in matrix $\\m{B}$ of the example above. \n",
    "\n",
    "The result should be that the code cell below produces the exact same output as the code cell above."
   ]
  },
  {
   "cell_type": "code",
   "execution_count": 29,
   "id": "1168cd4f",
   "metadata": {
    "scrolled": true
   },
   "outputs": [
    {
     "name": "stdout",
     "output_type": "stream",
     "text": [
      "Matrix B holds a polygon defining a boat shape\n"
     ]
    },
    {
     "data": {
      "text/latex": [
       "$\\displaystyle \\begin{bmatrix} \n",
       " -2.0000& -2.0000& 0.0000& 2.0000& 2.0000\\\\\n",
       " -6.0000& 4.0000& 6.0000& 4.0000& -6.0000\\\\\n",
       "\\end{bmatrix}$"
      ],
      "text/plain": [
       "<IPython.core.display.Math object>"
      ]
     },
     "metadata": {},
     "output_type": "display_data"
    },
    {
     "data": {
      "image/png": "[encoded data removed]",
      "text/plain": [
       "<Figure size 288x288 with 1 Axes>"
      ]
     },
     "metadata": {
      "needs_background": "light"
     },
     "output_type": "display_data"
    }
   ],
   "source": [
    "B = my_boat()\n",
    "print('Matrix B holds a polygon defining a boat shape')\n",
    "display_matrix(B)\n",
    "\n",
    "plt.figure(figsize=(4, 4))\n",
    "plt.axis('equal')\n",
    "plt.fill(B[0, :], B[1, :], 'C0', ec='k')\n",
    "plt.show()"
   ]
  },
  {
   "cell_type": "markdown",
   "id": "8ab530ec",
   "metadata": {},
   "source": [
    "Worked Example:\n",
    "\n",
    "<img align=\"left\" width=\"45%\" style=\"padding-left:100px;padding-right:10px\" src=\"Images/sse1_2_1.png\">"
   ]
  },
  {
   "cell_type": "markdown",
   "id": "76a7376e",
   "metadata": {},
   "source": [
    "___\n",
    "## Jump to Chapter\n",
    "\n",
    "[2: Matrix Algebra.ipynb](2_Matrix_Algebra.ipynb)<br>\n",
    "[3: Solution_of_Linear_Equations](3_Solution_of_Linear_Equations.ipynb)<br>\n",
    "[4: Linear Transformations](4_Linear_Transformations.ipynb)<br>\n",
    "[5: Solution of Nonlinear Equations](5_Solution_of_Nonlinear_Equations.ipynb)<br>"
   ]
  },
  {
   "cell_type": "markdown",
   "id": "a292543e",
   "metadata": {},
   "source": [
    "___\n",
    "## Useful Resources\n",
    "\n",
    "[Gilbert Strang MIT video lecture series](https://ocw.mit.edu/courses/18-06-linear-algebra-spring-2010/video_galleries/video-lectures/)"
   ]
  },
  {
   "cell_type": "markdown",
   "id": "fcfd914b",
   "metadata": {},
   "source": [
    "___\n",
    "#### Copyright 2022, Semme J. Dijkstra\n",
    "\n",
    "Permission is hereby granted, free of charge, to any person obtaining a copy of this software and associated documentation files (the \"Software\"), to deal in the Software without restriction, including without limitation the rights to use, copy, modify, merge, publish, distribute, sublicense, and/or sell copies of the Software, and to permit persons to whom the Software is furnished to do so, subject to the following conditions:\n",
    "\n",
    "The above copyright notice and this permission notice shall be included in all copies or substantial portions of the Software.\n",
    "\n",
    "THE SOFTWARE IS PROVIDED \"AS IS\", WITHOUT WARRANTY OF ANY KIND, EXPRESS OR IMPLIED, INCLUDING BUT NOT LIMITED TO THE WARRANTIES OF MERCHANTABILITY, FITNESS FOR A PARTICULAR PURPOSE AND NONINFRINGEMENT. IN NO EVENT SHALL THE AUTHORS OR COPYRIGHT HOLDERS BE LIABLE FOR ANY CLAIM, DAMAGES OR OTHER LIABILITY, WHETHER IN AN ACTION OF CONTRACT, TORT OR OTHERWISE, ARISING FROM, OUT OF OR IN CONNECTION WITH THE SOFTWARE OR THE USE OR OTHER DEALINGS IN THE SOFTWARE."
   ]
  },
  {
   "cell_type": "markdown",
   "id": "8dae2e85",
   "metadata": {},
   "source": [
    "$$_m\\m{A}_n=\\begin{pmatrix}\n",
    "a_{11} & a_{12} & \\dots & a_{1n}\\\\\n",
    "a_{21} & a_{22} & \\dots & a_{2n}\\\\\n",
    "\\vdots & \\vdots & \\ddots & \\vdots \\\\\n",
    "a_{m1} & a_{m2} & \\dots & a_{mn}\n",
    "\\end{pmatrix}\\tag{2}$$"
   ]
  },
  {
   "cell_type": "markdown",
   "id": "5be3a711",
   "metadata": {},
   "source": [
    "$$_m\\m{x}_1=\\begin{pmatrix}\n",
    "x_{1}\\\\\n",
    "x_{2}\\\\\n",
    "\\vdots\\\\\n",
    "x_{n}\n",
    "\\end{pmatrix}\\tag{3}$$"
   ]
  },
  {
   "cell_type": "markdown",
   "id": "2cbabe96",
   "metadata": {},
   "source": [
    "$$_m\\m{y}_1=\\begin{pmatrix}\n",
    "y_{1}\\\\\n",
    "y_{2}\\\\\n",
    "\\vdots\\\\\n",
    "y_{n}\n",
    "\\end{pmatrix}\\tag{3}$$"
   ]
  },
  {
   "cell_type": "markdown",
   "id": "af0056c6",
   "metadata": {},
   "source": [
    "$$a_{1}x_1+a_{2}x_2+\\dots+a_nx_n=y$$"
   ]
  },
  {
   "cell_type": "markdown",
   "id": "3b2046dc",
   "metadata": {},
   "source": [
    "$$a_{1,1}x_1+a_{1,2}x_2+\\dots+a_{1,n}x_n=y_1\\\\a_{2,1}x_1+a_{2,2}x_2+\\dots+a_{2,n}x_n=y_2\\\\\\dots\\\\a_{m,1}x_1+a_{m,2}x_2+\\dots+a_{m,n}x_n=y_m$$"
   ]
  },
  {
   "cell_type": "markdown",
   "id": "2a53f90d",
   "metadata": {},
   "source": [
    "$x$ and $f(x)$"
   ]
  },
  {
   "cell_type": "markdown",
   "id": "1ad88579",
   "metadata": {},
   "source": [
    "$f(\\theta) = \\sin{\\theta}$"
   ]
  },
  {
   "cell_type": "code",
   "execution_count": null,
   "id": "16a562ec",
   "metadata": {},
   "outputs": [],
   "source": []
  }
 ],
 "metadata": {
  "kernelspec": {
   "display_name": "Python 3 (ipykernel)",
   "language": "python",
   "name": "python3"
  },
  "language_info": {
   "codemirror_mode": {
    "name": "ipython",
    "version": 3
   },
   "file_extension": ".py",
   "mimetype": "text/x-python",
   "name": "python",
   "nbconvert_exporter": "python",
   "pygments_lexer": "ipython3",
   "version": "3.9.7"
  }
 },
 "nbformat": 4,
 "nbformat_minor": 5
}
