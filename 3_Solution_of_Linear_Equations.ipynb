{
 "cells": [
  {
   "cell_type": "markdown",
   "id": "7a3a8365",
   "metadata": {},
   "source": [
    "<img align=\"left\" width=\"25%\" style=\"padding-right:10px;\" src=\"Images/epom.png\">\n",
    "\n",
    "\n",
    "___\n",
    "# Review of Linear Algebra\n",
    "## 3 Solution of Linear Equations\n",
    "\n",
    "Jupyter Notebook Implementation: *Semme J. Dijkstra, 2022*\n",
    "\n",
    "Based on original Linear Algebra text and in text examples: <br>*David E. Wells, Kresho Frankich, 1994*\n",
    "___\n",
    "\n",
    "<a href=\"https://teams.microsoft.com/l/team/19%3auL2OnH3RSfCWwU2Fd3VYGLT_03BYOfA3KB_OBp10CIY1%40thread.tacv2/conversations?groupId=5c11a428-14b6-429d-b7f5-a61ebc0a440b&tenantId=d6241893-512d-46dc-8d2b-be47e25f5666\"><img src=\"Images/help.png\"  title=\"Ask questions on Teams\" align=\"right\" width=\"10%\" alt=\"Teams.com\\\"></a> \n",
    "\n",
    "Minor additional notes and edits: *Semme J. Dijkstra, 2022*<br>\n",
    "Additional examples: *Semme J. Dijkstra, 2022*<br>\n",
    "Python code and explanations: *Semme J. Dijkstra, 2022*<br>\n",
    "Boat examples: *Semme J. Dijkstra, 2023*\n",
    "___\n",
    "___"
   ]
  },
  {
   "cell_type": "code",
   "execution_count": 2,
   "id": "9529f640",
   "metadata": {},
   "outputs": [],
   "source": [
    "import matplotlib.pyplot as plt\n",
    "import numpy as np\n",
    "from numpy import pi, sin, cos\n",
    "import numpy.linalg as la\n",
    "from my_code.latex_output import display_matrix\n",
    "from my_code.boat import boat\n",
    "# %matplotlib notebook # Can be useful when wanting to manipulate plots\n",
    "from matplotlib.animation import FuncAnimation\n",
    "%load_ext autoreload\n",
    "%autoreload 2"
   ]
  },
  {
   "cell_type": "markdown",
   "id": "1e230edf",
   "metadata": {},
   "source": [
    "___\n",
    "<img align=\"left\" width=\"6%\" style=\"padding-right:10px;\" src=\"./Images/info.png\">\n",
    "\n",
    "# LaTex<br>\n",
    "\n",
    "This is a [Jupyter](https://jupyter.org/) notebook in which heavy use of [LaTex](https://www.latex-project.org/) is made. LaTex is *\\\"a high-quality typesetting system; it includes features designed for the production of technical and scientific documentation. LaTeX is the de facto standard for the communication and publication of scientific documents.\\\"* according to [the Latex project](https://www.latex-project.org/)\n",
    "\n",
    "Latex allows the creation of macros and other type-setting methods of convenience. This particular Markdown cell you are reading is used for the definition of new LaTex operators and commands, but they are hidden from view. If you are interested: double click on this cell to enter its edit mode and you will be able see how they are implemented.\n",
    "\n",
    "<div hidden>\n",
    "$\\usepackage{amsmath,amssymb}$\n",
    "\n",
    "$\\DeclareRobustCommand{\\bbone}{\\text{\\usefont{U}{bbold}{m}{n}1}}$\n",
    "\n",
    "$\\DeclareMathOperator{\\EX}{\\mathbb{E}}% expected value$\n",
    "\n",
    "$\\DeclareMathOperator{\\res}{\\vec{r}}$\n",
    "\n",
    "$\\DeclareMathOperator{\\mf}{\\mu_{1}\\sigma_{2}^{2}+\\mu_{2}\\sigma_{1}^{2}\\over{\\sigma_{1}^{2} + \\sigma_{2}^{2}}}$\n",
    "    \n",
    "$\\DeclareMathOperator{\\sf}{{\\sigma_{1}^{2}\\sigma_{2}^{2}}\\over{\\sigma_{1}^{2}+\\sigma_{2}^{2}}}$\n",
    "    \n",
    "$\\newcommand{\\ex}[1]{\\mathbb{E}\\{#1\\}}$\n",
    "    \n",
    "$\\newcommand{\\dev}[1]{\\mathbb{E}\\{#1^o_i - \\mathbb{E}\\{#1\\}\\}}$\n",
    "    \n",
    "$\\newcommand{\\cov}[1]{\\mathbb{E}\\{(#1^o_i - \\mathbb{E}\\{#1\\})(#1 - \\mathbb{E}\\{#1\\})^T\\}}$\n",
    "    \n",
    "$\\newcommand{\\m}[1]{\\mathbf{#1}}$\n",
    "\n",
    "$\\newcommand{\\col}[2]{\\begin{pmatrix}#1 \\\\ #2 \\end{pmatrix}}$\n",
    "    \n",
    "</div>"
   ]
  },
  {
   "cell_type": "markdown",
   "id": "2bdb5377",
   "metadata": {},
   "source": [
    "___\n",
    "# 3. The Solution of Linear Equations\n",
    "\n",
    "A Set of linear equations in $n$ unknowns $x_i$ can be written explicitly as:\n",
    "\n",
    "$$a_{11}x_1+a_{12}x_2+\\dots+a_{1n}x_n = b_1\\tag{88}$$\n",
    "\n",
    "$$a_{21}x_1+a_{22}x_2+\\dots+a_{2n}x_n = b_2\\tag{89}$$\n",
    "\n",
    "$$\\vdots$$\n",
    "\n",
    "$$a_{m1}x_1+a_{m2}x_2+\\dots+a_{mn}x_n = b_m\\tag{90}$$\n",
    "\n",
    "where the coefficients $a_{ij}$ and constants $b_j$ are known.\n",
    "\n",
    "In matrix notation this may be written as:\n",
    "\n",
    "<a id='eq91'></a>\n",
    "$$_m\\m{A}_n\\cdot_n\\m{x}_1= _m\\m{b}_1\\tag{91}$$\n",
    "\n",
    "or simply:\n",
    "\n",
    "$$\\m{Ax}= \\m{b}\\tag{91}$$\n",
    "\n",
    "Where:\n",
    "\n",
    "$$\\m{A} = \\begin{pmatrix}a_{11} & a_{12} & \\dots & a_{1n}\\\\a_{21} & a_{22} & \\dots & a_{2n} \\\\ \\vdots & \\vdots & \\ddots & \\vdots \\\\ a_{m1} & a_{m2} & \\dots & a_{mn}\\end{pmatrix}\\tag{92}$$\n",
    "\n",
    "$$\\m{x} = \\begin{pmatrix}x_1 \\\\x_2 \\\\ \\vdots \\\\x_n\\end{pmatrix}\\tag{93}$$\n",
    "\n",
    "$$\\m{b} = \\begin{pmatrix}b_1 \\\\b_2 \\\\ \\vdots \\\\b_n\\end{pmatrix}\\tag{94}$$\n",
    "\n",
    "and $\\m{A}$ is called the **coefficient matrix**, $\\m{x}$ is called the **unknown vector** and $\\m{b}$ is called the **constant vector**.\n",
    "\n",
    "The system is **homogeneous** if the constant vector is zero ($\\m{b} = \\m{0}$), and **non-homogeneous** if the constant vector is nonzero ($\\m{b} \\neq \\m{0}$).\n",
    "\n",
    "If we expand the columns of a matrix $\\m{A}$ by the columns of a matrix $\\m{B}$  we are ***augmenting*** $\\m{A}$ with $\\m{B}$, which is annotated as $[\\m{A|B}]$\n",
    "\n",
    "The approach we take in solving a system of linear equations such as [(91)](#eq91) depends on the relationships between the rank of coefficient matrix $\\m{A}$, the rank of the augmented matrix $[\\m{A}|\\m{b}]$, and the dimension of the unknown vector $\\m{x}$. These are summarized in the following table:"
   ]
  },
  {
   "cell_type": "markdown",
   "id": "5d19f929",
   "metadata": {},
   "source": [
    "___\n",
    "<a id='Possible_Linear_Equation_Relationships'></a>\n",
    "# 3.0 Possible Linear Equation Relationships\n",
    "\n",
    "$$\\begin{array}{|c|c|c|c|} \\text{Value of constant vector }\\m{b} & \\text{Rank of the augmented matrix }[\\m{A}|\\m{b}]& \\text{Rank of  coefficient matrix }\\m{A} & \\text{Number of solution vectors }\\m{x} \\\\\n",
    "\\hline\n",
    "\\text{Nonhomogeneous}(\\m{b} \\neq \\m{0}) & \\text{Inconsistent}(\\neq\\text{rank}(\\m{A})) & \\text{ } & \\text{None} \\\\\n",
    "\\text{Nonhomogeneous}(\\m{b} \\neq \\m{0}) & \\text{Consistent}(=\\text{rank}(\\m{A})) & =\\text{dim}(\\m{x}) & \\text{Unique}(\\m{x}\\neq\\m{0}) \\\\ \n",
    "\\text{Nonhomogeneous}(\\m{b} \\neq \\m{0}) & \\text{Consistent}(=\\text{rank}(\\m{A})) & <\\text{dim}(\\m{x}) & \\text{Infinite} \\\\\n",
    "\\text{Homogeneous}(\\m{b} = \\m{0}) & \\text{Consistent}(=\\text{rank}(\\m{A})) & =\\text{dim}(\\m{x}) & \\text{Unique}(\\m{x}=\\m{0}) \\\\\n",
    "\\text{Homogeneous}(\\m{b} = \\m{0}) & \\text{Consistent}(=\\text{rank}(\\m{A})) & <\\text{dim}(\\m{x}) & \\text{Infinite} \\\\\n",
    "\\end{array}$$"
   ]
  },
  {
   "cell_type": "markdown",
   "id": "5ad2f702",
   "metadata": {},
   "source": [
    "___\n",
    "# 3.0.0 Augmenting Matrices using `Numpy`.\n",
    "\n",
    "In this section we will be using augmented matrices quite a bit. Augmented matrices are formed by combining the columns of two matrices to form a new matrix. In linear systems this results in a matrix with the number of rows matching the number of unknowns, each containing all constants (both from the coefficient matrix and the constant vector) on which then elementary row operations may be performed. `Numpy` offers the `column_stack()` function, which takes as its argument a tuple of the matrices to be augmented e.g.,\n",
    "\n",
    "    np.column_stack((A, b))\n",
    "    \n",
    "augments the matrices `A` and vector `b`. Note that more than one matrix may be augmented (as long as their row dimensions match)\n",
    "\n",
    "    np.column_stack((A, b1, b2))\n",
    "    \n",
    "augments the matrices `A`,`b1` and, `b2`, all with $m$ rows."
   ]
  },
  {
   "cell_type": "markdown",
   "id": "f53e5d98",
   "metadata": {},
   "source": [
    "___\n",
    "## 3.1 Inconsistent Systems\n",
    "\n",
    "If the rank of the coefficient matrix $\\m{A}$ is equal to the rank of the augmented matrix $[\\m{A}|\\m{b}]$ the system is said to be ***consistent***. *Homogeneous* systems are always consistent. If the system is inconsistent there is no solution for $\\m{x}$\n",
    "\n",
    "A simple example of inconsistent equations is:\n",
    "\n",
    "$$x = 1\\tag{95}$$\n",
    "$$x = 2\\tag{96}$$\n",
    "\n",
    "There is obviously no unique solution for $\\m{x}$ that satisfies both these equations. In this case the coefficient and augmented matrices are:\n",
    "\n",
    "$$\\m{A}=\\begin{pmatrix}1\\\\1\\end{pmatrix}\\tag{97}$$\n",
    "\n",
    "$$[\\m{A}|\\m{b}]=\\begin{pmatrix}1 & 1\\\\1 & 2\\end{pmatrix}\\tag{98}$$\n",
    "\n",
    "Which have ranks $1$ and $2$ respectively.\n",
    "\n",
    "Another example of a non-homogeneous system which is inconsistent is:\n",
    "\n",
    "$$\\begin{array}. x_1 &-& 2x_2 &+& x_3 &=& 1\\\\ 2x_1 &-& 3x_2 &+& 4x_3 &=& 5 \\\\ 2x_1 &-& 5x_2 &+& &=& 0\\end{array}\\tag{99}$$\n",
    "\n",
    "In this case the coefficient $\\m{A}$ and augmented $[\\m{A}|\\m{b}]$ matrices are:\n",
    "\n",
    "$$\\m{A}=\\begin{pmatrix}1&-2&1\\\\2&-3&4\\\\2&-5&0\\end{pmatrix}\\tag{100}$$\n",
    "\n",
    "$$[\\m{A}|\\m{b}]=\\begin{pmatrix}1&-2&1&1\\\\2&-3&4&5\\\\2&-5&0&0\\end{pmatrix}\\tag{101}$$\n",
    "\n",
    "Which have ranks $2$ and $3$ respectively. Because the ranks are different, this system is inconsistent. In fact, the first two equations can be combined to eliminate $x_3$ to give:\n",
    "\n",
    "$$\\begin{array}. 2x_1&-&5x_2&=&-1\\\\ 2x_1&-&5x_2&=&0\\end{array}\\tag{102}$$\n",
    "\n",
    "which are obviously inconsistent"
   ]
  },
  {
   "cell_type": "markdown",
   "id": "b2cf3c5c",
   "metadata": {},
   "source": [
    "___\n",
    "### 3.1 Self Study Exercise 1\n",
    "\n",
    "Study the table from [3.0 Possible Linear Equation Relationships](#Possible_Linear_Equation_Relationships). Remember that if you have a `numpy` array `A` you get its order as a tuple using the `shape` parameter i.e., `A.shape`\n",
    "\n",
    "1. Create and display `numpy arrays`: `A`, for the coefficient matrix $\\m{A}$, `b` for the constant vector $\\m{b}$ and `Ab` for augmented matrix $[\\m{A}|\\m{b}]$ as defined in the equations of (99)\n",
    "2. Assign `A_rank` the rank of $\\m{A}$, and `Ab_rank` the rank of the augmented matrix $[\\m{A}|\\m{b}]$\n",
    "3. Use `if` statements achieve the following\n",
    "    \n",
    "    If the system is inconsistent print 'The system represent by $[\\m{A}|\\m{b}]$  is inconsistent'\n",
    "    \n",
    "    If the system has a unique non-null solution for 𝐱 print 'Number of solution vectors 𝐱: one (non-homogeneous: 𝐱≠0)'\n",
    "    \n",
    "    If the system has a unique null solution for 𝐱 print 'Number of solution vectors 𝐱: one (homogeneous: 𝐱=0)'\n",
    "    \n",
    "    If the system is homogeneous and has a infinite solutions for 𝐱 print 'Homogeneous: number of solution vectors 𝐱: infinite'\n",
    "    \n",
    "    If the system is non non=homogeneous and has a infinite solutions for 𝐱 print 'Non-homogeneous: number of solution vectors 𝐱: infinite'\n",
    "    \n",
    "4. Manipulate $\\m{A}$ and $\\m{b}$ in such manner that you get all the possible outcomes of 3."
   ]
  },
  {
   "cell_type": "code",
   "execution_count": 3,
   "id": "5235fc00",
   "metadata": {},
   "outputs": [
    {
     "name": "stdout",
     "output_type": "stream",
     "text": [
      "𝐀:\n"
     ]
    },
    {
     "data": {
      "text/latex": [
       "$\\displaystyle \\begin{bmatrix} \n",
       " 1.0000& -2.0000& 1.0000\\\\\n",
       " 2.0000& -3.0000& 4.0000\\\\\n",
       " 2.0000& -5.0000& 0.0000\\\\\n",
       "\\end{bmatrix}$"
      ],
      "text/plain": [
       "<IPython.core.display.Math object>"
      ]
     },
     "metadata": {},
     "output_type": "display_data"
    },
    {
     "name": "stdout",
     "output_type": "stream",
     "text": [
      "𝐛:\n"
     ]
    },
    {
     "data": {
      "text/latex": [
       "$\\displaystyle \\begin{bmatrix} \n",
       " 1.0000 \\\\ 5.0000 \\\\ 0.0000 \\\\\\end{bmatrix}$"
      ],
      "text/plain": [
       "<IPython.core.display.Math object>"
      ]
     },
     "metadata": {},
     "output_type": "display_data"
    },
    {
     "name": "stdout",
     "output_type": "stream",
     "text": [
      "[𝐀|𝐛]:\n"
     ]
    },
    {
     "data": {
      "text/latex": [
       "$\\displaystyle \\begin{bmatrix} \n",
       " 1.0000& -2.0000& 1.0000& 1.0000\\\\\n",
       " 2.0000& -3.0000& 4.0000& 5.0000\\\\\n",
       " 2.0000& -5.0000& 0.0000& 0.0000\\\\\n",
       "\\end{bmatrix}$"
      ],
      "text/plain": [
       "<IPython.core.display.Math object>"
      ]
     },
     "metadata": {},
     "output_type": "display_data"
    },
    {
     "name": "stdout",
     "output_type": "stream",
     "text": [
      "Matrix 𝐀 has rank 2.000000\n",
      "Matrix [𝐀|𝐛] has rank 3.000000\n",
      "The system represent by [𝐀|𝐛]  is inconsistent\n"
     ]
    }
   ],
   "source": [
    "# 1. Create and display `A`, `b` and, `Ab` for the equations of (99)\n",
    "A = np.array([[1, -2, 1], [2, -3, 4], [2, -5, 0]])\n",
    "b = np.array([[1], [5], [0]])\n",
    "Ab = np.column_stack((A, b))\n",
    "print('𝐀:')\n",
    "display_matrix(A)\n",
    "print('𝐛:')\n",
    "display_matrix(b)\n",
    "Ab = np.column_stack((A, b))\n",
    "print('[𝐀|𝐛]:')\n",
    "display_matrix(Ab)\n",
    "\n",
    "# 2. Assign `A_rank` the rank of `A`, and `Ab_rank` the rank of `Ab`\n",
    "A_rank = la.matrix_rank(A)\n",
    "Ab_rank = la.matrix_rank(Ab)\n",
    "print('Matrix 𝐀 has rank %f' % A_rank)\n",
    "print('Matrix [𝐀|𝐛] has rank %f' % Ab_rank)\n",
    "\n",
    "# 3. Use `if` statements to represent the outcomes of 3.0\n",
    "if not Ab_rank == A_rank:\n",
    "    print('The system represent by [𝐀|𝐛]  is inconsistent')\n",
    "elif A_rank == A.shape[1]:\n",
    "    if all(b) == 0:\n",
    "        print('Number of solution vectors 𝐱: one (homogeneous: 𝐱=0)')\n",
    "    else:\n",
    "        print('Number of solution vectors 𝐱: one (non-homogeneous: 𝐱≠0)')\n",
    "else:\n",
    "    if all(b) == 0:\n",
    "        print('Homogeneous: number of solution vectors 𝐱: infinite')\n",
    "    else:\n",
    "        print('Non-homogeneous: number of solution vectors 𝐱: infinite')"
   ]
  },
  {
   "cell_type": "code",
   "execution_count": 4,
   "id": "2af76673",
   "metadata": {},
   "outputs": [
    {
     "data": {
      "text/latex": [
       "$\\displaystyle \\begin{bmatrix} \n",
       " 1.0000& -2.0000& 1.0000\\\\\n",
       " 2.0000& -3.0000& 4.0000\\\\\n",
       " 2.0000& -5.0000& 0.0000\\\\\n",
       "\\end{bmatrix}$"
      ],
      "text/plain": [
       "<IPython.core.display.Math object>"
      ]
     },
     "metadata": {},
     "output_type": "display_data"
    },
    {
     "data": {
      "text/latex": [
       "$\\displaystyle \\begin{bmatrix} \n",
       " 1.0000& 5.0000& 0.0000\\\\\n",
       "\\end{bmatrix}$"
      ],
      "text/plain": [
       "<IPython.core.display.Math object>"
      ]
     },
     "metadata": {},
     "output_type": "display_data"
    },
    {
     "data": {
      "text/latex": [
       "$\\displaystyle \\begin{bmatrix} \n",
       " 1.0000& -2.0000& 1.0000\\\\\n",
       " 2.0000& -3.0000& 4.0000\\\\\n",
       " 2.0000& -5.0000& 0.0000\\\\\n",
       " 1.0000& 5.0000& 0.0000\\\\\n",
       "\\end{bmatrix}$"
      ],
      "text/plain": [
       "<IPython.core.display.Math object>"
      ]
     },
     "metadata": {},
     "output_type": "display_data"
    }
   ],
   "source": [
    "A = np.array([[1, -2, 1], [2, -3, 4], [2, -5, 0]])\n",
    "b = np.array([[1, 5, 0]])\n",
    "display_matrix(A)\n",
    "display_matrix(b)\n",
    "C = np.row_stack((A,b))\n",
    "display_matrix(C)"
   ]
  },
  {
   "cell_type": "markdown",
   "id": "5cabfce9",
   "metadata": {},
   "source": [
    "___\n",
    "Worked Example (Note that you should try other $\\m{A}$ and $\\m{b}$ as well):\n",
    "\n",
    "<img align=\"left\" width=\"50%\" style=\"padding-left:100px;padding-right:10px\" src=\"Images/sse3_1_1.png\">"
   ]
  },
  {
   "cell_type": "markdown",
   "id": "ae3cd698",
   "metadata": {},
   "source": [
    "___\n",
    "## 3.2 Systems Having a Unique Solution\n",
    "\n",
    "If the rank of the coefficient matrix is *equal* to the number of unknowns (the number of rows in unknown vector $\n",
    "\\m{x}$) then there is a unique solution. For homogeneous systems this is the trivial solution $\\m{x}=\\m{0}$. For homogeneous systems having a square coefficient matrix (the number of solutions matches the number of unknowns) this means the coefficient matrix is non-singular ($\\text{det}(\\m{A})=0$) i.e., its inverse exists. In this special case, the solution is given by:\n",
    "\n",
    "$$\\m{x} = \\m{A}^{-1}\\m{b}\\tag{103}$$\n",
    "\n",
    "For non-homogeneous systems having rectangular coefficient matrices (more equations than unknowns) the matrix $\\m{A}^T\\m{A}$ is often non-singular ($\\text{det}(\\m{A}^T\\m{A})\\neq0$) and therefore has an inverse. Thus, the solution of:\n",
    "\n",
    "$$\\m{Ax}=\\m{b}\\tag{104}$$\n",
    "\n",
    "can be obtained from:\n",
    "\n",
    "$$\\m{A}^T\\m{Ax}=\\m{A}^T\\m{b}\\tag{105}$$\n",
    "\n",
    "resulting in:\n",
    "<a id='eq105'></a>\n",
    "$$\\m{x}=\\left(\\m{A}^T\\m{A}\\right)^{-1}\\m{A}^T\\m{b}\\tag{105}$$\n",
    "\n",
    "___\n",
    "<img align=\"left\" width=\"6%\" style=\"padding-right:10px;\" src=\"./Images/info.png\">\n",
    "\n",
    "This solution is associated with the parametric method of the least squares in which it is applied to the problem of finding the best *average* solution or *best statistical estimate* (in the least squares sense) from an *inconsistent nonhomogeneous system of equations*. We will address this in great detail in the [Learning Least Squares]() module that is forthcoming.\n",
    "___\n",
    "\n",
    "\n"
   ]
  },
  {
   "cell_type": "markdown",
   "id": "cf1d194e",
   "metadata": {},
   "source": [
    "___\n",
    "## 3.2.1 The Geometry of Systems Having a Unique Solution\n",
    "\n",
    "Here we will study the geometry of systems having a unique solution as it may be helpful in gaining a deeper insight in the abstract representation of a system that linear algebra represents.\n",
    "\n",
    "Imagine that we have the system:\n",
    "\n",
    "$$\\begin{array}. x_1 &-& 2x_2 &+& x_3 &=& 1\\\\ 2x_1 &-& 3x_2 &+& 4x_3 &=& 5 \\\\ 2x_1 &-& 5x_2 &+&2x_3&=& 1\\end{array}\\tag{106}$$\n",
    "\n",
    "The coefficient matrix $\\m{A}$ is then:"
   ]
  },
  {
   "cell_type": "code",
   "execution_count": 5,
   "id": "2e595c8e",
   "metadata": {},
   "outputs": [
    {
     "data": {
      "text/latex": [
       "$\\displaystyle \\begin{bmatrix} \n",
       " 1.0000& -2.0000& 1.0000\\\\\n",
       " 2.0000& -3.0000& 4.0000\\\\\n",
       " 2.0000& -5.0000& 2.0000\\\\\n",
       "\\end{bmatrix}$"
      ],
      "text/plain": [
       "<IPython.core.display.Math object>"
      ]
     },
     "metadata": {},
     "output_type": "display_data"
    },
    {
     "name": "stdout",
     "output_type": "stream",
     "text": [
      " det(𝐀)=2.000000\n"
     ]
    }
   ],
   "source": [
    "A = np.array([[1, -2, 1], [2, -3, 4], [2, -5, 2]])\n",
    "display_matrix(A)\n",
    "print(' det(𝐀)=%f' % la.det(A))"
   ]
  },
  {
   "cell_type": "markdown",
   "id": "b029acd8",
   "metadata": {},
   "source": [
    "and the constant vector $\\m{b}$ is:"
   ]
  },
  {
   "cell_type": "code",
   "execution_count": 6,
   "id": "f8fdcda5",
   "metadata": {},
   "outputs": [
    {
     "data": {
      "text/latex": [
       "$\\displaystyle \\begin{bmatrix} \n",
       " 1.0000 \\\\ 5.0000 \\\\ 1.0000 \\\\\\end{bmatrix}$"
      ],
      "text/plain": [
       "<IPython.core.display.Math object>"
      ]
     },
     "metadata": {},
     "output_type": "display_data"
    }
   ],
   "source": [
    "b = np.array([[1], [5], [1]])\n",
    "display_matrix(b)"
   ]
  },
  {
   "cell_type": "markdown",
   "id": "a864d7cc",
   "metadata": {},
   "source": [
    "We saw that the $\\text{det}\\left(\\m{A}\\right)=2$, therefore $\\m{A}$ has an inverse. Solving the system gives:\n",
    " <a id='eq107'></a>\n",
    "$$\\m{x} = \\m{A}^{-1}\\m{b}\\tag{107}$$"
   ]
  },
  {
   "cell_type": "code",
   "execution_count": 7,
   "id": "e5bfed66",
   "metadata": {},
   "outputs": [
    {
     "name": "stdout",
     "output_type": "stream",
     "text": [
      "𝐱=\n"
     ]
    },
    {
     "data": {
      "text/latex": [
       "$\\displaystyle \\begin{bmatrix} \n",
       " 2.0000 \\\\ 1.0000 \\\\ 1.0000 \\\\\\end{bmatrix}$"
      ],
      "text/plain": [
       "<IPython.core.display.Math object>"
      ]
     },
     "metadata": {},
     "output_type": "display_data"
    }
   ],
   "source": [
    "x = la.inv(A)@b\n",
    "print('𝐱=')\n",
    "display_matrix(x)"
   ]
  },
  {
   "cell_type": "markdown",
   "id": "1e39c860",
   "metadata": {},
   "source": [
    "Though the math works splendidly it may be hard to envision this. Let us look at another example of 2 equations with 2 unknowns.\n",
    "\n",
    "$$\\begin{array}. 2x_1 &+3x_2&=&6 \\\\ 4x_1 &+3x_2&=&6\\end{array}\\tag{108}$$\n",
    "\n",
    "We may represent this in the form:\n",
    "\n",
    "$$\\begin{array}. x_2&=\\dfrac{6-2x_1}{3}\\\\ x_2&=\\dfrac{6-4x_1}{3}\\end{array}\\tag{109}$$\n",
    "\n",
    "Which we recognize as two linear equations representing lines. The solution of the system is then found where the lines intersect. We can represent this graphically as well as compute the location using linear algebra."
   ]
  },
  {
   "cell_type": "code",
   "execution_count": 8,
   "id": "166e6704",
   "metadata": {},
   "outputs": [
    {
     "data": {
      "image/png": "[encoded data removed]",
      "text/plain": [
       "<Figure size 432x432 with 1 Axes>"
      ]
     },
     "metadata": {
      "needs_background": "light"
     },
     "output_type": "display_data"
    }
   ],
   "source": [
    "# Define the linear system\n",
    "A = np.array([[2, 3], [4, 3]])\n",
    "b = np.array([[6], [6]])\n",
    "x_1 = np.linspace(-5, 5, 2)\n",
    "\n",
    "\n",
    "fig, ax1 = plt.subplots(nrows=1, ncols=1, figsize=(6, 6))\n",
    "\n",
    "# Calculate the unknown\n",
    "try:\n",
    "    x = la.inv(A)@b\n",
    "    # Plot the unknown\n",
    "    ax1.plot(x[0], x[1], 'ok')\n",
    "    ax1.text(x[0], x[1], r'   $\\mathbb{x}$', size='x-large')\n",
    "    plt.title('Consistent System: A is nonsingular')\n",
    "except np.linalg.LinAlgError as err:\n",
    "    if 'Singular matrix' in str(err):\n",
    "        x = np.empty((2, 1))\n",
    "        plt.title('Inconsistent System: A is singular')\n",
    "    else:\n",
    "        raise\n",
    "\n",
    "for i in range(A.shape[0]):\n",
    "    x_2 = (b[i]-A[i, 0]*x_1)/A[i, 1]\n",
    "    ax1.plot(x_1, x_2, label=r\"%.1f*$x_1$+%.1f*$x_2$=%.1f\" %\n",
    "             (A[i, 0], A[i, 1], b[i]))\n",
    "\n",
    "ax1.axis('equal')\n",
    "ax1.legend(fontsize=\"x-large\")\n",
    "plt.show()"
   ]
  },
  {
   "cell_type": "markdown",
   "id": "5ce81c85",
   "metadata": {},
   "source": [
    "In the code cell above, you see a graphic illustration of how $\\m{A}$ and $\\m{b}$ are combined in a set of lines representing the equations. The solution $\\m{A}^{-1}\\m{b}$ to the unknown $\\m{x}$ is then found at the intersection of the lines. It can be seen that the slope of the lines is determined by the coefficients of $\\m{A}$ and the intercepts by the elements of the constant vector $\\m{b}$ (to see this for yourself manipulate `A` and `b` in the code). \n",
    "\n",
    "The code cell above illustrates the simplicity of direct solution of linear equations with explicit inversion, perhaps deceivingly so. Deceiving for two reasons:\n",
    "\n",
    "1. the complexity of determining the inverse is hidden by calling the `linear algebra.inv()` function.\n",
    "2. the example used here was chosen to be consistent, non-homogeneous and, with a unique solution. \n",
    "\n",
    "We could generalize the code easily, as a matter of fact: in the code above the first steps of generalization are already done by determining the rank of $\\m{A}$ and $[\\m{A}|\\m{b}]$ and, evaluation of $\\m{b}$ for the number of solutions."
   ]
  },
  {
   "cell_type": "markdown",
   "id": "3ad4e9eb",
   "metadata": {},
   "source": [
    "<a id='3_2_1_Self_Study_Exercise_1'></a>\n",
    "___\n",
    "## 3.2.1 Self Study Exercise 1\n",
    "\n",
    "1. Copy the code block above, in the code cell below\n",
    "2. Alter A so that the two lines do not intersect\n",
    "3. Study the try-except code block and ensure that you understand what happens here"
   ]
  },
  {
   "cell_type": "code",
   "execution_count": 9,
   "id": "7653b5cc",
   "metadata": {
    "scrolled": true
   },
   "outputs": [
    {
     "data": {
      "image/png": "[encoded data removed]",
      "text/plain": [
       "<Figure size 360x360 with 1 Axes>"
      ]
     },
     "metadata": {
      "needs_background": "light"
     },
     "output_type": "display_data"
    }
   ],
   "source": [
    "# 1. Copy the code block above, in the code cell below\n",
    "# 2. Alter A so that the two lines do not intersect\n",
    "# 3. Study the try-except code block and ensure that you understand what happens here\n",
    "\n",
    "# Define the linear system\n",
    "A = np.array([[2, 3], [4, 6]])\n",
    "b = np.array([[6], [6]])\n",
    "x_1 = np.linspace(-5, 5, 2)\n",
    "\n",
    "fig, ax1 = plt.subplots(nrows=1, ncols=1, figsize=(5, 5))\n",
    "\n",
    "# Calculate the unknown\n",
    "try:\n",
    "    x = la.inv(A)@b\n",
    "    # Plot the unknown\n",
    "    ax1.plot(x[0], x[1], 'ok')\n",
    "    ax1.text(x[0], x[1], r'   $\\mathbb{x}$', size='x-large')\n",
    "    plt.title('Consistent System: A is nonsingular')\n",
    "except np.linalg.LinAlgError as err:\n",
    "    if 'Singular matrix' in str(err):\n",
    "        x = np.empty((2, 1))\n",
    "        plt.title('Inconsistent System: A is singular')\n",
    "    else:\n",
    "        raise\n",
    "\n",
    "for i in range(A.shape[0]):\n",
    "    x_2 = (b[i]-A[i, 0]*x_1)/A[i, 1]\n",
    "    ax1.plot(x_1, x_2, label=r\"%.1f*$x_1$+%.1f*$x_2$=%.1f\" %\n",
    "             (A[i, 0], A[i, 1], b[i]))\n",
    "\n",
    "ax1.axis('equal')\n",
    "ax1.legend(fontsize=\"x-large\")\n",
    "plt.show()"
   ]
  },
  {
   "cell_type": "markdown",
   "id": "7c01d564",
   "metadata": {},
   "source": [
    "___\n",
    "Worked Example (Note that other combinations of $\\m{A}$ and $\\m{b}$ lead to singular results as well):\n",
    "\n",
    "<img align=\"left\" width=\"35%\" style=\"padding-left:100px;padding-right:10px\" src=\"Images/sse3_2_1_1.png\">"
   ]
  },
  {
   "cell_type": "markdown",
   "id": "3e514ac2",
   "metadata": {},
   "source": [
    "___\n",
    "<img align=\"left\" width=\"50%\" style=\"padding-right:10px;\" src=\"./Images/intersecting_lines.png\">\n",
    "<img align=\"left\" width=\"50%\" style=\"padding-right:10px;\" src=\"./Images/parallel_lines.png\">\n",
    "\n",
    "The figures above illustrate the difference between the geometry of consistent- (left) and inconsistent (right) systems. If we think of a linear system as a set of lines then they either cross once (unique solution for $\\m{x}$), are identical (infinite solutions for $\\m{x}$), or do not cross at all (no solution for the unknown $\\m{x}$). In the latter case the coefficient matrix will be singular i.e., $\\text{det}(\\m{A})=0$. If the lines do cross there is a solution, thus $\\text{det}(\\m{A})\\neq 0$. Note that in 2-D space with 2 equations the inverse usually exists unless the equations represent parallel lines. However, in $n$-Dimensional spaces with $n>2$ and $n$-equations it will be the exception for the inverse to exist.\n",
    "\n",
    "Now imagine that we have the non-homogeneous system with\n",
    "\n",
    "$$\\m{A}=\\begin{pmatrix}2&3\\\\4&3\\\\8&6\\end{pmatrix}\\tag{110}$$\n",
    "\n",
    "and \n",
    "\n",
    "$$\\m{b}=\\begin{pmatrix}6\\\\6\\\\12\\end{pmatrix}\\tag{111}$$\n",
    "\n",
    "This is represented by the figure below\n",
    "\n",
    "<img align=\"left\" width=\"50%\" style=\"padding-right:10px;\" src=\"./Images/2_identical_1_separate.png\">\n",
    "\n",
    "What may be observed from the figure is that though there are three equations; two of them are identical in terms of geometry, resulting in two rather than three lines. In this case we would expect there to be a unique solution for $\\m{x}$. However since $\\m{A}$ is not a square matrix $\\m{x}$ cannot be determined by the matrix product $\\m{A}^{-1}\\m{b}$  and must be determined from [105](#eq105) i.e., $\\m{x}=\\left(\\m{A}^T\\m{A}\\right)^{-1}\\m{A}^T\\m{b}$\n",
    "\n",
    "In this case $\\left(\\m{A}^T\\m{A}\\right)^{-1}\\m{A}^T$ is equal to the pseudo-inverse $\\m{A}^-$ \n",
    "\n",
    "We also must use [105](#eq105) for the case where we have multiple lines that have a common intersection such as the non-homogeneous system with\n",
    "\n",
    "$$\\m{A}=\\begin{pmatrix}2&3\\\\4&3\\\\8&7\\end{pmatrix}\\tag{112}$$\n",
    "\n",
    "and \n",
    "\n",
    "$$\\m{b}=\\begin{pmatrix}6\\\\6\\\\14\\end{pmatrix}\\tag{113}$$\n",
    "\n",
    "This is represented by the figure below:\n",
    "\n",
    "<img align=\"left\" width=\"50%\" style=\"padding-right:10px;\" src=\"./Images/3_lines_common_intersect.png\">\n",
    "\n",
    "\n",
    "In this case the lines are all different, but share a common intersection i.e., a unique solution for $\\m{x}$ exists.\n",
    "\n",
    "In ocean mapping we usually make several observations to determine where we are. We can often represent these observations by straight lines and if we have exactly as many observations as unknowns, we can determine uniquely were we are. However, there is error associated to the observations, so the unique estimate $\\m{x}$ will contain some level of error. If we add more observations to improve our results we will run into the issue that there will not be a unique intersection, in this case [105](#eq105) will usually still yield an estimate for $\\m{x}$! This result is known as the ***parametric least squares estimator*** $\\hat{\\m{x}}$. The topic of least squares estimation is extensive and will be addressed in detail in [Learning Least Squares]()\n",
    "\n"
   ]
  },
  {
   "cell_type": "markdown",
   "id": "5e44c72d",
   "metadata": {},
   "source": [
    "<a id='3_2_1_Self_Study_Exercise_2'></a>\n",
    "___\n",
    "## 3.2.1 Self Study Exercise 2\n",
    "\n",
    "1. Copy the code from [3.2.1 Self Study Exercise 2](#3_2_1_Self_Study_Exercise_1) in the code cell below\n",
    "2. Update `A` so that it represents the coefficient matrix $\\m{A}$ given in (112)\n",
    "3. Update `b` so that it represents the constant vector $\\m{b}$ given in (113)\n",
    "4. Update the line `x = la.inv(A)@b` so that it implements (105)"
   ]
  },
  {
   "cell_type": "code",
   "execution_count": 10,
   "id": "d740d1a7",
   "metadata": {},
   "outputs": [
    {
     "name": "stdout",
     "output_type": "stream",
     "text": [
      "[[-0.57894737  0.30263158  0.11842105]\n",
      " [ 0.68421053 -0.28947368 -0.02631579]]\n",
      "[[-0.57894737  0.30263158  0.11842105]\n",
      " [ 0.68421053 -0.28947368 -0.02631579]]\n"
     ]
    }
   ],
   "source": [
    "A = np.array([[2, 3], [4, 3], [8, 7]])\n",
    "print(la.pinv(A))\n",
    "print(la.inv(A.T@A)@A.T)\n"
   ]
  },
  {
   "cell_type": "code",
   "execution_count": 11,
   "id": "0411565b",
   "metadata": {
    "scrolled": true
   },
   "outputs": [
    {
     "data": {
      "image/png": "[encoded data removed]",
      "text/plain": [
       "<Figure size 360x360 with 1 Axes>"
      ]
     },
     "metadata": {
      "needs_background": "light"
     },
     "output_type": "display_data"
    }
   ],
   "source": [
    "# 1. Copy the code from '3.2.1 Self Study Exercise 2'\n",
    "# 2. Update `A` so that it represents (112)\n",
    "# 3. Update `b` so that it represents (113)\n",
    "# 4. Update the line `x = la.inv(A)@b` so that it implements (105)\n",
    "\n",
    "# Define the linear system\n",
    "A = np.array([[2, 3], [4, 3], [8, 7]])\n",
    "b = np.array([[6], [6], [14]])\n",
    "x_1 = np.linspace(-5, 5, 2)\n",
    "\n",
    "fig, ax1 = plt.subplots(nrows=1, ncols=1, figsize=(5, 5))\n",
    "\n",
    "# Calculate the unknown\n",
    "try:\n",
    "    x = la.inv(A.T@A)@A.T@b\n",
    "    # Plot the unknown\n",
    "    ax1.plot(x[0], x[1], 'ok')\n",
    "    ax1.text(x[0], x[1], r'   $\\mathbb{x}$', size='x-large')\n",
    "    plt.title('Consistent System: A is nonsingular')\n",
    "except np.linalg.LinAlgError as err:\n",
    "    if 'Singular matrix' in str(err):\n",
    "        x = np.empty((2, 1))\n",
    "        plt.title('Inconsistent System: A is singular')\n",
    "    else:\n",
    "        raise\n",
    "\n",
    "for i in range(A.shape[0]):\n",
    "    x_2 = (b[i]-A[i, 0]*x_1)/A[i, 1]\n",
    "    ax1.plot(x_1, x_2, label=r\"%.1f*$x_1$+%.1f*$x_2$=%.1f\" %\n",
    "             (A[i, 0], A[i, 1], b[i]))\n",
    "\n",
    "ax1.axis('equal')\n",
    "ax1.legend(fontsize=\"x-large\")\n",
    "plt.show()"
   ]
  },
  {
   "cell_type": "markdown",
   "id": "ee83e3de",
   "metadata": {},
   "source": [
    "___\n",
    "Worked Example:\n",
    "\n",
    "<img align=\"left\" width=\"35%\" style=\"padding-left:100px;padding-right:10px\" src=\"Images/sse3_2_1_2.png\">"
   ]
  },
  {
   "cell_type": "markdown",
   "id": "1ab91097",
   "metadata": {},
   "source": [
    " <a id='Computation_of_Systems_Having_a_Unique_Solution'></a>\n",
    " ___\n",
    "### 3.2.2 Computation of Systems Having a Unique Solution Without Computing an Inverse\n",
    "\n",
    "\n",
    "At this point some remarks about the relationship between the solution of linear equations and the computation of an inverse are on order:\n",
    "\n",
    "On the one hand, as noted in [2.3.6 Inverse of a Matrix: Computation](2_Matrix_Algebra.ipynb#Inverse_of_a_Matrix_Computation), the computation of an inverse can be formulated as the problem of solving a non-homogeneous system of linear equations with a unique solution. A specific numerical method for computing the inverse of a symmetric matrix, based on this formulation is the Choleski algorithm.\n",
    "\n",
    "On the other hand ([107](#eq107)) implies that the solving a non-homogeneous system of linear equations with a unique solution involves the computation of the inverse $\\m{A}^{-1}$. In fact, numerical techniques for solving linear equations need not require explicit computation of an inverse. Numerical methods can either be *iterative* or *direct*. Iterative techniques begin with an initial approximation (to the solution) and use a suitable converging process to successively refine this approximation. Iterative techniques are suited to simple implementation on a computer, where they are relatively insensitive to round-off errors. Direct methods yield the exact solution (in the absence of round-off error) in a finite number of elementary arithmetic operations. Direct methods are usually based on the concept of **matrix decomposition** (also known as **matrix factorization**), in which the initial matrix $\\m{A}$ is first transformed in the product of two or more other matrices having certain special properties. For example the aforementioned Choleski algorithm first decomposes the initial matrix in the product of a lower triangular matrix $\\m{L}$ and its transpose $\\m{L}^T$ i.e., $\\m{A} = \\m{L}\\m{L}^T$. \n",
    "\n",
    "Direct solution of linear equations without explicit inversion involves three steps:\n",
    "\n",
    "1. Elimination of some elements of unknown vector $\\m{x}$ from the system\n",
    "2. Solution for the smaller system\n",
    "3. Back-substitution to solve the eliminated elements of $\\m{x}$\n",
    "\n",
    "Imagine that we have the system:\n",
    "\n",
    "$$\\begin{array}. x_1 &-& 2x_2 &+& x_3 &=& 1\\\\ 2x_1 &-& 3x_2 &+& 4x_3 &=& 5 \\\\ 2x_1 &-& 5x_2 &+&2x_3&=& 1\\end{array}\\tag{114}$$\n",
    " \n",
    " Applying the three steps, we eliminate $x_1$ by subtracting twice the first equation from the second equation, and by subtracting the third equation from the second equation, to obtain:\n",
    " \n",
    "$$\\begin{array}. x_2 &+& 2x_3 &=& 3\\\\ 2x_2 &+& 2x_3 &=& 4 \\end{array}\\tag{115}$$\n",
    " \n",
    "To eliminate $x_2$ from these two equations we subtract the second from twice the first row to obtain\n",
    " \n",
    "$$\\begin{array}. 2x_3 &=& 2\\end{array}\\tag{116}$$\n",
    "  \n",
    "This completes the elimination step. We now have a triangular system, constructed by taking one of the original three equations (say the first) of (114), one of the two equations (say the first) of (115) and the final equation (116) to obtain: \n",
    "\n",
    "$$\\begin{array}. x_1 &-& 2x_2 &+& x_3 &=& 1\\\\   & & x_2 &+& 2x_3 &=& 3 \\\\   & & & &2x_3&=& 2\\end{array}\\tag{117}$$\n",
    "\n",
    "or\n",
    "\n",
    "$$\\begin{pmatrix}1&-2&1 \\\\ &1 & 2 \\\\ & & 2\\end{pmatrix}\\begin{pmatrix}x_1 \\\\ x_2 \\\\ x_3\\end{pmatrix}=\\begin{pmatrix}1 \\\\ 3 \\\\ 2\\end{pmatrix}\\tag{118}$$\n",
    "  \n",
    "We solve this system bottom to top. From the first equation $x_3 = 1$. Back substituting this in the value for $x_3$ in the second equation we obtain $x_2 = 1$, back substituting these values for $x_2$ and $x_3$ into the first equation we obtain $x_1=2$. Note that the only explicit matrix inversion here was solving for $x_3$, a scalar division.\n",
    "\n",
    "$$x=\\begin{pmatrix}2\\\\1\\\\1\\end{pmatrix}$$\n",
    "\n",
    "The code cell below implements this approach for equations (114)"
   ]
  },
  {
   "cell_type": "code",
   "execution_count": 19,
   "id": "25b4eade",
   "metadata": {
    "scrolled": true
   },
   "outputs": [
    {
     "name": "stdout",
     "output_type": "stream",
     "text": [
      "Augmented coefficient matrix 𝐀 and coefficient vector 𝐛:\n"
     ]
    },
    {
     "data": {
      "text/latex": [
       "$\\displaystyle \\begin{bmatrix} \n",
       " 1.0000& -2.0000& 1.0000& 1.0000\\\\\n",
       " 2.0000& -3.0000& 4.0000& 5.0000\\\\\n",
       " 2.0000& -5.0000& 2.0000& 1.0000\\\\\n",
       "\\end{bmatrix}$"
      ],
      "text/plain": [
       "<IPython.core.display.Math object>"
      ]
     },
     "metadata": {},
     "output_type": "display_data"
    },
    {
     "name": "stdout",
     "output_type": "stream",
     "text": [
      "Matrix 𝐀 has rank 3.000000\n",
      "Matrix [𝐀|𝐛] has rank 3.000000\n",
      "Number of solution vectors 𝐱: one (non-homogeneous: 𝐱≠0)\n",
      "\n",
      "Transformed triangular coefficient matrix augmented by the constant vector:\n"
     ]
    },
    {
     "data": {
      "text/latex": [
       "$\\displaystyle \\begin{bmatrix} \n",
       " 1.0000& -2.0000& 1.0000& 1.0000\\\\\n",
       " 0.0000& 1.0000& 2.0000& 3.0000\\\\\n",
       " 0.0000& 0.0000& 2.0000& 2.0000\\\\\n",
       "\\end{bmatrix}$"
      ],
      "text/plain": [
       "<IPython.core.display.Math object>"
      ]
     },
     "metadata": {},
     "output_type": "display_data"
    },
    {
     "name": "stdout",
     "output_type": "stream",
     "text": [
      "\n",
      "Unknown vector  𝐱:\n"
     ]
    },
    {
     "data": {
      "text/latex": [
       "$\\displaystyle \\begin{bmatrix} \n",
       " 2.0000 \\\\ 1.0000 \\\\ 1.0000 \\\\\\end{bmatrix}$"
      ],
      "text/plain": [
       "<IPython.core.display.Math object>"
      ]
     },
     "metadata": {},
     "output_type": "display_data"
    }
   ],
   "source": [
    "# Create a coeffcient matrix A and a constant vector b to represent equations 114\n",
    "A = np.array([[1, -2, 1], [2, -3, 4], [2, -5, 2]])\n",
    "b = np.array([[1], [5], [1]])\n",
    "\n",
    "# Create the unknown vector x\n",
    "x = np.zeros((3, 1))\n",
    "\n",
    "# Determine the number of linear equations\n",
    "n = A.shape[0]\n",
    "\n",
    "# the number of unknows represented by the set of linear equations\n",
    "# Assign Ab the Augmented matrix [A|b]\n",
    "Ab = np.column_stack((A, b))\n",
    "print('Augmented coefficient matrix 𝐀 and coefficient vector 𝐛:')\n",
    "display_matrix(Ab)\n",
    "\n",
    "A_rank = la.matrix_rank(A)\n",
    "Ab_rank = la.matrix_rank(Ab)\n",
    "print('Matrix 𝐀 has rank %f' % A_rank)\n",
    "print('Matrix [𝐀|𝐛] has rank %f' % Ab_rank)\n",
    "\n",
    "# Test the matrices to determine the number of solutions\n",
    "\n",
    "if not Ab_rank == A_rank:\n",
    "    print('The system represent by [𝐀|𝐛]  is inconsistent')\n",
    "    n_solutions = 0\n",
    "elif A_rank == A.shape[1]:\n",
    "    n_solutions = 1\n",
    "    if all(b) == 0:\n",
    "        print('Number of solution vectors 𝐱: one (homogeneous: 𝐱=0)')\n",
    "    else:\n",
    "        print('Number of solution vectors 𝐱: one (non-homogeneous: 𝐱≠0)')\n",
    "else:\n",
    "    n_solutions = np.inf\n",
    "    if all(b) == 0:\n",
    "        print('Homogeneous: number of solution vectors 𝐱: infinite')\n",
    "    else:\n",
    "        print('Non-homogeneous: number of solution vectors 𝐱: infinite')\n",
    "\n",
    "# Solve the solution if n=1\n",
    "\n",
    "if n_solutions == 0:\n",
    "    print('No solution for unknown vector 𝐱')\n",
    "elif n_solutions == 1:\n",
    "    # Iteratively transform the augmented matrix Ab to an augmentation of an upper triangular matrix with a \n",
    "    # new constant vector through successive variable elimination. \n",
    "    # For clarity we will copy Ab to Ub and transform it, but it would be much more efficient to manipulate \n",
    "    # Ab directly\n",
    "\n",
    "    Ub = Ab.copy()   # Step for clarity, but not efficiency\n",
    "    for i in range(1, n):\n",
    "        for j in range(i,n):\n",
    "            Ub[j, :] = Ub[j, :]-Ub[j, i-1]/Ub[i-1, i-1]*Ub[i-1, :]\n",
    "\n",
    "\n",
    "    # Print Ub, it should now coincide with the augmented matrix for 117\n",
    "    print('\\nTransformed triangular coefficient matrix augmented by the constant vector:')\n",
    "    display_matrix(Ub)\n",
    "\n",
    "    # Iteratively back substitute the variables in reverse order\n",
    "    # Make use of the fact that `x` has been initialized as a Null vector\n",
    "    for i in reversed(range(0, n)):\n",
    "        x[i] = (Ub[i, n]-Ub[i, 0:n]@x[0:n])/Ub[i, i]\n",
    "\n",
    "    # Show the solution found thus\n",
    "    print('\\nUnknown vector  𝐱:')\n",
    "    display_matrix(x)\n",
    "\n",
    "else:\n",
    "    print('System with infinite solutions')"
   ]
  },
  {
   "cell_type": "markdown",
   "id": "750e952c",
   "metadata": {},
   "source": [
    " \n",
    "___\n",
    "<img align=\"left\" width=\"6%\" style=\"padding-right:10px;\" src=\"./Images/info.png\">\n",
    "\n",
    "In least squares approximation and estimation the explicit computation of an inverse matrix is usually desired, because of its relationship to the statistical properties of the solution (the inverse matrix calculated is the covariance matrix of the unknown $\\m{x}$ -  we will address this in detail in [Learning Least Squares](). For this reason the least squares solution (such as ([105](#eq105)) is usually determined by explicit inversion of, in this case, $\\left(\\m{A}^T\\m{A}\\right)^{-1}$. However, for systems of equations large enough to strain the storage capacity of the computer being used, an elimination process similar to the one illustrated above is more practical than explicit inversion. In this case the matrix inversion required for determining the covariance matrix (or at least parts of its inverse) can be determined afterwards."
   ]
  },
  {
   "cell_type": "markdown",
   "id": "d30f420d",
   "metadata": {},
   "source": [
    "<a id='3_2_2_Self_Study_Exercise_1'></a>\n",
    "___\n",
    "## 3.2.2 Self Study Exercise 1\n",
    "\n",
    "The code in the cell above contains the lines\n",
    "\n",
    "    for i in range(1,n):\n",
    "        Ub[i:n,:]=Ub[i:n,:]-Ub[i,i-1]/Ub[i-1,i-1]*Ub[i-1,:]\n",
    "        \n",
    "1. Explain how this successively eliminates the variables $x_1$, $x_2$ and, $x_3$, (represented by `x[0]`, `x[1]` and, `x[2]` respectively).\n",
    "   \n",
    "The code cell also contains the lines\n",
    "\n",
    "    for i in reversed(range(0,n)):\n",
    "        x[i]=(U[i,n]-U[i,0:n]@x[0:n])/U[i,i]\n",
    "        \n",
    "2. Explain why, for this code to work, it is essential that the array `x` is initialized with zeros\n",
    "\n",
    "3. Can you think of another way of achieving the same effect in which it does not matter with what values `x` is initiated?"
   ]
  },
  {
   "cell_type": "code",
   "execution_count": 13,
   "id": "117a5abe",
   "metadata": {},
   "outputs": [],
   "source": [
    "q_3_2_2_1_1 = 'First the 1st expression is scaled subtracted from the 2nd through nth equations so as '\n",
    "q_3_2_2_1_1 += 'the eliminate the first column coefficient from them. Then the 2nd equation is scaled and subtracted'\n",
    "q_3_2_2_1_1 += 'from the 3d through n-th equation to eliminate the 2nd column coefficient from them. This is iterated'\n",
    "q_3_2_2_1_1 += 'until all bit the last column elements are zero'\n",
    "\n",
    "q_3_2_2_1_2 = 'Since this code contains the matrix product U[i,0:n]@x[0:n] to determine x[i] and x[i] is part of x[0:n] it'\n",
    "q_3_2_2_1_2 += 'must be initiated to zero to not affect the outcome'\n",
    "\n",
    "q_3_2_2_1_3 = 'For example, You could create a boolean index vector that has all values in [0:n] set to True, with the'\n",
    "q_3_2_2_1_3 += 'exception of the element at index i, which is set to False'"
   ]
  },
  {
   "cell_type": "markdown",
   "id": "a0b56c6b",
   "metadata": {},
   "source": [
    "<a id='Computation_of_Systems_Having_a_Unique_Solution'></a>\n",
    " ___\n",
    "### 3.2.3 Computation of Systems Having Infinite Number of Solutions\n",
    "\n",
    "If the rank of the coefficient matrix $\\m{A}$ is less than the number of unknowns (dimension of $\\m{x}$) then  there will be an infinite number of solutions for both homogeneous and non-homogeneous systems. If there are $n$-unknowns and the rank of $\\m{A}$ is $r$ then $(n-r)$ of the unknowns may be chosen so that the coefficient of the matrix of the remaining $r$ unknowns is of rank $r$. When these $(n-r)$ unknowns are assigned arbitrary values, the remaining $r$ unknowns will be uniquely determined. Generalized inverses can be used for the solution of such systems.\n",
    "\n",
    "An example of a non-homogeneous system having an infinite number of solutions is:\n",
    "\n",
    "$$\\begin{array}. 1x_1 &-&2x_2&+&x_3&=&1 \\\\ 2x_1 &-&3x_2&+&4x_3&=&5 \\\\ 2x_1 &-&5x_2& & &=&-1\\end{array}\\tag{119}$$\n",
    "\n",
    "The coefficient matrix $\\m{A}$ is then:\n",
    "\n",
    "$$A = \\begin{pmatrix} 1 & -2 & 1 \\\\ 2 & -3 & 4 \\\\ 2 &-5&0\\end{pmatrix}\\tag{120}$$\n",
    "\n",
    "and has rank $2$. By assigning one of the unknowns (in this case $x_3$) an arbitrary value, the other two unknowns are uniquely determined. In fact the equations can be combined to give:\n",
    "\n",
    "$$\\begin{array}. x_1&=&7&-&5x_3 \\\\  x_2&=&3&-&2x_3\\end{array}\\tag{121}$$"
   ]
  },
  {
   "cell_type": "markdown",
   "id": "90adde75",
   "metadata": {},
   "source": [
    "<a id='Application_to_Least_Squares_Adjustment'></a>\n",
    " ___\n",
    "### 3.2.4 Application to Least Squares Adjustment\n",
    "\n",
    "If you are already familiar with the parametric Method of the Least Squares this may be of interest to you, if not: move on to [4 Linear Transformations](4_Linear_Transformations.ipynb)\n",
    "\n",
    "In a parametric least squares estimation we have a set of **observation equations** modeling the observed values. For a proper experiment there should be more equations than unknowns i.e., more observations than unknowns. Due to observation errors these equations will be inconsistent. Therefore rather than attempting a direct solution of these solutions we apply the least squares criterion and formulate the **normal equations**:\n",
    "\n",
    "$$\\m{Nx}=\\m{u}\\tag{122}$$\n",
    "\n",
    "In most cases the normal matrix equation $\\m{N}$ is square, symmetric, positive definite (see [4 Linear Transformations](4_Linear_Transformations.ipynb)), non-singular, and with dimension and rank equivalent to the dimension of the unknown vector $\\m{x}$. We therefore have a non-homogeneous, consistent system of normal equations with a unique solution given by:\n",
    "\n",
    "$$\\m{x}=\\m{N}^{-1}\\m{u}\\tag{123}$$\n",
    "\n",
    "In which we make use of the special symmetry and positive definite properties of $\\m{N}$ to simplify its calculation."
   ]
  },
  {
   "cell_type": "markdown",
   "id": "7c2274a8",
   "metadata": {},
   "source": [
    "___\n",
    "### Useful Resources\n",
    "\n",
    "[Learning Least Squares]()\n",
    "\n",
    "[Gilbert Strang MIT video lecture series](https://ocw.mit.edu/courses/18-06-linear-algebra-spring-2010/video_galleries/video-lectures/)"
   ]
  },
  {
   "cell_type": "markdown",
   "id": "b2c91e45",
   "metadata": {},
   "source": [
    "___\n",
    "## Jump to Chapter\n",
    "\n",
    "[1: Introduction](1_Introduction.ipynb)<br>\n",
    "[2: Matrix Algebra.ipynb](2_Matrix_Algebra.ipynb)<br>\n",
    "[4: Linear Transformations](4_Linear_Transformations.ipynb)<br>\n",
    "[5: Solution of Nonlinear Equations](5_Solution_of_Nonlinear_Equations.ipynb)<br>\n",
    "[6: The Choleski Method](6_The_Choleski_Method.ipynb) <br>"
   ]
  },
  {
   "cell_type": "markdown",
   "id": "d6e2fe79",
   "metadata": {},
   "source": [
    "___\n",
    "#### Copyright 2022, Semme J. Dijkstra\n",
    "\n",
    "Permission is hereby granted, free of charge, to any person obtaining a copy of this software and associated documentation files (the \"Software\"), to deal in the Software without restriction, including without limitation the rights to use, copy, modify, merge, publish, distribute, sublicense, and/or sell copies of the Software, and to permit persons to whom the Software is furnished to do so, subject to the following conditions:\n",
    "\n",
    "The above copyright notice and this permission notice shall be included in all copies or substantial portions of the Software.\n",
    "\n",
    "THE SOFTWARE IS PROVIDED \"AS IS\", WITHOUT WARRANTY OF ANY KIND, EXPRESS OR IMPLIED, INCLUDING BUT NOT LIMITED TO THE WARRANTIES OF MERCHANTABILITY, FITNESS FOR A PARTICULAR PURPOSE AND NONINFRINGEMENT. IN NO EVENT SHALL THE AUTHORS OR COPYRIGHT HOLDERS BE LIABLE FOR ANY CLAIM, DAMAGES OR OTHER LIABILITY, WHETHER IN AN ACTION OF CONTRACT, TORT OR OTHERWISE, ARISING FROM, OUT OF OR IN CONNECTION WITH THE SOFTWARE OR THE USE OR OTHER DEALINGS IN THE SOFTWARE."
   ]
  },
  {
   "cell_type": "code",
   "execution_count": null,
   "id": "6be923de",
   "metadata": {},
   "outputs": [],
   "source": []
  }
 ],
 "metadata": {
  "kernelspec": {
   "display_name": "Python 3 (ipykernel)",
   "language": "python",
   "name": "python3"
  },
  "language_info": {
   "codemirror_mode": {
    "name": "ipython",
    "version": 3
   },
   "file_extension": ".py",
   "mimetype": "text/x-python",
   "name": "python",
   "nbconvert_exporter": "python",
   "pygments_lexer": "ipython3",
   "version": "3.9.7"
  }
 },
 "nbformat": 4,
 "nbformat_minor": 5
}
