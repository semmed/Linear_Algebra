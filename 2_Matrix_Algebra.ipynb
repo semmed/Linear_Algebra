{
 "cells": [
  {
   "cell_type": "markdown",
   "id": "7a3a8365",
   "metadata": {},
   "source": [
    "<img align=\"left\" width=\"30%\" style=\"padding-right:10px;\" src=\"Images/Ccom.png\">\n",
    "\n",
    "\n",
    "___\n",
    "# Review of Linear Algebra\n",
    "## 2 Matrix Algebra\n",
    "\n",
    "Jupyter Notebook Implementation: *Semme J. Dijkstra, 2022*\n",
    "\n",
    "Original Linear Algebra text and in text examples: <br>*David E. Wells, Kresho Frankich, 1994*\n",
    "___\n",
    "\n",
    "<a href=\"https://teams.microsoft.com/l/team/19%3auL2OnH3RSfCWwU2Fd3VYGLT_03BYOfA3KB_OBp10CIY1%40thread.tacv2/conversations?groupId=5c11a428-14b6-429d-b7f5-a61ebc0a440b&tenantId=d6241893-512d-46dc-8d2b-be47e25f5666\"><img src=\"Images/help.png\"  title=\"Ask questions on Teams\" align=\"right\" width=\"10%\" alt=\"Teams.com\\\"></a> \n",
    "\n",
    "Minor additional notes and edits: *Semme J. Dijkstra, 2022*<br>\n",
    "Additional examples: *Semme J. Dijkstra, 2022*<br>\n",
    "Python code and explanations: *Semme J. Dijkstra, 2022*\n",
    "___"
   ]
  },
  {
   "cell_type": "code",
   "execution_count": 1,
   "id": "9529f640",
   "metadata": {},
   "outputs": [],
   "source": [
    "import matplotlib.pyplot as plt\n",
    "import numpy as np\n",
    "from numpy import pi, sin, cos\n",
    "import numpy.linalg as la\n",
    "from my_code.latex_output import display_matrix\n",
    "from my_code.boat import boat\n",
    "# %matplotlib notebook\n",
    "# from matplotlib.animation import FuncAnimation\n",
    "%load_ext autoreload\n",
    "%autoreload 2"
   ]
  },
  {
   "cell_type": "markdown",
   "id": "1e230edf",
   "metadata": {},
   "source": [
    "___\n",
    "<img align=\"left\" width=\"6%\" style=\"padding-right:10px;\" src=\"./Images/info.png\">\n",
    "\n",
    "# LaTex<br>\n",
    "\n",
    "This is a [Jupyter](https://jupyter.org/) notebook in which heavy use of [LaTex](https://www.latex-project.org/) is made. LaTex is *\\\"a high-quality typesetting system; it includes features designed for the production of technical and scientific documentation. LaTeX is the de facto standard for the communication and publication of scientific documents.\\\"* according to [the Latex project](https://www.latex-project.org/)\n",
    "\n",
    "Latex allows the creation of macros and other type-setting methods of convenience. This particular Markdown cell you are reading is used for the definition of new LaTex operators and commands, but they are hidden from view. If you are interested: double click on this cell to enter its edit mode and you will be able see how they are implemented.\n",
    "\n",
    "<div hidden>\n",
    "$\\usepackage{amsmath,amssymb}$\n",
    "\n",
    "$\\DeclareRobustCommand{\\bbone}{\\text{\\usefont{U}{bbold}{m}{n}1}}$\n",
    "\n",
    "$\\DeclareMathOperator{\\EX}{\\mathbb{E}}% expected value$\n",
    "\n",
    "$\\DeclareMathOperator{\\res}{\\vec{r}}$\n",
    "\n",
    "$\\DeclareMathOperator{\\mf}{\\mu_{1}\\sigma_{2}^{2}+\\mu_{2}\\sigma_{1}^{2}\\over{\\sigma_{1}^{2} + \\sigma_{2}^{2}}}$\n",
    "    \n",
    "$\\DeclareMathOperator{\\sf}{{\\sigma_{1}^{2}\\sigma_{2}^{2}}\\over{\\sigma_{1}^{2}+\\sigma_{2}^{2}}}$\n",
    "    \n",
    "$\\newcommand{\\ex}[1]{\\mathbb{E}\\{#1\\}}$\n",
    "    \n",
    "$\\newcommand{\\dev}[1]{\\mathbb{E}\\{#1^o_i - \\mathbb{E}\\{#1\\}\\}}$\n",
    "    \n",
    "$\\newcommand{\\cov}[1]{\\mathbb{E}\\{(#1^o_i - \\mathbb{E}\\{#1\\})(#1 - \\mathbb{E}\\{#1\\})^T\\}}$\n",
    "    \n",
    "$\\newcommand{\\m}[1]{\\mathbf{#1}}$\n",
    "\n",
    "$\\newcommand{\\col}[2]{\\begin{pmatrix}#1 \\\\ #2 \\end{pmatrix}}$\n",
    "    \n",
    "</div>"
   ]
  },
  {
   "cell_type": "markdown",
   "id": "2bdb5377",
   "metadata": {},
   "source": [
    "___\n",
    "## 2.1 Special Matrices\n",
    "\n",
    "We will often be concerned with matrices having the same numbers of columns as rows. Such a matrix ks called a ***square*** matrix:\n",
    "\n",
    "$$_n\\m{S}_n=\\begin{pmatrix}\n",
    "a_{11} & a_{12} & \\dots & a_{1n}\\\\\n",
    "a_{21} & a_{22} & \\dots & a_{2n}\\\\\n",
    "\\vdots & \\vdots & \\ddots & \\vdots \\\\\n",
    "a_{n1} & a_{n2} & \\dots & a_{nn}\n",
    "\\end{pmatrix}\\tag{4}$$\n",
    "\n",
    "\n",
    "A square matrix having all elements zero except along the principal diagonal running from the top left to the bottom right is a ***diagonal matrix***:\n",
    "\n",
    "$$_3\\m{D}_3=\\begin{pmatrix}\n",
    "-1 & 0 & 0\\\\\n",
    "0 & 1 & 0\\\\\n",
    "0 & 0 & 0\n",
    "\\end{pmatrix}\\tag{5}$$\n",
    "\n",
    "A diagonal matrix which has all the diagonal elements equal is called a ***scalar matrix***:\n",
    "\n",
    "$$_4\\m{K}_4=\\begin{pmatrix}\n",
    "3 & 0 & 0 & 0\\\\\n",
    "0 & 3 & 0 & 0\\\\\n",
    "0 & 0 & 3 & 0\\\\\n",
    "0 & 0 & 0 & 3\n",
    "\\end{pmatrix}\\tag{6}$$\n",
    "\n",
    "A scalar matrix which has diagonal elements equal to one is called a ***unit*** or ***identity matrix*** and is usually denoted $I$:\n",
    "\n",
    "$$_2\\m{I}_2=\\begin{pmatrix}\n",
    "1 & 0 \\\\\n",
    "0 & 1\n",
    "\\end{pmatrix}\\tag{7}$$\n"
   ]
  },
  {
   "cell_type": "markdown",
   "id": "2db456fd",
   "metadata": {},
   "source": [
    "___\n",
    "### 2.1 Self Study Exercise 1\n",
    "\n",
    "Write out the linear equations $\\m{Ax} = \\m{y}$ explicitly, when $\\m{A}$ is equal to the examples $(4)$ to $(7)$ on a piece of paper.\n",
    "\n",
    "Comment on the nature of these equations in each case in the code cell below"
   ]
  },
  {
   "cell_type": "code",
   "execution_count": 6,
   "id": "8ed97b75",
   "metadata": {},
   "outputs": [],
   "source": [
    "### 2.1 Self Study Exercise 7\n",
    "\n",
    "q_2_1_1a = 'The matrix S above ...'\n",
    "q_2_1_1b = 'The matrix D above ...'\n",
    "q_2_1_1c = 'The matrix K above ...'\n",
    "q_2_1_1d = 'The matrix I above ...'"
   ]
  },
  {
   "cell_type": "markdown",
   "id": "a13cafae",
   "metadata": {},
   "source": [
    "A square matrix in which all the elements above the diagonal are zero is a ***lower triangular*** matrix:\n",
    "\n",
    "$$_3\\m{L}_3=\\begin{pmatrix}\n",
    "5 & 0 & 0\\\\\n",
    "7 & 9 & 0\\\\\n",
    "8 & 6 & 3\n",
    "\\end{pmatrix}\\tag{8}$$\n",
    "\n",
    "If all the elements below the diagonal are zero, it is an ***upper triangular*** matrix.\n",
    "\n",
    "$$_3\\m{U}_3=\\begin{pmatrix}\n",
    "3 & 1 & 1 & 1\\\\\n",
    "0 & 3 & 1 & 1\\\\\n",
    "0 & 0 & 3 & 1\\\\\n",
    "0 & 0 & 0 & 3\n",
    "\\end{pmatrix}\\tag{9}$$\n",
    "\n",
    "If the equivalent elements above and below the diagonal are equal (that is for $\\m{A}$  $a_{ij}=a_{ji}\\forall i,j$) then the matrix is a ***symmetric matrix***\n",
    "\n",
    "$$_2\\m{S}_2=\\begin{pmatrix}\n",
    "2 & 3 \\\\\n",
    "3 & 1\n",
    "\\end{pmatrix}\\tag{10}$$"
   ]
  },
  {
   "cell_type": "markdown",
   "id": "3f0c0eea",
   "metadata": {},
   "source": [
    "___\n",
    "### 2.1 Self Study Exercise 2\n",
    "\n",
    "Write out the linear equations $\\m{Ax} = \\m{y}$ explicitly, when $\\m{A}$ is equal to the examples $(8)$ to $(10)$ on a piece of paper.\n",
    "\n",
    "Comment on the nature of these equations in each case in the code cell below"
   ]
  },
  {
   "cell_type": "code",
   "execution_count": 7,
   "id": "f9eccdf2",
   "metadata": {},
   "outputs": [],
   "source": [
    "### 2.1 Self Study Exercise 7\n",
    "\n",
    "q_2_1_2a = 'The matrix L above ...'\n",
    "q_2_1_2b = 'The matrix U above ...'\n",
    "q_2_1_2c = 'The matrix S above ...'"
   ]
  },
  {
   "cell_type": "markdown",
   "id": "87e9884d",
   "metadata": {},
   "source": [
    "Finally, if all the elements of a matrix are zero the matrix is called a ***null matrix***, denoted $\\m{0}$.\n",
    "\n",
    "$$_2\\m{0}_3=\\begin{pmatrix}\n",
    "0 & 0 & 0 \\\\\n",
    "0 & 0 & 0\n",
    "\\end{pmatrix}\\tag{11}$$"
   ]
  },
  {
   "cell_type": "markdown",
   "id": "21156857",
   "metadata": {},
   "source": [
    "___\n",
    "## 2.2 Basic Matrix Operations\n",
    "\n",
    "The four basic operations on scalars are familiar: \n",
    "    \n",
    "    - addition\n",
    "    - subtraction\n",
    "    - multiplication\n",
    "    - division\n",
    "    \n",
    "Close equivalents of the first three of these are used on matrices. While there is no direct matrix equivalent to scalar division, matrix *inversion* is equivalent to taking the *reciprocal* of a scalar. This is discussed separately in the next section. There are some other operations on matrices that have no scalar equivalent, such as the multiplication of a matrix by a scalar, ***transposition*** of a matrix, finding the ***trace*** of a matrix, and finding the ***determinant*** of a matrix.\n"
   ]
  },
  {
   "cell_type": "markdown",
   "id": "d880fb11",
   "metadata": {},
   "source": [
    "### 2.2.0 Basic Matrix Operations and `numpy` Broadcasting\n",
    "\n",
    "Note that `numpy` supports a mechanism not part of Linear Algebra known as ***Broadcasting***. From the [`numpy` pages:](https://numpy.org/doc/stable/user/basics.broadcasting.html):\n",
    "\n",
    "    The term broadcasting describes how NumPy treats arrays with different shapes during \n",
    "    arithmetic operations. Subject to certain constraints, the smaller array is “broadcast” \n",
    "    across the larger array so that they have compatible shapes. Broadcasting provides a \n",
    "    means of vectorizing array operations so that looping occurs in C instead of Python. \n",
    "    It does this without making needless copies of data and usually leads to efficient \n",
    "    algorithm implementations. There are, however, cases where broadcasting is a bad idea \n",
    "    because it leads to inefficient use of memory that slows computation.\n",
    "    \n",
    "From the above it follows that we generally should make use of the implicit expansion that `broadcasting` provides. It leads to more legible code that is usually more efficient. However, it does violate the idea that the order of matrices (scalars and vectors being special cases of matrices) should be consistent with the mathematical operation to be performed. In these Notebooks we will give examples of the 'proper' linear algebra form along with the for that you may use when coding in `Python`\n",
    "\n",
    "NumPy operations are usually done on pairs of arrays on an element-by-element basis. In the simplest case, the two arrays must have exactly the same shape, as in the following example (we will use an example of matrix addition which you will learn about in [2.2.2 Basic Matrix Operations: Addition]\n",
    "    \n",
    "$$\\m{v}_1=\\col{-2}{-6}, \\m{v}_2=\\col{-2}{-4}, \\m{v}_3=\\col{0}{6}, \\m{v}_4=\\col{2}{4}, \\m{v}_5=\\col{2}{-6}$$    \n",
    "    \n",
    "    The result is equivalent to the previous example where b was an array. We can think of the scalar b \n",
    "    being stretched during the arithmetic operation into an array with the same shape as a. The new \n",
    "    elements in b, as shown in Figure 1, are simply copies of the original scalar. The stretching analogy \n",
    "    is only conceptual. NumPy is smart enough to use the original scalar value without actually making \n",
    "    copies so that broadcasting operations are as memory and computationally efficient as possible.\n",
    "    A scalar is broadcast to match the shape of the 1-d array it is being multiplied to.\n",
    "\n",
    "    In the simplest example of broadcasting, the scalar b is stretched to become an array of same shape as \n",
    "    a, so the shapes are compatible for element-by-element multiplication.\n",
    "\n",
    "This is the statement that really warrants the step-by-step explanation; what happens here is not part of traditional linear algebra, but is a very useful addition for when you program - the process is called **implicit expansion** and allows you to write cleaner, easy to understand code. In linear algebra there is a mismatch in dimensions in the expression written above. Python recognizes this and replaces the vector $\\m{t}$ represented by the variable `t` by the matrix $[\\m{t, t, ... t}]$ matching the number of columns in `B` and thus resulting in the addition of the vector `t` to every vertex contained within `B`. Thus matrix `Bt` is matrix `B` transformed by pure translation vector `t` (you'll learn what a pure translation is next).\n"
   ]
  },
  {
   "cell_type": "markdown",
   "id": "fdaddb17",
   "metadata": {},
   "source": [
    "___\n",
    "### 2.2.1 Basic Matrix Operations: Equality\n",
    "\n",
    "Two matrices $_m\\m{A}_n$ and $_p\\m{B}_q$ are *identical* only if they have the same dimensions i.e., $m=p$ and $n=q$, and if all corresponding elements are equal $(a_{ij}=b_{ij}\\text{  }\\forall\\text{  }i,j)$. Note that the $\\forall$ symbol means **'for all'**.\n",
    "\n",
    "Note that the `equality operator` in `numpy` will allow the evaluation of `numpy` arrays of unequal dimension.\n"
   ]
  },
  {
   "cell_type": "markdown",
   "id": "00884fe8",
   "metadata": {},
   "source": [
    "___\n",
    "### 2.2.1.1 Basic Matrix Operations: Equality and Using Numpy Arrays\n",
    "\n",
    "`numpy` handles arrays very efficiently, but this comes with some consequences that initially may be confusing to programmers. \n",
    "\n",
    "If you for example want to create a copy of an instance of a matrix $\\m{D}$ and name it $\\m{E}$ it is tempting to use:\n",
    "\n",
    "    B = A"
   ]
  },
  {
   "cell_type": "code",
   "execution_count": 8,
   "id": "fb59cfdc",
   "metadata": {},
   "outputs": [
    {
     "name": "stdout",
     "output_type": "stream",
     "text": [
      "Matrix A:\n"
     ]
    },
    {
     "data": {
      "text/latex": [
       "$\\displaystyle \\begin{bmatrix} \n",
       " 1.0000& 2.0000\\\\\n",
       " 3.0000& 4.0000\\\\\n",
       "\\end{bmatrix}$"
      ],
      "text/plain": [
       "<IPython.core.display.Math object>"
      ]
     },
     "metadata": {},
     "output_type": "display_data"
    },
    {
     "name": "stdout",
     "output_type": "stream",
     "text": [
      "Matrix B:\n"
     ]
    },
    {
     "data": {
      "text/latex": [
       "$\\displaystyle \\begin{bmatrix} \n",
       " 1.0000& 2.0000\\\\\n",
       " 3.0000& 4.0000\\\\\n",
       "\\end{bmatrix}$"
      ],
      "text/plain": [
       "<IPython.core.display.Math object>"
      ]
     },
     "metadata": {},
     "output_type": "display_data"
    }
   ],
   "source": [
    "A = np.asarray([[1., 2.],[3., 4.]])\n",
    "print('Matrix A:')\n",
    "display_matrix(A)\n",
    "B = A\n",
    "print('Matrix B:')\n",
    "display_matrix(B)"
   ]
  },
  {
   "cell_type": "markdown",
   "id": "e7b89a93",
   "metadata": {},
   "source": [
    "From the above code cell it appears that everything worked as intended, the elements of `B` match those of `A` and we can happily use `B` for our purposes. But let us first see what happens if we change an element of `B`:"
   ]
  },
  {
   "cell_type": "code",
   "execution_count": 9,
   "id": "a2857ce8",
   "metadata": {},
   "outputs": [
    {
     "name": "stdout",
     "output_type": "stream",
     "text": [
      "Matrix A after manipulation of B:\n"
     ]
    },
    {
     "data": {
      "text/latex": [
       "$\\displaystyle \\begin{bmatrix} \n",
       " 11.0000& 2.0000\\\\\n",
       " 3.0000& 4.0000\\\\\n",
       "\\end{bmatrix}$"
      ],
      "text/plain": [
       "<IPython.core.display.Math object>"
      ]
     },
     "metadata": {},
     "output_type": "display_data"
    },
    {
     "name": "stdout",
     "output_type": "stream",
     "text": [
      "Matrix B after manipulation of B:\n"
     ]
    },
    {
     "data": {
      "text/latex": [
       "$\\displaystyle \\begin{bmatrix} \n",
       " 11.0000& 2.0000\\\\\n",
       " 3.0000& 4.0000\\\\\n",
       "\\end{bmatrix}$"
      ],
      "text/plain": [
       "<IPython.core.display.Math object>"
      ]
     },
     "metadata": {},
     "output_type": "display_data"
    }
   ],
   "source": [
    "A = np.asarray([[1., 2.],[3., 4.]])\n",
    "B = A\n",
    "B[0,0] = 11\n",
    "print('Matrix A after manipulation of B:')\n",
    "display_matrix(A)\n",
    "print('Matrix B after manipulation of B:')\n",
    "display_matrix(B)"
   ]
  },
  {
   "cell_type": "markdown",
   "id": "a33249a1",
   "metadata": {},
   "source": [
    "This is probably not the outcome that you expected. What happened here is that `B` is **completely identical** to `A`, it is another reference to the place in your computers memory that holds the variable `A` i.e., the **elements** of `A` are the exact same as those of `B`. This is helpful for writing efficient code, especially if you want `B` to represent a subset of `A`, *but for the unwary it often leads to unintended consequences*.\n",
    "\n",
    "If we intend to create an *independent* matrix `B` that has different **elements** that hold the same **element values** as `A` we should use the `copy` method provided by `numpy`: \n",
    "\n",
    "    B = A.copy()"
   ]
  },
  {
   "cell_type": "code",
   "execution_count": 10,
   "id": "f9ef0bce",
   "metadata": {},
   "outputs": [
    {
     "name": "stdout",
     "output_type": "stream",
     "text": [
      "Matrix A\n"
     ]
    },
    {
     "data": {
      "text/latex": [
       "$\\displaystyle \\begin{bmatrix} \n",
       " 1.0000& 2.0000\\\\\n",
       " 3.0000& 4.0000\\\\\n",
       "\\end{bmatrix}$"
      ],
      "text/plain": [
       "<IPython.core.display.Math object>"
      ]
     },
     "metadata": {},
     "output_type": "display_data"
    },
    {
     "name": "stdout",
     "output_type": "stream",
     "text": [
      "Matrix B\n"
     ]
    },
    {
     "data": {
      "text/latex": [
       "$\\displaystyle \\begin{bmatrix} \n",
       " 1.0000& 2.0000\\\\\n",
       " 3.0000& 4.0000\\\\\n",
       "\\end{bmatrix}$"
      ],
      "text/plain": [
       "<IPython.core.display.Math object>"
      ]
     },
     "metadata": {},
     "output_type": "display_data"
    },
    {
     "name": "stdout",
     "output_type": "stream",
     "text": [
      "Matrix A after manipulation of B:\n"
     ]
    },
    {
     "data": {
      "text/latex": [
       "$\\displaystyle \\begin{bmatrix} \n",
       " 1.0000& 2.0000\\\\\n",
       " 3.0000& 4.0000\\\\\n",
       "\\end{bmatrix}$"
      ],
      "text/plain": [
       "<IPython.core.display.Math object>"
      ]
     },
     "metadata": {},
     "output_type": "display_data"
    },
    {
     "name": "stdout",
     "output_type": "stream",
     "text": [
      "Matrix B after manipulation of B:\n"
     ]
    },
    {
     "data": {
      "text/latex": [
       "$\\displaystyle \\begin{bmatrix} \n",
       " 11.0000& 2.0000\\\\\n",
       " 3.0000& 4.0000\\\\\n",
       "\\end{bmatrix}$"
      ],
      "text/plain": [
       "<IPython.core.display.Math object>"
      ]
     },
     "metadata": {},
     "output_type": "display_data"
    }
   ],
   "source": [
    "A = np.asarray([[1., 2.],[3., 4.]])\n",
    "B = A.copy()\n",
    "print('Matrix A')\n",
    "display_matrix(A)\n",
    "print('Matrix B')\n",
    "display_matrix(B)\n",
    "B[0,0] = 11\n",
    "print('Matrix A after manipulation of B:')\n",
    "display_matrix(A)\n",
    "print('Matrix B after manipulation of B:')\n",
    "display_matrix(B)"
   ]
  },
  {
   "cell_type": "markdown",
   "id": "a81b76d3",
   "metadata": {},
   "source": [
    "___\n",
    "<img align=\"left\" width=\"6%\" style=\"padding-right:10px;\" src=\"./Images/info.png\">\n",
    "\n",
    "## `C = A.copy()` vs `C=A`<br>\n",
    "\n",
    "\n",
    "\n",
    "often it is `C = A.copy()` that we should use, especially as an inexperienced coder. If you want to write very fast code you should note that this is a much more costly statement than `C=A` which just copies the reference to the location in memory of `A`. In the case of `C = A.copy()` the size of `A` must be determined, then an unused location in memory that allows the storage of a variable of that size needs to be found, and finally, all the properties and  element values of `A` need to be copied; this is a much costlier set of operations in terms of memory and cpu usage.\n",
    "\n",
    "All in all:\n",
    "\n",
    "`C=A` is very fast, uses little memory, but may have unintended consequences for the unwary<br>\n",
    "`C = A.copy()` is slow, at least doubles memory usage, but leads to more predictable behavior"
   ]
  },
  {
   "cell_type": "markdown",
   "id": "5a634bbe",
   "metadata": {},
   "source": [
    "___\n",
    "#### 2.2.1.2 Basic Matrix Operations: `Numpy` Array Equivalency: `numpy.array_equal(A,B)`\n",
    "\n",
    "Before going further: **the appropriate statement to evaluate the equivalence of matrices $\\m{A}$ and $\\m{B}$ using `numpy` is:**\n",
    "\n",
    "    numpy.array_equal(A,B)\n",
    "    \n",
    "**Though in reality we must usually test for close equivalence** \n",
    "\n",
    "    numpy.allclose(A,B,relative_tolerance,absolute_tolerance)\n",
    "\n",
    "\n",
    "In python code you will often see the `==` operator *mis*used to test equality, `numpy` extends the use of the `==` operator to `numpy arrays`. Given the difference in use of the assignment operator (`=`) in `numpy` it should be stressed that the `==` verifies the equivalence of the types and values of the elements, not whether these are the same locations in your memory. Using the `==` operator to test equivalence can be dangerous for reasons that you will see below.\n",
    "\n",
    "It is probably best to explain the use of the equality operator with `numpy` arrays at the hand of some examples"
   ]
  },
  {
   "cell_type": "code",
   "execution_count": 11,
   "id": "0aa0c38e",
   "metadata": {},
   "outputs": [
    {
     "name": "stdout",
     "output_type": "stream",
     "text": [
      "[ True]\n"
     ]
    }
   ],
   "source": [
    "x = np.asarray([3.])  #Creates a 1x1 array with a single element of value 3\n",
    "print(3==x)"
   ]
  },
  {
   "cell_type": "markdown",
   "id": "99e4b219",
   "metadata": {},
   "source": [
    "In the code cell above a $1\\times 1$ `numpy` array is created that has a single element that holds the value 3. In this case it is compared to the scalar $3$ and since there is only value in the array the returned value is a $1\\times 1$ `numpy` array with the boolean element value `True`. "
   ]
  },
  {
   "cell_type": "code",
   "execution_count": 12,
   "id": "881f1909",
   "metadata": {},
   "outputs": [
    {
     "name": "stdout",
     "output_type": "stream",
     "text": [
      "3==x\n",
      "[ True  True]\n",
      "\n",
      "3==X\n",
      "[[False False]\n",
      " [ True False]]\n"
     ]
    }
   ],
   "source": [
    "x = np.asarray([3., 3.])  #Creates a 1x2 array with a single element of value 3\n",
    "X = np.asarray([[1., 2.],[3, 4]])  #Creates a 2x2 array \n",
    "print('3==x\\n'+str(3==x))\n",
    "print()\n",
    "print('3==X\\n'+str((3==X)))"
   ]
  },
  {
   "cell_type": "markdown",
   "id": "79cd9470",
   "metadata": {},
   "source": [
    "In the code cell above a row vector `x` and a matrix `X` In this case `numpy` recognizes the size difference and iterates through all the element values returning a boolean value for each. "
   ]
  },
  {
   "cell_type": "code",
   "execution_count": 13,
   "id": "52cd0672",
   "metadata": {},
   "outputs": [
    {
     "name": "stdout",
     "output_type": "stream",
     "text": [
      "3==x True\n",
      "\n",
      "3==X False\n"
     ]
    }
   ],
   "source": [
    "x = np.asarray([3., 3.])  #Creates a 1x2 array with a single element of value 3\n",
    "X = np.asarray([[1., 2.],[3., 4.]])  #Creates a 2x2 array \n",
    "print('3==x '+str((3==x).all()))\n",
    "print()\n",
    "print('3==X '+str((3==X).all()))"
   ]
  },
  {
   "cell_type": "markdown",
   "id": "657da429",
   "metadata": {},
   "source": [
    "We consider matrices unequal if *any* of the elements is unequal. For testing arrays `numpy` provides the `all()` method to evaluate whether all its contents evaluate to `True`"
   ]
  },
  {
   "cell_type": "code",
   "execution_count": 14,
   "id": "c488f91e",
   "metadata": {},
   "outputs": [
    {
     "name": "stdout",
     "output_type": "stream",
     "text": [
      "x==X\n",
      "[[ True  True]\n",
      " [ True  True]]\n",
      "\n",
      "x==X True\n"
     ]
    }
   ],
   "source": [
    "x = np.asarray([1., 2.])  #Creates a 1x2 array with a single element of value 3\n",
    "X = np.asarray([[1., 2.],[1., 2.]])  #Creates a 2x2 array \n",
    "print('x==X\\n'+str((x==X)))\n",
    "print()\n",
    "print('x==X '+str((x==X).all()))"
   ]
  },
  {
   "cell_type": "markdown",
   "id": "f766d30a",
   "metadata": {},
   "source": [
    "**The code cell above demonstrates the pitfall for comparing matrices using the `==` operator; the vector `x` is *not* equal to the matrix `X`! However, `(x==X).all()` fails to recognize this.**"
   ]
  },
  {
   "cell_type": "code",
   "execution_count": 15,
   "id": "6c6d266a",
   "metadata": {},
   "outputs": [
    {
     "name": "stdout",
     "output_type": "stream",
     "text": [
      "np.array_equal(x,X): False\n"
     ]
    }
   ],
   "source": [
    "x = np.asarray([1., 2.])  #Creates a 1x2 array with a single element of value 3\n",
    "X = np.asarray([[1., 2.],[1., 2.]])  #Creates a 2x2 array \n",
    "\n",
    "print('np.array_equal(x,X): ' + str(np.array_equal(x,X)))"
   ]
  },
  {
   "cell_type": "markdown",
   "id": "1ba5ad6e",
   "metadata": {},
   "source": [
    "This is the outcome that we should find. In short your life will be easier if you:\n",
    "\n",
    "#### Test matrix equivalence using the `numpy.array_equal( )` method, or...\n",
    "#### Test matrix equivalence using the `numpy.allclose( )` method for tolerable differences\n",
    "\n",
    "Both methods test the matrix dimensions as well as the element values. However, for practical purposes `numpy.allclose( )` is often preferable, as can be seen from the code cell below"
   ]
  },
  {
   "cell_type": "code",
   "execution_count": 16,
   "id": "055e6e85",
   "metadata": {},
   "outputs": [
    {
     "name": "stdout",
     "output_type": "stream",
     "text": [
      "np.array_equal(X,Y): False\n",
      "np.allclose(X,Y): True\n"
     ]
    }
   ],
   "source": [
    "relative_tolerance = 1e-6\n",
    "absolute_tolerance = 1e-9\n",
    "X = np.asarray([[1., 2.],[1., 2.]])\n",
    "Y = X.copy()\n",
    "Y[0,0] += 1e-7 # Example of an insignificant change\n",
    "\n",
    "print('np.array_equal(X,Y): ' + str(np.array_equal(X,Y)))\n",
    "print('np.allclose(X,Y): ' + str(np.allclose(X,Y,relative_tolerance,absolute_tolerance)))"
   ]
  },
  {
   "cell_type": "markdown",
   "id": "018fef19",
   "metadata": {},
   "source": [
    "Due to the nature of numerical methods it could be that element values are so close that they are essentially the same. Testing equivalency using `numpy.array_equal( )` could lead to an undesirable result as the differences are insignificant. `numpy.allclose( )` allows you to test at a level of significance of your choosing. From the `numpy` [webpage](https://numpy.org/doc/stable/reference/generated/numpy.allclose.html#numpy.allclose):\n",
    "\n",
    "    numpy.allclose(a, b, rtol=1e-05, atol=1e-08, equal_nan=False)\n",
    "    \n",
    "    Returns True if two arrays are element-wise equal within a tolerance.\n",
    "    \n",
    "    The tolerance values are positive, typically very small numbers. \n",
    "    The relative difference (rtol * abs(b)) and the absolute difference \n",
    "    atol are added together to compare against the absolute difference \n",
    "    between a and b."
   ]
  },
  {
   "cell_type": "markdown",
   "id": "f426f52d",
   "metadata": {},
   "source": [
    "___\n",
    "\n",
    "### 2.2.2 Basic Matrix Operations: Addition\n",
    "\n",
    "The addition of two matrices $_m\\m{A}_n$ and $_p\\m{B}_q$ can be performed when the matrices are *conformable for addition*: they must have the number of rows i.e., $m=p$, and columns i.e. $n=q$. Then the sum is:\n",
    "\n",
    "$$_m\\m{C}_n=_m\\m{A}_n+_m\\m{B}_n\\tag{12}$$\n",
    "\n",
    "where:\n",
    "\n",
    "$$c_{ij} = a_{ij} +b_{ij}\\text{  }\\forall\\text{  }i,j\\tag{13}$$ \n",
    "\n",
    "For example, given:\n",
    "$$_2\\m{A}_2=\\begin{pmatrix}3 & 1 \\\\1 & 5\\end{pmatrix}\\tag{14}$$\n",
    "\n",
    "$$_2\\m{B}_2=\\begin{pmatrix}2 & 6 \\\\5 & 3\\end{pmatrix}\\tag{15}$$\n",
    "\n",
    "then\n",
    "$$_2\\m{C}_2=_m\\m{A}_n+_m\\m{B}_n=\\begin{pmatrix}3+2 & 1+6 \\\\1+5 & 3+5\\end{pmatrix}=\\begin{pmatrix}5 & 7 \\\\6 & 8\\end{pmatrix}\\tag{16}$$\n",
    "\n",
    "Matrix addition is ***commutative***:\n",
    "\n",
    "$$\\m{A}+\\m{B}=\\m{B}+\\m{A}\\tag{17}$$\n",
    "\n",
    "Matrix addition is ***associative***:\n",
    "\n",
    "$$(\\m{A}+\\m{B})+\\m{C}=\\m{A}+(\\m{B}+\\m{C})\\tag{18}$$\n",
    "\n",
    "\n"
   ]
  },
  {
   "cell_type": "markdown",
   "id": "75e88210",
   "metadata": {},
   "source": [
    "___\n",
    "\n",
    "### 2.2.2 Self Study Exercise 1\n",
    "\n",
    "    a) Create the matrices of (14) and (15) as `numpy` `A` and `B`, make \n",
    "       sure to make the elements floating point values by the addition of a decimal.\n",
    "    b) Print matrices A and B using the `display_matrix()` function \n",
    "       defined in the `display_matrix.py` file found in the `my_code` folder.\n",
    "    c) Calculate matrix C as defined in (16)\n",
    "    d) Demonstrate that addition is commutative using `A`, `B` \n",
    "       and the `numpy.array_equal()` method\n",
    "    d) Demonstrate that addition is associative using `A`, `B`, `C` and the \n",
    "       `numpy.array_equal()` method"
   ]
  },
  {
   "cell_type": "code",
   "execution_count": 17,
   "id": "86517efb",
   "metadata": {},
   "outputs": [
    {
     "name": "stdout",
     "output_type": "stream",
     "text": [
      "A:\n"
     ]
    },
    {
     "data": {
      "text/latex": [
       "$\\displaystyle \\begin{bmatrix} \n",
       " 3.0000& 1.0000\\\\\n",
       " 1.0000& 5.0000\\\\\n",
       "\\end{bmatrix}$"
      ],
      "text/plain": [
       "<IPython.core.display.Math object>"
      ]
     },
     "metadata": {},
     "output_type": "display_data"
    },
    {
     "name": "stdout",
     "output_type": "stream",
     "text": [
      "B:\n"
     ]
    },
    {
     "data": {
      "text/latex": [
       "$\\displaystyle \\begin{bmatrix} \n",
       " 2.0000& 6.0000\\\\\n",
       " 5.0000& 3.0000\\\\\n",
       "\\end{bmatrix}$"
      ],
      "text/plain": [
       "<IPython.core.display.Math object>"
      ]
     },
     "metadata": {},
     "output_type": "display_data"
    },
    {
     "name": "stdout",
     "output_type": "stream",
     "text": [
      "C = A + B:\n"
     ]
    },
    {
     "data": {
      "text/latex": [
       "$\\displaystyle \\begin{bmatrix} \n",
       " 5.0000& 7.0000\\\\\n",
       " 6.0000& 8.0000\\\\\n",
       "\\end{bmatrix}$"
      ],
      "text/plain": [
       "<IPython.core.display.Math object>"
      ]
     },
     "metadata": {},
     "output_type": "display_data"
    },
    {
     "name": "stdout",
     "output_type": "stream",
     "text": [
      "Addition is commutative\n",
      "Addition is associative\n"
     ]
    }
   ],
   "source": [
    "### 2.2.2 Self Study Exercise 1\n",
    "# Define and print A\n",
    "A = np.asarray([[3,1],[1,5]])\n",
    "print('A:')\n",
    "display_matrix(A)\n",
    "\n",
    "# Define and print B\n",
    "B = np.asarray([[2,6],[5,3]])\n",
    "print('B:')\n",
    "display_matrix(B)\n",
    "\n",
    "# Define and print C\n",
    "C = A+B\n",
    "print('C = A + B:')\n",
    "display_matrix(C)\n",
    "\n",
    "# Demonstrate addition is commutative\n",
    "if np.array_equal(A+B,B+A):\n",
    "    print('Addition is commutative')\n",
    "else:\n",
    "    print('Addition is not commutative')\n",
    "    \n",
    "# Demonstrate addition is associative\n",
    "if np.array_equal(A+(B+C),(A+B)+C):\n",
    "    print('Addition is associative')\n",
    "else:\n",
    "    print('Addition is not associative')"
   ]
  },
  {
   "cell_type": "markdown",
   "id": "9f081318",
   "metadata": {},
   "source": [
    "___\n",
    "\n",
    "### 2.2.3 Basic Matrix Operations: Subtraction\n",
    "\n",
    "The subtraction of two matrices $_m\\m{A}_n$ and $_p\\m{B}_q$ is analogous to the addition. Thus the difference is:\n",
    "\n",
    "$$_m\\m{C}_n=_m\\m{A}_n-_m\\m{B}_n\\tag{19}$$\n",
    "\n",
    "where:\n",
    "\n",
    "$$c_{ij} = a_{ij} -b_{ij}\\text{  }\\forall\\text{  }i,j\\tag{20}$$ \n",
    "\n",
    "For example, given the matrices from $(14)$ and $(15)$:\n",
    "\n",
    "$$_2\\m{C}_2=_m\\m{A}_n-_m\\m{B}_n=\\begin{pmatrix}3-2 & 1-6 \\\\1-5 & 5-3\\end{pmatrix}=\\begin{pmatrix}1 & -5 \\\\-4 & 2\\end{pmatrix}$$\n",
    "\n",
    "Matrix subtraction is commutative:\n",
    "\n",
    "$$\\m{A}-\\m{B}=\\m{B}-\\m{A}$$\n",
    "\n",
    "Matrix subtraction is associative:\n",
    "\n",
    "$$(\\m{A}-\\m{B})+\\m{C}=\\m{A}-(\\m{B}+\\m{C})$$"
   ]
  },
  {
   "cell_type": "markdown",
   "id": "20cef79f",
   "metadata": {},
   "source": [
    "___\n",
    "\n",
    "### 2.2.3 Self Study Exercise 1\n",
    "\n",
    "    a) Create the matrices of (14) and (15) as `numpy` `A` and `B`, make \n",
    "       sure to make the elements floating point values by the addition of a decimal.\n",
    "    b) Print matrices A and B using the `display_matrix()` function \n",
    "       defined in the `display_matrix.py` file found in the `my_code` folder.\n",
    "    c) Calculate matrix C as A-B (16)\n",
    "    d) Demonstrate that subtraction is commutative using `A`, `B` \n",
    "       and the `numpy.array_equal()` method\n",
    "    d) Demonstrate that subtraction is associative using `A`, `B`, `C` and the \n",
    "       `numpy.array_equal()` method"
   ]
  },
  {
   "cell_type": "code",
   "execution_count": 18,
   "id": "80f8e67e",
   "metadata": {},
   "outputs": [
    {
     "name": "stdout",
     "output_type": "stream",
     "text": [
      "A:\n"
     ]
    },
    {
     "data": {
      "text/latex": [
       "$\\displaystyle \\begin{bmatrix} \n",
       " 3.0000& 1.0000\\\\\n",
       " 1.0000& 5.0000\\\\\n",
       "\\end{bmatrix}$"
      ],
      "text/plain": [
       "<IPython.core.display.Math object>"
      ]
     },
     "metadata": {},
     "output_type": "display_data"
    },
    {
     "name": "stdout",
     "output_type": "stream",
     "text": [
      "B:\n"
     ]
    },
    {
     "data": {
      "text/latex": [
       "$\\displaystyle \\begin{bmatrix} \n",
       " 2.0000& 6.0000\\\\\n",
       " 5.0000& 3.0000\\\\\n",
       "\\end{bmatrix}$"
      ],
      "text/plain": [
       "<IPython.core.display.Math object>"
      ]
     },
     "metadata": {},
     "output_type": "display_data"
    },
    {
     "name": "stdout",
     "output_type": "stream",
     "text": [
      "C = A - B:\n"
     ]
    },
    {
     "data": {
      "text/latex": [
       "$\\displaystyle \\begin{bmatrix} \n",
       " 1.0000& -5.0000\\\\\n",
       " -4.0000& 2.0000\\\\\n",
       "\\end{bmatrix}$"
      ],
      "text/plain": [
       "<IPython.core.display.Math object>"
      ]
     },
     "metadata": {},
     "output_type": "display_data"
    },
    {
     "name": "stdout",
     "output_type": "stream",
     "text": [
      "Subtraction is not commutative\n",
      "Subtraction is not associative\n"
     ]
    }
   ],
   "source": [
    "### 2.2.3 Self Study Exercise 1\n",
    "# Define and print A\n",
    "A = np.asarray([[3,1],[1,5]])\n",
    "print('A:')\n",
    "display_matrix(A)\n",
    "\n",
    "# Define and print B\n",
    "B = np.asarray([[2,6],[5,3]])\n",
    "print('B:')\n",
    "display_matrix(B)\n",
    "\n",
    "# Define and print C\n",
    "C = A-B\n",
    "print('C = A - B:')\n",
    "display_matrix(C)\n",
    "\n",
    "# Demonstrate addition is commutative\n",
    "if np.array_equal(A-B,B-A):\n",
    "    print('Subtraction is commutative')\n",
    "else:\n",
    "    print('Subtraction is not commutative')\n",
    "    \n",
    "# Demonstrate addition is associative\n",
    "if np.array_equal(A-(B-C),(A-B)-C):\n",
    "    print('Subtraction is associative')\n",
    "else:\n",
    "    print('Subtraction is not associative')"
   ]
  },
  {
   "cell_type": "markdown",
   "id": "2d7a3674",
   "metadata": {},
   "source": [
    "___\n",
    "\n",
    "### 2.2.4 Basic Matrix Operations: Scalar Multiplication\n",
    "\n",
    "The ***scalar multiplication*** of a matrix $_m\\m{A}_n$ ais obtained when the matrix is multiplied by a scalar $k$:\n",
    "\n",
    "$$_m\\m{B}_n = k _m\\m{A}_n\\tag{21}$$\n",
    "\n",
    "where\n",
    "\n",
    "$$b_{ij} = k\\cdot a_{ij}\\text{  }\\forall\\text{  }i,j\\tag{22}$$\n",
    "\n",
    "Scalar multiplication is commutative:\n",
    "<a id='eq23'></a>\n",
    "$$k\\m{A} = \\m{A}k\\tag{23}$$"
   ]
  },
  {
   "cell_type": "markdown",
   "id": "8136a167",
   "metadata": {},
   "source": [
    "___\n",
    "\n",
    "### 2.2.4 Self Study Exercise 1\n",
    "\n",
    "    a) Create the matrices of (14) as `numpy` array `A`, make \n",
    "       sure to make the elements floating point values by the addition of a decimal.\n",
    "    b) Print matrix A using the `display_matrix()` function\n",
    "    c) Create scalar `k` and assign it the value 3\n",
    "    c) Calculate matrix B according to (21)\n",
    "    d) Demonstrate that scalar multiplication is commutative using `k`, `A` \n",
    "       and the `numpy.array_equal()` method"
   ]
  },
  {
   "cell_type": "code",
   "execution_count": 19,
   "id": "93bd394f",
   "metadata": {},
   "outputs": [
    {
     "name": "stdout",
     "output_type": "stream",
     "text": [
      "A:\n"
     ]
    },
    {
     "data": {
      "text/latex": [
       "$\\displaystyle \\begin{bmatrix} \n",
       " 3.0000& 1.0000\\\\\n",
       " 1.0000& 5.0000\\\\\n",
       "\\end{bmatrix}$"
      ],
      "text/plain": [
       "<IPython.core.display.Math object>"
      ]
     },
     "metadata": {},
     "output_type": "display_data"
    },
    {
     "name": "stdout",
     "output_type": "stream",
     "text": [
      "k:3\n",
      "Scalar multiplication is commutative\n"
     ]
    }
   ],
   "source": [
    "### 2.2.4 Self Study Exercise 1\n",
    "# Define and print A\n",
    "A = np.asarray([[3,1],[1,5]])\n",
    "print('A:')\n",
    "display_matrix(A)\n",
    "\n",
    "# Define and print k\n",
    "k = 3\n",
    "print('k:' + str(k))\n",
    "\n",
    "# Demonstrate addition is commutative\n",
    "if np.array_equal(k*A,A*k):\n",
    "    print('Scalar multiplication is commutative')\n",
    "else:\n",
    "    print('Scalar multiplication is not commutative')\n",
    "    "
   ]
  },
  {
   "cell_type": "markdown",
   "id": "16cd4645",
   "metadata": {},
   "source": [
    "___\n",
    "\n",
    "### 2.2.4 Basic Matrix Operations: Multiplication\n",
    "\n",
    "The multiplication of two matrices $_m\\m{A}_n$ and $_p\\m{B}_q$ can be performed only when the matrices are *conformable for multiplication*,  which is when the number of columns of $_m\\m{A}_n$ matches the number of rows $_m\\m{B}_n$ i.e, $n=p$. \n",
    "\n",
    "$$_m\\m{C}_q = _m\\m{A}_n\\cdot_p\\m{B}_q\\tag{24}$$\n",
    "\n",
    "where:\n",
    " <a id='eq25'></a>\n",
    "$$c_{ij} = \\sum_{k=1}^{n}a_{ik}b_{k,j}\\forall\\text{  }i,j\\tag{25}$$\n",
    "\n",
    "that is, $c_{ij}$ is the sum of the products of the elements in the $i$-th row of $\\m{A}$ and $j$-th column of $\\m{B}$, taken term by term. For example, given:\n",
    "\n",
    "$$_2\\m{A}_3 = \\begin{pmatrix}3 & 1 & 4 \\\\1 & 5 & 9\\end{pmatrix}\\tag{26}$$\n",
    "\n",
    "$$_3\\m{B}_1 = \\begin{pmatrix}2 \\\\6\\\\5\\end{pmatrix}\\tag{27}$$\n",
    "\n",
    "$$_2\\m{C}_1 = \\begin{pmatrix}3*2+1*6+4*5\\\\1*2+5*6+9*5\\end{pmatrix}=\\begin{pmatrix}32\\\\77\\end{pmatrix}\\tag{28}$$\n",
    "\n",
    "\n",
    "In `numpy` matrix multiplication has it's own operator: `@`, the `*` operator may also be used, but results in element-wise multiplication."
   ]
  },
  {
   "cell_type": "markdown",
   "id": "1d9cb0cc",
   "metadata": {},
   "source": [
    "___\n",
    "\n",
    "### 2.2.4 Self Study Exercise 2\n",
    "\n",
    "    a) Create the matrices of (26) and (27) as `numpy` arrays `A` and `B` make \n",
    "       sure to make the elements floating point values.\n",
    "    b) Calculate `C` as the product of `A` and `B`\n",
    "    c) Display C using the `display_matrix()` function\n",
    "    d) Does the result comply with (28)?"
   ]
  },
  {
   "cell_type": "code",
   "execution_count": 20,
   "id": "ca22f563",
   "metadata": {},
   "outputs": [
    {
     "name": "stdout",
     "output_type": "stream",
     "text": [
      "A:\n"
     ]
    },
    {
     "data": {
      "text/latex": [
       "$\\displaystyle \\begin{bmatrix} \n",
       " 3.0000& 1.0000& 4.0000\\\\\n",
       " 1.0000& 5.0000& 9.0000\\\\\n",
       "\\end{bmatrix}$"
      ],
      "text/plain": [
       "<IPython.core.display.Math object>"
      ]
     },
     "metadata": {},
     "output_type": "display_data"
    },
    {
     "name": "stdout",
     "output_type": "stream",
     "text": [
      "B:\n"
     ]
    },
    {
     "data": {
      "text/latex": [
       "$\\displaystyle \\begin{bmatrix} \n",
       " 2.0000 \\\\ 6.0000 \\\\ 5.0000 \\\\\\end{bmatrix}$"
      ],
      "text/plain": [
       "<IPython.core.display.Math object>"
      ]
     },
     "metadata": {},
     "output_type": "display_data"
    },
    {
     "name": "stdout",
     "output_type": "stream",
     "text": [
      "C:\n"
     ]
    },
    {
     "data": {
      "text/latex": [
       "$\\displaystyle \\begin{bmatrix} \n",
       " 32.0000 \\\\ 77.0000 \\\\\\end{bmatrix}$"
      ],
      "text/plain": [
       "<IPython.core.display.Math object>"
      ]
     },
     "metadata": {},
     "output_type": "display_data"
    }
   ],
   "source": [
    "### 2.2.4 Self Study Exercise 2\n",
    "# Define and print A\n",
    "A = np.asarray([[3,1,4],[1,5,9]])\n",
    "print('A:')\n",
    "display_matrix(A)\n",
    "# Define and print B\n",
    "B = np.asarray([[2],[6],[5]])\n",
    "print('B:')\n",
    "display_matrix(B)\n",
    "\n",
    "#Calculate `C` as the product of `A` and `B` (You should use the @ operator)\n",
    "C = A@B\n",
    "print('C:')\n",
    "display_matrix(C)\n",
    "\n",
    "q_2_2_4_2 = 'The result ...'"
   ]
  },
  {
   "cell_type": "markdown",
   "id": "abdd48d5",
   "metadata": {},
   "source": [
    "___\n",
    "Matrix multiplications have the following properties:\n",
    "\n",
    "$\\begin{array}{|c|c|}\\hline\n",
    "(\\m{A} (\\m{B}+\\m{C}) = \\m{A}\\m{B}+\\m{A}\\m{C} & \\text{distributive}\\\\\n",
    "(\\m{A}+\\m{B})\\m{C}=\\m{A}\\m{C}+\\m{B}\\m{C} & \\text{distributive}\\\\\n",
    "\\m{A}(\\m{B}\\m{C})=(\\m{A}\\m{B})\\m{C} & \\text{associative} \\\\\n",
    "\\m{A}\\m{B}\\neq\\m{B}\\m{A} & \\text{not generally commutative}\\\\\n",
    "\\m{A}\\m{B}=\\m{A}\\m{C} & \\text{does NOT imply }\\m{B}=\\m{C}\\\\\n",
    "\\m{A}\\m{B}=\\m{0} & \\text{does NOT imply }\\m{A}=\\m{0}\\text{ or }\\m{B}=\\m{0}\\\\\n",
    "\\hline\\end{array}\\tag{29}$\n",
    "\n",
    "Products $\\m{A}\\m{B}$ and $\\m{B}\\m{A}$ will both exist only if $\\m{A}$ and $\\m{B}$ are double conformable. For example $_n\\m{A}_m$ and $_m\\m{A}_n$ are doubly conformable (the number of rows of in one equals the number of columns in the other). Square matrices of the same size are double conformable. However, even should $\\m{A}\\m{B}$ and $\\m{B}\\m{A}$ both exist in general:\n",
    "\n",
    "$$\\m{A}\\m{B}\\neq\\m{B}\\m{A}\\tag{30}$$\n",
    "\n",
    "For example, given:\n",
    "\n",
    "$$_2\\m{A}_2 = \\begin{pmatrix} 1 & 2\\\\3 & 4\\end{pmatrix}\\tag{31}$$\n",
    "\n",
    "$$_2\\m{B}_2 = \\begin{pmatrix} 5 & 6\\\\7 & 8\\end{pmatrix}\\tag{32}$$\n",
    "\n",
    "then:\n",
    "\n",
    "$$\\m{AB} = \\begin{pmatrix} 19 & 22\\\\43 & 50\\end{pmatrix}\\tag{33}$$\n",
    "\n",
    "$$\\m{BA} = \\begin{pmatrix} 23 & 34\\\\31 & 46\\end{pmatrix}\\tag{34}$$\n"
   ]
  },
  {
   "cell_type": "markdown",
   "id": "65f2e0ab",
   "metadata": {},
   "source": [
    "___\n",
    "\n",
    "### 2.2.4 Self Study Exercise 3\n",
    "\n",
    "    a) Create and display the matrices of (31) and (32) as `numpy` \n",
    "       arrays `A` and `B`, make the elements floating point values.\n",
    "    b) Display the product AB\n",
    "    c) Display the product BA"
   ]
  },
  {
   "cell_type": "code",
   "execution_count": 21,
   "id": "4e3dc9ac",
   "metadata": {},
   "outputs": [
    {
     "name": "stdout",
     "output_type": "stream",
     "text": [
      "A:\n"
     ]
    },
    {
     "data": {
      "text/latex": [
       "$\\displaystyle \\begin{bmatrix} \n",
       " 1.0000& 2.0000\\\\\n",
       " 3.0000& 4.0000\\\\\n",
       "\\end{bmatrix}$"
      ],
      "text/plain": [
       "<IPython.core.display.Math object>"
      ]
     },
     "metadata": {},
     "output_type": "display_data"
    },
    {
     "name": "stdout",
     "output_type": "stream",
     "text": [
      "B:\n"
     ]
    },
    {
     "data": {
      "text/latex": [
       "$\\displaystyle \\begin{bmatrix} \n",
       " 5.0000& 6.0000\\\\\n",
       " 7.0000& 8.0000\\\\\n",
       "\\end{bmatrix}$"
      ],
      "text/plain": [
       "<IPython.core.display.Math object>"
      ]
     },
     "metadata": {},
     "output_type": "display_data"
    },
    {
     "name": "stdout",
     "output_type": "stream",
     "text": [
      "AB:\n"
     ]
    },
    {
     "data": {
      "text/latex": [
       "$\\displaystyle \\begin{bmatrix} \n",
       " 19.0000& 22.0000\\\\\n",
       " 43.0000& 50.0000\\\\\n",
       "\\end{bmatrix}$"
      ],
      "text/plain": [
       "<IPython.core.display.Math object>"
      ]
     },
     "metadata": {},
     "output_type": "display_data"
    },
    {
     "name": "stdout",
     "output_type": "stream",
     "text": [
      "BA:\n"
     ]
    },
    {
     "data": {
      "text/latex": [
       "$\\displaystyle \\begin{bmatrix} \n",
       " 23.0000& 34.0000\\\\\n",
       " 31.0000& 46.0000\\\\\n",
       "\\end{bmatrix}$"
      ],
      "text/plain": [
       "<IPython.core.display.Math object>"
      ]
     },
     "metadata": {},
     "output_type": "display_data"
    }
   ],
   "source": [
    "### 2.2.4 Self Study Exercise 3\n",
    "# Define and print A\n",
    "A = np.asarray([[1,2],[3,4]])\n",
    "print('A:')\n",
    "display_matrix(A)\n",
    "# Define and print B\n",
    "B = np.asarray([[5,6],[7,8]])\n",
    "print('B:')\n",
    "display_matrix(B)\n",
    "\n",
    "#Display the product AB\n",
    "print('AB:')\n",
    "display_matrix(A@B)\n",
    "\n",
    "#Display the product BA\n",
    "print('BA:')\n",
    "display_matrix(B@A)"
   ]
  },
  {
   "cell_type": "markdown",
   "id": "5176bbba",
   "metadata": {},
   "source": [
    "___\n",
    "in the special case of two square matrices $\\m{A},\\m{B}$ such that:\n",
    "\n",
    "$$\\m{A}\\m{B}=\\m{B}\\m{A}\\tag{35}$$\n",
    "\n",
    "the matrices are called ***commutative matrices***. Every square matrix is commutative with itself and with the identity matrix. Diagonal matrices of the same order are also commutative. Other examples exist:\n",
    "\n",
    "$$_2\\m{A}_2 = \\begin{pmatrix} 4 & -2\\\\6 & 2\\end{pmatrix}\\tag{36}$$\n",
    "\n",
    "$$_2\\m{B}_2 = \\begin{pmatrix} 3 & -1\\\\3 & 2\\end{pmatrix}\\tag{37}$$\n",
    "\n",
    "for which:\n",
    "\n",
    "$$\\m{AB}=\\m{BA}=\\begin{pmatrix} 6 & -8\\\\24 & -2\\end{pmatrix}\\tag{38}$$ "
   ]
  },
  {
   "cell_type": "markdown",
   "id": "5d8deea9",
   "metadata": {},
   "source": [
    "___\n",
    "\n",
    "### 2.2.4 Self Study Exercise 4\n",
    "\n",
    "    a) Create and display the matrices of (36) and (37) as `numpy` \n",
    "       arrays `A` and `B`, make the elements floating point values.\n",
    "    b) Display the product AB\n",
    "    c) Display the product BA"
   ]
  },
  {
   "cell_type": "code",
   "execution_count": 22,
   "id": "d14a037d",
   "metadata": {},
   "outputs": [
    {
     "name": "stdout",
     "output_type": "stream",
     "text": [
      "A:\n"
     ]
    },
    {
     "data": {
      "text/latex": [
       "$\\displaystyle \\begin{bmatrix} \n",
       " 4.0000& -2.0000\\\\\n",
       " 6.0000& 2.0000\\\\\n",
       "\\end{bmatrix}$"
      ],
      "text/plain": [
       "<IPython.core.display.Math object>"
      ]
     },
     "metadata": {},
     "output_type": "display_data"
    },
    {
     "name": "stdout",
     "output_type": "stream",
     "text": [
      "B:\n"
     ]
    },
    {
     "data": {
      "text/latex": [
       "$\\displaystyle \\begin{bmatrix} \n",
       " 3.0000& -1.0000\\\\\n",
       " 3.0000& 2.0000\\\\\n",
       "\\end{bmatrix}$"
      ],
      "text/plain": [
       "<IPython.core.display.Math object>"
      ]
     },
     "metadata": {},
     "output_type": "display_data"
    },
    {
     "name": "stdout",
     "output_type": "stream",
     "text": [
      "AB:\n"
     ]
    },
    {
     "data": {
      "text/latex": [
       "$\\displaystyle \\begin{bmatrix} \n",
       " 6.0000& -8.0000\\\\\n",
       " 24.0000& -2.0000\\\\\n",
       "\\end{bmatrix}$"
      ],
      "text/plain": [
       "<IPython.core.display.Math object>"
      ]
     },
     "metadata": {},
     "output_type": "display_data"
    },
    {
     "name": "stdout",
     "output_type": "stream",
     "text": [
      "BA:\n"
     ]
    },
    {
     "data": {
      "text/latex": [
       "$\\displaystyle \\begin{bmatrix} \n",
       " 6.0000& -8.0000\\\\\n",
       " 24.0000& -2.0000\\\\\n",
       "\\end{bmatrix}$"
      ],
      "text/plain": [
       "<IPython.core.display.Math object>"
      ]
     },
     "metadata": {},
     "output_type": "display_data"
    }
   ],
   "source": [
    "### 2.2.4 Self Study Exercise 4\n",
    "# Define and print A\n",
    "A = np.asarray([[4,-2],[6,2]])\n",
    "print('A:')\n",
    "display_matrix(A)\n",
    "# Define and print B\n",
    "B = np.asarray([[3,-1],[3,2]])\n",
    "print('B:')\n",
    "display_matrix(B)\n",
    "\n",
    "#Display the product AB\n",
    "print('AB:')\n",
    "display_matrix(A@B)\n",
    "\n",
    "#Display the product BA\n",
    "print('BA:')\n",
    "display_matrix(B@A)"
   ]
  },
  {
   "cell_type": "markdown",
   "id": "31b61e22",
   "metadata": {},
   "source": [
    "___\n",
    "\n",
    "### 2.2.5 Basic Matrix Operations: Transposition\n",
    "\n",
    "When in a matrix $\\m{A}$ the rows and columns are interchanged, we obtain the ***transpose matrix*** denoted by $\\m{A}^T$ or $\\m{A}'$. For example, if we say $\\m{B}=\\m{A}^T then for:\n",
    "\n",
    "$$_2\\m{A}_3 = \\begin{pmatrix}1&7&-2\\\\4&3&5\\end{pmatrix}\\tag{39}$$\n",
    "\n",
    "$$_3\\m{B}_2 = \\m{A}^T = \\begin{pmatrix}1&4\\\\7&3\\\\-2&5\\end{pmatrix}\\tag{40}$$\n",
    "\n",
    "where:\n",
    "\n",
    "$$ b_{ij} = a_{ji}\\forall\\text{  }i,j\\tag{41}$$\n",
    "\n",
    "`Numpy` provides the transpose of an array through the attribute `T` i.e., the transpose of `A` is `A.T`."
   ]
  },
  {
   "cell_type": "markdown",
   "id": "01a4384d",
   "metadata": {},
   "source": [
    "___\n",
    "\n",
    "### 2.2.5 Self Study Exercise 1\n",
    "\n",
    "    a) Create and display the matrix `A` of (39)\n",
    "    b) Assign `B` the value of the transpose of `A`\n",
    "    c) display `B`\n"
   ]
  },
  {
   "cell_type": "code",
   "execution_count": 23,
   "id": "9f45741a",
   "metadata": {},
   "outputs": [
    {
     "name": "stdout",
     "output_type": "stream",
     "text": [
      "A:\n"
     ]
    },
    {
     "data": {
      "text/latex": [
       "$\\displaystyle \\begin{bmatrix} \n",
       " 1.0000& 7.0000& -2.0000\\\\\n",
       " 4.0000& 3.0000& 5.0000\\\\\n",
       "\\end{bmatrix}$"
      ],
      "text/plain": [
       "<IPython.core.display.Math object>"
      ]
     },
     "metadata": {},
     "output_type": "display_data"
    },
    {
     "name": "stdout",
     "output_type": "stream",
     "text": [
      "B:\n"
     ]
    },
    {
     "data": {
      "text/latex": [
       "$\\displaystyle \\begin{bmatrix} \n",
       " 1.0000& 4.0000\\\\\n",
       " 7.0000& 3.0000\\\\\n",
       " -2.0000& 5.0000\\\\\n",
       "\\end{bmatrix}$"
      ],
      "text/plain": [
       "<IPython.core.display.Math object>"
      ]
     },
     "metadata": {},
     "output_type": "display_data"
    }
   ],
   "source": [
    "### 2.2.5 Self Study Exercise 1\n",
    "# Define and print A\n",
    "A = np.asarray([[1,7,-2],[4,3,5]])\n",
    "print('A:')\n",
    "display_matrix(A)\n",
    "\n",
    "#DAssign `B` the value of the transpose of `A`\n",
    "B = A.T\n",
    "\n",
    "#Display B\n",
    "print('B:')\n",
    "display_matrix(B)"
   ]
  },
  {
   "cell_type": "markdown",
   "id": "34a9ff85",
   "metadata": {},
   "source": [
    "___\n",
    "Transposition has the following properties:\n",
    "\n",
    "$$(\\m{A}^T)^T = \\m{A}\\tag{42}$$\n",
    "\n",
    "$$(\\m{A}+\\m{B})^T = \\m{A}^T+\\m{B}^T\\tag{43}$$\n",
    "\n",
    "<a id='eq44'></a>\n",
    "$$(\\m{A}\\m{B})^T = \\m{B}^T\\m{A}^T\\tag{note the reverse order) (44}$$\n",
    "\n",
    "$$(k\\m{A})^T = k\\m{A}^T\\tag{45}$$\n",
    "\n",
    "A square symmetric matrix $\\m{A}$ and its transpose $\\m{A}^T$ are equal ($\\m{A} = \\m{A}^T$), since for symmetric matrices $ a_{ij} = a_{ji}\\forall\\text{  }i,j$. For any square matrix $\\m{A}$, $(\\m{A}+\\m{A}^T)$ and $\\m{A}\\m{A}^T$ will be symmetric.\n",
    "\n",
    "For a square matrix $\\m{A}$ the sum of the elements along the main diagonal is called the ***trace*** of $\\m{A}$ and is denoted by $\\text{tr}(\\m{A})$:\n",
    "\n",
    "$$\\text{tr}(_n\\m{A}_n) = \\sum_{i=1}^{n}a_{ii}\\tag{46}$$\n",
    "\n",
    "For example, given the matrix:\n",
    "\n",
    "$$_3\\m{A}_3 = \\begin{pmatrix}1&2&3\\\\4&5&6\\\\7&8&9\\end{pmatrix}\\tag{47}$$\n",
    "\n",
    "its trace is \n",
    "\n",
    "$$\\text{tr}(\\m{A})=1+5+9 = 15\\tag{48}$$\n",
    "\n",
    "`numpy` allows you to determine the trace value through the `trace()` method e.g., the trace of `A` is found by `A.trace()`"
   ]
  },
  {
   "cell_type": "markdown",
   "id": "2a766447",
   "metadata": {},
   "source": [
    "___\n",
    "\n",
    "### 2.2.5 Self Study Exercise 2\n",
    "\n",
    "    a) Create and display the matrix `A` of (47)\n",
    "    b) Determine and display the trace value of `A` \n"
   ]
  },
  {
   "cell_type": "code",
   "execution_count": 24,
   "id": "3bac56cc",
   "metadata": {},
   "outputs": [
    {
     "name": "stdout",
     "output_type": "stream",
     "text": [
      "A:\n"
     ]
    },
    {
     "data": {
      "text/latex": [
       "$\\displaystyle \\begin{bmatrix} \n",
       " 1.0000& 2.0000& 3.0000\\\\\n",
       " 4.0000& 5.0000& 6.0000\\\\\n",
       " 7.0000& 8.0000& 9.0000\\\\\n",
       "\\end{bmatrix}$"
      ],
      "text/plain": [
       "<IPython.core.display.Math object>"
      ]
     },
     "metadata": {},
     "output_type": "display_data"
    },
    {
     "name": "stdout",
     "output_type": "stream",
     "text": [
      "the trace of A is: 15\n"
     ]
    }
   ],
   "source": [
    "### 2.2.5 Self Study Exercise 2\n",
    "# Define and print A\n",
    "A = np.asarray([[1,2,3],[4,5,6],[7,8,9]])\n",
    "print('A:')\n",
    "display_matrix(A)\n",
    "\n",
    "# Determine and display the trace value of `A` \n",
    "print('the trace of A is: ' + str(A.trace()))"
   ]
  },
  {
   "cell_type": "markdown",
   "id": "82e9d3bf",
   "metadata": {},
   "source": [
    "___\n",
    "The trace of a matrix has the following properties:\n",
    "\n",
    "$$\\text{tr}(\\m{A}) = \\text{tr}(\\m{A}^T)\\tag{49}$$\n",
    "\n",
    "$$\\text{tr}(k\\m{A}) = k\\cdot\\text{tr}(\\m{A})\\tag{50}$$\n",
    "\n",
    "$$\\text{tr}(\\m{A}+\\m{B}) = \\text{tr}(\\m{A})+\\text{tr}(\\m{B})\\tag{51}$$\n",
    "\n",
    "$$\\text{tr}(\\m{A}\\m{B}) = \\text{tr}(\\m{B}\\m{A})\\tag{52}$$\n"
   ]
  },
  {
   "cell_type": "markdown",
   "id": "077891db",
   "metadata": {},
   "source": [
    "### 2.2.6 Using Addition to Visualize a Moving Vessel in Python\n",
    "\n",
    "The code cell below draws a vessel in different locations"
   ]
  },
  {
   "cell_type": "code",
   "execution_count": 25,
   "id": "33c1128c",
   "metadata": {},
   "outputs": [
    {
     "data": {
      "image/png": "[encoded data removed]",
      "text/plain": [
       "<Figure size 576x576 with 1 Axes>"
      ]
     },
     "metadata": {
      "needs_background": "light"
     },
     "output_type": "display_data"
    }
   ],
   "source": [
    "num_pos = 20\n",
    "r = 100\n",
    "\n",
    "\n",
    "t = np.linspace(0, 3/2*np.pi, num_pos)\n",
    "pos=np.asarray([r*sin(t), r*cos(t)])\n",
    "\n",
    "B = boat()\n",
    "\n",
    "plt.figure(figsize=(8, 8))\n",
    "plt.axis('equal')\n",
    "\n",
    "# # This is to clearly show the principal of addition\n",
    "for p in pos.T[...,None]:\n",
    "    P = np.tile(p,(1,B.shape[1]))\n",
    "    A = B + P\n",
    "    plt.fill(A[0,:],A[1,:],'C0', ec='k')\n",
    "    \n",
    "\n",
    "\n",
    "# Note that much faster Python code which achieves the same is shown below.\n",
    "# Feel free to ignore this as it is not nearly as illustrative of linear algebra\n",
    "\n",
    "# for p in zip(*pos):\n",
    "#     plt.fill(B[0,:]+p[0],B[1,:]+p[1],'C0', ec='k')\n",
    "#     plt.plot([p_prev[0], p[0]],[p_prev[1], p[1]])\n",
    "\n"
   ]
  },
  {
   "cell_type": "markdown",
   "id": "569c6578",
   "metadata": {},
   "source": [
    "The code illustrates the visualization of a simulated boat track using vector addition. The first step taken is to define a number of simulated boat positions through the statement `num_pos = 20`. The simulated track will be circular with a radius `r = 100`. \n",
    "\n",
    "A parametric representation of a circle using the parameter `t` is used with `t` increasing along the arc of the circle; we define `t = np.linspace(0, 3/2*np.pi, num_pos)` resulting in `\\num_pos` angles `t[i]` along a circle segment $t\\in[0,1\\frac{1}{2}\\pi]$\n",
    "\n",
    "A matrix containing vertices representing a boat is then created through the statement `B = boat()` (see [1 2 Self Study Exercise 1](1_Introduction.ipynb#1_2_Self_Study_Exercise_1'))\n",
    "\n",
    "We then use the parameter `t` to determine `num_pos` positions: `pos=np.asarray([r*sin(t), r*cos(t)])`. Note that we used the concept of heading here i.e., a zero angle points to the North direction and then increases in clockwise fashion.\n",
    "\n",
    "We then use the `for p in pos.T[...,None]:` statement to iterate through the array of positions - note that `numpy` iterates rows first, so here we transposed `pos` and added an empty dimension so that the resulting `p` is a column vector. The only reason for using this approach is to have `p` be a column vector. Then the matrix `P` is created matching order with `B` and its columns being copies of `p` which allows for the use of the simple matrix addition of `A = B + P` to put the boat shape in the right position. (The simple `A = B+p` would have also worked! however that expression is, strictly speaking, not linear algebra)\n",
    "\n",
    "A much more efficient way to achieve the same effect is shown in the commented out code, however it does not illustrate the principles of linear algebra very well. \n",
    "\n",
    "Here you are given a sneak peak at linear transformations which will be discussed further in [4 Linear Transformations](4_Linear_Transformations.ipynb). This illustration is somewhat unsatisfying as the boat is not oriented in the direction it is traveling. We can use linear algebra to not just translate, but also rotate the boat, You will learn about this in [4 Linear Transformations: Rotation](4_Linear_Transformations.ipynb#Rotation)."
   ]
  },
  {
   "cell_type": "markdown",
   "id": "4d2a35b1",
   "metadata": {},
   "source": [
    "___\n",
    "\n",
    "## 2.3 Inverse of a Matrix \n",
    "\n",
    "The matrix operation which is closest to the scalar operation of division is ***inversion***. The inverse of a matrix $\\m{A}$ is denoted $\\m{A}^{-1}$ and satisfies the relations:\n",
    "\n",
    " <a id='eq53'></a>\n",
    "$$\\m{A}\\m{A}^{-1} = \\m{A}^{-1}\\m{A}=\\m{I}\\tag{53}$$\n",
    "\n",
    "This demonstrates an important property of matrices whose inverse exists: If we apply a transformation $\\m{A}$ then the result can can be transformed back completely by applying the inverse transformation $\\m{A}^{-1}$, but only if $\\m{A}^{-1}$ exists! For example, if $\\m{y} = \\m{Ax}$ then $\\m{x} = \\m{A}^{-1}\\m{y}$ \n",
    "\n",
    "Inverses only exist in special circumstances. To enable us to describe when they exist the *determinant* and *rank* of a matrix are first defined. The practical problem of computing an inverse is then mentioned briefly. Manual computation quickly becomes a cumbersome and complex task, a good reason to use the Python `numpy` implementation to save a lot of work!"
   ]
  },
  {
   "cell_type": "markdown",
   "id": "b2a921ac",
   "metadata": {},
   "source": [
    "___\n",
    "### 2.3.1 Inverse of a Matrix : Permutations\n",
    "\n",
    "First we need to understand permutations, say that we have $n$ elements then there may $n!$ ways of ordering these elements. For example if we have 3 elements then there are 6 permutations\n",
    "\n",
    "$$S ={1,2,3}\\tag{54}$$\n",
    "\n",
    "There are then the 6 permutations:\n",
    "\n",
    "$$\\begin{array}( (1,2,3)\\\\(1,3,2)\\\\(2,1,3)\\\\(2,3,1)\\\\(3,1,2)\\\\(3,2,1)\\end{array}\\tag{55}$$\n",
    "\n",
    "The **identity permutation** $e_n$ keeps the $n$ elements in order\"\n",
    "\n",
    "$$e_3 = (1,2,3)\\tag{56}$$\n",
    "\n",
    "A transposition of two elements is then the permutation that switches the elements e.g. $(1,3,2)$ switches the elements $2$ and $3$. The parity of transpositions it takes to get to the identify permutation is independent of how the transpositions are done.\n",
    "\n",
    "$$ (1,3,4,2)\\rightarrow(1,3,2,4)\\rightarrow(1,2,3,4)\\tag{even number of transpositions)  (57}$$\n",
    "$$ (4,1,2,3)\\rightarrow(3,1,2,4)\\rightarrow(2,1,3,4)\\rightarrow(1,2,3,4)\\tag{odd number of transpositions)  (58}$$\n",
    "\n",
    "When the number of transpositions to get to the identify permutation is even we have an ***even permutation*** , when the number is odd we have an ***odd permutation*** .\n"
   ]
  },
  {
   "cell_type": "markdown",
   "id": "b6911708",
   "metadata": {},
   "source": [
    "___\n",
    "### 2.3.2 Inverse of a Matrix : Determinant\n",
    "\n",
    "The determinant of a square matrix $\\m{A}$ of dimension $n$ is a scalar denoted $\\text{det}(\\m{A})$ or $|\\m{A}|$. the determinant is defined by the relation:\n",
    "\n",
    "$$|\\m{A}|=\\sum\\pm a_{1i}\\:a_{2l}\\dots a_{nk}\\tag{59}$$\n",
    "\n",
    "$i,j\\dots k$ are permutations of integers $1,2\\dots n$. The summation includes all $n!$ permutations. Individual terms obtain the positive sign for even permutations and the negative sign for odd  permutations.\n",
    "\n",
    "If the determinant of a square matrix is equal to zero ($|\\m{A}|=0$) the matrix is said to be **singular**. Those square matrices whose determinants differ from zero ($|\\m{A}|\\neq0$) are known as **nonsingular** matrices. Determinants have the properties:\n",
    "\n",
    "$$|\\m{A}^T|=|\\m{A}|\\tag{60}$$\n",
    "\n",
    "$$|\\m{A}\\m{B}|=|\\m{A}|\\cdot|\\m{B}|\\tag{61}$$\n",
    "\n",
    "The determinant of:\n",
    "\n",
    "$$_3\\m{A}_3=\\begin{pmatrix}a_{11}&a_{12}&a_{13}\\\\a_{21}&a_{22}&a_{23}\\\\a_{31}&a_{32}&a_{33}\\end{pmatrix}\\tag{62}$$\n",
    "\n",
    "is found by\n",
    "\n",
    "$$|\\m{A}|=\\begin{array}+ +a_{11}a_{22}a_{33}\\\\\n",
    "                         -a_{11}a_{23}a_{32}\\\\\n",
    "                         -a_{12}a_{21}a_{33}\\\\\n",
    "                         +a_{12}a_{23}a_{31}\\\\\n",
    "                         +a_{13}a_{21}a_{32}\\\\\n",
    "                         -a_{13}a_{22}a_{31}\\end{array}\\tag{63}$$"
   ]
  },
  {
   "cell_type": "markdown",
   "id": "bc2cd0c5",
   "metadata": {},
   "source": [
    "___\n",
    "\n",
    "### 2.3.2 Self Study Exercise 1\n",
    "\n",
    "Note that we will use the Python `try` `except` functionality. In this exercise we will ask to calculate the determinant of a non-square matrix, which will lead to an error. Rather than letting the routine crash we want to catch this error by creating an exception that will print a polite reminder that you should provide a square matrix. For this we will place the code that potentially causes an error in a `try` block and catch the error in a `except` block\n",
    "\n",
    "    a) Create and display the matrix `A` of (39)\n",
    "    b) Determine and display the determinant of `A` or provide a gentle reminder to \n",
    "       provide a square matrix\n",
    "    c) Create a matrix `B` by subsetting `A` using the `=` operator\n",
    "    d) Show that `B` occupies the same space in memory by changing element `B[0,0]` to \n",
    "       zero and then displaying `A`\n",
    "       \n",
    "Note that for a lot linear algebra we often want to perform operations on subsets of matrices. Using a different name to refer to the subset of a matrix is much more efficient than creating a new matrix with that name holding the data content of the subset. The `numpy.linalg` module makes heavy use of naming subsets of matrices to keep the code legible yet efficient.\n",
    "\n",
    "    e) Restore the element `A[0,0]` to value `1.`,  then display `B`\n",
    "    b) Determine and display the determinant of `B` or provide a gentle reminder to \n",
    "       provide a square matrix\n"
   ]
  },
  {
   "cell_type": "code",
   "execution_count": 26,
   "id": "75e9e009",
   "metadata": {},
   "outputs": [
    {
     "name": "stdout",
     "output_type": "stream",
     "text": [
      "A:\n"
     ]
    },
    {
     "data": {
      "text/latex": [
       "$\\displaystyle \\begin{bmatrix} \n",
       " 1.0000& 7.0000& -2.0000\\\\\n",
       " 4.0000& 3.0000& 5.0000\\\\\n",
       "\\end{bmatrix}$"
      ],
      "text/plain": [
       "<IPython.core.display.Math object>"
      ]
     },
     "metadata": {},
     "output_type": "display_data"
    },
    {
     "name": "stdout",
     "output_type": "stream",
     "text": [
      "Matrix A must be square to calculate its determinant.\n",
      "B:\n"
     ]
    },
    {
     "data": {
      "text/latex": [
       "$\\displaystyle \\begin{bmatrix} \n",
       " 1.0000& 7.0000\\\\\n",
       " 4.0000& 3.0000\\\\\n",
       "\\end{bmatrix}$"
      ],
      "text/plain": [
       "<IPython.core.display.Math object>"
      ]
     },
     "metadata": {},
     "output_type": "display_data"
    },
    {
     "name": "stdout",
     "output_type": "stream",
     "text": [
      "A:\n"
     ]
    },
    {
     "data": {
      "text/latex": [
       "$\\displaystyle \\begin{bmatrix} \n",
       " 0.0000& 7.0000& -2.0000\\\\\n",
       " 4.0000& 3.0000& 5.0000\\\\\n",
       "\\end{bmatrix}$"
      ],
      "text/plain": [
       "<IPython.core.display.Math object>"
      ]
     },
     "metadata": {},
     "output_type": "display_data"
    },
    {
     "name": "stdout",
     "output_type": "stream",
     "text": [
      "B:\n"
     ]
    },
    {
     "data": {
      "text/latex": [
       "$\\displaystyle \\begin{bmatrix} \n",
       " 1.0000& 7.0000\\\\\n",
       " 4.0000& 3.0000\\\\\n",
       "\\end{bmatrix}$"
      ],
      "text/plain": [
       "<IPython.core.display.Math object>"
      ]
     },
     "metadata": {},
     "output_type": "display_data"
    },
    {
     "name": "stdout",
     "output_type": "stream",
     "text": [
      "det(B) = -25.000000000000007\n"
     ]
    }
   ],
   "source": [
    "### 2.3.2 Self Study Exercise 1\n",
    "\n",
    "# a) Create and display the matrix `A` of (39)\n",
    "A = np.asarray([[1,7,-2],[4,3,5]])\n",
    "print('A:')\n",
    "display_matrix(A)\n",
    "\n",
    "# b) Determine and display the determinant of `A` or provide a gentle reminder to \n",
    "#        provide a square matrix\n",
    "try:\n",
    "    det_A = la.det(A)\n",
    "    print('det(A) = ' + str(det_A))\n",
    "except:\n",
    "    if not A.shape[0] == A.shape[1]:\n",
    "        print('Matrix A must be square to calculate its determinant.')\n",
    "    else:\n",
    "        print('Error: Must add code to address this error')\n",
    "\n",
    "# c) Create a matrix `B` by subsetting `A` using the `=` operator\n",
    "B = A[:,0:2]\n",
    "print('B:')\n",
    "display_matrix(B)\n",
    "\n",
    "# d) Show that `B` occupies the same space in memory by changing element `B[0,0]` to \n",
    "#        zero and then displaying `A\n",
    "B[0,0] = 0\n",
    "print('A:')\n",
    "display_matrix(A)\n",
    "\n",
    "# e) Restore the element `A[0,0]` to value `1.`,  then display `B`\n",
    "A[0,0] = 1\n",
    "print('B:')\n",
    "display_matrix(B)\n",
    "\n",
    "# f) Determine and display the determinant of `B` or provide a gentle reminder to \n",
    "#        provide a square matrix\n",
    "try:\n",
    "    det_B = la.det(B)\n",
    "    print('det(B) = ' + str(det_B))\n",
    "except:\n",
    "    if not B.shape[0] == B.shape[1]:\n",
    "        print('Matrix B must be square to calculate its determinant.')\n",
    "    else:\n",
    "        print('Error: Must add code to address this error')"
   ]
  },
  {
   "cell_type": "markdown",
   "id": "4fe648fd",
   "metadata": {},
   "source": [
    "___\n",
    "### 2.3.3 Inverse of a Matrix : Rank\n",
    "\n",
    "The rank of any matrix, which need not be square, is the order of its largest square non-singular submatrix. The concept of rank has great importance in the solution of linear equations. To elaborate: a smaller submatrix can be obtained from any matrix by discarding some of the rows and columns of the original matrix. If we discard only the minimum of rows and columns needed to obtain a square nonsingular submatrix (non-zero determinant), then the order of that submatrix is the ***rank*** of the original matrix. If a matrix is already nonsingular then its rank is equal to its order. For example, given:\n",
    "\n",
    "$$_5\\m{B}_4=\\begin{pmatrix}1&2&1&0\\\\3&2&1&2\\\\5&6&3&2\\\\2&-1&2&5\\\\1&3&-1&-3\\end{pmatrix}\\tag{64}$$\n",
    "\n",
    "If we discard the third and fifth rows and fourth column we have:\n",
    "\n",
    "$$_5\\m{A}_4=\\begin{pmatrix}1&2&1\\\\3&2&1\\\\2&-1&2\\end{pmatrix}\\tag{65}$$\n",
    "\n",
    "Which using (63) can be shown to have $|\\m{A}|=10$. It cal also be shown that there is no $4\\times4$ submatrix of $\\m{B}$ for which the determinant is nonzero. Hence $\\m{A}$ is the largest order nonsingular submatrix of $\\m{B}$, and the rank of $\\m{B}$ is equal to the order of $\\m{A}$ i.e. $\\text{rank}(\\m{B}) = 3$\n",
    "\n",
    "\n",
    "Note that for this we will use the `numpy.linalg` module which we imported as `la`"
   ]
  },
  {
   "cell_type": "markdown",
   "id": "f50c9e85",
   "metadata": {},
   "source": [
    "___\n",
    "\n",
    "### 2.3.3 Self Study Exercise 1\n",
    "\n",
    "    a) Create and display the matrix `B` of (64)\n",
    "    b) create a column vector `row_select` with the indexes of the rows you \n",
    "       want to extract from `B` to create `A` of(65), don't forget that `Python` \n",
    "       indexing starts at 0!\n",
    "    c) create a row vector `col_select` with the indexes of the columns you \n",
    "       want to extract from `B` to create `A`.\n",
    "    d) Create matrix `A` as in (65) by sub-setting `B` using `row_select` and   \n",
    "       `col_select` as the index vectors.\n",
    "    e) Determine and display the determinant of `A`\n",
    "    f) Determine the rank of A  using `la.matrix_rank()` and assign it to `rank_A`\n",
    "    g) How would you determine whether the matrix is full rank i.e., its rank is \n",
    "       equivalent its order parameters?\n"
   ]
  },
  {
   "cell_type": "code",
   "execution_count": 27,
   "id": "fa83e1b9",
   "metadata": {},
   "outputs": [
    {
     "name": "stdout",
     "output_type": "stream",
     "text": [
      "B:\n"
     ]
    },
    {
     "data": {
      "text/latex": [
       "$\\displaystyle \\begin{bmatrix} \n",
       " 1.0000& 2.0000& 1.0000& 0.0000\\\\\n",
       " 3.0000& 2.0000& 1.0000& 2.0000\\\\\n",
       " 5.0000& 6.0000& 3.0000& 2.0000\\\\\n",
       " 2.0000& -1.0000& 2.0000& 5.0000\\\\\n",
       " 1.0000& 3.0000& -1.0000& -3.0000\\\\\n",
       "\\end{bmatrix}$"
      ],
      "text/plain": [
       "<IPython.core.display.Math object>"
      ]
     },
     "metadata": {},
     "output_type": "display_data"
    },
    {
     "name": "stdout",
     "output_type": "stream",
     "text": [
      "A:\n"
     ]
    },
    {
     "data": {
      "text/latex": [
       "$\\displaystyle \\begin{bmatrix} \n",
       " 1.0000& 2.0000& 1.0000\\\\\n",
       " 3.0000& 2.0000& 1.0000\\\\\n",
       " 2.0000& -1.0000& 2.0000\\\\\n",
       "\\end{bmatrix}$"
      ],
      "text/plain": [
       "<IPython.core.display.Math object>"
      ]
     },
     "metadata": {},
     "output_type": "display_data"
    },
    {
     "name": "stdout",
     "output_type": "stream",
     "text": [
      "det(A) = -10.000000000000002\n",
      "3\n",
      "(3, 3)\n"
     ]
    }
   ],
   "source": [
    "### 2.3.3 Self Study Exercise 1\n",
    "\n",
    "# a) Create and display the matrix `B`\n",
    "B = np.asarray([[1,2,1,0],[3,2,1,2],[5,6,3,2],[2,-1,2,5],[1,3,-1,-3]])\n",
    "print('B:')\n",
    "display_matrix(B)\n",
    "\n",
    "# b) create a column vector `row_select`\n",
    "row_select = [[0],[1],[3]]\n",
    "# c) create a row vector `col_select`\n",
    "col_select = [[0,1,2]]\n",
    "\n",
    "# d) Create matrix `A`\n",
    "A = B[row_select,col_select]\n",
    "print('A:')\n",
    "display_matrix(A)\n",
    "\n",
    "# e) Determine and display the determinant of `A`\n",
    "det_A = la.det(A)\n",
    "print('det(A) = ' + str(det_A))\n",
    "\n",
    "# f) Determine the rank of A  using `la.rank()` and assign it to `rank_A`\n",
    "rank_A = la.matrix_rank(A)\n",
    "print(rank_A)\n",
    "print(A.shape)\n",
    "q_2_3_3_1 = 'I would determine whether the matrix is full rank by checking that the' \n",
    "q_2_3_3_1 += ' order matches the rank'"
   ]
  },
  {
   "cell_type": "markdown",
   "id": "3255424c",
   "metadata": {},
   "source": [
    "___\n",
    "### 2.3.4 Inverse of a Matrix : Regular Inverse\n",
    "\n",
    "Only nonsingular matrices have a regular inverse. Singular matrices do not have a regular inverse. Inverses have the following properties:\n",
    "\n",
    "$$(\\m{A}^{-1})^{-1} = \\m{A}\\tag{67}$$\n",
    "\n",
    "$$(\\m{A}\\m{B})^{-1} = \\m{B}^{-1}\\m{A}^{-1}\\tag{Note the reverse order)  (68}$$\n",
    "\n",
    "$$|\\m{A}^{-1}| = \\dfrac{1}{|\\m{A}|}\\tag{70}$$\n",
    "\n",
    "In `numpy.linalg` the inverse of a matrix is given by `numpy.linalg.inv`. With the way we imported the modules in this notebook we would use `la.inv(A)` to determine the inverse of `A`\n",
    "\n",
    "___\n",
    "### 2.3.5 Inverse of a Matrix : Orthogonal Matrix\n",
    "\n",
    "An ***orthogonal matrix***  has the special property that all the columns form column-vectors orthogonal to each-other and similarly all the rows form row-vectors orthogonal to each-other. For an orthogonal matrix its transpose and inverse are equal i.e.:\n",
    "\n",
    "$$f(x) = \\left\\{\\begin{array}+{}\\text{orthogonal} &\\text{if } \\m{A}^{T} = \\m{A}^{-1}\\\\\\text{non-orthogonal}&\\text{if } \\m{A}^{T} \\neq \\m{A}^{-1}\\end{array}\\right. \\tag{71}$$\n",
    "\n",
    "or\n",
    "\n",
    "$$f(x) = \\left\\{\\begin{array}+{}\\text{orthogonal} &\\text{if } \\m{A}\\m{A}^{T} = \\m{I}\\\\\\text{non-orthogonal}&\\text{if } \\m{A}\\m{A}^{T} \\neq \\m{I}\\end{array}\\right. \\tag{72}$$\n",
    "\n",
    "Finally: the product of two orthogonal matrices is also orthogonal and the ***determinant of an orthogonal matrix is unity***\n",
    "\n"
   ]
  },
  {
   "cell_type": "markdown",
   "id": "eef59a39",
   "metadata": {},
   "source": [
    "___\n",
    "\n",
    "### 2.3.5 Self Study Exercise 1\n",
    "\n",
    "$$ \\m{R}=\\begin{pmatrix}\\cos\\theta & \\sin\\theta \\\\ -\\sin\\theta & \\cos\\theta\\end{pmatrix}$$\n",
    "\n",
    "    a) Create the variable `th` and assign it the value 𝜋/6\n",
    "    b) Using `th` for 𝜃 calculate the matrix shown above and assign it to `R`\n",
    "    c) Determine the inverse of `R`, assign it to `Ri` and display `Ri`\n",
    "    d) Calculate and display the product of `R` and `Ri` both using the \n",
    "       `print()` and `display_matrix()` functions\n",
    "    e) Comment on the relation between an Identity matrix and matrix `R@Ri` based on\n",
    "       both displays of the matrix\n",
    "    f) Given your answer to e argue why it is generally better to use the\n",
    "       `numpy.allclose()` method than the `==` operator to test whether the product of \n",
    "       two matrices resembles an identity matrix.\n",
    "       \n",
    "\n",
    "    \n"
   ]
  },
  {
   "cell_type": "code",
   "execution_count": 28,
   "id": "eb539262",
   "metadata": {},
   "outputs": [
    {
     "name": "stdout",
     "output_type": "stream",
     "text": [
      "R x Ri:\n",
      "[[ 1.00000000e+00  7.43708407e-18]\n",
      " [-4.06369831e-17  1.00000000e+00]]\n",
      "\n",
      "R x Ri:\n"
     ]
    },
    {
     "data": {
      "text/latex": [
       "$\\displaystyle \\begin{bmatrix} \n",
       " 1.0000& 0.0000\\\\\n",
       " -0.0000& 1.0000\\\\\n",
       "\\end{bmatrix}$"
      ],
      "text/plain": [
       "<IPython.core.display.Math object>"
      ]
     },
     "metadata": {},
     "output_type": "display_data"
    }
   ],
   "source": [
    "### 2.3.5 Self Study Exercise 1\n",
    "\n",
    "# a) Create the variable `th` and assign it the value 𝜋/6\n",
    "th = pi/6\n",
    "\n",
    "# b) Using `th` calculate the matrix shown above and assign it to `R`\n",
    "R = np.asarray([[cos(th), sin(th)],[-sin(th),cos(th)]])\n",
    "\n",
    "# c) Determine the inverse of `R`, assign it to `Ri` and display `Ri`\n",
    "Ri = la.inv(R)\n",
    "\n",
    "# d) Calculate and display the product of `R` and `Ri` both using the \n",
    "# `print()` and `display_matrix()` functions\n",
    "print('R x Ri:')\n",
    "print(R@Ri)\n",
    "print('\\nR x Ri:')\n",
    "display_matrix(R@Ri)\n",
    "\n",
    "# e) Comment on the relation between an Identity matrix and matrix `R@Ri` \n",
    "q_2_3_5_1 = 'The relation between `R@Ri and ...'\n",
    "q_2_3_5_2 = 'It is generally better to use the `numpy.allclose()` method ...'\n",
    "\n",
    "\n"
   ]
  },
  {
   "cell_type": "markdown",
   "id": "214348b9",
   "metadata": {},
   "source": [
    "Note that the matrix $\\m{R}$ defined above is a Rotation Matrix and represents another sneak peek at [4 Linear Transformations](4_Linear_Transformations.ipynb). We will be using the `boat()` function returning a boat shape that you created in [1.2 Self Study Exercise 1](1_Introduction.ipynb#1_2_Self_Study_Exercise_1'). "
   ]
  },
  {
   "cell_type": "code",
   "execution_count": 29,
   "id": "1f0a87bf",
   "metadata": {},
   "outputs": [
    {
     "name": "stdout",
     "output_type": "stream",
     "text": [
      "Matrix B holds a polygon defining a boat shape\n"
     ]
    },
    {
     "data": {
      "image/png": "[encoded data removed]",
      "text/plain": [
       "<Figure size 288x288 with 1 Axes>"
      ]
     },
     "metadata": {
      "needs_background": "light"
     },
     "output_type": "display_data"
    },
    {
     "data": {
      "text/latex": [
       "$\\displaystyle \\begin{bmatrix} \n",
       " -6.0000& 4.0000& 6.0000& 4.0000& -6.0000\\\\\n",
       " -2.0000& -2.0000& 0.0000& 2.0000& 2.0000\\\\\n",
       "\\end{bmatrix}$"
      ],
      "text/plain": [
       "<IPython.core.display.Math object>"
      ]
     },
     "metadata": {},
     "output_type": "display_data"
    }
   ],
   "source": [
    "B = boat()\n",
    "A = np.asarray([[1,0],[0,1]])\n",
    "origin = np.array([[0, 0],[0, 0]]) # origin point\n",
    "print('Matrix B holds a polygon defining a boat shape')\n",
    "\n",
    "plt.figure(figsize=(4, 4))\n",
    "# plt.gca().invert_yaxis()\n",
    "plt.axis('equal')\n",
    "plt.fill(B[0,:],B[1,:],'C0', ec='k')\n",
    "plt.quiver(*origin, A[:,0], -A[:,1], color=['r','b','g'], scale=5)\n",
    "plt.show()\n",
    "\n",
    "display_matrix(B)\n"
   ]
  },
  {
   "cell_type": "markdown",
   "id": "e2eb0cdb",
   "metadata": {},
   "source": [
    "A right handed coordinate system is used for the boat; the x-axis points in the boat's forward direction, and the z-axis in the down direction. thus the y-axis is positive in the boat's starboard direction."
   ]
  },
  {
   "cell_type": "code",
   "execution_count": 30,
   "id": "55e3ace4",
   "metadata": {},
   "outputs": [
    {
     "name": "stdout",
     "output_type": "stream",
     "text": [
      "Matrix B holds a polygon defining a boat shape\n"
     ]
    },
    {
     "data": {
      "text/latex": [
       "$\\displaystyle \\begin{bmatrix} \n",
       " -1.2679& 3.7321& 3.0000& 0.2679& -4.7321\\\\\n",
       " -6.1962& 2.4641& 5.1962& 4.4641& -4.1962\\\\\n",
       "\\end{bmatrix}$"
      ],
      "text/plain": [
       "<IPython.core.display.Math object>"
      ]
     },
     "metadata": {},
     "output_type": "display_data"
    },
    {
     "data": {
      "image/png": "[encoded data removed]",
      "text/plain": [
       "<Figure size 288x288 with 1 Axes>"
      ]
     },
     "metadata": {
      "needs_background": "light"
     },
     "output_type": "display_data"
    }
   ],
   "source": [
    "B = boat()\n",
    "print('Matrix B holds a polygon defining a boat shape')\n",
    "\n",
    "# Rotate the boat so that the x-axis aligns to the North axis (heading rotation of -pi/2)\n",
    "Rn = np.asarray([[cos(-pi/2), sin(-pi/2)],[-sin(-pi/2),cos(-pi/2)]])\n",
    "B = Rn@boat()\n",
    "\n",
    "# Now rotate it by the heading angle th defined by the matrix R\n",
    "Br = R@B\n",
    "\n",
    "display_matrix(Br)\n",
    "\n",
    "# Br = Ri@Br\n",
    "\n",
    "plt.figure(figsize=(4, 4))\n",
    "plt.axis('equal')\n",
    "plt.fill(Br[0,:],Br[1,:],'C0', ec='k')\n",
    "plt.show()"
   ]
  },
  {
   "cell_type": "markdown",
   "id": "6274a968",
   "metadata": {},
   "source": [
    "In the code cell above we created matrix $\\m{B}$ holding a boat shape. All we had to do to rotate the Boat was to multiply the polygon contained in $\\m{B}$ by the rotation matrix $\\m{R}$"
   ]
  },
  {
   "cell_type": "markdown",
   "id": "b25fc20c",
   "metadata": {},
   "source": [
    "### 2.3.5 Self Study Exercise 2\n",
    "\n",
    "    a) What matrix would you use to rotate `Br` back to match B? Note, that you have \n",
    "       already created the rotation matrix to do this in 2.3.5 Self Study Exercise 1"
   ]
  },
  {
   "cell_type": "code",
   "execution_count": 31,
   "id": "7ef7b4a7",
   "metadata": {},
   "outputs": [],
   "source": [
    "q_2_3_5_3 = 'I would use matrix ... to rotate `Br` back `B`'"
   ]
  },
  {
   "cell_type": "markdown",
   "id": "2779f1a4",
   "metadata": {},
   "source": [
    "___\n",
    "### Optional Challenge of your Python Knowledge\n",
    "\n",
    "Here a sneak preview at some of the things you will learn to do in this module. some of the coding and linear algebra concepts have not been explained yet i.e., you need to either know already, or do a deep dive into `Python`, and particularly `numpy`.\n",
    "\n",
    "Analyze the code below and see whether you can guess what every line does, add a comment after each line explaining what it does\n",
    "\n",
    "Note that from this example you may observe that the course over ground is not the same as the heading of the vessel! What in this visualization shows this?"
   ]
  },
  {
   "cell_type": "markdown",
   "id": "816b53b5",
   "metadata": {},
   "source": [
    " ___\n",
    " <a id='Inverse_of_a_Matrix_Computation'></a>\n",
    " ### 2.3.6 Inverse of a Matrix: Computation\n",
    " \n",
    " Many methods for computing matrix inverses exist; some of these are direct methods, others require several iteration cycles. Some can be applied to any non-singular matrix, and some require special properties (such as symmetry). In fact, the matrices that we most often want to invert in Ocean Mapping are those involved in least-squares estimation and approximation, and have special properties: they are symmetric and positive definite (this will be defined in [4 Linear Transformations](4_Linear_Transformations.ipynb)). In this case the method that is most efficient and suffers least from computer roundoff is the **Choleski** method, which is described in [6 Choleski Method](6_The_Choleski_Method.ipynb).\n",
    " \n",
    " The problem of computing an inverse is closely related to the problem of solving a set of linear equations (discussed more fully in [3_Solution_of_Linear_Equations](3_Solution_of_Linear_Equations.ipynb). Here we show how computation of the inverse matrix can be formulated as the problem of solving systems of linear equations. In [3.2.2 Computation of Systems Having a Unique Solution](3_Solution_of_Linear_Equations.ipynb#Computation_of_Systems_Having_a_Unique_Solution) we show the reverse - how the computation of an inverse is involved in the solution of a system of linear equations.\n",
    " \n",
    " Given a square non-singular matrix $\\m{A}$ we wish to find the elements of its inverse:\n",
    " \n",
    " $$\\m{B} = \\m{A}^{-1}\\tag{73}$$\n",
    " \n",
    " Such that:\n",
    " \n",
    " $$\\m{AB} = \\m{I}\\tag{74}$$\n",
    " \n",
    " from [$(25)$](#eq25) we have the $n^2$ equations:\n",
    " \n",
    " $$c_{ij} = \\sum_{k=1}^{n}a_{ik}b_{k,j}=\\left\\{\\begin{array}. 0 & i\\neq j\\\\ 1 & i = j \\end{array}\\right.\\tag{75}$$\n",
    " \n",
    " Since we know the elements $a_{ij}$ of $\\m{A}$, these $n^2$ equations form a system of equations with the $n^2$ unknowns $a_{ij}$, the elements of $\\m{B} $. In fact, we can break these up in into $n$ independent sets of equations, each having the $n$ elements of one columns of $\\m{B}$ as unknowns. For example, given:\n",
    " \n",
    " $$_3\\m{A}_3 = \\begin{pmatrix} 1 & 2 & 1 \\\\ 3 & 2 & 1 \\\\ 2 & -1 & 2 \\end{pmatrix}\\tag{76}$$\n",
    " \n",
    " we can solve the $n^2$ equations:\n",
    " \n",
    " $$\\m{AB} = \\begin{pmatrix} 1 & 2 & 1 \\\\ 3 & 2 & 1 \\\\ 2 & -1 & 2 \\end{pmatrix}\\begin{pmatrix} b_{11} & b_{12} & b_{13}\\\\ b_{21} & b_{22} & b_{23} \\\\ b_{31} & b_{32} & b_{33} \\end{pmatrix}=\\begin{pmatrix} 1 & 0 & 0 \\\\ 0 & 1 & 0 \\\\ 0 & 0 & 1 \\end{pmatrix}=\\m{I}\\tag{77}$$\n",
    " \n",
    " to obtain the elements $b_{ij}$ of \n",
    " \n",
    " $$\\m{B} = \\m{A}^{-1}\\tag{78}$$\n",
    " \n",
    " For the first columns of $\\m{B}$, these are:\n",
    " \n",
    "$$\\begin{array}. 1b_{11}+2b_{21}+1b_{31} &=1 \\\\ 3b_{11}+2b_{21}+1b_{31} &=0 \\\\ 2b_{11}-1b_{21}+2b_{31} &=0  \\end{array}\\tag{79}$$\n",
    " \n",
    " Which has the solution:\n",
    " \n",
    " $$\\begin{array}. b_{11} = \\dfrac{-5}{10} \\\\ b_{21} = \\dfrac{4}{10} \\\\ b_{11} = \\dfrac{7}{10}\\end{array}\\tag{80}$$\n",
    " \n",
    " The complete solution for $\\m{B}$ is then:\n",
    " \n",
    " $$\\m{B} = \\m{A}^{-1} = \\dfrac{-1}{10}\\begin{pmatrix}5 & -5 & 0 \\\\ -4 & 0 & 2 \\\\ -7 & 5 & -4\\end{pmatrix}$$\n",
    " "
   ]
  },
  {
   "cell_type": "markdown",
   "id": "4a2b4de1",
   "metadata": {},
   "source": [
    "____\n",
    "### 2.3.6 Self Study Exercise 1\n",
    "\n",
    "    a) Verify the correctness of the numerical example shown in equations (76) through (81), by using the `numpy` \n",
    "       `linear algebra` function `inv` (in this case `la.inv(A)`)"
   ]
  },
  {
   "cell_type": "code",
   "execution_count": 32,
   "id": "f87a9b08",
   "metadata": {},
   "outputs": [
    {
     "name": "stdout",
     "output_type": "stream",
     "text": [
      "A = \n"
     ]
    },
    {
     "data": {
      "text/latex": [
       "$\\displaystyle \\begin{bmatrix} \n",
       " 1.0000& 2.0000& 1.0000\\\\\n",
       " 3.0000& 2.0000& 1.0000\\\\\n",
       " 2.0000& -1.0000& 2.0000\\\\\n",
       "\\end{bmatrix}$"
      ],
      "text/plain": [
       "<IPython.core.display.Math object>"
      ]
     },
     "metadata": {},
     "output_type": "display_data"
    },
    {
     "name": "stdout",
     "output_type": "stream",
     "text": [
      "A inverse:\n"
     ]
    },
    {
     "data": {
      "text/latex": [
       "$\\displaystyle \\begin{bmatrix} \n",
       " -0.5000& 0.5000& 0.0000\\\\\n",
       " 0.4000& -0.0000& -0.2000\\\\\n",
       " 0.7000& -0.5000& 0.4000\\\\\n",
       "\\end{bmatrix}$"
      ],
      "text/plain": [
       "<IPython.core.display.Math object>"
      ]
     },
     "metadata": {},
     "output_type": "display_data"
    }
   ],
   "source": [
    "### 2.3.6 Self Study Exercise 1\n",
    "\n",
    "#     a) Verify the correctness of the numerical example shown in equations (76) through (81)\n",
    "\n",
    "print( 'A = ')\n",
    "A = np.array([[1,2,1],[3,2,1],[2,-1,2]])\n",
    "display_matrix(A)\n",
    "print( 'A inverse:')\n",
    "display_matrix(la.inv(A))\n",
    "\n"
   ]
  },
  {
   "cell_type": "markdown",
   "id": "9e6001e9",
   "metadata": {},
   "source": [
    " ___\n",
    " <a id='Inverse_of_a_Diagonal_Matrix_Computation'></a>\n",
    " ### 2.3.6.1 Inverse of a Diagonal Matrix: Computation\n",
    " \n",
    "A diagonal matrix $\\m{D}$ is also known as a scalar matrix. It has the special property that if it is multiplied by another matrix the resulting matrix will have its rows multiplied by the corresponding element on the diagonal matrix. Given [$\\m{A}\\m{A}^{-1} = \\m{A}^{-1}\\m{A}=\\m{I}$](#'eq53') it follows that\n",
    "\n",
    "$$\\m{D}\\m{D}^{-1} =\\begin{pmatrix} d_{1,1}&0&\\dots&0 \\\\ 0&d_{2,2}&\\dots&0 \\\\ \\vdots &\\vdots&\\ddots&\\vdots \\\\\n",
    "0&0&\\dots&d_{n,n}\\end{pmatrix}\\begin{pmatrix}\\dfrac{1}{d_{1,1}}&0&\\dots&0 \\\\ 0&\\dfrac{1}{d_{2,2}}&\\dots&0 \\\\ \\vdots &\\vdots&\\ddots&\\vdots \\\\\n",
    "0&0&\\dots&\\dfrac{1}{d_{n,n}}\\end{pmatrix}=\\m{I}\\;\\;\\;d_{i,i}\\neq 0\\;\\;\\forall\\;\\; i\\tag{81}$$\n",
    "\n",
    "Thus the inverse of a diagonal matrix $\\m{D}$ with all non-zero elements on the diagonal is another diagonal matrix with the reciprocal values of the elements of $\\m{D}$; $\\m{D}^{-1}$ will exist as long as none of the values on the diagonal of $\\m{D}$ are zero.\n"
   ]
  },
  {
   "cell_type": "code",
   "execution_count": 33,
   "id": "82798da1",
   "metadata": {},
   "outputs": [
    {
     "data": {
      "text/latex": [
       "$\\displaystyle \\begin{bmatrix} \n",
       " 1.0000& 0.0000& 0.0000\\\\\n",
       " 0.0000& 2.0000& 0.0000\\\\\n",
       " 0.0000& 0.0000& 3.0000\\\\\n",
       "\\end{bmatrix}$"
      ],
      "text/plain": [
       "<IPython.core.display.Math object>"
      ]
     },
     "metadata": {},
     "output_type": "display_data"
    },
    {
     "data": {
      "text/latex": [
       "$\\displaystyle \\begin{bmatrix} \n",
       " 1.0000& 1.0000& 1.0000\\\\\n",
       " 1.0000& 1.0000& 1.0000\\\\\n",
       " 1.0000& 1.0000& 1.0000\\\\\n",
       "\\end{bmatrix}$"
      ],
      "text/plain": [
       "<IPython.core.display.Math object>"
      ]
     },
     "metadata": {},
     "output_type": "display_data"
    },
    {
     "data": {
      "text/latex": [
       "$\\displaystyle \\begin{bmatrix} \n",
       " 1.0000& 2.0000& 3.0000\\\\\n",
       " 1.0000& 2.0000& 3.0000\\\\\n",
       " 1.0000& 2.0000& 3.0000\\\\\n",
       "\\end{bmatrix}$"
      ],
      "text/plain": [
       "<IPython.core.display.Math object>"
      ]
     },
     "metadata": {},
     "output_type": "display_data"
    },
    {
     "data": {
      "text/latex": [
       "$\\displaystyle \\begin{bmatrix} \n",
       " 1.0000 \\\\ 1.0000 \\\\ 1.0000 \\\\\\end{bmatrix}$"
      ],
      "text/plain": [
       "<IPython.core.display.Math object>"
      ]
     },
     "metadata": {},
     "output_type": "display_data"
    },
    {
     "data": {
      "text/latex": [
       "$\\displaystyle \\begin{bmatrix} \n",
       " 1.0000 \\\\ 2.0000 \\\\ 3.0000 \\\\\\end{bmatrix}$"
      ],
      "text/plain": [
       "<IPython.core.display.Math object>"
      ]
     },
     "metadata": {},
     "output_type": "display_data"
    }
   ],
   "source": [
    "D = np.array([[1,0,0],[0,2,0],[0,0,3]])\n",
    "display_matrix(D)\n",
    "C = np.ones((3,3))\n",
    "display_matrix(C)\n",
    "display_matrix(C@D)\n",
    "x = np.ones((3,1))\n",
    "display_matrix(x)\n",
    "display_matrix(D@x)"
   ]
  },
  {
   "cell_type": "markdown",
   "id": "fa66e146",
   "metadata": {},
   "source": [
    "___\n",
    "### 2.3.7 Inverse of a Matrix: Generalized Inverse\n",
    "\n",
    "So far we have considered the **regular** inverse of a matrix $\\m{A}$ which is denoted by $\\m{A}^{-1}$ and which satisfies equation ([53](#eq53)). The regular inverse $\\m{A}^{-1}$ only exists when $\\m{A}$ is square and non-singular i.e., the rank of $_n\\m{A}_n$ is $n$.\n",
    "\n",
    "It is possible to expand the definition of the inverse to apply to rectangular matrices $_m\\m{A}_n$ of arbitrary rank. In this case we are dealing with ***generalized inverses***, which we denote by $\\m{A}^-$, reserving for regular inverses the symbol $\\m{A}^{-1}$. Generalized inverses must satisfy the relation:\n",
    "\n",
    "$$\\m{A}\\m{A}^-\\m{A} = \\m{A}\\tag{82}$$\n",
    "\n",
    "rather than satisfying [53](#eq53). However, this condition is not sufficient to define a unique $\\m{A}^-$. We can narrow down the possibilities by imposing one or more conditions on $\\m{A}^-$, such as:\n",
    "\n",
    "$$\\m{A}\\m{A}^-\\m{A} = \\m{A}\\tag{83}$$\n",
    "\n",
    "$$(\\m{A}\\m{A}^-)^T = \\m{A}\\m{A}^-\\tag{84}$$\n",
    "\n",
    "$$(\\m{A}^-\\m{A})^T = \\m{A}^-\\m{A}\\tag{85}$$\n",
    "\n",
    "A generalized inverse which satisfies all four of these conditions is unique and is known as a ***Moore Penrose inverse***, or more commonly as a ***pseudo inverse***, denoted by $\\m{A}^+$. Techniques for computing $\\m{A}^+$ are implemented in the `linear algebra` module of `numpy` in the `pinv()` function. Mathematical description of finding the solution to calculating the pseudo inverse is far beyond the scope of these Notebooks, but the interested reader may refer to [Rao, C.R. and Mitra, S.K. (1971) Generalized Inverse of Matrices and Its Applications](https://archive.org/details/in.ernet.dli.2015.141571/mode/2up).\n",
    "\n",
    "An example of a matrix $\\m{A}$ and its pseudo inverse $\\m{A}^+$ is:\n",
    "\n",
    "$$_3\\m{A}_3 = \\begin{pmatrix} 1 & 10  & 15 \\\\ 10 & 4 & 6 \\\\ 15 & 6 & 9 \\end{pmatrix}\\tag{86}$$\n",
    "\n",
    "$$_3\\m{A}^+_3 =\\dfrac{-1}{312} \\begin{pmatrix} 13 & -10  & -15 \\\\ -10 & \\dfrac{4}{13} & \\dfrac{6}{13} \\\\ -15 & \\dfrac{6}{13} & \\dfrac{9}{13} \\end{pmatrix}\\tag{87}$$\n",
    "\n",
    "Note that both $\\m{A}$ and  $\\m{A}^0$ have zero-determinants i.e., are singular.\n"
   ]
  },
  {
   "cell_type": "code",
   "execution_count": 34,
   "id": "f8216577",
   "metadata": {},
   "outputs": [
    {
     "data": {
      "text/plain": [
       "array([[-13.        ,  10.        ,  15.        ],\n",
       "       [ 10.        ,  -0.30769231,  -0.46153846],\n",
       "       [ 15.        ,  -0.46153846,  -0.69230769]])"
      ]
     },
     "execution_count": 34,
     "metadata": {},
     "output_type": "execute_result"
    }
   ],
   "source": [
    "A = np.array([[1, 10, 15],[10, 4, 6],[15, 6, 9]])\n",
    "312*la.pinv(A)"
   ]
  },
  {
   "cell_type": "code",
   "execution_count": 35,
   "id": "a0b62a86",
   "metadata": {},
   "outputs": [
    {
     "data": {
      "image/png": "[encoded data removed]",
      "text/plain": [
       "<Figure size 576x576 with 1 Axes>"
      ]
     },
     "metadata": {
      "needs_background": "light"
     },
     "output_type": "display_data"
    }
   ],
   "source": [
    "num_pos = 20\n",
    "r = 100\n",
    "\n",
    "t = np.linspace(0, 3/2*np.pi, num_pos)\n",
    "h = t + pi/2\n",
    "pos=np.asarray([r*sin(t), r*cos(t)])\n",
    "\n",
    "R = np.asarray([[cos(-pi/2), sin(-pi/2)],[-sin(-pi/2),cos(-pi/2)]])\n",
    "B = R@boat()\n",
    "\n",
    "plt.figure(figsize=(8, 8))\n",
    "plt.axis('equal')\n",
    "\n",
    "# The code below is relatively efficient, but can be optimized \n",
    "# significanly further (at the cost of readability)\n",
    "\n",
    "p_prev = pos[0:2,0:1]\n",
    "for i in range(pos.shape[1]):\n",
    "    p = pos[0:2,i:i+1]\n",
    "    plt.plot([p_prev[0,0], p[0,0]],[p_prev[1,0], p[1,0]],'C1',zorder=0)\n",
    "    R = np.asarray([[cos(h[i]), sin(h[i])],[-sin(h[i]),cos(h[i])]])\n",
    "    C = R@B+p\n",
    "    plt.fill(C[0,:],C[1,:],'C0', ec='k',zorder=1)\n",
    "    p_prev = p\n"
   ]
  },
  {
   "cell_type": "code",
   "execution_count": 36,
   "id": "c567cbb4",
   "metadata": {},
   "outputs": [
    {
     "data": {
      "text/plain": [
       "array([1.57079633, 1.8188168 , 2.06683727, 2.31485774, 2.56287822,\n",
       "       2.81089869, 3.05891916, 3.30693964, 3.55496011, 3.80298058,\n",
       "       4.05100105, 4.29902153, 4.547042  , 4.79506247, 5.04308294,\n",
       "       5.29110342, 5.53912389, 5.78714436, 6.03516483, 6.28318531])"
      ]
     },
     "execution_count": 36,
     "metadata": {},
     "output_type": "execute_result"
    }
   ],
   "source": [
    "h\n"
   ]
  },
  {
   "cell_type": "markdown",
   "id": "170f1f75",
   "metadata": {},
   "source": [
    "___\n",
    "## Useful Resources\n",
    "\n",
    "[Rao, C.R. and Mitra, S.K. (1971) Generalized Inverse of Matrices and Its Applications. John Wiley & Sons, New York.](https://archive.org/details/in.ernet.dli.2015.141571/mode/2up) "
   ]
  },
  {
   "cell_type": "markdown",
   "id": "0c91e529",
   "metadata": {},
   "source": [
    "___\n",
    "## Jump to Chapter\n",
    "\n",
    "[1: Introduction](1_Introduction.ipynb)<br>\n",
    "[3: Solution_of_Linear_Equations](3_Solution_of_Linear_Equations.ipynb)<br>\n",
    "[4: Linear Transformations](4_Linear_Transformations.ipynb)<br>\n",
    "[5: Solution of Nonlinear Equations](5_Solution_of_Nonlinear_Equations.ipynb)<br>"
   ]
  },
  {
   "cell_type": "markdown",
   "id": "e209bec5",
   "metadata": {},
   "source": [
    "___\n",
    "#### Copyright 2022, Semme J. Dijkstra\n",
    "\n",
    "Permission is hereby granted, free of charge, to any person obtaining a copy of this software and associated documentation files (the \"Software\"), to deal in the Software without restriction, including without limitation the rights to use, copy, modify, merge, publish, distribute, sublicense, and/or sell copies of the Software, and to permit persons to whom the Software is furnished to do so, subject to the following conditions:\n",
    "\n",
    "The above copyright notice and this permission notice shall be included in all copies or substantial portions of the Software.\n",
    "\n",
    "THE SOFTWARE IS PROVIDED \"AS IS\", WITHOUT WARRANTY OF ANY KIND, EXPRESS OR IMPLIED, INCLUDING BUT NOT LIMITED TO THE WARRANTIES OF MERCHANTABILITY, FITNESS FOR A PARTICULAR PURPOSE AND NONINFRINGEMENT. IN NO EVENT SHALL THE AUTHORS OR COPYRIGHT HOLDERS BE LIABLE FOR ANY CLAIM, DAMAGES OR OTHER LIABILITY, WHETHER IN AN ACTION OF CONTRACT, TORT OR OTHERWISE, ARISING FROM, OUT OF OR IN CONNECTION WITH THE SOFTWARE OR THE USE OR OTHER DEALINGS IN THE SOFTWARE."
   ]
  }
 ],
 "metadata": {
  "kernelspec": {
   "display_name": "Python 3 (ipykernel)",
   "language": "python",
   "name": "python3"
  },
  "language_info": {
   "codemirror_mode": {
    "name": "ipython",
    "version": 3
   },
   "file_extension": ".py",
   "mimetype": "text/x-python",
   "name": "python",
   "nbconvert_exporter": "python",
   "pygments_lexer": "ipython3",
   "version": "3.9.7"
  }
 },
 "nbformat": 4,
 "nbformat_minor": 5
}
