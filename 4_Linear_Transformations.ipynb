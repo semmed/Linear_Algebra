{
 "cells": [
  {
   "cell_type": "markdown",
   "id": "7a3a8365",
   "metadata": {},
   "source": [
    "<img align=\"left\" width=\"30%\" style=\"padding-right:10px;\" src=\"Images/Ccom.png\">\n",
    "\n",
    "___\n",
    "# Review of Linear Algebra\n",
    "\n",
    "Text:\n",
    "David E. Wells, Kresho Frankich, 1994\n",
    "\n",
    "Jupyter Notebook Implementation: Semme J. Dijkstra, 2022\n",
    "\n",
    "<a href=\"https://teams.microsoft.com/l/team/19%3auL2OnH3RSfCWwU2Fd3VYGLT_03BYOfA3KB_OBp10CIY1%40thread.tacv2/conversations?groupId=5c11a428-14b6-429d-b7f5-a61ebc0a440b&tenantId=d6241893-512d-46dc-8d2b-be47e25f5666\"><img src=\"Images/help.png\"  title=\"Ask questions on Teams\" align=\"right\" width=\"10%\" alt=\"Teams.com\\\"></a><br><br> "
   ]
  },
  {
   "cell_type": "code",
   "execution_count": 66,
   "id": "9529f640",
   "metadata": {},
   "outputs": [
    {
     "name": "stdout",
     "output_type": "stream",
     "text": [
      "The autoreload extension is already loaded. To reload it, use:\n",
      "  %reload_ext autoreload\n"
     ]
    }
   ],
   "source": [
    "import matplotlib.pyplot as plt\n",
    "import numpy as np\n",
    "from my_code.plottransform import plottransform\n",
    "from my_code.latex_output import display_matrix\n",
    "placeholder = np.asarray([])\n",
    "%load_ext autoreload\n",
    "%autoreload 2"
   ]
  },
  {
   "cell_type": "markdown",
   "id": "1e230edf",
   "metadata": {},
   "source": [
    "___\n",
    "<img align=\"left\" width=\"6%\" style=\"padding-right:10px;\" src=\"./Images/info.png\">\n",
    "\n",
    "# LaTex<br>\n",
    "\n",
    "This is a [Jupyter](https://jupyter.org/) notebook in which heavy use of [LaTex](https://www.latex-project.org/) is made. LaTex is *\\\"a high-quality typesetting system; it includes features designed for the production of technical and scientific documentation. LaTeX is the de facto standard for the communication and publication of scientific documents.\\\"* according to [the Latex project](https://www.latex-project.org/)\n",
    "\n",
    "Latex allows the creation of macros and other type-setting methods of convenience. This particular Markdown cell you are reading is used for the definition of new LaTex operators and commands, but they are hidden from view. If you are interested: double click on this cell to enter its edit mode and you will be able see how they are implemented.\n",
    "\n",
    "<div hidden>\n",
    "$\\usepackage{amsmath,amssymb}$\n",
    "\n",
    "$\\DeclareRobustCommand{\\bbone}{\\text{\\usefont{U}{bbold}{m}{n}1}}$\n",
    "\n",
    "$\\DeclareMathOperator{\\EX}{\\mathbb{E}}% expected value$\n",
    "\n",
    "$\\DeclareMathOperator{\\res}{\\vec{r}}$\n",
    "\n",
    "$\\DeclareMathOperator{\\mf}{\\mu_{1}\\sigma_{2}^{2}+\\mu_{2}\\sigma_{1}^{2}\\over{\\sigma_{1}^{2} + \\sigma_{2}^{2}}}$\n",
    "    \n",
    "$\\DeclareMathOperator{\\sf}{{\\sigma_{1}^{2}\\sigma_{2}^{2}}\\over{\\sigma_{1}^{2}+\\sigma_{2}^{2}}}$\n",
    "    \n",
    "$\\newcommand{\\ex}[1]{\\mathbb{E}\\{#1\\}}$\n",
    "    \n",
    "$\\newcommand{\\dev}[1]{\\mathbb{E}\\{#1^o_i - \\mathbb{E}\\{#1\\}\\}}$\n",
    "    \n",
    "$\\newcommand{\\cov}[1]{\\mathbb{E}\\{(#1^o_i - \\mathbb{E}\\{#1\\})(#1 - \\mathbb{E}\\{#1\\})^T\\}}$\n",
    "    \n",
    "$\\newcommand{\\m}[1]{\\mathbf{#1}}$\n",
    "\n",
    "$\\newcommand{\\col}[2]{\\begin{pmatrix}#1 \\\\ #2 \\end{pmatrix}}$\n",
    "    \n",
    "</div>"
   ]
  },
  {
   "cell_type": "markdown",
   "id": "2bdb5377",
   "metadata": {},
   "source": [
    "___\n",
    "## 4.0 Introduction to Transforms and Python\n",
    "\n",
    "Note that `matplotlib` has a `transforms` module that implements most commonly used transforms. since this module is specifically aimed at learning about the transforms we will not use the `matplotlib` functionality by default. However, we will include `matplotlib` examples as they are much more efficient. Even more efficiency may be gained by using code that specifically makes use of your GPU, this may be done with modules such as `pygame` and can gain you significant performance benefits if so required. One of the goals of these notebooks is then to give you the foundations required to understand the functionality of highly optimized transformations algorithms.\n",
    "\n",
    "Before we go much further let's look at the code example below. For this code example we will define $n$ vertices $\\m{v}_i,i\\in \\mathopen[0\\dots n\\mathclose)$ representing a simple boat shape and capture them as a polygon in matrix $\\m{B}$ represented by variable B:\n",
    "\n",
    "$$\\m{v}_1=\\col{-2}{-6}, \\m{v}_2=\\col{-2}{-4}, \\m{v}_3=\\col{0}{6}, \\m{v}_4=\\col{2}{4}, \\m{v}_5=\\col{2}{-6}$$\n",
    "\n",
    "$$\\m{B} = \\left(\\begin{array}{c|c|c|c|c}\\m{v}_1&\\m{v}_2&\\m{v}_3&\\m{v}_4&\\m{v}_5\\end{array}\\right) = \\begin{pmatrix}-2&-2&0&2&2\\\\-6&4&6&4&-6\\end{pmatrix}$$"
   ]
  },
  {
   "cell_type": "code",
   "execution_count": 71,
   "id": "cf80fb91",
   "metadata": {},
   "outputs": [
    {
     "name": "stdout",
     "output_type": "stream",
     "text": [
      "Matrix B holds a polygon defining a boat shape\n"
     ]
    },
    {
     "data": {
      "text/latex": [
       "$\\displaystyle \\begin{bmatrix} \n",
       " -2.0000& -2.0000& 0.0000& 2.0000& 2.0000\\\\\n",
       " -6.0000& 4.0000& 6.0000& 4.0000& -6.0000\\\\\n",
       "\\end{bmatrix}$"
      ],
      "text/plain": [
       "<IPython.core.display.Math object>"
      ]
     },
     "metadata": {},
     "output_type": "display_data"
    },
    {
     "data": {
      "image/png": "[encoded data removed]",
      "text/plain": [
       "<Figure size 576x576 with 1 Axes>"
      ]
     },
     "metadata": {
      "needs_background": "light"
     },
     "output_type": "display_data"
    }
   ],
   "source": [
    "B = np.asarray([[-2, -2, 0, 2, 2],[-6, 4, 6, 4, -6]])\n",
    "t =  np.asarray([[8],[-1]])\n",
    "Bt = B + t\n",
    "print('Matrix B holds a polygon defining a boat shape')\n",
    "display_matrix(B)\n",
    "\n",
    "plt.figure(figsize=(8, 8))\n",
    "plt.axis('equal')\n",
    "plt.fill(B[0,:],B[1,:],'C0', ec='k',zorder=0)\n",
    "for i in enumerate(B[0,:]):\n",
    "    plt.plot([B[0,i], Bt[0,i]],[B[1,i],Bt[1,i]],'k--',zorder=1)\n",
    "    \n",
    "plt.fill(Bt[0,:],Bt[1,:],'C1', ec='k', alpha=.8,zorder=2)\n",
    "plt.show()"
   ]
  },
  {
   "cell_type": "markdown",
   "id": "f24298be",
   "metadata": {},
   "source": [
    "What all happened here?\n",
    "\n",
    "    B = np.asarray([[-2, -2, 0, 2, 2],[-6, 4, 6, 4, -6]])\n",
    "    \n",
    "Creates a `numpy` array defining the matrix $\\m{B}$ that holds a polygon of vertices in the form of the top view of a, admittedly, simple boat (shown in blue in the plot). Note that it would be more 'pythonesque' to name the matrix `B` `boat` instead, as it is more descriptive. However, since the purpose here is to illuminate principles of linear algebra we will follow the common usage of using a single capital letter, possibly augmented by a lower case specifier, as the name of a matrix. The vertices of the matrix are then given by the columns of matrix `B`, where the row 0 element defines the 0-axis (horizontal) position, and the row 1 element defines the 1-axis (vertical) position.\n",
    "\n",
    "    t =  np.asarray([[8],[-1]])\n",
    "    \n",
    "Creates a column vector with the elements `8` and `-1`\n",
    "\n",
    "    Bt = B + t\n",
    "    \n",
    "This is the statement that really warrants the step-by-step explanation; what happens here is not part of traditional linear algebra, but is a very useful addition for when you program - the process is called **implicit expansion** and allows you to write cleaner looking code. In linear algebra there is a mismatch in dimensions in the expression written above. Python recognizes this and replaces the vector $\\m{t}$ represented by the variable `t` by the matrix $[\\m{t, t, ... t}]$ matching the number of columns in `B` and thus resulting in the addition of the vector `t` to every vertex contained within `B`. Thus matrix `Bt` is matrix `B` transformed by pure translation vector `t` (you'll learn what a pure translation is next).\n",
    "\n",
    "    print('Matrix B holds a polygon defining a boat shape')\n",
    "    display_matrix(B)\n",
    "\n",
    "This just lets the user know the numerical contents of `B` in an appropriate format using LaTeX.\n",
    "\n",
    "    plt.figure(figsize=(8, 8))\n",
    "\n",
    "This creates the plot canvas\n",
    "\n",
    "    plt.axis('equal')\n",
    "    \n",
    "This equals the scaling of the units on the plot axes (1 unit on the 0-axis matches in size to 1 unit on the 1-axis).\n",
    "\n",
    "    plt.fill(B[0,:],B[1,:],'C0', ec='k',zorder=0)\n",
    "    \n",
    "This plots the matrix `B` as a filled polygon, using row 0 elements for the 0-axis coordinates, row 1 elements for the 1-axis, the first color in the color cycle C0, a black outline 'k', and puts the `zorder` at 0 i.e., in the background.\n",
    "\n",
    "    for i, x in enumerate(B[0,:]):\n",
    "        plt.plot([B[0,i], Bt[0,i]],[B[1,i],Bt[1,i]],'k--',zorder=1)\n",
    "        \n",
    "This plots black dotted connecting lines from all polygon vertices `i` contained in B to its transformed vertices in `Bt`. Since `zorder=1` the vertices are drawn over the previously drawn polygon.\n",
    "\n",
    "    plt.fill(Bt[0,:],Bt[1,:], alpha=.8,zorder=2)\n",
    "    \n",
    "This plots the transformed matrix `Bt` in the second color in the color cycle (C1), and a black outline ('k') over all previously drawn shapes. Those still are visible because the polygon is made transparent by setting the value `alpha=.8`\n",
    "\n",
    "    plt.show()\n",
    "    \n",
    "This forces the plot to be shown on the screen."
   ]
  },
  {
   "cell_type": "markdown",
   "id": "c7b984e1",
   "metadata": {},
   "source": [
    "### 4.0 Self study exercise 1\n",
    "\n",
    "    a) Add at least 4 vertices to the boat matrix B\n",
    "    b) Create a different vector t\n",
    "    c) Perform a pure translation of B using t\n",
    "    \n",
    "In the mycode folder you will find the file plottransform.py containing the function `plottransform` that takes the arguments B and Bt.\n",
    "\n",
    "    d) Update function plottransform so that it reproduces the plot produced by the code cell above (hint, a simple copy and paste operation should achieve your goal)"
   ]
  },
  {
   "cell_type": "code",
   "execution_count": 72,
   "id": "3ea6b381",
   "metadata": {},
   "outputs": [
    {
     "data": {
      "image/png": "[encoded data removed]",
      "text/plain": [
       "<Figure size 576x576 with 1 Axes>"
      ]
     },
     "metadata": {
      "needs_background": "light"
     },
     "output_type": "display_data"
    }
   ],
   "source": [
    "### 4.0 Self study exercise 1\n",
    "\n",
    "# B = np.asarray([])\n",
    "# t = np.asarray([])\n",
    "# Bt = placeholder\n",
    "# fg = plt.figure(figsize=(8, 8))\n",
    "# plottransform(B,Bt)\n",
    "# plt.show()\n",
    "\n",
    "B = np.asarray([[-2, -2, 0, 2, 2],[-6, 4, 6, 4, -6]])\n",
    "t =  np.asarray([[8],[-1]])\n",
    "Bt = B + t\n",
    "fg = plt.figure(figsize=(8, 8));\n",
    "plottransform(B,Bt)\n",
    "plt.show()"
   ]
  },
  {
   "cell_type": "code",
   "execution_count": null,
   "id": "0077d1db",
   "metadata": {},
   "outputs": [],
   "source": []
  }
 ],
 "metadata": {
  "kernelspec": {
   "display_name": "Python 3 (ipykernel)",
   "language": "python",
   "name": "python3"
  },
  "language_info": {
   "codemirror_mode": {
    "name": "ipython",
    "version": 3
   },
   "file_extension": ".py",
   "mimetype": "text/x-python",
   "name": "python",
   "nbconvert_exporter": "python",
   "pygments_lexer": "ipython3",
   "version": "3.9.7"
  }
 },
 "nbformat": 4,
 "nbformat_minor": 5
}
