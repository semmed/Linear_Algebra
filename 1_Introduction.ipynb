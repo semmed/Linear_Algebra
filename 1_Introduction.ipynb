{
 "cells": [
  {
   "cell_type": "markdown",
   "id": "7a3a8365",
   "metadata": {},
   "source": [
    "<img align=\"left\" width=\"30%\" style=\"padding-right:10px;\" src=\"Images/Ccom.png\">\n",
    "\n",
    "___\n",
    "# Review of Linear Algebra\n",
    "\n",
    "Text:\n",
    "David E. Wells, Kresho Frankich, 1994\n",
    "\n",
    "Jupyter Notebook Implementation: Semme J. Dijkstra, 2022\n",
    "\n",
    "<a href=\"https://teams.microsoft.com/l/team/19%3auL2OnH3RSfCWwU2Fd3VYGLT_03BYOfA3KB_OBp10CIY1%40thread.tacv2/conversations?groupId=5c11a428-14b6-429d-b7f5-a61ebc0a440b&tenantId=d6241893-512d-46dc-8d2b-be47e25f5666\"><img src=\"Images/help.png\"  title=\"Ask questions on Teams\" align=\"right\" width=\"10%\" alt=\"Teams.com\\\"></a><br><br> "
   ]
  },
  {
   "cell_type": "code",
   "execution_count": 4,
   "id": "9529f640",
   "metadata": {},
   "outputs": [],
   "source": [
    "import matplotlib.pyplot as plt\n",
    "import numpy as np\n",
    "from my_code.latex_output import display_matrix"
   ]
  },
  {
   "cell_type": "markdown",
   "id": "1e230edf",
   "metadata": {},
   "source": [
    "___\n",
    "<img align=\"left\" width=\"6%\" style=\"padding-right:10px;\" src=\"./Images/info.png\">\n",
    "\n",
    "# LaTex<br>\n",
    "\n",
    "This is a [Jupyter](https://jupyter.org/) notebook in which heavy use of [LaTex](https://www.latex-project.org/) is made. LaTex is *\\\"a high-quality typesetting system; it includes features designed for the production of technical and scientific documentation. LaTeX is the de facto standard for the communication and publication of scientific documents.\\\"* according to [the Latex project](https://www.latex-project.org/)\n",
    "\n",
    "Latex allows the creation of macros and other type-setting methods of convenience. This particular Markdown cell you are reading is used for the definition of new LaTex operators and commands, but they are hidden from view. If you are interested: double click on this cell to enter its edit mode and you will be able see how they are implemented.\n",
    "\n",
    "<div hidden>\n",
    "$\\usepackage{amsmath,amssymb}$\n",
    "\n",
    "$\\DeclareRobustCommand{\\bbone}{\\text{\\usefont{U}{bbold}{m}{n}1}}$\n",
    "\n",
    "$\\DeclareMathOperator{\\EX}{\\mathbb{E}}% expected value$\n",
    "\n",
    "$\\DeclareMathOperator{\\res}{\\vec{r}}$\n",
    "\n",
    "$\\DeclareMathOperator{\\mf}{\\mu_{1}\\sigma_{2}^{2}+\\mu_{2}\\sigma_{1}^{2}\\over{\\sigma_{1}^{2} + \\sigma_{2}^{2}}}$\n",
    "    \n",
    "$\\DeclareMathOperator{\\sf}{{\\sigma_{1}^{2}\\sigma_{2}^{2}}\\over{\\sigma_{1}^{2}+\\sigma_{2}^{2}}}$\n",
    "    \n",
    "$\\newcommand{\\ex}[1]{\\mathbb{E}\\{#1\\}}$\n",
    "    \n",
    "$\\newcommand{\\dev}[1]{\\mathbb{E}\\{#1^o_i - \\mathbb{E}\\{#1\\}\\}}$\n",
    "    \n",
    "$\\newcommand{\\cov}[1]{\\mathbb{E}\\{(#1^o_i - \\mathbb{E}\\{#1\\})(#1 - \\mathbb{E}\\{#1\\})^T\\}}$\n",
    "    \n",
    "$\\newcommand{\\m}[1]{\\mathbf{#1}}$\n",
    "</div>"
   ]
  },
  {
   "cell_type": "markdown",
   "id": "2bdb5377",
   "metadata": {},
   "source": [
    "___\n",
    "## 1. Introduction\n",
    "\n",
    "Linear algebra is a recently developed branch of mathematics. While some of the concepts, such as the determinant, are almost three hundred years old., it was only in 1850 that the concept of a matrix was developed. Cayley soon showed that linear transformations can be represented by matrices, and developed the rules for matrix multiplication and inversion. Hamilton developed the concept of a vector space, and the major foundations for modern linear algebra were in place.\n",
    " \n",
    "Linear algebra deals with problems that can be formulated in terms of linear equations. A linear equation in two or more variables contains no products between the variables, or powers of the variables beyond the first power. The term *linear* comes from the fact that the graph of a linear equation in two variables $x, y$ is a straighy *line* in the $xy$ plane. This is one example of the strong connection between *geometry* and linear algebra.\n",
    "\n",
    "This text is mea"
   ]
  },
  {
   "cell_type": "markdown",
   "id": "ab143e75",
   "metadata": {},
   "source": [
    "___\n",
    "### 1. Self Study Exercise 1\n",
    "\n",
    "Give a sample of a linear equation in $x,y$ using the variables `x` and `y` and plot its graph to confirm that it is a straight line. \n",
    "\n",
    "We will make use of **numpy arrays** for all representations of a linear arrays. The variable x should be defined as: \n",
    "\n",
    "    x = numpy.linspace(start, stop, num=50)\n",
    "    \n",
    "The result of the above statements is an array of 50 evenly spaced samples calculated over the interval $[start, stop]$ assigned to the variable $x$. Feel free to define your start and stop values.\n",
    "\n",
    "Formulate the linear equation in the form:\n",
    "\n",
    "$$ax+by = c$$\n",
    "\n",
    "by choosing values for $a,b$ and $c$ and solving for $y$"
   ]
  },
  {
   "cell_type": "code",
   "execution_count": 5,
   "id": "aff9b391",
   "metadata": {},
   "outputs": [
    {
     "data": {
      "text/plain": [
       "[<matplotlib.lines.Line2D at 0x7f3bf26f41c0>]"
      ]
     },
     "execution_count": 5,
     "metadata": {},
     "output_type": "execute_result"
    },
    {
     "data": {
      "image/png": "[encoded data removed]",
      "text/plain": [
       "<Figure size 432x288 with 1 Axes>"
      ]
     },
     "metadata": {
      "needs_background": "light"
     },
     "output_type": "display_data"
    }
   ],
   "source": [
    "### 1. Self Study Exercise 1\n",
    "\n",
    "start = 0\n",
    "stop = 10\n",
    "a = 3\n",
    "b = 4\n",
    "c = 20\n",
    "\n",
    "x = np.linspace(start, stop, num=50)\n",
    "\n",
    "# Linear equation is ax + by = c, thus y = ax ...\n",
    "\n",
    "y = (c - a*x)/b\n",
    "\n",
    "plt.plot(x,y)"
   ]
  },
  {
   "cell_type": "markdown",
   "id": "26bba0ba",
   "metadata": {},
   "source": [
    "___\n",
    "### 1. Self Study Exercise 2\n",
    "\n",
    "Describe what you think linearly means geometrically when we are dealing with linear equations with more than two variables.\n",
    "\n",
    "Assign the answer as a string to variable `q_1_2`"
   ]
  },
  {
   "cell_type": "code",
   "execution_count": 6,
   "id": "612e6075",
   "metadata": {},
   "outputs": [],
   "source": [
    "### 1. Self Study Exercise 2\n",
    "\n",
    "q_1_2 = 'When we are dealing with linear equations with more than two variables '\n",
    "q_1_2 += 'I think linearly means geometrically that If there are n variables '\n",
    "q_1_2 += 'then an n-dimensional space is defined and an n-parameter linear '\n",
    "q_1_2 += 'equation is represented by a straight line in n-dimensional space'"
   ]
  },
  {
   "cell_type": "markdown",
   "id": "e262874e",
   "metadata": {},
   "source": [
    "As we shall see in more detail below, we can write a system of linear equations in matrix notation as:\n",
    "\n",
    "$$\\m{Ax} = \\m{y}\\tag{1}$$\n",
    "\n",
    "Where $\\m{A}$ is a matrix and $\\m{x},\\m{y}$ are vectors. \n",
    "\n",
    "Three types of problems in linear algebra are:\n",
    "\n",
    "___\n",
    "\n",
    "1) Given $\\m{A}$ and $\\m{y}$, find $\\m{x}$\n",
    "\n",
    "this is the *solution of linear equations* discussed in [Notebook 3](3_Solution_of_Linear_Equations.ipynb). $\\m{A}$ is interpreted as a *coefficient matrix*.\n",
    "\n",
    "___\n",
    "    \n",
    "2) Given $\\m{A}$ and $\\m{x}$, find $\\m{y}$\n",
    "\n",
    "this is the determination of *linear transformations* discussed in [Notebook 4](4_Linear_Transformations.ipynb). $\\m{A}$ is interpreted as a known *transformation matrix*.\n",
    "\n",
    "___\n",
    "    \n",
    "3) Given $\\m{x}$ and $\\m{y}$ (and some special conditions), find $\\m{A}$\n",
    "\n",
    "this is also a *linear transformations* problem. This time with $\\m{A}$ as an *unknown* transformation matrix.\n"
   ]
  },
  {
   "cell_type": "markdown",
   "id": "5a498952",
   "metadata": {},
   "source": [
    "___\n",
    "### 1. Self Study Exercise 3\n",
    "\n",
    "Why do you think \"some special conditions\" are required if we want to determine a transformation matrix $\\m{A}$, given $\\m{x}$ and $\\m{y}$\n",
    "\n",
    "Assign the answer as a string to variable `q_1_3`"
   ]
  },
  {
   "cell_type": "code",
   "execution_count": 7,
   "id": "910a7c4b",
   "metadata": {},
   "outputs": [],
   "source": [
    "### 1. Self Study Exercise 3\n",
    "\n",
    "q_1_3 = 'I think \"some special conditions\" are required if we want to determine'\n",
    "q_1_3 += 'a transformation matrix 𝐀, given 𝐱 and 𝐲 because ...'"
   ]
  },
  {
   "cell_type": "markdown",
   "id": "1dfcf7b2",
   "metadata": {},
   "source": [
    "In surveying our problems are usually non-linear. However, it is possible to tap into the powerful tools of linear algebra by a process of *linearization, correction*, and *iteration* discussed in [Notebook 5](5_Solution_of_Nonlinear_Equations.ipynb), in order to solve non-linear equations.\n",
    "\n",
    "In mapping we deal with *deterministic* and *statistical* relationships. Deterministic relationships between variables, when linearized, can be represented by a *design (coefficient or Jakobian) matrix* (as in the solution of linear equations). Statistical relationships between variables can be represented by a *covariance (transformation) matrix* (as in linear transformations). Hence we are interested in both these aspects of linear algebra.\n",
    "\n",
    "Before discussing the solution of linear and non-linear equations and linear transformations, we first review some definitions and the algebra of matrices."
   ]
  },
  {
   "cell_type": "markdown",
   "id": "77651eda",
   "metadata": {},
   "source": [
    "___\n",
    "### 1.1 Definitions\n",
    "\n",
    "We will be dealing with scalars, vectors, and matrices. We will denote a scalar by a plain-text lower case cursive letter e.g. $a$, $x$; a vector by a bold lower-case letter e.g., $\\m{a}$, $\\m{x}$; and, a matrix by a bold upper-case letter e.g., $\\m{A}$, $\\m{X}$.\n",
    "\n",
    "***Scalars*** may be either real or complex numbers. We will only be considering real numbers in these notes. A ***scalar function*** is a function (possibly of something that is not a scalar) whose value is a scalar. For example the length of a vector is a scalar function of something (a vector) which is not a scalar; $\\sin{\\theta}$ is a scalar function of a scalar ($\\theta$). "
   ]
  },
  {
   "cell_type": "markdown",
   "id": "9c3a2799",
   "metadata": {},
   "source": [
    "___\n",
    "### 1.1 Self Study Exercise 4\n",
    "\n",
    "a) Give an example of scalar functions whose arguments are scalars\n",
    "b) Give a further example of scalar functions whose arguments are not scalars\n",
    "c) Give an example of scalar functions whose argument is a matrix"
   ]
  },
  {
   "cell_type": "code",
   "execution_count": 8,
   "id": "b632b500",
   "metadata": {},
   "outputs": [],
   "source": [
    "### 1.1 Self Study Exercise 4\n",
    "\n",
    "q_1_4_a = 'An example of scalar functions whose arguments are scalars is ...'\n",
    "q_1_4_b = 'A further example of scalar functions whose arguments are not scalars is ...'"
   ]
  },
  {
   "cell_type": "markdown",
   "id": "f0c10f61",
   "metadata": {},
   "source": [
    "A ***Matrix*** is a two-dimensional (rectangular) array of *scalars* or *scalar functions*. The *scalars* or *scalar functions* or scalar functions making up this array are the ***elements*** of the matrix. The position of an element in the array is denoted by a double subscript, the first indicating which ***row***, and the second indicating which ***column*** the element is located. The matrix symbol itself may be subscripted to indicate the row and column dimensions of the array i.e., the total number of rows and columns. These dimensions are the order of the matrix.\n",
    "\n",
    "For example:\n",
    "\n",
    "$$_m\\m{A}_n=\\begin{pmatrix}\n",
    "a_{11} & a_{12} & \\dots & a_{1n}\\\\\n",
    "a_{21} & a_{22} & \\dots & a_{2n}\\\\\n",
    "\\vdots & \\vdots & \\ddots & \\vdots \\\\\n",
    "a_{m1} & a_{m2} & \\dots & a_{mn}\n",
    "\\end{pmatrix}\\tag{2}$$\n",
    "\n",
    "is a matrix with $m$ rows and $n$ columns ($A$ has order $m\\times n$), and $a_{ij}$ is the element at the intersection of row $i$ with column $j$."
   ]
  },
  {
   "cell_type": "markdown",
   "id": "c861314c",
   "metadata": {},
   "source": [
    "___\n",
    "### 1.1 Self Study Exercise 5\n",
    "\n",
    "a) Give an example of scalar functions whose argument is a matrix\n",
    "b) Is it possible for a matrix to have elements which are vectors, or even other matrices?\n",
    "c) If your answer to 5.c was yes, how can this be reconciled with the sentence in the paragraph above defining what a matrix is? "
   ]
  },
  {
   "cell_type": "code",
   "execution_count": 9,
   "id": "37fd6266",
   "metadata": {},
   "outputs": [],
   "source": [
    "### 1.1 Self Study Exercise 4\n",
    "\n",
    "q_1_5_a = ''\n",
    "q_1_5_b = ''"
   ]
  },
  {
   "cell_type": "markdown",
   "id": "dbc035fd",
   "metadata": {},
   "source": [
    "A ***vector*** can be considered to be a matrix having only one row (a *row vector*) or one column (a *column vector*). In these notes vectors will be column vectors by default, unless otherwise designated. Vectors thus obey all rules of matrix algebra. However, since they are a special kind of matrix, there are extra rules of vector algebra. \n",
    "\n",
    "An example of a column vector is :\n",
    "\n",
    "$$_m\\m{A}_n=\\begin{pmatrix}\n",
    "a_{1}\\\\\n",
    "a_{2}\\\\\n",
    "\\vdots\\\\\n",
    "a_{n}\n",
    "\\end{pmatrix}\\tag{3}$$\n",
    "\n",
    "which has $n$ scalar elements $x_i$, where $i$ is the row index.\n"
   ]
  },
  {
   "cell_type": "markdown",
   "id": "ae292ca3",
   "metadata": {},
   "source": [
    "___\n",
    "### 1.1 Self Study Exercise 6\n",
    "\n",
    "if $\\sin\\theta$ is a scalar, what is $\\sin\\theta_i$, where $\\theta_i\\in\\left [ 0^{\\circ}, 5^{\\circ}, \\cdots, 90^{\\circ}\\right ]$"
   ]
  },
  {
   "cell_type": "markdown",
   "id": "76a7376e",
   "metadata": {},
   "source": [
    "___\n",
    "## Jump to Chapter\n",
    "\n",
    "[2: Matrix Algebra.ipynb](2_Matrix_Algebra.ipynb)<br>\n",
    "[3: Solution_of_Linear_Equations](3_Solution_of_Linear_Equations.ipynb)<br>\n",
    "[4: Linear Transformations](4_Linear_Transformations.ipynb)<br>\n",
    "[5: Solution of Nonlinear Equations](5_Solution_of_Nonlinear_Equations.ipynb)<br>"
   ]
  },
  {
   "cell_type": "markdown",
   "id": "a292543e",
   "metadata": {},
   "source": [
    "___\n",
    "## Useful Resources\n",
    "\n",
    "[Gilbert Strang MIT video lecture series](https://ocw.mit.edu/courses/18-06-linear-algebra-spring-2010/video_galleries/video-lectures/)"
   ]
  },
  {
   "cell_type": "markdown",
   "id": "fcfd914b",
   "metadata": {},
   "source": [
    "___\n",
    "#### Copyright 2022, Semme J. Dijkstra\n",
    "\n",
    "Permission is hereby granted, free of charge, to any person obtaining a copy of this software and associated documentation files (the \"Software\"), to deal in the Software without restriction, including without limitation the rights to use, copy, modify, merge, publish, distribute, sublicense, and/or sell copies of the Software, and to permit persons to whom the Software is furnished to do so, subject to the following conditions:\n",
    "\n",
    "The above copyright notice and this permission notice shall be included in all copies or substantial portions of the Software.\n",
    "\n",
    "THE SOFTWARE IS PROVIDED \"AS IS\", WITHOUT WARRANTY OF ANY KIND, EXPRESS OR IMPLIED, INCLUDING BUT NOT LIMITED TO THE WARRANTIES OF MERCHANTABILITY, FITNESS FOR A PARTICULAR PURPOSE AND NONINFRINGEMENT. IN NO EVENT SHALL THE AUTHORS OR COPYRIGHT HOLDERS BE LIABLE FOR ANY CLAIM, DAMAGES OR OTHER LIABILITY, WHETHER IN AN ACTION OF CONTRACT, TORT OR OTHERWISE, ARISING FROM, OUT OF OR IN CONNECTION WITH THE SOFTWARE OR THE USE OR OTHER DEALINGS IN THE SOFTWARE."
   ]
  },
  {
   "cell_type": "code",
   "execution_count": null,
   "id": "72f6a9fa",
   "metadata": {},
   "outputs": [],
   "source": []
  }
 ],
 "metadata": {
  "kernelspec": {
   "display_name": "Python 3 (ipykernel)",
   "language": "python",
   "name": "python3"
  },
  "language_info": {
   "codemirror_mode": {
    "name": "ipython",
    "version": 3
   },
   "file_extension": ".py",
   "mimetype": "text/x-python",
   "name": "python",
   "nbconvert_exporter": "python",
   "pygments_lexer": "ipython3",
   "version": "3.9.7"
  }
 },
 "nbformat": 4,
 "nbformat_minor": 5
}
