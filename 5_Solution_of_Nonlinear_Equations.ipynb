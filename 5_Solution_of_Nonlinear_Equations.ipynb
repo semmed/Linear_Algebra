{
 "cells": [
  {
   "cell_type": "markdown",
   "id": "7a3a8365",
   "metadata": {},
   "source": [
    "<img align=\"left\" width=\"30%\" style=\"padding-right:10px;\" src=\"Images/Ccom.png\">\n",
    "\n",
    "___\n",
    "# Review of Linear Algebra\n",
    "## 4 Solution of Nonlinear Equations\n",
    "<br>\n",
    "Original Linear Algebra text and in text examples:\n",
    "David E. Wells, Kresho Frankich, 1994\n",
    "\n",
    "Minor additional notes and edits: Semme J. Dijkstra, 2022<br>\n",
    "Additional examples: : Semme J. Dijkstra, 2022<br>\n",
    "Jupyter Notebook Implementation: Semme J. Dijkstra, 2022<br>\n",
    "Python code and explanations: Semme J. Dijkstra, 2022\n",
    "\n",
    "<a href=\"https://teams.microsoft.com/l/team/19%3auL2OnH3RSfCWwU2Fd3VYGLT_03BYOfA3KB_OBp10CIY1%40thread.tacv2/conversations?groupId=5c11a428-14b6-429d-b7f5-a61ebc0a440b&tenantId=d6241893-512d-46dc-8d2b-be47e25f5666\"><img src=\"Images/help.png\"  title=\"Ask questions on Teams\" align=\"right\" width=\"10%\" alt=\"Teams.com\\\"></a><br><br> "
   ]
  },
  {
   "cell_type": "code",
   "execution_count": 1,
   "id": "9529f640",
   "metadata": {},
   "outputs": [],
   "source": [
    "import matplotlib.pyplot as plt\n",
    "import numpy as np\n",
    "from numpy import pi, sin, cos, sqrt\n",
    "import numpy.linalg as la\n",
    "from my_code.latex_output import display_matrix, latex_matrix\n",
    "from my_code.boat import boat\n",
    "from my_code.set_limit import set_limit\n",
    "from my_code.plottransform import plottransform\n",
    "from IPython.display import display, Math, Markdown, Latex\n",
    "# %matplotlib notebook\n",
    "from matplotlib.animation import FuncAnimation\n",
    "%load_ext autoreload\n",
    "%autoreload 2\n"
   ]
  },
  {
   "cell_type": "markdown",
   "id": "1e230edf",
   "metadata": {},
   "source": [
    "___\n",
    "<img align=\"left\" width=\"6%\" style=\"padding-right:10px;\" src=\"./Images/info.png\">\n",
    "\n",
    "# LaTex<br>\n",
    "\n",
    "This is a [Jupyter](https://jupyter.org/) notebook in which heavy use of [LaTex](https://www.latex-project.org/) is made. LaTex is *\\\"a high-quality typesetting system; it includes features designed for the production of technical and scientific documentation. LaTeX is the de facto standard for the communication and publication of scientific documents.\\\"* according to [the Latex project](https://www.latex-project.org/)\n",
    "\n",
    "Latex allows the creation of macros and other type-setting methods of convenience. This particular Markdown cell you are reading is used for the definition of new LaTex operators and commands, but they are hidden from view. If you are interested: double click on this cell to enter its edit mode and you will be able see how they are implemented.\n",
    "\n",
    "<div hidden>\n",
    "$\\usepackage{amsmath,amssymb}$\n",
    "\n",
    "$\\DeclareRobustCommand{\\bbone}{\\text{\\usefont{U}{bbold}{m}{n}1}}$\n",
    "\n",
    "$\\DeclareMathOperator{\\EX}{\\mathbb{E}}% expected value$\n",
    "\n",
    "$\\DeclareMathOperator{\\res}{\\vec{r}}$\n",
    "\n",
    "$\\DeclareMathOperator{\\mf}{\\mu_{1}\\sigma_{2}^{2}+\\mu_{2}\\sigma_{1}^{2}\\over{\\sigma_{1}^{2} + \\sigma_{2}^{2}}}$\n",
    "    \n",
    "$\\DeclareMathOperator{\\sf}{{\\sigma_{1}^{2}\\sigma_{2}^{2}}\\over{\\sigma_{1}^{2}+\\sigma_{2}^{2}}}$\n",
    "    \n",
    "$\\newcommand{\\ex}[1]{\\mathbb{E}\\{#1\\}}$\n",
    "    \n",
    "$\\newcommand{\\dev}[1]{\\mathbb{E}\\{#1^o_i - \\mathbb{E}\\{#1\\}\\}}$\n",
    "    \n",
    "$\\newcommand{\\cov}[1]{\\mathbb{E}\\{(#1^o_i - \\mathbb{E}\\{#1\\})(#1 - \\mathbb{E}\\{#1\\})^T\\}}$\n",
    "    \n",
    "$\\newcommand{\\m}[1]{\\mathbf{#1}}$\n",
    "\n",
    "$\\newcommand{\\col}[2]{\\begin{pmatrix}#1 \\\\ #2 \\end{pmatrix}}$\n",
    "    \n",
    "$\\newcommand{\\pd}[2]{\\dfrac{\\partial{\\,#1}}{\\partial{\\,#2}}}$\n",
    "    \n",
    "</div>\n",
    "\n"
   ]
  },
  {
   "cell_type": "markdown",
   "id": "2bdb5377",
   "metadata": {},
   "source": [
    "___\n",
    "# 5 The Solution of Nonlinear Equations\n",
    "\n",
    "In most cases, the equations and parameters that we use in Ocean Mapping are **not** linearly related. In order to use the powerful tools that linear algebra provides we must find some way of ***linearizing*** the nonlinear equations. We will require some results from the calculus of matrices in order to do this. The assumption is made that you are familiar with the calculus, but not it's implementation with matrices, thus a short introduction to the topic is provided.\n",
    "\n",
    "Note that much may be said about this topic. However we will limit the scope to what is required for the *method of the least squares* and *Kalman filtering*, both of which are routinely encountered in Ocean Mapping.\n"
   ]
  },
  {
   "cell_type": "markdown",
   "id": "7afa3e39",
   "metadata": {},
   "source": [
    "### 5. Self Study Exercise 1\n",
    "\n",
    "Imagine that you are in a location $x_{obs}$ and are observing distances $l_i$ to three locations $x_i$. The locations and observations are given in the table below\n",
    "\n",
    "\n",
    "$$\\begin{array}{|c|c|c|c|} \\text{Location}&\\text{Easting}&\\text{Northing}&\\text{Observation} \\\\\n",
    "\\hline \\\\\n",
    "\\m{x}_{obs} & 34682.29 & 198739.81 &   \\\\\n",
    "\\m{x}_{1} & 34589.76 & 198645.87 &  131.753 \\\\ \n",
    "\\m{x}_{2} & 34857.20 & 198628.99 &  207.157 \\\\\n",
    "\\m{x}_{3} & 34624.74 & 198823.66 &  101.611 \\\\\n",
    "\\end{array}$$"
   ]
  },
  {
   "cell_type": "code",
   "execution_count": 20,
   "id": "1898b243",
   "metadata": {},
   "outputs": [
    {
     "name": "stdout",
     "output_type": "stream",
     "text": [
      "C0\n",
      "C1\n",
      "C2\n"
     ]
    },
    {
     "data": {
      "image/png": "[encoded data removed]",
      "text/plain": [
       "<Figure size 576x576 with 1 Axes>"
      ]
     },
     "metadata": {
      "needs_background": "light"
     },
     "output_type": "display_data"
    }
   ],
   "source": [
    "# Define a circle for plotting\n",
    "t = np.linspace(0,2*pi,100)\n",
    "circle = np.array([cos(t),sin(t)])\n",
    "\n",
    "# The (estimated) location of the observer\n",
    "x_obs = np.array([[ 34682.29],[ 198739.81]])\n",
    "\n",
    "# The known locations of the stations\n",
    "x_i = np.array([[ 34589.76, 34857.20, 34624.74],[ 198645.87, 198628.99, 198823.66]])\n",
    "\n",
    "# The observed distances to the stations\n",
    "l_obs = np.array([[131.753], [207.157], [101.611]])\n",
    "\n",
    "# Create the baselines between the observer and the stations `x_i`\n",
    "bl = x_obs - x_i\n",
    "\n",
    "# Allocate memory for the observable vector l\n",
    "l = np.zeros((3,1))\n",
    "\n",
    "# Model the observations\n",
    "for i,b in enumerate(bl.T):\n",
    "    l[i] = sqrt(b.T@b)\n",
    "    \n",
    "\n",
    "fig, (ax1) = plt.subplots(nrows=1, ncols=1, figsize=(8, 8))\n",
    "for i,lop in enumerate(l_obs):\n",
    "    c = 'C'+str(i)\n",
    "    print(c)\n",
    "    plt.plot(x_i[0],x_i[1],color = 'C3')\n",
    "\n",
    "plot_limits = set_limit(x_i)\n",
    "ax1.set_xlim(plot_limits[0])\n",
    "ax1.set_ylim(plot_limits[1])\n",
    "plt.show()"
   ]
  },
  {
   "cell_type": "code",
   "execution_count": 8,
   "id": "2ddd2d6a",
   "metadata": {},
   "outputs": [
    {
     "data": {
      "text/plain": [
       "array([[ 34563.016,  34883.944],\n",
       "       [198609.523, 198843.127]])"
      ]
     },
     "execution_count": 8,
     "metadata": {},
     "output_type": "execute_result"
    }
   ],
   "source": [
    "set_limit(x_i)"
   ]
  },
  {
   "cell_type": "markdown",
   "id": "25b26cd2",
   "metadata": {},
   "source": [
    "___\n",
    "## 5.1 Matrix Calculus\n",
    "\n",
    "In these notebooks the elements of matrix $\\m{A}$ have so-far been numbers. However, you may now assume that the elements of matrix $\\m{A}$ are differentiable functions of a variable $x$ i.e., $a_{ij}=a_{ij}(x)$. Then the derivative of $\\m{A}$ is defined as the matrix whose elements are the derivatives of the corresponding elements of $\\m{A}$. \n",
    "\n",
    "For example, for\n",
    "\n",
    "$$\\m{A} = \\begin{pmatrix} a_{11}(x) & a_{12}(x) \\\\ a_{21}(x) & a_{22}(x) \\end{pmatrix}\\tag{204}$$\n",
    "\n",
    "the derivative of $\\m{A}$ is\n",
    "\n",
    "$$\\dfrac{d\\m{A}}{dx} = \\begin{pmatrix} \\dfrac{d\\,a_{11}(x)}{dx} & \\dfrac{d\\,a_{12}(x)}{dx} \\\\ \\dfrac{d\\,a_{21}(x)}{dx} & \\dfrac{d\\,a_{22}(x)}{dx} \\end{pmatrix}\\tag{205}$$\n",
    "\n",
    "If $\\m{A}$ is the product of two other matrices $\\m{B}$ and $\\m{C}$, whose elements are also differentiable functions of $x$, then\n",
    "<a id='eq206'></a>\n",
    "$$\\m{A}=\\m{BC}\\tag{206}$$\n",
    "\n",
    "has the derivative:\n",
    "\n",
    "$$\\dfrac{d\\m{A}}{dx} = \\dfrac{d\\m{\\,BC}}{dx} = \\dfrac{d\\m{\\,B}}{dx}\\m{C}+\\m{B}\\dfrac{d\\m{C}}{dx}\\tag{207}$$\n",
    "\n",
    "if $\\m{C}$ is nonsingular, it has an inverse and we find from [(206)](#eq206):\n",
    "\n",
    "$$\\m{B}=\\m{AC}^{-1}\\tag{208}$$\n",
    "\n",
    "which may be differentiated as (by rewriting [(207)](#eq207))\n",
    "\n",
    "$$\\dfrac{d\\m{\\,B}}{dx}=\\dfrac{d\\m{AC}^{-1}}{dx}=\\dfrac{d\\m{A}}{dx}\\m{C}^{-1}-\\m{A}\\m{C}^{-1}\\dfrac{d\\m{C}}{dx}\\m{C}^{-1}\\tag{209}$$\n",
    "\n",
    "Note that [(207)](#eq207) and [(209)](#eq209) are analogous to the derivatives of $a(x) = b(x)c(x)$ and $b(x)=a(x)/b(x)$. However, because matrices are generally not commutative the order in [(207)](#eq207) and [(209)](#eq209) cannot be altered.\n",
    "\n",
    "In the quadratic form\n",
    "\n",
    "$$l^2 = \\m{x}^T\\m{Ax}\\tag{210}$$\n",
    "\n",
    "the elements of the matrix $\\m{A}$ are considered as constants, and the elements of $\\m{x}$ as variables. The derivative of the quadratic form is then\n",
    "\n",
    "$$dl^2=d\\m{x}^T\\cdot\\m{Ax}+\\m{x}^T\\m{A}\\cdot d{\\m{x}}\\tag{211}$$\n",
    "\n",
    "and if $\\m{A}$ is symmetric ($\\m{A}^T=\\m{A}$) then (using [(44)](2_Matrix_Algebra.ipynb#eq44): $(\\m{A}\\m{B})^T = \\m{B}^T\\m{A}^T)$\n",
    "\n",
    "$$dl^2=2\\m{x}^T\\m{A}\\cdot d{\\m{x}}\\tag{212}$$\n",
    "\n",
    "thus\n",
    "\n",
    "$$\\dfrac{d\\m{x}^T\\m{Ax}}{d\\m{x}}=2\\m{x}^T\\m{A}\\tag{213}$$"
   ]
  },
  {
   "cell_type": "markdown",
   "id": "fa29e210",
   "metadata": {},
   "source": [
    "___\n",
    "## 5.2 Partial Differentiation\n",
    "\n",
    "Consider a column vector $\\m{y}$ having $m$ elements, each of which is function of *several* variables $(x_1, x_2, \\dots, x_n)$. Let $\\m{x}$ be the column vector whose elements are these variables. If we adopt the convention that the derivatives of $y_1$ form a row vector, it has the form\n",
    "\n",
    "$$\\pd{y_1}{\\m{x}}=\\begin{pmatrix}\\pd{y_1}{x_1}&\\pd{y_1}{x_2}&\\dots&\\pd{y_1}{x_n}\\end{pmatrix}\\tag{214}$$\n",
    "\n",
    "By this convention the derivative of the entire vector $\\m{y}$ becomes an array\n",
    "\n",
    "$$\\pd{y}{\\m{x}}=\\begin{pmatrix}\n",
    "\\pd{y_1}{x_1}&\\pd{y_1}{x_2}&\\dots&\\pd{y_1}{x_n} \\\\\n",
    "\\pd{y_2}{x_1}&\\pd{y_2}{x_2}&\\dots&\\pd{y_2}{x_n} \\\\\n",
    "\\vdots&\\vdots&\\ddots&\\vdots \\\\\n",
    "\\pd{y_n}{x_1}&\\pd{y_n}{x_2}&\\dots&\\pd{y_n}{x_n}\\end{pmatrix}\\tag{215}$$\n",
    "\n",
    "the $(i,j)$ element of which is given by $\\pd{y_i}{x_j}$. The total differential of "
   ]
  }
 ],
 "metadata": {
  "kernelspec": {
   "display_name": "Python 3 (ipykernel)",
   "language": "python",
   "name": "python3"
  },
  "language_info": {
   "codemirror_mode": {
    "name": "ipython",
    "version": 3
   },
   "file_extension": ".py",
   "mimetype": "text/x-python",
   "name": "python",
   "nbconvert_exporter": "python",
   "pygments_lexer": "ipython3",
   "version": "3.9.7"
  }
 },
 "nbformat": 4,
 "nbformat_minor": 5
}
