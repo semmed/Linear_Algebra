{
 "cells": [
  {
   "cell_type": "markdown",
   "id": "7a3a8365",
   "metadata": {},
   "source": [
    "<img align=\"left\" width=\"30%\" style=\"padding-right:10px;\" src=\"Images/Ccom.png\">\n",
    "\n",
    "___\n",
    "# Review of Linear Algebra\n",
    "## 2 Matrix Algebra\n",
    "<br>\n",
    "Original Linear Algebra text and in text examples:\n",
    "David E. Wells, Kresho Frankich, 1994\n",
    "\n",
    "Minor additional notes and edits: Semme J. Dijkstra, 2022<br>\n",
    "Additional examples: : Semme J. Dijkstra, 2022<br>\n",
    "Jupyter Notebook Implementation: Semme J. Dijkstra, 2022<br>\n",
    "Python code and explanations: Semme J. Dijkstra, 2022\n",
    "\n",
    "<a href=\"https://teams.microsoft.com/l/team/19%3auL2OnH3RSfCWwU2Fd3VYGLT_03BYOfA3KB_OBp10CIY1%40thread.tacv2/conversations?groupId=5c11a428-14b6-429d-b7f5-a61ebc0a440b&tenantId=d6241893-512d-46dc-8d2b-be47e25f5666\"><img src=\"Images/help.png\"  title=\"Ask questions on Teams\" align=\"right\" width=\"10%\" alt=\"Teams.com\\\"></a><br><br> "
   ]
  },
  {
   "cell_type": "code",
   "execution_count": 2,
   "id": "9529f640",
   "metadata": {},
   "outputs": [],
   "source": [
    "import matplotlib.pyplot as plt\n",
    "import numpy as np\n",
    "from numpy import pi, sin, cos\n",
    "import numpy.linalg as la\n",
    "from my_code.latex_output import display_matrix\n",
    "from my_code.boat import boat\n",
    "%matplotlib notebook\n",
    "from matplotlib.animation import FuncAnimation\n",
    "%load_ext autoreload\n",
    "%autoreload 2"
   ]
  },
  {
   "cell_type": "markdown",
   "id": "1e230edf",
   "metadata": {},
   "source": [
    "___\n",
    "<img align=\"left\" width=\"6%\" style=\"padding-right:10px;\" src=\"./Images/info.png\">\n",
    "\n",
    "# LaTex<br>\n",
    "\n",
    "This is a [Jupyter](https://jupyter.org/) notebook in which heavy use of [LaTex](https://www.latex-project.org/) is made. LaTex is *\\\"a high-quality typesetting system; it includes features designed for the production of technical and scientific documentation. LaTeX is the de facto standard for the communication and publication of scientific documents.\\\"* according to [the Latex project](https://www.latex-project.org/)\n",
    "\n",
    "Latex allows the creation of macros and other type-setting methods of convenience. This particular Markdown cell you are reading is used for the definition of new LaTex operators and commands, but they are hidden from view. If you are interested: double click on this cell to enter its edit mode and you will be able see how they are implemented.\n",
    "\n",
    "<div hidden>\n",
    "$\\usepackage{amsmath,amssymb}$\n",
    "\n",
    "$\\DeclareRobustCommand{\\bbone}{\\text{\\usefont{U}{bbold}{m}{n}1}}$\n",
    "\n",
    "$\\DeclareMathOperator{\\EX}{\\mathbb{E}}% expected value$\n",
    "\n",
    "$\\DeclareMathOperator{\\res}{\\vec{r}}$\n",
    "\n",
    "$\\DeclareMathOperator{\\mf}{\\mu_{1}\\sigma_{2}^{2}+\\mu_{2}\\sigma_{1}^{2}\\over{\\sigma_{1}^{2} + \\sigma_{2}^{2}}}$\n",
    "    \n",
    "$\\DeclareMathOperator{\\sf}{{\\sigma_{1}^{2}\\sigma_{2}^{2}}\\over{\\sigma_{1}^{2}+\\sigma_{2}^{2}}}$\n",
    "    \n",
    "$\\newcommand{\\ex}[1]{\\mathbb{E}\\{#1\\}}$\n",
    "    \n",
    "$\\newcommand{\\dev}[1]{\\mathbb{E}\\{#1^o_i - \\mathbb{E}\\{#1\\}\\}}$\n",
    "    \n",
    "$\\newcommand{\\cov}[1]{\\mathbb{E}\\{(#1^o_i - \\mathbb{E}\\{#1\\})(#1 - \\mathbb{E}\\{#1\\})^T\\}}$\n",
    "    \n",
    "$\\newcommand{\\m}[1]{\\mathbf{#1}}$\n",
    "\n",
    "$\\newcommand{\\col}[2]{\\begin{pmatrix}#1 \\\\ #2 \\end{pmatrix}}$\n",
    "    \n",
    "</div>"
   ]
  },
  {
   "cell_type": "markdown",
   "id": "2bdb5377",
   "metadata": {},
   "source": [
    "___\n",
    "## 2.1 Special Matrices\n",
    "\n",
    "We will often be concerned with matrices having the same numbers of columns as rows. Such a matrix ks called a ***square*** matrix:\n",
    "\n",
    "$$_n\\m{S}_n=\\begin{pmatrix}\n",
    "a_{11} & a_{12} & \\dots & a_{1n}\\\\\n",
    "a_{21} & a_{22} & \\dots & a_{2n}\\\\\n",
    "\\vdots & \\vdots & \\ddots & \\vdots \\\\\n",
    "a_{n1} & a_{n2} & \\dots & a_{nn}\n",
    "\\end{pmatrix}\\tag{4}$$\n",
    "\n",
    "\n",
    "A square matrix having all elements zero except along the principal diagonal running from the top left to the bottom right is a ***diagonal matrix***:\n",
    "\n",
    "$$_3\\m{D}_3=\\begin{pmatrix}\n",
    "-1 & 0 & 0\\\\\n",
    "0 & 1 & 0\\\\\n",
    "0 & 0 & 0\n",
    "\\end{pmatrix}\\tag{5}$$\n",
    "\n",
    "A diagonal matrix which has all the diagonal elements equal is called a ***scalar matrix***:\n",
    "\n",
    "$$_4\\m{K}_4=\\begin{pmatrix}\n",
    "3 & 0 & 0 & 0\\\\\n",
    "0 & 3 & 0 & 0\\\\\n",
    "0 & 0 & 3 & 0\\\\\n",
    "0 & 0 & 0 & 3\n",
    "\\end{pmatrix}\\tag{6}$$\n",
    "\n",
    "A scalar matrix which has diagonal elements equal to one is called a ***unit*** or ***identity matrix*** and is usually denoted $I$:\n",
    "\n",
    "$$_2\\m{I}_2=\\begin{pmatrix}\n",
    "1 & 0 \\\\\n",
    "0 & 1\n",
    "\\end{pmatrix}\\tag{7}$$\n"
   ]
  },
  {
   "cell_type": "markdown",
   "id": "2db456fd",
   "metadata": {},
   "source": [
    "___\n",
    "### 2.1 Self Study Exercise 1\n",
    "\n",
    "Write out the linear equations $\\m{Ax} = \\m{y}$ explicitly, when $\\m{A}$ is equal to the examples $(4)$ to $(7)$ on a piece of paper.\n",
    "\n",
    "Comment on the nature of these equations in each case in the code cell below"
   ]
  },
  {
   "cell_type": "code",
   "execution_count": 3,
   "id": "8ed97b75",
   "metadata": {},
   "outputs": [],
   "source": [
    "### 2.1 Self Study Exercise 7\n",
    "\n",
    "q_2_1_1a = 'The matrix S above ...'\n",
    "q_2_1_1b = 'The matrix D above ...'\n",
    "q_2_1_1c = 'The matrix K above ...'\n",
    "q_2_1_1d = 'The matrix I above ...'"
   ]
  },
  {
   "cell_type": "markdown",
   "id": "a13cafae",
   "metadata": {},
   "source": [
    "A square matrix in which all the elements above the diagonal are zero is a ***lower triangular*** matrix:\n",
    "\n",
    "$$_3\\m{L}_3=\\begin{pmatrix}\n",
    "5 & 0 & 0\\\\\n",
    "7 & 9 & 0\\\\\n",
    "8 & 6 & 3\n",
    "\\end{pmatrix}\\tag{8}$$\n",
    "\n",
    "If all the elements below the diagonal are zero, it is an ***upper triangular*** matrix.\n",
    "\n",
    "$$_3\\m{U}_3=\\begin{pmatrix}\n",
    "3 & 1 & 1 & 1\\\\\n",
    "0 & 3 & 1 & 1\\\\\n",
    "0 & 0 & 3 & 1\\\\\n",
    "0 & 0 & 0 & 3\n",
    "\\end{pmatrix}\\tag{9}$$\n",
    "\n",
    "If the equivalent elements above and below the diagonal are equal (that is for $\\m{A}$  $a_{ij}=a_{ji}\\forall i,j$) then the matrix is a ***symmetric matrix***\n",
    "\n",
    "$$_2\\m{S}_2=\\begin{pmatrix}\n",
    "2 & 3 \\\\\n",
    "3 & 1\n",
    "\\end{pmatrix}\\tag{10}$$"
   ]
  },
  {
   "cell_type": "markdown",
   "id": "3f0c0eea",
   "metadata": {},
   "source": [
    "___\n",
    "### 2.1 Self Study Exercise 2\n",
    "\n",
    "Write out the linear equations $\\m{Ax} = \\m{y}$ explicitly, when $\\m{A}$ is equal to the examples $(8)$ to $(10)$ on a piece of paper.\n",
    "\n",
    "Comment on the nature of these equations in each case in the code cell below"
   ]
  },
  {
   "cell_type": "code",
   "execution_count": 4,
   "id": "f9eccdf2",
   "metadata": {},
   "outputs": [],
   "source": [
    "### 2.1 Self Study Exercise 7\n",
    "\n",
    "q_2_1_2a = 'The matrix L above ...'\n",
    "q_2_1_2b = 'The matrix U above ...'\n",
    "q_2_1_2c = 'The matrix S above ...'"
   ]
  },
  {
   "cell_type": "markdown",
   "id": "87e9884d",
   "metadata": {},
   "source": [
    "Finally, if all the elements of a matrix are zero the matrix is called a ***null matrix***, denoted $\\m{0}$.\n",
    "\n",
    "$$_2\\m{0}_3=\\begin{pmatrix}\n",
    "0 & 0 & 0 \\\\\n",
    "0 & 0 & 0\n",
    "\\end{pmatrix}\\tag{11}$$"
   ]
  },
  {
   "cell_type": "markdown",
   "id": "21156857",
   "metadata": {},
   "source": [
    "___\n",
    "## 2.2 Basic Matrix Operations\n",
    "\n",
    "The four basic operations on scalars are familiar: \n",
    "    \n",
    "    - addition\n",
    "    - subtraction\n",
    "    - multiplication\n",
    "    - division\n",
    "    \n",
    "Close equivalents of the first three of these are used on matrices. While there is no direct matrix equivalent to scalar division, matrix *inversion* is equivalent to taking the *reciprocal* of a scalar. This is discussed separately in the next section. There are some other operations on matrices that have no scalar equivalent, such as the multiplication of a matrix by a scalar, ***transposition*** of a matrix, finding the ***trace*** of a matrix, and finding the ***determinant*** of a matrix.\n"
   ]
  },
  {
   "cell_type": "markdown",
   "id": "d880fb11",
   "metadata": {},
   "source": [
    "### 2.2.0 Basic Matrix Operations and `numpy` Broadcasting\n",
    "\n",
    "Note that `numpy` supports a mechanism not part of Linear Algebra known as ***Broadcasting***. From the [`numpy` pages:](https://numpy.org/doc/stable/user/basics.broadcasting.html):\n",
    "\n",
    "    The term broadcasting describes how NumPy treats arrays with different shapes during \n",
    "    arithmetic operations. Subject to certain constraints, the smaller array is “broadcast” \n",
    "    across the larger array so that they have compatible shapes. Broadcasting provides a \n",
    "    means of vectorizing array operations so that looping occurs in C instead of Python. \n",
    "    It does this without making needless copies of data and usually leads to efficient \n",
    "    algorithm implementations. There are, however, cases where broadcasting is a bad idea \n",
    "    because it leads to inefficient use of memory that slows computation.\n",
    "    \n",
    "From the above it follows that we generally should make use of the implicit expansion that `broadcasting` provides. It reads to more legible code that is usually more efficient. However, it does violate the idea that the order of matrices (scalars and vectors being special cases of matrices) should be consistent with the mathematical operation to be performed. In this Notebook we will give examples of the 'proper' linear algebra form along with the for that you may use when coding in `Python`\n",
    "\n",
    "    NumPy operations are usually done on pairs of arrays on an element-by-element basis. In the simplest case, \n",
    "    the two arrays must have exactly the same shape, as in the following example \n",
    "    (we will use an example of \n",
    "    matrix addition which you will learn about in [2.2.2 Basic Matrix Operations: Addition]\n",
    "    \n",
    "$$\\m{v}_1=\\col{-2}{-6}, \\m{v}_2=\\col{-2}{-4}, \\m{v}_3=\\col{0}{6}, \\m{v}_4=\\col{2}{4}, \\m{v}_5=\\col{2}{-6}$$    \n",
    "    \n",
    "    The result is equivalent to the previous example where b was an array. We can think of the scalar b being stretched during the arithmetic operation into an array with the same shape as a. The new elements in b, as shown in Figure 1, are simply copies of the original scalar. The stretching analogy is only conceptual. NumPy is smart enough to use the original scalar value without actually making copies so that broadcasting operations are as memory and computationally efficient as possible.\n",
    "    A scalar is broadcast to match the shape of the 1-d array it is being multiplied to.\n",
    "\n",
    "    Figure 1\n",
    "\n",
    "    In the simplest example of broadcasting, the scalar b is stretched to become an array of same shape as a so the shapes are compatible for element-by-element multiplication.\n",
    "\n",
    "\n",
    "\n",
    "This is the statement that really warrants the step-by-step explanation; what happens here is not part of traditional linear algebra, but is a very useful addition for when you program - the process is called **implicit expansion** and allows you to write cleaner looking code. In linear algebra there is a mismatch in dimensions in the expression written above. Python recognizes this and replaces the vector $\\m{t}$ represented by the variable `t` by the matrix $[\\m{t, t, ... t}]$ matching the number of columns in `B` and thus resulting in the addition of the vector `t` to every vertex contained within `B`. Thus matrix `Bt` is matrix `B` transformed by pure translation vector `t` (you'll learn what a pure translation is next).\n"
   ]
  },
  {
   "cell_type": "markdown",
   "id": "fdaddb17",
   "metadata": {},
   "source": [
    "___\n",
    "### 2.2.1 Basic Matrix Operations: Equality\n",
    "\n",
    "Two matrices $_m\\m{A}_n$ and $_p\\m{B}_q$ are *identical* only if they have the same dimensions i.e., $m=p$ and $n=q$, and if all corresponding elements are equal $(a_{ij}=b_{ij}\\text{  }\\forall\\text{  }i,j)$. Note that the $\\forall$ symbol means **'for all'**.\n",
    "\n",
    "Note that the `equality operator` in `numpy` will allow the evaluation of `numpy` arrays of unequal dimension.\n"
   ]
  },
  {
   "cell_type": "markdown",
   "id": "00884fe8",
   "metadata": {},
   "source": [
    "___\n",
    "### 2.2.1.1 Basic Matrix Operations: Equality and Using Numpy Arrays\n",
    "\n",
    "`numpy` handles arrays very efficiently, but this comes with some consequences that initially may be confusing to programmers. \n",
    "\n",
    "If you for example want to create a copy of an instance of a matrix $\\m{D}$ and name it $\\m{E}$ it is tempting to use:\n",
    "\n",
    "    B = A"
   ]
  },
  {
   "cell_type": "code",
   "execution_count": 5,
   "id": "fb59cfdc",
   "metadata": {},
   "outputs": [
    {
     "name": "stdout",
     "output_type": "stream",
     "text": [
      "Matrix A:\n"
     ]
    },
    {
     "data": {
      "text/latex": [
       "$\\displaystyle \\begin{bmatrix} \n",
       " 1.0000& 2.0000\\\\\n",
       " 3.0000& 4.0000\\\\\n",
       "\\end{bmatrix}$"
      ],
      "text/plain": [
       "<IPython.core.display.Math object>"
      ]
     },
     "metadata": {},
     "output_type": "display_data"
    },
    {
     "name": "stdout",
     "output_type": "stream",
     "text": [
      "Matrix B:\n"
     ]
    },
    {
     "data": {
      "text/latex": [
       "$\\displaystyle \\begin{bmatrix} \n",
       " 1.0000& 2.0000\\\\\n",
       " 3.0000& 4.0000\\\\\n",
       "\\end{bmatrix}$"
      ],
      "text/plain": [
       "<IPython.core.display.Math object>"
      ]
     },
     "metadata": {},
     "output_type": "display_data"
    }
   ],
   "source": [
    "A = np.asarray([[1., 2.],[3., 4.]])\n",
    "print('Matrix A:')\n",
    "display_matrix(A)\n",
    "B = A\n",
    "print('Matrix B:')\n",
    "display_matrix(B)"
   ]
  },
  {
   "cell_type": "markdown",
   "id": "e7b89a93",
   "metadata": {},
   "source": [
    "From the above code cell it appears that everything worked as intended, the elements of `B` match those of `A` and we can happily use `B` for our purposes. But let us first see what happens if we change an element of `B`:"
   ]
  },
  {
   "cell_type": "code",
   "execution_count": 6,
   "id": "a2857ce8",
   "metadata": {},
   "outputs": [
    {
     "name": "stdout",
     "output_type": "stream",
     "text": [
      "Matrix A after manipulation of B:\n"
     ]
    },
    {
     "data": {
      "text/latex": [
       "$\\displaystyle \\begin{bmatrix} \n",
       " 11.0000& 2.0000\\\\\n",
       " 3.0000& 4.0000\\\\\n",
       "\\end{bmatrix}$"
      ],
      "text/plain": [
       "<IPython.core.display.Math object>"
      ]
     },
     "metadata": {},
     "output_type": "display_data"
    },
    {
     "name": "stdout",
     "output_type": "stream",
     "text": [
      "Matrix B after manipulation of B:\n"
     ]
    },
    {
     "data": {
      "text/latex": [
       "$\\displaystyle \\begin{bmatrix} \n",
       " 11.0000& 2.0000\\\\\n",
       " 3.0000& 4.0000\\\\\n",
       "\\end{bmatrix}$"
      ],
      "text/plain": [
       "<IPython.core.display.Math object>"
      ]
     },
     "metadata": {},
     "output_type": "display_data"
    }
   ],
   "source": [
    "A = np.asarray([[1., 2.],[3., 4.]])\n",
    "B = A\n",
    "B[0,0] = 11\n",
    "print('Matrix A after manipulation of B:')\n",
    "display_matrix(A)\n",
    "print('Matrix B after manipulation of B:')\n",
    "display_matrix(B)"
   ]
  },
  {
   "cell_type": "markdown",
   "id": "a33249a1",
   "metadata": {},
   "source": [
    "This is probably not the outcome that you expected. What happened here is that `B` is **completely identical** to `A`, it is another reference to the place in your computers memory that holds the variable `A` i.e., the **elements** of `A` are the exact same as those of `B`. This is helpful for writing efficient code, especially if you want `B` to represent a subset of `A`, *but for the unwary it often leads to unintended consequences*.\n",
    "\n",
    "If we intend to create an *independent* matrix `B` that has different **elements** that hold the same **element values** as `A` we should use the `copy` method provided by `numpy`: \n",
    "\n",
    "    B = A.copy()"
   ]
  },
  {
   "cell_type": "code",
   "execution_count": 7,
   "id": "f9ef0bce",
   "metadata": {},
   "outputs": [
    {
     "name": "stdout",
     "output_type": "stream",
     "text": [
      "Matrix A\n"
     ]
    },
    {
     "data": {
      "text/latex": [
       "$\\displaystyle \\begin{bmatrix} \n",
       " 1.0000& 2.0000\\\\\n",
       " 3.0000& 4.0000\\\\\n",
       "\\end{bmatrix}$"
      ],
      "text/plain": [
       "<IPython.core.display.Math object>"
      ]
     },
     "metadata": {},
     "output_type": "display_data"
    },
    {
     "name": "stdout",
     "output_type": "stream",
     "text": [
      "Matrix B\n"
     ]
    },
    {
     "data": {
      "text/latex": [
       "$\\displaystyle \\begin{bmatrix} \n",
       " 1.0000& 2.0000\\\\\n",
       " 3.0000& 4.0000\\\\\n",
       "\\end{bmatrix}$"
      ],
      "text/plain": [
       "<IPython.core.display.Math object>"
      ]
     },
     "metadata": {},
     "output_type": "display_data"
    },
    {
     "name": "stdout",
     "output_type": "stream",
     "text": [
      "Matrix A after manipulation of B:\n"
     ]
    },
    {
     "data": {
      "text/latex": [
       "$\\displaystyle \\begin{bmatrix} \n",
       " 1.0000& 2.0000\\\\\n",
       " 3.0000& 4.0000\\\\\n",
       "\\end{bmatrix}$"
      ],
      "text/plain": [
       "<IPython.core.display.Math object>"
      ]
     },
     "metadata": {},
     "output_type": "display_data"
    },
    {
     "name": "stdout",
     "output_type": "stream",
     "text": [
      "Matrix B after manipulation of B:\n"
     ]
    },
    {
     "data": {
      "text/latex": [
       "$\\displaystyle \\begin{bmatrix} \n",
       " 11.0000& 2.0000\\\\\n",
       " 3.0000& 4.0000\\\\\n",
       "\\end{bmatrix}$"
      ],
      "text/plain": [
       "<IPython.core.display.Math object>"
      ]
     },
     "metadata": {},
     "output_type": "display_data"
    }
   ],
   "source": [
    "A = np.asarray([[1., 2.],[3., 4.]])\n",
    "B = A.copy()\n",
    "print('Matrix A')\n",
    "display_matrix(A)\n",
    "print('Matrix B')\n",
    "display_matrix(B)\n",
    "B[0,0] = 11\n",
    "print('Matrix A after manipulation of B:')\n",
    "display_matrix(A)\n",
    "print('Matrix B after manipulation of B:')\n",
    "display_matrix(B)"
   ]
  },
  {
   "cell_type": "markdown",
   "id": "a81b76d3",
   "metadata": {},
   "source": [
    "___\n",
    "<img align=\"left\" width=\"6%\" style=\"padding-right:10px;\" src=\"./Images/info.png\">\n",
    "\n",
    "## `C = A.copy()` vs `C=A`<br>\n",
    "\n",
    "\n",
    "\n",
    "often it is `C = A.copy()` that we should use, especially as an inexperienced coder. If you want to write very fast code you should note that this is a much more costly statement than `C=A` which just copies the reference to the location in memory of `A`. In the case of `C = A.copy()` the size of `A` must be determined, then an unused location in memory that allows the storage of a variable of that size needs to be found, and finally, all the properties and  element values of `A` need to be copied; this is a much costlier set of operations in terms of memory and cpu usage.\n",
    "\n",
    "All in all:\n",
    "\n",
    "`C=A` is very fast, uses little memory, but may have unintended consequences for the unwary<br>\n",
    "`C = A.copy()` is slow, at least doubles memory usage, but leads to more predictable behavior"
   ]
  },
  {
   "cell_type": "markdown",
   "id": "5a634bbe",
   "metadata": {},
   "source": [
    "___\n",
    "#### 2.2.1.2 Basic Matrix Operations: `Numpy` Array Equivalency: `numpy.array_equal(A,B)`\n",
    "\n",
    "Before going further: **the appropriate statement to evaluate the equivalence of matrices $\\m{A}$ and $\\m{B}$ using `numpy` is:**\n",
    "\n",
    "    numpy.array_equal(A,B)\n",
    "    \n",
    "**Though in reality we must usually test for close equivalence** \n",
    "\n",
    "    numpy.allclose(A,B,relative_tolerance,absolute_tolerance)\n",
    "\n",
    "\n",
    "In python code you will often see the `==` operator *mis*used to test equality, `numpy` extends the use of the `==` operator to `numpy arrays`. Given the difference in use of the assignment operator (`=`) in `numpy` it should be stressed that the `==` verifies the equivalence of the types and values of the elements, not whether these are the same locations in your memory. Using the `==` operator to test equivalence can be dangerous for reasons that you will see below.\n",
    "\n",
    "It is probably best to explain the use of the equality operator with `numpy` arrays at the hand of some examples"
   ]
  },
  {
   "cell_type": "code",
   "execution_count": 8,
   "id": "0aa0c38e",
   "metadata": {},
   "outputs": [
    {
     "name": "stdout",
     "output_type": "stream",
     "text": [
      "[ True]\n"
     ]
    }
   ],
   "source": [
    "x = np.asarray([3.])  #Creates a 1x1 array with a single element of value 3\n",
    "print(3==x)"
   ]
  },
  {
   "cell_type": "markdown",
   "id": "99e4b219",
   "metadata": {},
   "source": [
    "In the code cell above a $1\\times 1$ `numpy` array is created that has a single element that holds the value 3. In this case it is compared to the scalar $3$ and since there is only value in the array the returned value is a $1\\times 1$ `numpy` array with the boolean element value `True`. "
   ]
  },
  {
   "cell_type": "code",
   "execution_count": 9,
   "id": "881f1909",
   "metadata": {},
   "outputs": [
    {
     "name": "stdout",
     "output_type": "stream",
     "text": [
      "3==x\n",
      "[ True  True]\n",
      "\n",
      "3==X\n",
      "[[False False]\n",
      " [ True False]]\n"
     ]
    }
   ],
   "source": [
    "x = np.asarray([3., 3.])  #Creates a 1x2 array with a single element of value 3\n",
    "X = np.asarray([[1., 2.],[3, 4]])  #Creates a 2x2 array \n",
    "print('3==x\\n'+str(3==x))\n",
    "print()\n",
    "print('3==X\\n'+str((3==X)))"
   ]
  },
  {
   "cell_type": "markdown",
   "id": "79cd9470",
   "metadata": {},
   "source": [
    "In the code cell above a row vector `x` and a matrix `X` In this case `numpy` recognizes the size difference and iterates through all the element values returning a boolean value for each. "
   ]
  },
  {
   "cell_type": "code",
   "execution_count": 10,
   "id": "52cd0672",
   "metadata": {},
   "outputs": [
    {
     "name": "stdout",
     "output_type": "stream",
     "text": [
      "3==x True\n",
      "\n",
      "3==X False\n"
     ]
    }
   ],
   "source": [
    "x = np.asarray([3., 3.])  #Creates a 1x2 array with a single element of value 3\n",
    "X = np.asarray([[1., 2.],[3., 4.]])  #Creates a 2x2 array \n",
    "print('3==x '+str((3==x).all()))\n",
    "print()\n",
    "print('3==X '+str((3==X).all()))"
   ]
  },
  {
   "cell_type": "markdown",
   "id": "657da429",
   "metadata": {},
   "source": [
    "We consider matrices unequal if *any* of the elements is unequal. For testing arrays `numpy` provides the `all()` method to evaluate whether all its contents evaluate to `True`"
   ]
  },
  {
   "cell_type": "code",
   "execution_count": 11,
   "id": "c488f91e",
   "metadata": {},
   "outputs": [
    {
     "name": "stdout",
     "output_type": "stream",
     "text": [
      "x==X\n",
      "[[ True  True]\n",
      " [ True  True]]\n",
      "\n",
      "x==X True\n"
     ]
    }
   ],
   "source": [
    "x = np.asarray([1., 2.])  #Creates a 1x2 array with a single element of value 3\n",
    "X = np.asarray([[1., 2.],[1., 2.]])  #Creates a 2x2 array \n",
    "print('x==X\\n'+str((x==X)))\n",
    "print()\n",
    "print('x==X '+str((x==X).all()))"
   ]
  },
  {
   "cell_type": "markdown",
   "id": "f766d30a",
   "metadata": {},
   "source": [
    "**The code cell above demonstrates the pitfall for comparing matrices using the `==` operator; the vector `x` is *not* equal to the matrix `X`! However, `(x==X).all()` fails to recognize this.**"
   ]
  },
  {
   "cell_type": "code",
   "execution_count": 12,
   "id": "6c6d266a",
   "metadata": {},
   "outputs": [
    {
     "name": "stdout",
     "output_type": "stream",
     "text": [
      "np.array_equal(x,X): False\n"
     ]
    }
   ],
   "source": [
    "x = np.asarray([1., 2.])  #Creates a 1x2 array with a single element of value 3\n",
    "X = np.asarray([[1., 2.],[1., 2.]])  #Creates a 2x2 array \n",
    "\n",
    "print('np.array_equal(x,X): ' + str(np.array_equal(x,X)))"
   ]
  },
  {
   "cell_type": "markdown",
   "id": "1ba5ad6e",
   "metadata": {},
   "source": [
    "This is the outcome that we should find. In short your life will be easier if you:\n",
    "\n",
    "#### Test matrix equivalence using the `numpy.array_equal( )` method, or...\n",
    "#### Test matrix equivalence using the `numpy.allclose( )` method for tolerable differences\n",
    "\n",
    "Both methods test the matrix dimensions as well as the element values. However, for practical purposes `numpy.allclose( )` is often preferable, as can be seen from the code cell below"
   ]
  },
  {
   "cell_type": "code",
   "execution_count": 13,
   "id": "055e6e85",
   "metadata": {},
   "outputs": [
    {
     "name": "stdout",
     "output_type": "stream",
     "text": [
      "np.array_equal(X,Y): False\n",
      "np.allclose(X,Y): True\n"
     ]
    }
   ],
   "source": [
    "relative_tolerance = 1e-6\n",
    "absolute_tolerance = 1e-9\n",
    "X = np.asarray([[1., 2.],[1., 2.]])\n",
    "Y = X.copy()\n",
    "Y[0,0] += 1e-7 # Example of an insignificant change\n",
    "\n",
    "print('np.array_equal(X,Y): ' + str(np.array_equal(X,Y)))\n",
    "print('np.allclose(X,Y): ' + str(np.allclose(X,Y,relative_tolerance,absolute_tolerance)))"
   ]
  },
  {
   "cell_type": "markdown",
   "id": "018fef19",
   "metadata": {},
   "source": [
    "Due to the nature of numerical methods it could be that element values are so close that they are essentially the same. Testing equivalency using `numpy.array_equal( )` could lead to an undesirable result as the differences are insignificant. `numpy.allclose( )` allows you to test at a level of significance of your choosing. From the `numpy` [webpage](https://numpy.org/doc/stable/reference/generated/numpy.allclose.html#numpy.allclose):\n",
    "\n",
    "    numpy.allclose(a, b, rtol=1e-05, atol=1e-08, equal_nan=False)\n",
    "    \n",
    "    Returns True if two arrays are element-wise equal within a tolerance.\n",
    "    \n",
    "    The tolerance values are positive, typically very small numbers. \n",
    "    The relative difference (rtol * abs(b)) and the absolute difference \n",
    "    atol are added together to compare against the absolute difference \n",
    "    between a and b."
   ]
  },
  {
   "cell_type": "markdown",
   "id": "f426f52d",
   "metadata": {},
   "source": [
    "___\n",
    "\n",
    "### 2.2.2 Basic Matrix Operations: Addition\n",
    "\n",
    "The addition of two matrices $_m\\m{A}_n$ and $_p\\m{B}_q$ can be performed when the matrices are *conformable for addition*: they must have the number of rows i.e., $m=p$, and columns i.e. $n=q$. Then the sum is:\n",
    "\n",
    "$$_m\\m{C}_n=_m\\m{A}_n+_m\\m{B}_n\\tag{12}$$\n",
    "\n",
    "where:\n",
    "\n",
    "$$c_{ij} = a_{ij} +b_{ij}\\text{  }\\forall\\text{  }i,j\\tag{13}$$ \n",
    "\n",
    "For example, given:\n",
    "$$_2\\m{A}_2=\\begin{pmatrix}3 & 1 \\\\1 & 5\\end{pmatrix}\\tag{14}$$\n",
    "\n",
    "$$_2\\m{B}_2=\\begin{pmatrix}2 & 6 \\\\5 & 3\\end{pmatrix}\\tag{15}$$\n",
    "\n",
    "then\n",
    "$$_2\\m{C}_2=_m\\m{A}_n+_m\\m{B}_n=\\begin{pmatrix}3+2 & 1+6 \\\\1+5 & 3+5\\end{pmatrix}=\\begin{pmatrix}5 & 7 \\\\6 & 8\\end{pmatrix}\\tag{16}$$\n",
    "\n",
    "Matrix addition is ***commutative***:\n",
    "\n",
    "$$\\m{A}+\\m{B}=\\m{B}+\\m{A}\\tag{17}$$\n",
    "\n",
    "Matrix addition is ***associative***:\n",
    "\n",
    "$$(\\m{A}+\\m{B})+\\m{C}=\\m{A}+(\\m{B}+\\m{C})\\tag{18}$$\n",
    "\n",
    "\n"
   ]
  },
  {
   "cell_type": "markdown",
   "id": "75e88210",
   "metadata": {},
   "source": [
    "___\n",
    "\n",
    "### 2.2.2 Self Study Exercise 1\n",
    "\n",
    "    a) Create the matrices of (14) and (15) as `numpy` `A` and `B`, make \n",
    "       sure to make the elements floating point values by the addition of a decimal.\n",
    "    b) Print matrices A and B using the `display_matrix()` function \n",
    "       defined in the `display_matrix.py` file found in the `my_code` folder.\n",
    "    c) Calculate matrix C as defined in (16)\n",
    "    d) Demonstrate that addition is commutative using `A`, `B` \n",
    "       and the `numpy.array_equal()` method\n",
    "    d) Demonstrate that addition is associative using `A`, `B`, `C` and the \n",
    "       `numpy.array_equal()` method"
   ]
  },
  {
   "cell_type": "code",
   "execution_count": 14,
   "id": "86517efb",
   "metadata": {},
   "outputs": [
    {
     "name": "stdout",
     "output_type": "stream",
     "text": [
      "A:\n"
     ]
    },
    {
     "data": {
      "text/latex": [
       "$\\displaystyle \\begin{bmatrix} \n",
       " 3.0000& 1.0000\\\\\n",
       " 1.0000& 5.0000\\\\\n",
       "\\end{bmatrix}$"
      ],
      "text/plain": [
       "<IPython.core.display.Math object>"
      ]
     },
     "metadata": {},
     "output_type": "display_data"
    },
    {
     "name": "stdout",
     "output_type": "stream",
     "text": [
      "B:\n"
     ]
    },
    {
     "data": {
      "text/latex": [
       "$\\displaystyle \\begin{bmatrix} \n",
       " 2.0000& 6.0000\\\\\n",
       " 5.0000& 3.0000\\\\\n",
       "\\end{bmatrix}$"
      ],
      "text/plain": [
       "<IPython.core.display.Math object>"
      ]
     },
     "metadata": {},
     "output_type": "display_data"
    },
    {
     "name": "stdout",
     "output_type": "stream",
     "text": [
      "C = A + B:\n"
     ]
    },
    {
     "data": {
      "text/latex": [
       "$\\displaystyle \\begin{bmatrix} \n",
       " 5.0000& 7.0000\\\\\n",
       " 6.0000& 8.0000\\\\\n",
       "\\end{bmatrix}$"
      ],
      "text/plain": [
       "<IPython.core.display.Math object>"
      ]
     },
     "metadata": {},
     "output_type": "display_data"
    },
    {
     "name": "stdout",
     "output_type": "stream",
     "text": [
      "Addition is commutative\n",
      "Addition is associative\n"
     ]
    }
   ],
   "source": [
    "### 2.2.2 Self Study Exercise 1\n",
    "# Define and print A\n",
    "A = np.asarray([[3,1],[1,5]])\n",
    "print('A:')\n",
    "display_matrix(A)\n",
    "\n",
    "# Define and print B\n",
    "B = np.asarray([[2,6],[5,3]])\n",
    "print('B:')\n",
    "display_matrix(B)\n",
    "\n",
    "# Define and print C\n",
    "C = A+B\n",
    "print('C = A + B:')\n",
    "display_matrix(C)\n",
    "\n",
    "# Demonstrate addition is commutative\n",
    "if np.array_equal(A+B,B+A):\n",
    "    print('Addition is commutative')\n",
    "else:\n",
    "    print('Addition is not commutative')\n",
    "    \n",
    "# Demonstrate addition is associative\n",
    "if np.array_equal(A+(B+C),(A+B)+C):\n",
    "    print('Addition is associative')\n",
    "else:\n",
    "    print('Addition is not associative')"
   ]
  },
  {
   "cell_type": "markdown",
   "id": "9f081318",
   "metadata": {},
   "source": [
    "___\n",
    "\n",
    "### 2.2.3 Basic Matrix Operations: Subtraction\n",
    "\n",
    "The subtraction of two matrices $_m\\m{A}_n$ and $_p\\m{B}_q$ is analogous to the addition. Thus the difference is:\n",
    "\n",
    "$$_m\\m{C}_n=_m\\m{A}_n-_m\\m{B}_n\\tag{19}$$\n",
    "\n",
    "where:\n",
    "\n",
    "$$c_{ij} = a_{ij} -b_{ij}\\text{  }\\forall\\text{  }i,j\\tag{20}$$ \n",
    "\n",
    "For example, given the matrices from $(14)$ and $(15)$:\n",
    "\n",
    "$$_2\\m{C}_2=_m\\m{A}_n-_m\\m{B}_n=\\begin{pmatrix}3-2 & 1-6 \\\\1-5 & 5-3\\end{pmatrix}=\\begin{pmatrix}1 & -5 \\\\-4 & 2\\end{pmatrix}$$\n",
    "\n",
    "Matrix subtraction is commutative:\n",
    "\n",
    "$$\\m{A}-\\m{B}=\\m{B}-\\m{A}$$\n",
    "\n",
    "Matrix subtraction is associative:\n",
    "\n",
    "$$(\\m{A}-\\m{B})+\\m{C}=\\m{A}-(\\m{B}+\\m{C})$$"
   ]
  },
  {
   "cell_type": "markdown",
   "id": "20cef79f",
   "metadata": {},
   "source": [
    "___\n",
    "\n",
    "### 2.2.3 Self Study Exercise 1\n",
    "\n",
    "    a) Create the matrices of (14) and (15) as `numpy` `A` and `B`, make \n",
    "       sure to make the elements floating point values by the addition of a decimal.\n",
    "    b) Print matrices A and B using the `display_matrix()` function \n",
    "       defined in the `display_matrix.py` file found in the `my_code` folder.\n",
    "    c) Calculate matrix C as A-B (16)\n",
    "    d) Demonstrate that subtraction is commutative using `A`, `B` \n",
    "       and the `numpy.array_equal()` method\n",
    "    d) Demonstrate that subtraction is associative using `A`, `B`, `C` and the \n",
    "       `numpy.array_equal()` method"
   ]
  },
  {
   "cell_type": "code",
   "execution_count": 15,
   "id": "80f8e67e",
   "metadata": {},
   "outputs": [
    {
     "name": "stdout",
     "output_type": "stream",
     "text": [
      "A:\n"
     ]
    },
    {
     "data": {
      "text/latex": [
       "$\\displaystyle \\begin{bmatrix} \n",
       " 3.0000& 1.0000\\\\\n",
       " 1.0000& 5.0000\\\\\n",
       "\\end{bmatrix}$"
      ],
      "text/plain": [
       "<IPython.core.display.Math object>"
      ]
     },
     "metadata": {},
     "output_type": "display_data"
    },
    {
     "name": "stdout",
     "output_type": "stream",
     "text": [
      "B:\n"
     ]
    },
    {
     "data": {
      "text/latex": [
       "$\\displaystyle \\begin{bmatrix} \n",
       " 2.0000& 6.0000\\\\\n",
       " 5.0000& 3.0000\\\\\n",
       "\\end{bmatrix}$"
      ],
      "text/plain": [
       "<IPython.core.display.Math object>"
      ]
     },
     "metadata": {},
     "output_type": "display_data"
    },
    {
     "name": "stdout",
     "output_type": "stream",
     "text": [
      "C = A - B:\n"
     ]
    },
    {
     "data": {
      "text/latex": [
       "$\\displaystyle \\begin{bmatrix} \n",
       " 1.0000& -5.0000\\\\\n",
       " -4.0000& 2.0000\\\\\n",
       "\\end{bmatrix}$"
      ],
      "text/plain": [
       "<IPython.core.display.Math object>"
      ]
     },
     "metadata": {},
     "output_type": "display_data"
    },
    {
     "name": "stdout",
     "output_type": "stream",
     "text": [
      "Subtraction is not commutative\n",
      "Subtraction is not associative\n"
     ]
    }
   ],
   "source": [
    "### 2.2.3 Self Study Exercise 1\n",
    "# Define and print A\n",
    "A = np.asarray([[3,1],[1,5]])\n",
    "print('A:')\n",
    "display_matrix(A)\n",
    "\n",
    "# Define and print B\n",
    "B = np.asarray([[2,6],[5,3]])\n",
    "print('B:')\n",
    "display_matrix(B)\n",
    "\n",
    "# Define and print C\n",
    "C = A-B\n",
    "print('C = A - B:')\n",
    "display_matrix(C)\n",
    "\n",
    "# Demonstrate addition is commutative\n",
    "if np.array_equal(A-B,B-A):\n",
    "    print('Subtraction is commutative')\n",
    "else:\n",
    "    print('Subtraction is not commutative')\n",
    "    \n",
    "# Demonstrate addition is associative\n",
    "if np.array_equal(A-(B-C),(A-B)-C):\n",
    "    print('Subtraction is associative')\n",
    "else:\n",
    "    print('Subtraction is not associative')"
   ]
  },
  {
   "cell_type": "markdown",
   "id": "2d7a3674",
   "metadata": {},
   "source": [
    "___\n",
    "\n",
    "### 2.2.4 Basic Matrix Operations: Scalar Multiplication\n",
    "\n",
    "The ***scalar multiplication*** of a matrix $_m\\m{A}_n$ ais obtained when the matrix is multiplied by a scalar $k$:\n",
    "\n",
    "$$_m\\m{B}_n = k _m\\m{A}_n\\tag{21}$$\n",
    "\n",
    "where\n",
    "\n",
    "$$b_{ij} = k\\cdot a_{ij}\\text{  }\\forall\\text{  }i,j\\tag{22}$$\n",
    "\n",
    "Scalar multiplication is commutative:\n",
    "<a id='eq23'></a>\n",
    "$$k\\m{A} = \\m{A}k\\tag{23}$$"
   ]
  },
  {
   "cell_type": "markdown",
   "id": "8136a167",
   "metadata": {},
   "source": [
    "___\n",
    "\n",
    "### 2.2.4 Self Study Exercise 1\n",
    "\n",
    "    a) Create the matrices of (14) as `numpy` array `A`, make \n",
    "       sure to make the elements floating point values by the addition of a decimal.\n",
    "    b) Print matrix A using the `display_matrix()` function\n",
    "    c) Create scalar `k` and assign it the value 3\n",
    "    c) Calculate matrix B according to (21)\n",
    "    d) Demonstrate that scalar multiplication is commutative using `k`, `A` \n",
    "       and the `numpy.array_equal()` method"
   ]
  },
  {
   "cell_type": "code",
   "execution_count": 16,
   "id": "93bd394f",
   "metadata": {},
   "outputs": [
    {
     "name": "stdout",
     "output_type": "stream",
     "text": [
      "A:\n"
     ]
    },
    {
     "data": {
      "text/latex": [
       "$\\displaystyle \\begin{bmatrix} \n",
       " 3.0000& 1.0000\\\\\n",
       " 1.0000& 5.0000\\\\\n",
       "\\end{bmatrix}$"
      ],
      "text/plain": [
       "<IPython.core.display.Math object>"
      ]
     },
     "metadata": {},
     "output_type": "display_data"
    },
    {
     "name": "stdout",
     "output_type": "stream",
     "text": [
      "k:3\n",
      "Scalar multiplication is commutative\n"
     ]
    }
   ],
   "source": [
    "### 2.2.4 Self Study Exercise 1\n",
    "# Define and print A\n",
    "A = np.asarray([[3,1],[1,5]])\n",
    "print('A:')\n",
    "display_matrix(A)\n",
    "\n",
    "# Define and print k\n",
    "k = 3\n",
    "print('k:' + str(k))\n",
    "\n",
    "# Demonstrate addition is commutative\n",
    "if np.array_equal(k*A,A*k):\n",
    "    print('Scalar multiplication is commutative')\n",
    "else:\n",
    "    print('Scalar multiplication is not commutative')\n",
    "    "
   ]
  },
  {
   "cell_type": "markdown",
   "id": "16cd4645",
   "metadata": {},
   "source": [
    "___\n",
    "\n",
    "### 2.2.4 Basic Matrix Operations: Multiplication\n",
    "\n",
    "The multiplication of two matrices $_m\\m{A}_n$ and $_p\\m{B}_q$ can be performed only when the matrices are *conformable for multiplication*,  which is when the number of columns of $_m\\m{A}_n$ matches the number of rows $_m\\m{B}_n$ i.e, $n=p$. \n",
    "\n",
    "$$_m\\m{C}_q = _m\\m{A}_n\\cdot_p\\m{B}_q\\tag{24}$$\n",
    "\n",
    "where:\n",
    " <a id='eq25'></a>\n",
    "$$c_{ij} = \\sum_{k=1}^{n}a_{ik}b_{k,j}\\forall\\text{  }i,j\\tag{25}$$\n",
    "\n",
    "that is, $c_{ij}$ is the sum of the products of the elements in the $i$-th row of $\\m{A}$ and $j$-th column of $\\m{B}$, taken term by term. For example, given:\n",
    "\n",
    "$$_2\\m{A}_3 = \\begin{pmatrix}3 & 1 & 4 \\\\1 & 5 & 9\\end{pmatrix}\\tag{26}$$\n",
    "\n",
    "$$_3\\m{B}_1 = \\begin{pmatrix}2 \\\\6\\\\5\\end{pmatrix}\\tag{27}$$\n",
    "\n",
    "$$_2\\m{C}_1 = \\begin{pmatrix}3*2+1*6+4*5\\\\1*2+5*6+9*5\\end{pmatrix}=\\begin{pmatrix}32\\\\77\\end{pmatrix}\\tag{28}$$\n",
    "\n",
    "\n",
    "In `numpy` matrix multiplication has it's own operator: `@`, the `*` operator may also be used, but results in element-wise multiplication."
   ]
  },
  {
   "cell_type": "markdown",
   "id": "1d9cb0cc",
   "metadata": {},
   "source": [
    "___\n",
    "\n",
    "### 2.2.4 Self Study Exercise 2\n",
    "\n",
    "    a) Create the matrices of (26) and (27) as `numpy` arrays `A` and `B` make \n",
    "       sure to make the elements floating point values.\n",
    "    b) Calculate `C` as the product of `A` and `B`\n",
    "    c) Display C using the `display_matrix()` function\n",
    "    d) Does the result comply with (28)?"
   ]
  },
  {
   "cell_type": "code",
   "execution_count": 17,
   "id": "ca22f563",
   "metadata": {},
   "outputs": [
    {
     "name": "stdout",
     "output_type": "stream",
     "text": [
      "A:\n"
     ]
    },
    {
     "data": {
      "text/latex": [
       "$\\displaystyle \\begin{bmatrix} \n",
       " 3.0000& 1.0000& 4.0000\\\\\n",
       " 1.0000& 5.0000& 9.0000\\\\\n",
       "\\end{bmatrix}$"
      ],
      "text/plain": [
       "<IPython.core.display.Math object>"
      ]
     },
     "metadata": {},
     "output_type": "display_data"
    },
    {
     "name": "stdout",
     "output_type": "stream",
     "text": [
      "B:\n"
     ]
    },
    {
     "data": {
      "text/latex": [
       "$\\displaystyle \\begin{bmatrix} \n",
       " 2.0000 \\\\ 6.0000 \\\\ 5.0000 \\\\\\end{bmatrix}$"
      ],
      "text/plain": [
       "<IPython.core.display.Math object>"
      ]
     },
     "metadata": {},
     "output_type": "display_data"
    },
    {
     "name": "stdout",
     "output_type": "stream",
     "text": [
      "C:\n"
     ]
    },
    {
     "data": {
      "text/latex": [
       "$\\displaystyle \\begin{bmatrix} \n",
       " 32.0000 \\\\ 77.0000 \\\\\\end{bmatrix}$"
      ],
      "text/plain": [
       "<IPython.core.display.Math object>"
      ]
     },
     "metadata": {},
     "output_type": "display_data"
    }
   ],
   "source": [
    "### 2.2.4 Self Study Exercise 2\n",
    "# Define and print A\n",
    "A = np.asarray([[3,1,4],[1,5,9]])\n",
    "print('A:')\n",
    "display_matrix(A)\n",
    "# Define and print B\n",
    "B = np.asarray([[2],[6],[5]])\n",
    "print('B:')\n",
    "display_matrix(B)\n",
    "\n",
    "#Calculate `C` as the product of `A` and `B` (You should use the @ operator)\n",
    "C = A@B\n",
    "print('C:')\n",
    "display_matrix(C)\n",
    "\n",
    "q_2_2_4_2 = 'The result ...'"
   ]
  },
  {
   "cell_type": "markdown",
   "id": "abdd48d5",
   "metadata": {},
   "source": [
    "___\n",
    "Matrix multiplications have the following properties:\n",
    "\n",
    "$\\begin{array}\n",
    "(\\m{A} (\\m{B}+\\m{C}) = \\m{A}\\m{B}+\\m{A}\\m{C} & \\text{distributive}\\\\\n",
    "(\\m{A}+\\m{B})\\m{C}=\\m{A}\\m{C}+\\m{B}\\m{C} & \\text{distributive}\\\\\n",
    "\\m{A}(\\m{B}\\m{C})=(\\m{A}\\m{B})\\m{C} & \\text{associative} \\\\\n",
    "\\m{A}\\m{B}\\neq\\m{B}\\m{A} & \\text{not generally commutative}\\\\\n",
    "\\m{A}\\m{B}=\\m{A}\\m{C} & \\text{does NOT imply }\\m{B}=\\m{C}\\\\\n",
    "\\m{A}\\m{B}=\\m{0} & \\text{does NOT imply }\\m{A}=\\m{0}\\text{ or }\\m{B}=\\m{0}\n",
    "\\end{array}\\tag{29}$\n",
    "\n",
    "Products $\\m{A}\\m{B}$ and $\\m{B}\\m{A}$ will both exist only if $\\m{A}$ and $\\m{B}$ are double conformable. For example $_n\\m{A}_m$ and $_m\\m{A}_n$ are doubly conformable (the number of rows of in one equals the number of columns in the other). Square matrices of the same size are double conformable. However, even should $\\m{A}\\m{B}$ and $\\m{B}\\m{A}$ both exist in general:\n",
    "\n",
    "$$\\m{A}\\m{B}\\neq\\m{B}\\m{A}\\tag{30}$$\n",
    "\n",
    "For example, given:\n",
    "\n",
    "$$_2\\m{A}_2 = \\begin{pmatrix} 1 & 2\\\\3 & 4\\end{pmatrix}\\tag{31}$$\n",
    "\n",
    "$$_2\\m{B}_2 = \\begin{pmatrix} 5 & 6\\\\7 & 8\\end{pmatrix}\\tag{32}$$\n",
    "\n",
    "then:\n",
    "\n",
    "$$\\m{AB} = \\begin{pmatrix} 19 & 22\\\\43 & 50\\end{pmatrix}\\tag{33}$$\n",
    "\n",
    "$$\\m{BA} = \\begin{pmatrix} 23 & 34\\\\31 & 46\\end{pmatrix}\\tag{34}$$\n"
   ]
  },
  {
   "cell_type": "markdown",
   "id": "65f2e0ab",
   "metadata": {},
   "source": [
    "___\n",
    "\n",
    "### 2.2.4 Self Study Exercise 3\n",
    "\n",
    "    a) Create and display the matrices of (31) and (32) as `numpy` \n",
    "       arrays `A` and `B`, make the elements floating point values.\n",
    "    b) Display the product AB\n",
    "    c) Display the product BA"
   ]
  },
  {
   "cell_type": "code",
   "execution_count": 18,
   "id": "4e3dc9ac",
   "metadata": {},
   "outputs": [
    {
     "name": "stdout",
     "output_type": "stream",
     "text": [
      "A:\n"
     ]
    },
    {
     "data": {
      "text/latex": [
       "$\\displaystyle \\begin{bmatrix} \n",
       " 1.0000& 2.0000\\\\\n",
       " 3.0000& 4.0000\\\\\n",
       "\\end{bmatrix}$"
      ],
      "text/plain": [
       "<IPython.core.display.Math object>"
      ]
     },
     "metadata": {},
     "output_type": "display_data"
    },
    {
     "name": "stdout",
     "output_type": "stream",
     "text": [
      "B:\n"
     ]
    },
    {
     "data": {
      "text/latex": [
       "$\\displaystyle \\begin{bmatrix} \n",
       " 5.0000& 6.0000\\\\\n",
       " 7.0000& 8.0000\\\\\n",
       "\\end{bmatrix}$"
      ],
      "text/plain": [
       "<IPython.core.display.Math object>"
      ]
     },
     "metadata": {},
     "output_type": "display_data"
    },
    {
     "name": "stdout",
     "output_type": "stream",
     "text": [
      "AB:\n"
     ]
    },
    {
     "data": {
      "text/latex": [
       "$\\displaystyle \\begin{bmatrix} \n",
       " 19.0000& 22.0000\\\\\n",
       " 43.0000& 50.0000\\\\\n",
       "\\end{bmatrix}$"
      ],
      "text/plain": [
       "<IPython.core.display.Math object>"
      ]
     },
     "metadata": {},
     "output_type": "display_data"
    },
    {
     "name": "stdout",
     "output_type": "stream",
     "text": [
      "BA:\n"
     ]
    },
    {
     "data": {
      "text/latex": [
       "$\\displaystyle \\begin{bmatrix} \n",
       " 23.0000& 34.0000\\\\\n",
       " 31.0000& 46.0000\\\\\n",
       "\\end{bmatrix}$"
      ],
      "text/plain": [
       "<IPython.core.display.Math object>"
      ]
     },
     "metadata": {},
     "output_type": "display_data"
    }
   ],
   "source": [
    "### 2.2.4 Self Study Exercise 3\n",
    "# Define and print A\n",
    "A = np.asarray([[1,2],[3,4]])\n",
    "print('A:')\n",
    "display_matrix(A)\n",
    "# Define and print B\n",
    "B = np.asarray([[5,6],[7,8]])\n",
    "print('B:')\n",
    "display_matrix(B)\n",
    "\n",
    "#Display the product AB\n",
    "print('AB:')\n",
    "display_matrix(A@B)\n",
    "\n",
    "#Display the product BA\n",
    "print('BA:')\n",
    "display_matrix(B@A)"
   ]
  },
  {
   "cell_type": "markdown",
   "id": "5176bbba",
   "metadata": {},
   "source": [
    "___\n",
    "in the special case of two square matrices $\\m{A},\\m{B}$ such that:\n",
    "\n",
    "$$\\m{A}\\m{B}=\\m{B}\\m{A}\\tag{35}$$\n",
    "\n",
    "the matrices are called ***commutative matrices***. Every square matrix is commutative with itself and with the identity matrix. Diagonal matrices of the same order are also commutative. Other examples exist:\n",
    "\n",
    "$$_2\\m{A}_2 = \\begin{pmatrix} 4 & -2\\\\6 & 2\\end{pmatrix}\\tag{36}$$\n",
    "\n",
    "$$_2\\m{B}_2 = \\begin{pmatrix} 3 & -1\\\\3 & 2\\end{pmatrix}\\tag{37}$$\n",
    "\n",
    "for which:\n",
    "\n",
    "$$\\m{AB}=\\m{BA}=\\begin{pmatrix} 6 & -8\\\\24 & -2\\end{pmatrix}\\tag{38}$$ "
   ]
  },
  {
   "cell_type": "markdown",
   "id": "5d8deea9",
   "metadata": {},
   "source": [
    "___\n",
    "\n",
    "### 2.2.4 Self Study Exercise 4\n",
    "\n",
    "    a) Create and display the matrices of (36) and (37) as `numpy` \n",
    "       arrays `A` and `B`, make the elements floating point values.\n",
    "    b) Display the product AB\n",
    "    c) Display the product BA"
   ]
  },
  {
   "cell_type": "code",
   "execution_count": 19,
   "id": "d14a037d",
   "metadata": {},
   "outputs": [
    {
     "name": "stdout",
     "output_type": "stream",
     "text": [
      "A:\n"
     ]
    },
    {
     "data": {
      "text/latex": [
       "$\\displaystyle \\begin{bmatrix} \n",
       " 4.0000& -2.0000\\\\\n",
       " 6.0000& 2.0000\\\\\n",
       "\\end{bmatrix}$"
      ],
      "text/plain": [
       "<IPython.core.display.Math object>"
      ]
     },
     "metadata": {},
     "output_type": "display_data"
    },
    {
     "name": "stdout",
     "output_type": "stream",
     "text": [
      "B:\n"
     ]
    },
    {
     "data": {
      "text/latex": [
       "$\\displaystyle \\begin{bmatrix} \n",
       " 3.0000& -1.0000\\\\\n",
       " 3.0000& 2.0000\\\\\n",
       "\\end{bmatrix}$"
      ],
      "text/plain": [
       "<IPython.core.display.Math object>"
      ]
     },
     "metadata": {},
     "output_type": "display_data"
    },
    {
     "name": "stdout",
     "output_type": "stream",
     "text": [
      "AB:\n"
     ]
    },
    {
     "data": {
      "text/latex": [
       "$\\displaystyle \\begin{bmatrix} \n",
       " 6.0000& -8.0000\\\\\n",
       " 24.0000& -2.0000\\\\\n",
       "\\end{bmatrix}$"
      ],
      "text/plain": [
       "<IPython.core.display.Math object>"
      ]
     },
     "metadata": {},
     "output_type": "display_data"
    },
    {
     "name": "stdout",
     "output_type": "stream",
     "text": [
      "BA:\n"
     ]
    },
    {
     "data": {
      "text/latex": [
       "$\\displaystyle \\begin{bmatrix} \n",
       " 6.0000& -8.0000\\\\\n",
       " 24.0000& -2.0000\\\\\n",
       "\\end{bmatrix}$"
      ],
      "text/plain": [
       "<IPython.core.display.Math object>"
      ]
     },
     "metadata": {},
     "output_type": "display_data"
    }
   ],
   "source": [
    "### 2.2.4 Self Study Exercise 4\n",
    "# Define and print A\n",
    "A = np.asarray([[4,-2],[6,2]])\n",
    "print('A:')\n",
    "display_matrix(A)\n",
    "# Define and print B\n",
    "B = np.asarray([[3,-1],[3,2]])\n",
    "print('B:')\n",
    "display_matrix(B)\n",
    "\n",
    "#Display the product AB\n",
    "print('AB:')\n",
    "display_matrix(A@B)\n",
    "\n",
    "#Display the product BA\n",
    "print('BA:')\n",
    "display_matrix(B@A)"
   ]
  },
  {
   "cell_type": "markdown",
   "id": "31b61e22",
   "metadata": {},
   "source": [
    "___\n",
    "\n",
    "### 2.2.5 Basic Matrix Operations: Transposition\n",
    "\n",
    "When in a matrix $\\m{A}$ the rows and columns are interchanged, we obtain the ***transpose matrix*** denoted by $\\m{A}^T$ or $\\m{A}'$. For example, if we say $\\m{B}=\\m{A}^T then for:\n",
    "\n",
    "$$_2\\m{A}_3 = \\begin{pmatrix}1&7&-2\\\\4&3&5\\end{pmatrix}\\tag{39}$$\n",
    "\n",
    "$$_3\\m{B}_2 = \\m{A}^T = \\begin{pmatrix}1&4\\\\7&3\\\\-2&5\\end{pmatrix}\\tag{40}$$\n",
    "\n",
    "where:\n",
    "\n",
    "$$ b_{ij} = a_{ji}\\forall\\text{  }i,j\\tag{41}$$\n",
    "\n",
    "`Numpy` provides the transpose of an array through the attribute `T` i.e., the transpose of `A` is `A.T`."
   ]
  },
  {
   "cell_type": "markdown",
   "id": "01a4384d",
   "metadata": {},
   "source": [
    "___\n",
    "\n",
    "### 2.2.5 Self Study Exercise 1\n",
    "\n",
    "    a) Create and display the matrix `A` of (39)\n",
    "    b) Assign `B` the value of the transpose of `A`\n",
    "    c) display `B`\n"
   ]
  },
  {
   "cell_type": "code",
   "execution_count": 20,
   "id": "9f45741a",
   "metadata": {},
   "outputs": [
    {
     "name": "stdout",
     "output_type": "stream",
     "text": [
      "A:\n"
     ]
    },
    {
     "data": {
      "text/latex": [
       "$\\displaystyle \\begin{bmatrix} \n",
       " 1.0000& 7.0000& -2.0000\\\\\n",
       " 4.0000& 3.0000& 5.0000\\\\\n",
       "\\end{bmatrix}$"
      ],
      "text/plain": [
       "<IPython.core.display.Math object>"
      ]
     },
     "metadata": {},
     "output_type": "display_data"
    },
    {
     "name": "stdout",
     "output_type": "stream",
     "text": [
      "B:\n"
     ]
    },
    {
     "data": {
      "text/latex": [
       "$\\displaystyle \\begin{bmatrix} \n",
       " 1.0000& 4.0000\\\\\n",
       " 7.0000& 3.0000\\\\\n",
       " -2.0000& 5.0000\\\\\n",
       "\\end{bmatrix}$"
      ],
      "text/plain": [
       "<IPython.core.display.Math object>"
      ]
     },
     "metadata": {},
     "output_type": "display_data"
    }
   ],
   "source": [
    "### 2.2.5 Self Study Exercise 1\n",
    "# Define and print A\n",
    "A = np.asarray([[1,7,-2],[4,3,5]])\n",
    "print('A:')\n",
    "display_matrix(A)\n",
    "\n",
    "#DAssign `B` the value of the transpose of `A`\n",
    "B = A.T\n",
    "\n",
    "#Display B\n",
    "print('B:')\n",
    "display_matrix(B)"
   ]
  },
  {
   "cell_type": "markdown",
   "id": "34a9ff85",
   "metadata": {},
   "source": [
    "___\n",
    "Transposition has the following properties:\n",
    "\n",
    "$$(\\m{A}^T)^T = \\m{A}\\tag{42}$$\n",
    "\n",
    "$$(\\m{A}+\\m{B})^T = \\m{A}^T+\\m{B}^T\\tag{43}$$\n",
    "\n",
    "$$(\\m{A}\\m{B})^T = \\m{B}^T+\\m{A}^T\\tag{note the reverse order) (44}$$\n",
    "\n",
    "$$(k\\m{A})^T = k\\m{A}^T\\tag{45}$$\n",
    "\n",
    "A square symmetric matrix $\\m{A}$ and its transpose $\\m{A}^T$ are equal ($\\m{A} = \\m{A}^T$), since for symmetric matrices $ a_{ij} = a_{ji}\\forall\\text{  }i,j$. For any square matrix $\\m{A}$, $(\\m{A}+\\m{A}^T)$ and $\\m{A}\\m{A}^T$ will be symmetric.\n",
    "\n",
    "For a square matrix $\\m{A}$ the sum of the elements along the main diagonal is called the ***trace*** of $\\m{A}$ and is denoted by $\\text{tr}(\\m{A})$:\n",
    "\n",
    "$$\\text{tr}(_n\\m{A}_n) = \\sum_{i=1}^{n}a_{ii}\\tag{46}$$\n",
    "\n",
    "For example, given the matrix:\n",
    "\n",
    "$$_3\\m{A}_3 = \\begin{pmatrix}1&2&3\\\\4&5&6\\\\7&8&9\\end{pmatrix}\\tag{47}$$\n",
    "\n",
    "its trace is \n",
    "\n",
    "$$\\text{tr}(\\m{A})=1+5+9 = 15\\tag{48}$$\n",
    "\n",
    "`numpy` allows you to determine the trace value through the `trace()` method e.g., the trace of `A` is found by `A.trace()`"
   ]
  },
  {
   "cell_type": "markdown",
   "id": "2a766447",
   "metadata": {},
   "source": [
    "___\n",
    "\n",
    "### 2.2.5 Self Study Exercise 2\n",
    "\n",
    "    a) Create and display the matrix `A` of (47)\n",
    "    b) Determine and display the trace value of `A` \n"
   ]
  },
  {
   "cell_type": "code",
   "execution_count": 21,
   "id": "3bac56cc",
   "metadata": {},
   "outputs": [
    {
     "name": "stdout",
     "output_type": "stream",
     "text": [
      "A:\n"
     ]
    },
    {
     "data": {
      "text/latex": [
       "$\\displaystyle \\begin{bmatrix} \n",
       " 1.0000& 2.0000& 3.0000\\\\\n",
       " 4.0000& 5.0000& 6.0000\\\\\n",
       " 7.0000& 8.0000& 9.0000\\\\\n",
       "\\end{bmatrix}$"
      ],
      "text/plain": [
       "<IPython.core.display.Math object>"
      ]
     },
     "metadata": {},
     "output_type": "display_data"
    },
    {
     "name": "stdout",
     "output_type": "stream",
     "text": [
      "the trace of A is: 15\n"
     ]
    }
   ],
   "source": [
    "### 2.2.5 Self Study Exercise 2\n",
    "# Define and print A\n",
    "A = np.asarray([[1,2,3],[4,5,6],[7,8,9]])\n",
    "print('A:')\n",
    "display_matrix(A)\n",
    "\n",
    "# Determine and display the trace value of `A` \n",
    "print('the trace of A is: ' + str(A.trace()))"
   ]
  },
  {
   "cell_type": "markdown",
   "id": "82e9d3bf",
   "metadata": {},
   "source": [
    "___\n",
    "The trace of a matrix has the following properties:\n",
    "\n",
    "$$\\text{tr}(\\m{A}) = \\text{tr}(\\m{A}^T)\\tag{49}$$\n",
    "\n",
    "$$\\text{tr}(k\\m{A}) = k\\cdot\\text{tr}(\\m{A})\\tag{50}$$\n",
    "\n",
    "$$\\text{tr}(\\m{A}+\\m{B}) = \\text{tr}(\\m{A})+\\text{tr}(\\m{B})\\tag{51}$$\n",
    "\n",
    "$$\\text{tr}(\\m{A}\\m{B}) = \\text{tr}(\\m{B}\\m{A})\\tag{52}$$\n"
   ]
  },
  {
   "cell_type": "markdown",
   "id": "077891db",
   "metadata": {},
   "source": [
    "### 2.2.6 Using Addition to Visualize a Moving Vessel in Python\n",
    "\n",
    "The code cell below draws a vessel in different locations"
   ]
  },
  {
   "cell_type": "code",
   "execution_count": 22,
   "id": "33c1128c",
   "metadata": {},
   "outputs": [
    {
     "data": {
      "application/javascript": [
       "/* Put everything inside the global mpl namespace */\n",
       "/* global mpl */\n",
       "window.mpl = {};\n",
       "\n",
       "mpl.get_websocket_type = function () {\n",
       "    if (typeof WebSocket !== 'undefined') {\n",
       "        return WebSocket;\n",
       "    } else if (typeof MozWebSocket !== 'undefined') {\n",
       "        return MozWebSocket;\n",
       "    } else {\n",
       "        alert(\n",
       "            'Your browser does not have WebSocket support. ' +\n",
       "                'Please try Chrome, Safari or Firefox ≥ 6. ' +\n",
       "                'Firefox 4 and 5 are also supported but you ' +\n",
       "                'have to enable WebSockets in about:config.'\n",
       "        );\n",
       "    }\n",
       "};\n",
       "\n",
       "mpl.figure = function (figure_id, websocket, ondownload, parent_element) {\n",
       "    this.id = figure_id;\n",
       "\n",
       "    this.ws = websocket;\n",
       "\n",
       "    this.supports_binary = this.ws.binaryType !== undefined;\n",
       "\n",
       "    if (!this.supports_binary) {\n",
       "        var warnings = document.getElementById('mpl-warnings');\n",
       "        if (warnings) {\n",
       "            warnings.style.display = 'block';\n",
       "            warnings.textContent =\n",
       "                'This browser does not support binary websocket messages. ' +\n",
       "                'Performance may be slow.';\n",
       "        }\n",
       "    }\n",
       "\n",
       "    this.imageObj = new Image();\n",
       "\n",
       "    this.context = undefined;\n",
       "    this.message = undefined;\n",
       "    this.canvas = undefined;\n",
       "    this.rubberband_canvas = undefined;\n",
       "    this.rubberband_context = undefined;\n",
       "    this.format_dropdown = undefined;\n",
       "\n",
       "    this.image_mode = 'full';\n",
       "\n",
       "    this.root = document.createElement('div');\n",
       "    this.root.setAttribute('style', 'display: inline-block');\n",
       "    this._root_extra_style(this.root);\n",
       "\n",
       "    parent_element.appendChild(this.root);\n",
       "\n",
       "    this._init_header(this);\n",
       "    this._init_canvas(this);\n",
       "    this._init_toolbar(this);\n",
       "\n",
       "    var fig = this;\n",
       "\n",
       "    this.waiting = false;\n",
       "\n",
       "    this.ws.onopen = function () {\n",
       "        fig.send_message('supports_binary', { value: fig.supports_binary });\n",
       "        fig.send_message('send_image_mode', {});\n",
       "        if (fig.ratio !== 1) {\n",
       "            fig.send_message('set_device_pixel_ratio', {\n",
       "                device_pixel_ratio: fig.ratio,\n",
       "            });\n",
       "        }\n",
       "        fig.send_message('refresh', {});\n",
       "    };\n",
       "\n",
       "    this.imageObj.onload = function () {\n",
       "        if (fig.image_mode === 'full') {\n",
       "            // Full images could contain transparency (where diff images\n",
       "            // almost always do), so we need to clear the canvas so that\n",
       "            // there is no ghosting.\n",
       "            fig.context.clearRect(0, 0, fig.canvas.width, fig.canvas.height);\n",
       "        }\n",
       "        fig.context.drawImage(fig.imageObj, 0, 0);\n",
       "    };\n",
       "\n",
       "    this.imageObj.onunload = function () {\n",
       "        fig.ws.close();\n",
       "    };\n",
       "\n",
       "    this.ws.onmessage = this._make_on_message_function(this);\n",
       "\n",
       "    this.ondownload = ondownload;\n",
       "};\n",
       "\n",
       "mpl.figure.prototype._init_header = function () {\n",
       "    var titlebar = document.createElement('div');\n",
       "    titlebar.classList =\n",
       "        'ui-dialog-titlebar ui-widget-header ui-corner-all ui-helper-clearfix';\n",
       "    var titletext = document.createElement('div');\n",
       "    titletext.classList = 'ui-dialog-title';\n",
       "    titletext.setAttribute(\n",
       "        'style',\n",
       "        'width: 100%; text-align: center; padding: 3px;'\n",
       "    );\n",
       "    titlebar.appendChild(titletext);\n",
       "    this.root.appendChild(titlebar);\n",
       "    this.header = titletext;\n",
       "};\n",
       "\n",
       "mpl.figure.prototype._canvas_extra_style = function (_canvas_div) {};\n",
       "\n",
       "mpl.figure.prototype._root_extra_style = function (_canvas_div) {};\n",
       "\n",
       "mpl.figure.prototype._init_canvas = function () {\n",
       "    var fig = this;\n",
       "\n",
       "    var canvas_div = (this.canvas_div = document.createElement('div'));\n",
       "    canvas_div.setAttribute(\n",
       "        'style',\n",
       "        'border: 1px solid #ddd;' +\n",
       "            'box-sizing: content-box;' +\n",
       "            'clear: both;' +\n",
       "            'min-height: 1px;' +\n",
       "            'min-width: 1px;' +\n",
       "            'outline: 0;' +\n",
       "            'overflow: hidden;' +\n",
       "            'position: relative;' +\n",
       "            'resize: both;'\n",
       "    );\n",
       "\n",
       "    function on_keyboard_event_closure(name) {\n",
       "        return function (event) {\n",
       "            return fig.key_event(event, name);\n",
       "        };\n",
       "    }\n",
       "\n",
       "    canvas_div.addEventListener(\n",
       "        'keydown',\n",
       "        on_keyboard_event_closure('key_press')\n",
       "    );\n",
       "    canvas_div.addEventListener(\n",
       "        'keyup',\n",
       "        on_keyboard_event_closure('key_release')\n",
       "    );\n",
       "\n",
       "    this._canvas_extra_style(canvas_div);\n",
       "    this.root.appendChild(canvas_div);\n",
       "\n",
       "    var canvas = (this.canvas = document.createElement('canvas'));\n",
       "    canvas.classList.add('mpl-canvas');\n",
       "    canvas.setAttribute('style', 'box-sizing: content-box;');\n",
       "\n",
       "    this.context = canvas.getContext('2d');\n",
       "\n",
       "    var backingStore =\n",
       "        this.context.backingStorePixelRatio ||\n",
       "        this.context.webkitBackingStorePixelRatio ||\n",
       "        this.context.mozBackingStorePixelRatio ||\n",
       "        this.context.msBackingStorePixelRatio ||\n",
       "        this.context.oBackingStorePixelRatio ||\n",
       "        this.context.backingStorePixelRatio ||\n",
       "        1;\n",
       "\n",
       "    this.ratio = (window.devicePixelRatio || 1) / backingStore;\n",
       "\n",
       "    var rubberband_canvas = (this.rubberband_canvas = document.createElement(\n",
       "        'canvas'\n",
       "    ));\n",
       "    rubberband_canvas.setAttribute(\n",
       "        'style',\n",
       "        'box-sizing: content-box; position: absolute; left: 0; top: 0; z-index: 1;'\n",
       "    );\n",
       "\n",
       "    // Apply a ponyfill if ResizeObserver is not implemented by browser.\n",
       "    if (this.ResizeObserver === undefined) {\n",
       "        if (window.ResizeObserver !== undefined) {\n",
       "            this.ResizeObserver = window.ResizeObserver;\n",
       "        } else {\n",
       "            var obs = _JSXTOOLS_RESIZE_OBSERVER({});\n",
       "            this.ResizeObserver = obs.ResizeObserver;\n",
       "        }\n",
       "    }\n",
       "\n",
       "    this.resizeObserverInstance = new this.ResizeObserver(function (entries) {\n",
       "        var nentries = entries.length;\n",
       "        for (var i = 0; i < nentries; i++) {\n",
       "            var entry = entries[i];\n",
       "            var width, height;\n",
       "            if (entry.contentBoxSize) {\n",
       "                if (entry.contentBoxSize instanceof Array) {\n",
       "                    // Chrome 84 implements new version of spec.\n",
       "                    width = entry.contentBoxSize[0].inlineSize;\n",
       "                    height = entry.contentBoxSize[0].blockSize;\n",
       "                } else {\n",
       "                    // Firefox implements old version of spec.\n",
       "                    width = entry.contentBoxSize.inlineSize;\n",
       "                    height = entry.contentBoxSize.blockSize;\n",
       "                }\n",
       "            } else {\n",
       "                // Chrome <84 implements even older version of spec.\n",
       "                width = entry.contentRect.width;\n",
       "                height = entry.contentRect.height;\n",
       "            }\n",
       "\n",
       "            // Keep the size of the canvas and rubber band canvas in sync with\n",
       "            // the canvas container.\n",
       "            if (entry.devicePixelContentBoxSize) {\n",
       "                // Chrome 84 implements new version of spec.\n",
       "                canvas.setAttribute(\n",
       "                    'width',\n",
       "                    entry.devicePixelContentBoxSize[0].inlineSize\n",
       "                );\n",
       "                canvas.setAttribute(\n",
       "                    'height',\n",
       "                    entry.devicePixelContentBoxSize[0].blockSize\n",
       "                );\n",
       "            } else {\n",
       "                canvas.setAttribute('width', width * fig.ratio);\n",
       "                canvas.setAttribute('height', height * fig.ratio);\n",
       "            }\n",
       "            canvas.setAttribute(\n",
       "                'style',\n",
       "                'width: ' + width + 'px; height: ' + height + 'px;'\n",
       "            );\n",
       "\n",
       "            rubberband_canvas.setAttribute('width', width);\n",
       "            rubberband_canvas.setAttribute('height', height);\n",
       "\n",
       "            // And update the size in Python. We ignore the initial 0/0 size\n",
       "            // that occurs as the element is placed into the DOM, which should\n",
       "            // otherwise not happen due to the minimum size styling.\n",
       "            if (fig.ws.readyState == 1 && width != 0 && height != 0) {\n",
       "                fig.request_resize(width, height);\n",
       "            }\n",
       "        }\n",
       "    });\n",
       "    this.resizeObserverInstance.observe(canvas_div);\n",
       "\n",
       "    function on_mouse_event_closure(name) {\n",
       "        return function (event) {\n",
       "            return fig.mouse_event(event, name);\n",
       "        };\n",
       "    }\n",
       "\n",
       "    rubberband_canvas.addEventListener(\n",
       "        'mousedown',\n",
       "        on_mouse_event_closure('button_press')\n",
       "    );\n",
       "    rubberband_canvas.addEventListener(\n",
       "        'mouseup',\n",
       "        on_mouse_event_closure('button_release')\n",
       "    );\n",
       "    rubberband_canvas.addEventListener(\n",
       "        'dblclick',\n",
       "        on_mouse_event_closure('dblclick')\n",
       "    );\n",
       "    // Throttle sequential mouse events to 1 every 20ms.\n",
       "    rubberband_canvas.addEventListener(\n",
       "        'mousemove',\n",
       "        on_mouse_event_closure('motion_notify')\n",
       "    );\n",
       "\n",
       "    rubberband_canvas.addEventListener(\n",
       "        'mouseenter',\n",
       "        on_mouse_event_closure('figure_enter')\n",
       "    );\n",
       "    rubberband_canvas.addEventListener(\n",
       "        'mouseleave',\n",
       "        on_mouse_event_closure('figure_leave')\n",
       "    );\n",
       "\n",
       "    canvas_div.addEventListener('wheel', function (event) {\n",
       "        if (event.deltaY < 0) {\n",
       "            event.step = 1;\n",
       "        } else {\n",
       "            event.step = -1;\n",
       "        }\n",
       "        on_mouse_event_closure('scroll')(event);\n",
       "    });\n",
       "\n",
       "    canvas_div.appendChild(canvas);\n",
       "    canvas_div.appendChild(rubberband_canvas);\n",
       "\n",
       "    this.rubberband_context = rubberband_canvas.getContext('2d');\n",
       "    this.rubberband_context.strokeStyle = '#000000';\n",
       "\n",
       "    this._resize_canvas = function (width, height, forward) {\n",
       "        if (forward) {\n",
       "            canvas_div.style.width = width + 'px';\n",
       "            canvas_div.style.height = height + 'px';\n",
       "        }\n",
       "    };\n",
       "\n",
       "    // Disable right mouse context menu.\n",
       "    this.rubberband_canvas.addEventListener('contextmenu', function (_e) {\n",
       "        event.preventDefault();\n",
       "        return false;\n",
       "    });\n",
       "\n",
       "    function set_focus() {\n",
       "        canvas.focus();\n",
       "        canvas_div.focus();\n",
       "    }\n",
       "\n",
       "    window.setTimeout(set_focus, 100);\n",
       "};\n",
       "\n",
       "mpl.figure.prototype._init_toolbar = function () {\n",
       "    var fig = this;\n",
       "\n",
       "    var toolbar = document.createElement('div');\n",
       "    toolbar.classList = 'mpl-toolbar';\n",
       "    this.root.appendChild(toolbar);\n",
       "\n",
       "    function on_click_closure(name) {\n",
       "        return function (_event) {\n",
       "            return fig.toolbar_button_onclick(name);\n",
       "        };\n",
       "    }\n",
       "\n",
       "    function on_mouseover_closure(tooltip) {\n",
       "        return function (event) {\n",
       "            if (!event.currentTarget.disabled) {\n",
       "                return fig.toolbar_button_onmouseover(tooltip);\n",
       "            }\n",
       "        };\n",
       "    }\n",
       "\n",
       "    fig.buttons = {};\n",
       "    var buttonGroup = document.createElement('div');\n",
       "    buttonGroup.classList = 'mpl-button-group';\n",
       "    for (var toolbar_ind in mpl.toolbar_items) {\n",
       "        var name = mpl.toolbar_items[toolbar_ind][0];\n",
       "        var tooltip = mpl.toolbar_items[toolbar_ind][1];\n",
       "        var image = mpl.toolbar_items[toolbar_ind][2];\n",
       "        var method_name = mpl.toolbar_items[toolbar_ind][3];\n",
       "\n",
       "        if (!name) {\n",
       "            /* Instead of a spacer, we start a new button group. */\n",
       "            if (buttonGroup.hasChildNodes()) {\n",
       "                toolbar.appendChild(buttonGroup);\n",
       "            }\n",
       "            buttonGroup = document.createElement('div');\n",
       "            buttonGroup.classList = 'mpl-button-group';\n",
       "            continue;\n",
       "        }\n",
       "\n",
       "        var button = (fig.buttons[name] = document.createElement('button'));\n",
       "        button.classList = 'mpl-widget';\n",
       "        button.setAttribute('role', 'button');\n",
       "        button.setAttribute('aria-disabled', 'false');\n",
       "        button.addEventListener('click', on_click_closure(method_name));\n",
       "        button.addEventListener('mouseover', on_mouseover_closure(tooltip));\n",
       "\n",
       "        var icon_img = document.createElement('img');\n",
       "        icon_img.src = '_images/' + image + '.png';\n",
       "        icon_img.srcset = '_images/' + image + '_large.png 2x';\n",
       "        icon_img.alt = tooltip;\n",
       "        button.appendChild(icon_img);\n",
       "\n",
       "        buttonGroup.appendChild(button);\n",
       "    }\n",
       "\n",
       "    if (buttonGroup.hasChildNodes()) {\n",
       "        toolbar.appendChild(buttonGroup);\n",
       "    }\n",
       "\n",
       "    var fmt_picker = document.createElement('select');\n",
       "    fmt_picker.classList = 'mpl-widget';\n",
       "    toolbar.appendChild(fmt_picker);\n",
       "    this.format_dropdown = fmt_picker;\n",
       "\n",
       "    for (var ind in mpl.extensions) {\n",
       "        var fmt = mpl.extensions[ind];\n",
       "        var option = document.createElement('option');\n",
       "        option.selected = fmt === mpl.default_extension;\n",
       "        option.innerHTML = fmt;\n",
       "        fmt_picker.appendChild(option);\n",
       "    }\n",
       "\n",
       "    var status_bar = document.createElement('span');\n",
       "    status_bar.classList = 'mpl-message';\n",
       "    toolbar.appendChild(status_bar);\n",
       "    this.message = status_bar;\n",
       "};\n",
       "\n",
       "mpl.figure.prototype.request_resize = function (x_pixels, y_pixels) {\n",
       "    // Request matplotlib to resize the figure. Matplotlib will then trigger a resize in the client,\n",
       "    // which will in turn request a refresh of the image.\n",
       "    this.send_message('resize', { width: x_pixels, height: y_pixels });\n",
       "};\n",
       "\n",
       "mpl.figure.prototype.send_message = function (type, properties) {\n",
       "    properties['type'] = type;\n",
       "    properties['figure_id'] = this.id;\n",
       "    this.ws.send(JSON.stringify(properties));\n",
       "};\n",
       "\n",
       "mpl.figure.prototype.send_draw_message = function () {\n",
       "    if (!this.waiting) {\n",
       "        this.waiting = true;\n",
       "        this.ws.send(JSON.stringify({ type: 'draw', figure_id: this.id }));\n",
       "    }\n",
       "};\n",
       "\n",
       "mpl.figure.prototype.handle_save = function (fig, _msg) {\n",
       "    var format_dropdown = fig.format_dropdown;\n",
       "    var format = format_dropdown.options[format_dropdown.selectedIndex].value;\n",
       "    fig.ondownload(fig, format);\n",
       "};\n",
       "\n",
       "mpl.figure.prototype.handle_resize = function (fig, msg) {\n",
       "    var size = msg['size'];\n",
       "    if (size[0] !== fig.canvas.width || size[1] !== fig.canvas.height) {\n",
       "        fig._resize_canvas(size[0], size[1], msg['forward']);\n",
       "        fig.send_message('refresh', {});\n",
       "    }\n",
       "};\n",
       "\n",
       "mpl.figure.prototype.handle_rubberband = function (fig, msg) {\n",
       "    var x0 = msg['x0'] / fig.ratio;\n",
       "    var y0 = (fig.canvas.height - msg['y0']) / fig.ratio;\n",
       "    var x1 = msg['x1'] / fig.ratio;\n",
       "    var y1 = (fig.canvas.height - msg['y1']) / fig.ratio;\n",
       "    x0 = Math.floor(x0) + 0.5;\n",
       "    y0 = Math.floor(y0) + 0.5;\n",
       "    x1 = Math.floor(x1) + 0.5;\n",
       "    y1 = Math.floor(y1) + 0.5;\n",
       "    var min_x = Math.min(x0, x1);\n",
       "    var min_y = Math.min(y0, y1);\n",
       "    var width = Math.abs(x1 - x0);\n",
       "    var height = Math.abs(y1 - y0);\n",
       "\n",
       "    fig.rubberband_context.clearRect(\n",
       "        0,\n",
       "        0,\n",
       "        fig.canvas.width / fig.ratio,\n",
       "        fig.canvas.height / fig.ratio\n",
       "    );\n",
       "\n",
       "    fig.rubberband_context.strokeRect(min_x, min_y, width, height);\n",
       "};\n",
       "\n",
       "mpl.figure.prototype.handle_figure_label = function (fig, msg) {\n",
       "    // Updates the figure title.\n",
       "    fig.header.textContent = msg['label'];\n",
       "};\n",
       "\n",
       "mpl.figure.prototype.handle_cursor = function (fig, msg) {\n",
       "    fig.rubberband_canvas.style.cursor = msg['cursor'];\n",
       "};\n",
       "\n",
       "mpl.figure.prototype.handle_message = function (fig, msg) {\n",
       "    fig.message.textContent = msg['message'];\n",
       "};\n",
       "\n",
       "mpl.figure.prototype.handle_draw = function (fig, _msg) {\n",
       "    // Request the server to send over a new figure.\n",
       "    fig.send_draw_message();\n",
       "};\n",
       "\n",
       "mpl.figure.prototype.handle_image_mode = function (fig, msg) {\n",
       "    fig.image_mode = msg['mode'];\n",
       "};\n",
       "\n",
       "mpl.figure.prototype.handle_history_buttons = function (fig, msg) {\n",
       "    for (var key in msg) {\n",
       "        if (!(key in fig.buttons)) {\n",
       "            continue;\n",
       "        }\n",
       "        fig.buttons[key].disabled = !msg[key];\n",
       "        fig.buttons[key].setAttribute('aria-disabled', !msg[key]);\n",
       "    }\n",
       "};\n",
       "\n",
       "mpl.figure.prototype.handle_navigate_mode = function (fig, msg) {\n",
       "    if (msg['mode'] === 'PAN') {\n",
       "        fig.buttons['Pan'].classList.add('active');\n",
       "        fig.buttons['Zoom'].classList.remove('active');\n",
       "    } else if (msg['mode'] === 'ZOOM') {\n",
       "        fig.buttons['Pan'].classList.remove('active');\n",
       "        fig.buttons['Zoom'].classList.add('active');\n",
       "    } else {\n",
       "        fig.buttons['Pan'].classList.remove('active');\n",
       "        fig.buttons['Zoom'].classList.remove('active');\n",
       "    }\n",
       "};\n",
       "\n",
       "mpl.figure.prototype.updated_canvas_event = function () {\n",
       "    // Called whenever the canvas gets updated.\n",
       "    this.send_message('ack', {});\n",
       "};\n",
       "\n",
       "// A function to construct a web socket function for onmessage handling.\n",
       "// Called in the figure constructor.\n",
       "mpl.figure.prototype._make_on_message_function = function (fig) {\n",
       "    return function socket_on_message(evt) {\n",
       "        if (evt.data instanceof Blob) {\n",
       "            var img = evt.data;\n",
       "            if (img.type !== 'image/png') {\n",
       "                /* FIXME: We get \"Resource interpreted as Image but\n",
       "                 * transferred with MIME type text/plain:\" errors on\n",
       "                 * Chrome.  But how to set the MIME type?  It doesn't seem\n",
       "                 * to be part of the websocket stream */\n",
       "                img.type = 'image/png';\n",
       "            }\n",
       "\n",
       "            /* Free the memory for the previous frames */\n",
       "            if (fig.imageObj.src) {\n",
       "                (window.URL || window.webkitURL).revokeObjectURL(\n",
       "                    fig.imageObj.src\n",
       "                );\n",
       "            }\n",
       "\n",
       "            fig.imageObj.src = (window.URL || window.webkitURL).createObjectURL(\n",
       "                img\n",
       "            );\n",
       "            fig.updated_canvas_event();\n",
       "            fig.waiting = false;\n",
       "            return;\n",
       "        } else if (\n",
       "            typeof evt.data === 'string' &&\n",
       "            evt.data.slice(0, 21) === 'data:image/png;base64'\n",
       "        ) {\n",
       "            fig.imageObj.src = evt.data;\n",
       "            fig.updated_canvas_event();\n",
       "            fig.waiting = false;\n",
       "            return;\n",
       "        }\n",
       "\n",
       "        var msg = JSON.parse(evt.data);\n",
       "        var msg_type = msg['type'];\n",
       "\n",
       "        // Call the  \"handle_{type}\" callback, which takes\n",
       "        // the figure and JSON message as its only arguments.\n",
       "        try {\n",
       "            var callback = fig['handle_' + msg_type];\n",
       "        } catch (e) {\n",
       "            console.log(\n",
       "                \"No handler for the '\" + msg_type + \"' message type: \",\n",
       "                msg\n",
       "            );\n",
       "            return;\n",
       "        }\n",
       "\n",
       "        if (callback) {\n",
       "            try {\n",
       "                // console.log(\"Handling '\" + msg_type + \"' message: \", msg);\n",
       "                callback(fig, msg);\n",
       "            } catch (e) {\n",
       "                console.log(\n",
       "                    \"Exception inside the 'handler_\" + msg_type + \"' callback:\",\n",
       "                    e,\n",
       "                    e.stack,\n",
       "                    msg\n",
       "                );\n",
       "            }\n",
       "        }\n",
       "    };\n",
       "};\n",
       "\n",
       "// from https://stackoverflow.com/questions/1114465/getting-mouse-location-in-canvas\n",
       "mpl.findpos = function (e) {\n",
       "    //this section is from http://www.quirksmode.org/js/events_properties.html\n",
       "    var targ;\n",
       "    if (!e) {\n",
       "        e = window.event;\n",
       "    }\n",
       "    if (e.target) {\n",
       "        targ = e.target;\n",
       "    } else if (e.srcElement) {\n",
       "        targ = e.srcElement;\n",
       "    }\n",
       "    if (targ.nodeType === 3) {\n",
       "        // defeat Safari bug\n",
       "        targ = targ.parentNode;\n",
       "    }\n",
       "\n",
       "    // pageX,Y are the mouse positions relative to the document\n",
       "    var boundingRect = targ.getBoundingClientRect();\n",
       "    var x = e.pageX - (boundingRect.left + document.body.scrollLeft);\n",
       "    var y = e.pageY - (boundingRect.top + document.body.scrollTop);\n",
       "\n",
       "    return { x: x, y: y };\n",
       "};\n",
       "\n",
       "/*\n",
       " * return a copy of an object with only non-object keys\n",
       " * we need this to avoid circular references\n",
       " * https://stackoverflow.com/a/24161582/3208463\n",
       " */\n",
       "function simpleKeys(original) {\n",
       "    return Object.keys(original).reduce(function (obj, key) {\n",
       "        if (typeof original[key] !== 'object') {\n",
       "            obj[key] = original[key];\n",
       "        }\n",
       "        return obj;\n",
       "    }, {});\n",
       "}\n",
       "\n",
       "mpl.figure.prototype.mouse_event = function (event, name) {\n",
       "    var canvas_pos = mpl.findpos(event);\n",
       "\n",
       "    if (name === 'button_press') {\n",
       "        this.canvas.focus();\n",
       "        this.canvas_div.focus();\n",
       "    }\n",
       "\n",
       "    var x = canvas_pos.x * this.ratio;\n",
       "    var y = canvas_pos.y * this.ratio;\n",
       "\n",
       "    this.send_message(name, {\n",
       "        x: x,\n",
       "        y: y,\n",
       "        button: event.button,\n",
       "        step: event.step,\n",
       "        guiEvent: simpleKeys(event),\n",
       "    });\n",
       "\n",
       "    /* This prevents the web browser from automatically changing to\n",
       "     * the text insertion cursor when the button is pressed.  We want\n",
       "     * to control all of the cursor setting manually through the\n",
       "     * 'cursor' event from matplotlib */\n",
       "    event.preventDefault();\n",
       "    return false;\n",
       "};\n",
       "\n",
       "mpl.figure.prototype._key_event_extra = function (_event, _name) {\n",
       "    // Handle any extra behaviour associated with a key event\n",
       "};\n",
       "\n",
       "mpl.figure.prototype.key_event = function (event, name) {\n",
       "    // Prevent repeat events\n",
       "    if (name === 'key_press') {\n",
       "        if (event.key === this._key) {\n",
       "            return;\n",
       "        } else {\n",
       "            this._key = event.key;\n",
       "        }\n",
       "    }\n",
       "    if (name === 'key_release') {\n",
       "        this._key = null;\n",
       "    }\n",
       "\n",
       "    var value = '';\n",
       "    if (event.ctrlKey && event.key !== 'Control') {\n",
       "        value += 'ctrl+';\n",
       "    }\n",
       "    else if (event.altKey && event.key !== 'Alt') {\n",
       "        value += 'alt+';\n",
       "    }\n",
       "    else if (event.shiftKey && event.key !== 'Shift') {\n",
       "        value += 'shift+';\n",
       "    }\n",
       "\n",
       "    value += 'k' + event.key;\n",
       "\n",
       "    this._key_event_extra(event, name);\n",
       "\n",
       "    this.send_message(name, { key: value, guiEvent: simpleKeys(event) });\n",
       "    return false;\n",
       "};\n",
       "\n",
       "mpl.figure.prototype.toolbar_button_onclick = function (name) {\n",
       "    if (name === 'download') {\n",
       "        this.handle_save(this, null);\n",
       "    } else {\n",
       "        this.send_message('toolbar_button', { name: name });\n",
       "    }\n",
       "};\n",
       "\n",
       "mpl.figure.prototype.toolbar_button_onmouseover = function (tooltip) {\n",
       "    this.message.textContent = tooltip;\n",
       "};\n",
       "\n",
       "///////////////// REMAINING CONTENT GENERATED BY embed_js.py /////////////////\n",
       "// prettier-ignore\n",
       "var _JSXTOOLS_RESIZE_OBSERVER=function(A){var t,i=new WeakMap,n=new WeakMap,a=new WeakMap,r=new WeakMap,o=new Set;function s(e){if(!(this instanceof s))throw new TypeError(\"Constructor requires 'new' operator\");i.set(this,e)}function h(){throw new TypeError(\"Function is not a constructor\")}function c(e,t,i,n){e=0 in arguments?Number(arguments[0]):0,t=1 in arguments?Number(arguments[1]):0,i=2 in arguments?Number(arguments[2]):0,n=3 in arguments?Number(arguments[3]):0,this.right=(this.x=this.left=e)+(this.width=i),this.bottom=(this.y=this.top=t)+(this.height=n),Object.freeze(this)}function d(){t=requestAnimationFrame(d);var s=new WeakMap,p=new Set;o.forEach((function(t){r.get(t).forEach((function(i){var r=t instanceof window.SVGElement,o=a.get(t),d=r?0:parseFloat(o.paddingTop),f=r?0:parseFloat(o.paddingRight),l=r?0:parseFloat(o.paddingBottom),u=r?0:parseFloat(o.paddingLeft),g=r?0:parseFloat(o.borderTopWidth),m=r?0:parseFloat(o.borderRightWidth),w=r?0:parseFloat(o.borderBottomWidth),b=u+f,F=d+l,v=(r?0:parseFloat(o.borderLeftWidth))+m,W=g+w,y=r?0:t.offsetHeight-W-t.clientHeight,E=r?0:t.offsetWidth-v-t.clientWidth,R=b+v,z=F+W,M=r?t.width:parseFloat(o.width)-R-E,O=r?t.height:parseFloat(o.height)-z-y;if(n.has(t)){var k=n.get(t);if(k[0]===M&&k[1]===O)return}n.set(t,[M,O]);var S=Object.create(h.prototype);S.target=t,S.contentRect=new c(u,d,M,O),s.has(i)||(s.set(i,[]),p.add(i)),s.get(i).push(S)}))})),p.forEach((function(e){i.get(e).call(e,s.get(e),e)}))}return s.prototype.observe=function(i){if(i instanceof window.Element){r.has(i)||(r.set(i,new Set),o.add(i),a.set(i,window.getComputedStyle(i)));var n=r.get(i);n.has(this)||n.add(this),cancelAnimationFrame(t),t=requestAnimationFrame(d)}},s.prototype.unobserve=function(i){if(i instanceof window.Element&&r.has(i)){var n=r.get(i);n.has(this)&&(n.delete(this),n.size||(r.delete(i),o.delete(i))),n.size||r.delete(i),o.size||cancelAnimationFrame(t)}},A.DOMRectReadOnly=c,A.ResizeObserver=s,A.ResizeObserverEntry=h,A}; // eslint-disable-line\n",
       "mpl.toolbar_items = [[\"Home\", \"Reset original view\", \"fa fa-home icon-home\", \"home\"], [\"Back\", \"Back to previous view\", \"fa fa-arrow-left icon-arrow-left\", \"back\"], [\"Forward\", \"Forward to next view\", \"fa fa-arrow-right icon-arrow-right\", \"forward\"], [\"\", \"\", \"\", \"\"], [\"Pan\", \"Left button pans, Right button zooms\\nx/y fixes axis, CTRL fixes aspect\", \"fa fa-arrows icon-move\", \"pan\"], [\"Zoom\", \"Zoom to rectangle\\nx/y fixes axis\", \"fa fa-square-o icon-check-empty\", \"zoom\"], [\"\", \"\", \"\", \"\"], [\"Download\", \"Download plot\", \"fa fa-floppy-o icon-save\", \"download\"]];\n",
       "\n",
       "mpl.extensions = [\"eps\", \"jpeg\", \"pgf\", \"pdf\", \"png\", \"ps\", \"raw\", \"svg\", \"tif\"];\n",
       "\n",
       "mpl.default_extension = \"png\";/* global mpl */\n",
       "\n",
       "var comm_websocket_adapter = function (comm) {\n",
       "    // Create a \"websocket\"-like object which calls the given IPython comm\n",
       "    // object with the appropriate methods. Currently this is a non binary\n",
       "    // socket, so there is still some room for performance tuning.\n",
       "    var ws = {};\n",
       "\n",
       "    ws.binaryType = comm.kernel.ws.binaryType;\n",
       "    ws.readyState = comm.kernel.ws.readyState;\n",
       "    function updateReadyState(_event) {\n",
       "        if (comm.kernel.ws) {\n",
       "            ws.readyState = comm.kernel.ws.readyState;\n",
       "        } else {\n",
       "            ws.readyState = 3; // Closed state.\n",
       "        }\n",
       "    }\n",
       "    comm.kernel.ws.addEventListener('open', updateReadyState);\n",
       "    comm.kernel.ws.addEventListener('close', updateReadyState);\n",
       "    comm.kernel.ws.addEventListener('error', updateReadyState);\n",
       "\n",
       "    ws.close = function () {\n",
       "        comm.close();\n",
       "    };\n",
       "    ws.send = function (m) {\n",
       "        //console.log('sending', m);\n",
       "        comm.send(m);\n",
       "    };\n",
       "    // Register the callback with on_msg.\n",
       "    comm.on_msg(function (msg) {\n",
       "        //console.log('receiving', msg['content']['data'], msg);\n",
       "        var data = msg['content']['data'];\n",
       "        if (data['blob'] !== undefined) {\n",
       "            data = {\n",
       "                data: new Blob(msg['buffers'], { type: data['blob'] }),\n",
       "            };\n",
       "        }\n",
       "        // Pass the mpl event to the overridden (by mpl) onmessage function.\n",
       "        ws.onmessage(data);\n",
       "    });\n",
       "    return ws;\n",
       "};\n",
       "\n",
       "mpl.mpl_figure_comm = function (comm, msg) {\n",
       "    // This is the function which gets called when the mpl process\n",
       "    // starts-up an IPython Comm through the \"matplotlib\" channel.\n",
       "\n",
       "    var id = msg.content.data.id;\n",
       "    // Get hold of the div created by the display call when the Comm\n",
       "    // socket was opened in Python.\n",
       "    var element = document.getElementById(id);\n",
       "    var ws_proxy = comm_websocket_adapter(comm);\n",
       "\n",
       "    function ondownload(figure, _format) {\n",
       "        window.open(figure.canvas.toDataURL());\n",
       "    }\n",
       "\n",
       "    var fig = new mpl.figure(id, ws_proxy, ondownload, element);\n",
       "\n",
       "    // Call onopen now - mpl needs it, as it is assuming we've passed it a real\n",
       "    // web socket which is closed, not our websocket->open comm proxy.\n",
       "    ws_proxy.onopen();\n",
       "\n",
       "    fig.parent_element = element;\n",
       "    fig.cell_info = mpl.find_output_cell(\"<div id='\" + id + \"'></div>\");\n",
       "    if (!fig.cell_info) {\n",
       "        console.error('Failed to find cell for figure', id, fig);\n",
       "        return;\n",
       "    }\n",
       "    fig.cell_info[0].output_area.element.on(\n",
       "        'cleared',\n",
       "        { fig: fig },\n",
       "        fig._remove_fig_handler\n",
       "    );\n",
       "};\n",
       "\n",
       "mpl.figure.prototype.handle_close = function (fig, msg) {\n",
       "    var width = fig.canvas.width / fig.ratio;\n",
       "    fig.cell_info[0].output_area.element.off(\n",
       "        'cleared',\n",
       "        fig._remove_fig_handler\n",
       "    );\n",
       "    fig.resizeObserverInstance.unobserve(fig.canvas_div);\n",
       "\n",
       "    // Update the output cell to use the data from the current canvas.\n",
       "    fig.push_to_output();\n",
       "    var dataURL = fig.canvas.toDataURL();\n",
       "    // Re-enable the keyboard manager in IPython - without this line, in FF,\n",
       "    // the notebook keyboard shortcuts fail.\n",
       "    IPython.keyboard_manager.enable();\n",
       "    fig.parent_element.innerHTML =\n",
       "        '<img src=\"' + dataURL + '\" width=\"' + width + '\">';\n",
       "    fig.close_ws(fig, msg);\n",
       "};\n",
       "\n",
       "mpl.figure.prototype.close_ws = function (fig, msg) {\n",
       "    fig.send_message('closing', msg);\n",
       "    // fig.ws.close()\n",
       "};\n",
       "\n",
       "mpl.figure.prototype.push_to_output = function (_remove_interactive) {\n",
       "    // Turn the data on the canvas into data in the output cell.\n",
       "    var width = this.canvas.width / this.ratio;\n",
       "    var dataURL = this.canvas.toDataURL();\n",
       "    this.cell_info[1]['text/html'] =\n",
       "        '<img src=\"' + dataURL + '\" width=\"' + width + '\">';\n",
       "};\n",
       "\n",
       "mpl.figure.prototype.updated_canvas_event = function () {\n",
       "    // Tell IPython that the notebook contents must change.\n",
       "    IPython.notebook.set_dirty(true);\n",
       "    this.send_message('ack', {});\n",
       "    var fig = this;\n",
       "    // Wait a second, then push the new image to the DOM so\n",
       "    // that it is saved nicely (might be nice to debounce this).\n",
       "    setTimeout(function () {\n",
       "        fig.push_to_output();\n",
       "    }, 1000);\n",
       "};\n",
       "\n",
       "mpl.figure.prototype._init_toolbar = function () {\n",
       "    var fig = this;\n",
       "\n",
       "    var toolbar = document.createElement('div');\n",
       "    toolbar.classList = 'btn-toolbar';\n",
       "    this.root.appendChild(toolbar);\n",
       "\n",
       "    function on_click_closure(name) {\n",
       "        return function (_event) {\n",
       "            return fig.toolbar_button_onclick(name);\n",
       "        };\n",
       "    }\n",
       "\n",
       "    function on_mouseover_closure(tooltip) {\n",
       "        return function (event) {\n",
       "            if (!event.currentTarget.disabled) {\n",
       "                return fig.toolbar_button_onmouseover(tooltip);\n",
       "            }\n",
       "        };\n",
       "    }\n",
       "\n",
       "    fig.buttons = {};\n",
       "    var buttonGroup = document.createElement('div');\n",
       "    buttonGroup.classList = 'btn-group';\n",
       "    var button;\n",
       "    for (var toolbar_ind in mpl.toolbar_items) {\n",
       "        var name = mpl.toolbar_items[toolbar_ind][0];\n",
       "        var tooltip = mpl.toolbar_items[toolbar_ind][1];\n",
       "        var image = mpl.toolbar_items[toolbar_ind][2];\n",
       "        var method_name = mpl.toolbar_items[toolbar_ind][3];\n",
       "\n",
       "        if (!name) {\n",
       "            /* Instead of a spacer, we start a new button group. */\n",
       "            if (buttonGroup.hasChildNodes()) {\n",
       "                toolbar.appendChild(buttonGroup);\n",
       "            }\n",
       "            buttonGroup = document.createElement('div');\n",
       "            buttonGroup.classList = 'btn-group';\n",
       "            continue;\n",
       "        }\n",
       "\n",
       "        button = fig.buttons[name] = document.createElement('button');\n",
       "        button.classList = 'btn btn-default';\n",
       "        button.href = '#';\n",
       "        button.title = name;\n",
       "        button.innerHTML = '<i class=\"fa ' + image + ' fa-lg\"></i>';\n",
       "        button.addEventListener('click', on_click_closure(method_name));\n",
       "        button.addEventListener('mouseover', on_mouseover_closure(tooltip));\n",
       "        buttonGroup.appendChild(button);\n",
       "    }\n",
       "\n",
       "    if (buttonGroup.hasChildNodes()) {\n",
       "        toolbar.appendChild(buttonGroup);\n",
       "    }\n",
       "\n",
       "    // Add the status bar.\n",
       "    var status_bar = document.createElement('span');\n",
       "    status_bar.classList = 'mpl-message pull-right';\n",
       "    toolbar.appendChild(status_bar);\n",
       "    this.message = status_bar;\n",
       "\n",
       "    // Add the close button to the window.\n",
       "    var buttongrp = document.createElement('div');\n",
       "    buttongrp.classList = 'btn-group inline pull-right';\n",
       "    button = document.createElement('button');\n",
       "    button.classList = 'btn btn-mini btn-primary';\n",
       "    button.href = '#';\n",
       "    button.title = 'Stop Interaction';\n",
       "    button.innerHTML = '<i class=\"fa fa-power-off icon-remove icon-large\"></i>';\n",
       "    button.addEventListener('click', function (_evt) {\n",
       "        fig.handle_close(fig, {});\n",
       "    });\n",
       "    button.addEventListener(\n",
       "        'mouseover',\n",
       "        on_mouseover_closure('Stop Interaction')\n",
       "    );\n",
       "    buttongrp.appendChild(button);\n",
       "    var titlebar = this.root.querySelector('.ui-dialog-titlebar');\n",
       "    titlebar.insertBefore(buttongrp, titlebar.firstChild);\n",
       "};\n",
       "\n",
       "mpl.figure.prototype._remove_fig_handler = function (event) {\n",
       "    var fig = event.data.fig;\n",
       "    if (event.target !== this) {\n",
       "        // Ignore bubbled events from children.\n",
       "        return;\n",
       "    }\n",
       "    fig.close_ws(fig, {});\n",
       "};\n",
       "\n",
       "mpl.figure.prototype._root_extra_style = function (el) {\n",
       "    el.style.boxSizing = 'content-box'; // override notebook setting of border-box.\n",
       "};\n",
       "\n",
       "mpl.figure.prototype._canvas_extra_style = function (el) {\n",
       "    // this is important to make the div 'focusable\n",
       "    el.setAttribute('tabindex', 0);\n",
       "    // reach out to IPython and tell the keyboard manager to turn it's self\n",
       "    // off when our div gets focus\n",
       "\n",
       "    // location in version 3\n",
       "    if (IPython.notebook.keyboard_manager) {\n",
       "        IPython.notebook.keyboard_manager.register_events(el);\n",
       "    } else {\n",
       "        // location in version 2\n",
       "        IPython.keyboard_manager.register_events(el);\n",
       "    }\n",
       "};\n",
       "\n",
       "mpl.figure.prototype._key_event_extra = function (event, _name) {\n",
       "    // Check for shift+enter\n",
       "    if (event.shiftKey && event.which === 13) {\n",
       "        this.canvas_div.blur();\n",
       "        // select the cell after this one\n",
       "        var index = IPython.notebook.find_cell_index(this.cell_info[0]);\n",
       "        IPython.notebook.select(index + 1);\n",
       "    }\n",
       "};\n",
       "\n",
       "mpl.figure.prototype.handle_save = function (fig, _msg) {\n",
       "    fig.ondownload(fig, null);\n",
       "};\n",
       "\n",
       "mpl.find_output_cell = function (html_output) {\n",
       "    // Return the cell and output element which can be found *uniquely* in the notebook.\n",
       "    // Note - this is a bit hacky, but it is done because the \"notebook_saving.Notebook\"\n",
       "    // IPython event is triggered only after the cells have been serialised, which for\n",
       "    // our purposes (turning an active figure into a static one), is too late.\n",
       "    var cells = IPython.notebook.get_cells();\n",
       "    var ncells = cells.length;\n",
       "    for (var i = 0; i < ncells; i++) {\n",
       "        var cell = cells[i];\n",
       "        if (cell.cell_type === 'code') {\n",
       "            for (var j = 0; j < cell.output_area.outputs.length; j++) {\n",
       "                var data = cell.output_area.outputs[j];\n",
       "                if (data.data) {\n",
       "                    // IPython >= 3 moved mimebundle to data attribute of output\n",
       "                    data = data.data;\n",
       "                }\n",
       "                if (data['text/html'] === html_output) {\n",
       "                    return [cell, data, j];\n",
       "                }\n",
       "            }\n",
       "        }\n",
       "    }\n",
       "};\n",
       "\n",
       "// Register the function which deals with the matplotlib target/channel.\n",
       "// The kernel may be null if the page has been refreshed.\n",
       "if (IPython.notebook.kernel !== null) {\n",
       "    IPython.notebook.kernel.comm_manager.register_target(\n",
       "        'matplotlib',\n",
       "        mpl.mpl_figure_comm\n",
       "    );\n",
       "}\n"
      ],
      "text/plain": [
       "<IPython.core.display.Javascript object>"
      ]
     },
     "metadata": {},
     "output_type": "display_data"
    },
    {
     "data": {
      "text/html": [
       "<img src=\"data:image/png;base64,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\" width=\"800.0666666666667\">"
      ],
      "text/plain": [
       "<IPython.core.display.HTML object>"
      ]
     },
     "metadata": {},
     "output_type": "display_data"
    }
   ],
   "source": [
    "num_pos = 20\n",
    "r = 100\n",
    "\n",
    "\n",
    "t = np.linspace(0, 3/2*np.pi, num_pos)\n",
    "pos=np.asarray([r*sin(t), r*cos(t)])\n",
    "\n",
    "B = boat()\n",
    "\n",
    "plt.figure(figsize=(8, 8))\n",
    "plt.axis('equal')\n",
    "\n",
    "# # This is to clearly show the principal of addition\n",
    "for p in pos.T[...,None]:\n",
    "    P = np.tile(p,(1,B.shape[1]))\n",
    "    A = B + P\n",
    "    plt.fill(A[0,:],A[1,:],'C0', ec='k')\n",
    "    \n",
    "\n",
    "\n",
    "# Note that much faster Python code which achieves the same is shown below.\n",
    "# Feel free to ignore this as it is not nearly as illustrative of linear algebra\n",
    "\n",
    "# for p in zip(*pos):\n",
    "#     plt.fill(B[0,:]+p[0],B[1,:]+p[1],'C0', ec='k')\n",
    "#     plt.plot([p_prev[0], p[0]],[p_prev[1], p[1]])\n",
    "\n"
   ]
  },
  {
   "cell_type": "markdown",
   "id": "569c6578",
   "metadata": {},
   "source": [
    "The code illustrates the visualization of a simulated boat track using vector addition. The first step taken is to define a number of simulated boat positions through the statement `num_pos = 20`. The simulated track will be circular with a radius `r = 100`. \n",
    "\n",
    "A parametric representation of a circle using the parameter `t` is used with `t` increasing along the arc of the circle; we define `t = np.linspace(0, 3/2*np.pi, num_pos)` resulting in `\\num_pos` angles `t[i]` along a circle segment $t\\in[0,1\\frac{1}{2}\\pi]$\n",
    "\n",
    "A matrix containing vertices representing a boat is then created through the statement `B = boat()` (see [1 2 Self Study Exercise 1](1_Introduction.ipynb#1_2_Self_Study_Exercise_1'))\n",
    "\n",
    "We then use the parameter `t` to determine `num_pos` positions: `pos=np.asarray([r*sin(t), r*cos(t)])`. Note that we used the concept of heading here i.e., a zero angle points to the North direction and then increases in clockwise fashion.\n",
    "\n",
    "We then use the `for p in pos.T[...,None]:` statement to iterate through the array of positions - note that `numpy` iterates rows first, so here we transposed `pos` and added an empty dimension so that the resulting `p` is a column vector. The only reason for using this approach is to have `p` be a column vector. Then the matrix `P` is created matching order with `B` and its columns being copies of `p` which allows for the use of the simple matrix addition of `A = B + P` to put the boat shape in the right position. (The simple `A = B+p` would have also worked! however that expression is, strictly speaking, not linear algebra)\n",
    "\n",
    "A much more efficient way to achieve the same effect is shown in the commented out code, however it does not illustrate the principles of linear algebra very well. \n",
    "\n",
    "Here you are given a sneak peak at linear transformations which will be discussed further in [4 Linear Transformations](4_Linear_Transformations.ipynb). This illustration is somewhat unsatisfying as the boat is not oriented in the direction it is traveling. We can use linear algebra to not just translate, but also rotate the boat, You will learn about this in [4 Linear Transformations: Rotation](4_Linear_Transformations.ipynb#Rotation)."
   ]
  },
  {
   "cell_type": "markdown",
   "id": "4d2a35b1",
   "metadata": {},
   "source": [
    "___\n",
    "\n",
    "## 2.3 Inverse of a Matrix \n",
    "\n",
    "The matrix operation which is closest to the scalar operation of division is ***inversion***. The inverse of a matrix $\\m{A}$ is denoted $\\m{A}^{-1}$ and satisfies the relations:\n",
    "\n",
    " <a id='eq53'></a>\n",
    "$$\\m{A}\\m{A}^{-1} = \\m{A}^{-1}\\m{A}=\\m{I}\\tag{53}$$\n",
    "\n",
    "This demonstrates an important property of matrices whose inverse exists: If we apply a transformation $\\m{A}$ then the result can can be transformed back completely by applying the inverse transformation $\\m{A}^{-1}$, but only if $\\m{A}^{-1}$ exists! For example, if $\\m{y} = \\m{Ax}$ then $\\m{x} = \\m{A}^{-1}\\m{y}$ \n",
    "\n",
    "Inverses only exist in special circumstances. To enable us to describe when they exist the *determinant* and *rank* of a matrix are first defined. The practical problem of computing an inverse is then mentioned briefly. Manual computation quickly becomes a cumbersome and complex task, a good reason to use the Python `numpy` implementation to save a lot of work!"
   ]
  },
  {
   "cell_type": "markdown",
   "id": "b2a921ac",
   "metadata": {},
   "source": [
    "___\n",
    "### 2.3.1 Inverse of a Matrix : Permutations\n",
    "\n",
    "First we need to understand permutations, say that we have $n$ elements then there may $n!$ ways of ordering these elements. For example if we have 3 elements then there are 6 permutations\n",
    "\n",
    "$$S ={1,2,3}\\tag{54}$$\n",
    "\n",
    "There are then the 6 permutations:\n",
    "\n",
    "$$\\begin{array}( (1,2,3)\\\\(1,3,2)\\\\(2,1,3)\\\\(2,3,1)\\\\(3,1,2)\\\\(3,2,1)\\end{array}\\tag{55}$$\n",
    "\n",
    "The **identity permutation** $e_n$ keeps the $n$ elements in order\"\n",
    "\n",
    "$$e_3 = (1,2,3)\\tag{56}$$\n",
    "\n",
    "A transposition of two elements is then the permutation that switches the elements e.g. $(1,3,2)$ switches the elements $2$ and $3$. The parity of transpositions it takes to get to the identify permutation is independent of how the transpositions are done.\n",
    "\n",
    "$$ (1,3,4,2)\\rightarrow(1,3,2,4)\\rightarrow(1,2,3,4)\\tag{even number of transpositions)  (57}$$\n",
    "$$ (4,1,2,3)\\rightarrow(3,1,2,4)\\rightarrow(2,1,3,4)\\rightarrow(1,2,3,4)\\tag{odd number of transpositions)  (58}$$\n",
    "\n",
    "When the number of transpositions to get to the identify permutation is even we have an ***even permutation*** , when the number is odd we have an ***odd permutation*** .\n"
   ]
  },
  {
   "cell_type": "markdown",
   "id": "b6911708",
   "metadata": {},
   "source": [
    "___\n",
    "### 2.3.2 Inverse of a Matrix : Determinant\n",
    "\n",
    "The determinant of a square matrix $\\m{A}$ of dimension $n$ is a scalar denoted $\\text{det}(\\m{A})$ or $|\\m{A}|$. the determinant is defined by the relation:\n",
    "\n",
    "$$|\\m{A}|=\\sum\\pm a_{1i}\\:a_{2l}\\dots a_{nk}\\tag{59}$$\n",
    "\n",
    "$i,j\\dots k$ are permutations of integers $1,2\\dots n$. The summation includes all $n!$ permutations. Individual terms obtain the positive sign for even permutations and the negative sign for odd  permutations.\n",
    "\n",
    "If the determinant of a square matrix is equal to zero ($|\\m{A}|=0$) the matrix is said to be **singular**. Those square matrices whose determinants differ from zero ($|\\m{A}|\\neq0$) are known as **nonsingular** matrices. Determinants have the properties:\n",
    "\n",
    "$$|\\m{A}^T|=|\\m{A}|\\tag{60}$$\n",
    "\n",
    "$$|\\m{A}\\m{B}|=|\\m{A}|\\cdot|\\m{B}|\\tag{61}$$\n",
    "\n",
    "The determinant of:\n",
    "\n",
    "$$_3\\m{A}_3=\\begin{pmatrix}a_{11}&a_{12}&a_{13}\\\\a_{21}&a_{22}&a_{23}\\\\a_{31}&a_{32}&a_{33}\\end{pmatrix}\\tag{62}$$\n",
    "\n",
    "is found by\n",
    "\n",
    "$$|\\m{A}|=\\begin{array}+ +a_{11}a_{22}a_{33}\\\\\n",
    "                         -a_{11}a_{23}a_{32}\\\\\n",
    "                         -a_{12}a_{21}a_{33}\\\\\n",
    "                         +a_{12}a_{23}a_{31}\\\\\n",
    "                         +a_{13}a_{21}a_{32}\\\\\n",
    "                         -a_{13}a_{22}a_{31}\\end{array}\\tag{63}$$"
   ]
  },
  {
   "cell_type": "markdown",
   "id": "bc2cd0c5",
   "metadata": {},
   "source": [
    "___\n",
    "\n",
    "### 2.3.2 Self Study Exercise 1\n",
    "\n",
    "Note that we will use the Python `try` `except` functionality. In this exercise we will ask to calculate the determinant of a non-square matrix, which will lead to an error. Rather than letting the routine crash we want to catch this error by creating an exception that will print a polite reminder that you should provide a square matrix. For this we will place the code that potentially causes an error in a `try` block and catch the error in a `except` block\n",
    "\n",
    "    a) Create and display the matrix `A` of (39)\n",
    "    b) Determine and display the determinant of `A` or provide a gentle reminder to \n",
    "       provide a square matrix\n",
    "    c) Create a matrix `B` by subsetting `A` using the `=` operator\n",
    "    d) Show that `B` occupies the same space in memory by changing element `B[0,0]` to \n",
    "       zero and then displaying `A`\n",
    "       \n",
    "Note that for a lot linear algebra we often want to perform operations on subsets of matrices. Using a different name to refer to the subset of a matrix is much more efficient than creating a new matrix with that name holding the data content of the subset. The `numpy.linalg` module makes heavy use of naming subsets of matrices to keep the code legible yet efficient.\n",
    "\n",
    "    e) Restore the element `A[0,0]` to value `1.`,  then display `B`\n",
    "    b) Determine and display the determinant of `B` or provide a gentle reminder to \n",
    "       provide a square matrix\n"
   ]
  },
  {
   "cell_type": "code",
   "execution_count": null,
   "id": "75e9e009",
   "metadata": {},
   "outputs": [],
   "source": [
    "### 2.3.2 Self Study Exercise 1\n",
    "\n",
    "# a) Create and display the matrix `A` of (39)\n",
    "A = np.asarray([[1,7,-2],[4,3,5]])\n",
    "print('A:')\n",
    "display_matrix(A)\n",
    "\n",
    "# b) Determine and display the determinant of `A` or provide a gentle reminder to \n",
    "#        provide a square matrix\n",
    "try:\n",
    "    det_A = la.det(A)\n",
    "    print('det(A) = ' + str(det_A))\n",
    "except:\n",
    "    if not A.shape[0] == A.shape[1]:\n",
    "        print('Matrix A must be square to calculate its determinant.')\n",
    "    else:\n",
    "        print('Error: Must add code to address this error')\n",
    "\n",
    "# c) Create a matrix `B` by subsetting `A` using the `=` operator\n",
    "B = A[:,0:2]\n",
    "print('B:')\n",
    "display_matrix(B)\n",
    "\n",
    "# d) Show that `B` occupies the same space in memory by changing element `B[0,0]` to \n",
    "#        zero and then displaying `A\n",
    "B[0,0] = 0\n",
    "print('A:')\n",
    "display_matrix(A)\n",
    "\n",
    "# e) Restore the element `A[0,0]` to value `1.`,  then display `B`\n",
    "A[0,0] = 1\n",
    "print('B:')\n",
    "display_matrix(B)\n",
    "\n",
    "# f) Determine and display the determinant of `B` or provide a gentle reminder to \n",
    "#        provide a square matrix\n",
    "try:\n",
    "    det_B = la.det(B)\n",
    "    print('det(B) = ' + str(det_B))\n",
    "except:\n",
    "    if not B.shape[0] == B.shape[1]:\n",
    "        print('Matrix B must be square to calculate its determinant.')\n",
    "    else:\n",
    "        print('Error: Must add code to address this error')"
   ]
  },
  {
   "cell_type": "markdown",
   "id": "4fe648fd",
   "metadata": {},
   "source": [
    "___\n",
    "### 2.3.3 Inverse of a Matrix : Rank\n",
    "\n",
    "The rank of any matrix, which need not be square, is the order of its largest square non-singular submatrix. The concept of rank has great importance in the solution of linear equations. To elaborate: a smaller submatrix can be obtained from any matrix by discarding some of the rows and columns of the original matrix. If we discard only the minimum of rows and columns needed to obtain a square nonsingular submatrix (non-zero determinant), then the order of that submatrix is the ***rank*** of the original matrix. If a matrix is already nonsingular then its rank is equal to its order. For example, given:\n",
    "\n",
    "$$_5\\m{B}_4=\\begin{pmatrix}1&2&1&0\\\\3&2&1&2\\\\5&6&3&2\\\\2&-1&2&5\\\\1&3&-1&-3\\end{pmatrix}\\tag{64}$$\n",
    "\n",
    "If we discard the third and fifth rows and fourth column we have:\n",
    "\n",
    "$$_5\\m{A}_4=\\begin{pmatrix}1&2&1\\\\3&2&1\\\\2&-1&2\\end{pmatrix}\\tag{65}$$\n",
    "\n",
    "Which using (63) can be shown to have $|\\m{A}|=10$. It cal also be shown that there is no $4\\times4$ submatrix of $\\m{B}$ for which the determinant is nonzero. Hence $\\m{A}$ is the largest order nonsingular submatrix of $\\m{B}$, and the rank of $\\m{B}$ is equal to the order of $\\m{A}$ i.e. $\\text{rank}(\\m{B}) = 3$\n",
    "\n",
    "\n",
    "Note that for this we will use the `numpy.linalg` module which we imported as `la`"
   ]
  },
  {
   "cell_type": "markdown",
   "id": "f50c9e85",
   "metadata": {},
   "source": [
    "___\n",
    "\n",
    "### 2.3.3 Self Study Exercise 1\n",
    "\n",
    "    a) Create and display the matrix `B` of (64)\n",
    "    b) create a column vector `row_select` with the indexes of the rows you \n",
    "       want to extract from `B` to create `A` of(65), don't forget that `Python` \n",
    "       indexing starts at 0!\n",
    "    c) create a row vector `col_select` with the indexes of the columns you \n",
    "       want to extract from `B` to create `A`.\n",
    "    d) Create matrix `A` as in (65) by sub-setting `B` using `row_select` and   \n",
    "       `col_select` as the index vectors.\n",
    "    e) Determine and display the determinant of `A`\n",
    "    f) Determine the rank of A  using `la.matrix_rank()` and assign it to `rank_A`\n",
    "    g) How would you determine whether the matrix is full rank i.e., its rank is \n",
    "       equivalent its order parameters?\n"
   ]
  },
  {
   "cell_type": "code",
   "execution_count": null,
   "id": "fa83e1b9",
   "metadata": {},
   "outputs": [],
   "source": [
    "### 2.3.3 Self Study Exercise 1\n",
    "\n",
    "# a) Create and display the matrix `B`\n",
    "B = np.asarray([[1,2,1,0],[3,2,1,2],[5,6,3,2],[2,-1,2,5],[1,3,-1,-3]])\n",
    "print('B:')\n",
    "display_matrix(B)\n",
    "\n",
    "# b) create a column vector `row_select`\n",
    "row_select = [[0],[1],[3]]\n",
    "# c) create a row vector `col_select`\n",
    "col_select = [[0,1,2]]\n",
    "\n",
    "# d) Create matrix `A`\n",
    "A = B[row_select,col_select]\n",
    "print('A:')\n",
    "display_matrix(A)\n",
    "\n",
    "# e) Determine and display the determinant of `A`\n",
    "det_A = la.det(A)\n",
    "print('det(A) = ' + str(det_A))\n",
    "\n",
    "# f) Determine the rank of A  using `la.rank()` and assign it to `rank_A`\n",
    "rank_A = la.matrix_rank(A)\n",
    "print(rank_A)\n",
    "print(A.shape)\n",
    "q_2_3_3_1 = 'I would determine whether the matrix is full rank by checking that the' \n",
    "q_2_3_3_1 += ' order matches the rank'"
   ]
  },
  {
   "cell_type": "markdown",
   "id": "3255424c",
   "metadata": {},
   "source": [
    "___\n",
    "### 2.3.4 Inverse of a Matrix : Regular Inverse\n",
    "\n",
    "Only nonsingular matrices have a regular inverse. Singular matrices do not have a regular inverse. Inverses have the following properties:\n",
    "\n",
    "$$(\\m{A}^{-1})^{-1} = \\m{A}\\tag{67}$$\n",
    "\n",
    "$$(\\m{A}\\m{B})^{-1} = \\m{B}^{-1}\\m{A}^{-1}\\tag{Note the reverse order)  (68}$$\n",
    "\n",
    "$$|\\m{A}^{-1}| = \\dfrac{1}{|\\m{A}|}\\tag{70}$$\n",
    "\n",
    "In `numpy.linalg` the inverse of a matrix is given by `numpy.linalg.inv`. With the way we imported the modules in this notebook we would use `la.inv(A)` to determine the inverse of `A`\n",
    "\n",
    "___\n",
    "### 2.3.5 Inverse of a Matrix : Orthogonal Matrix\n",
    "\n",
    "An ***orthogonal matrix***  has the special property that all the columns form column-vectors orthogonal to each-other and similarly all the rows form row-vectors orthogonal to each-other. For an orthogonal matrix its transpose and inverse are equal i.e.:\n",
    "\n",
    "$$f(x) = \\left\\{\\begin{array}+{}\\text{orthogonal} &\\text{if } \\m{A}^{T} = \\m{A}^{-1}\\\\\\text{non-orthogonal}&\\text{if } \\m{A}^{T} \\neq \\m{A}^{-1}\\end{array}\\right. \\tag{71}$$\n",
    "\n",
    "or\n",
    "\n",
    "$$f(x) = \\left\\{\\begin{array}+{}\\text{orthogonal} &\\text{if } \\m{A}\\m{A}^{T} = \\m{I}\\\\\\text{non-orthogonal}&\\text{if } \\m{A}\\m{A}^{T} \\neq \\m{I}\\end{array}\\right. \\tag{72}$$\n",
    "\n",
    "Finally: the product of two orthogonal matrices is also orthogonal and the ***determinant of an orthogonal matrix is unity***\n",
    "\n"
   ]
  },
  {
   "cell_type": "markdown",
   "id": "eef59a39",
   "metadata": {},
   "source": [
    "___\n",
    "\n",
    "### 2.3.5 Self Study Exercise 1\n",
    "\n",
    "$$ \\m{R}=\\begin{pmatrix}\\cos\\theta & \\sin\\theta \\\\ -\\sin\\theta & \\cos\\theta\\end{pmatrix}$$\n",
    "\n",
    "    a) Create the variable `th` and assign it the value 𝜋/6\n",
    "    b) Using `th` for 𝜃 calculate the matrix shown above and assign it to `R`\n",
    "    c) Determine the inverse of `R`, assign it to `Ri` and display `Ri`\n",
    "    d) Calculate and display the product of `R` and `Ri` both using the \n",
    "       `print()` and `display_matrix()` functions\n",
    "    e) Comment on the relation between an Identity matrix and matrix `R@Ri` based on\n",
    "       both displays of the matrix\n",
    "    f) Given your answer to e argue why it is generally better to use the\n",
    "       `numpy.allclose()` method than the `==` operator to test whether the product of \n",
    "       two matrices resembles an identity matrix.\n",
    "       \n",
    "\n",
    "    \n"
   ]
  },
  {
   "cell_type": "code",
   "execution_count": null,
   "id": "eb539262",
   "metadata": {},
   "outputs": [],
   "source": [
    "### 2.3.5 Self Study Exercise 1\n",
    "\n",
    "# a) Create the variable `th` and assign it the value 𝜋/6\n",
    "th = pi/6\n",
    "\n",
    "# b) Using `th` calculate the matrix shown above and assign it to `R`\n",
    "R = np.asarray([[cos(th), sin(th)],[-sin(th),cos(th)]])\n",
    "\n",
    "# c) Determine the inverse of `R`, assign it to `Ri` and display `Ri`\n",
    "Ri = la.inv(R)\n",
    "\n",
    "# d) Calculate and display the product of `R` and `Ri` both using the \n",
    "# `print()` and `display_matrix()` functions\n",
    "print('R x Ri:')\n",
    "print(R@Ri)\n",
    "print('\\nR x Ri:')\n",
    "display_matrix(R@Ri)\n",
    "\n",
    "# e) Comment on the relation between an Identity matrix and matrix `R@Ri` \n",
    "q_2_3_5_1 = 'The relation between `R@Ri and ...'\n",
    "q_2_3_5_2 = 'It is generally better to use the `numpy.allclose()` method ...'\n",
    "\n",
    "\n"
   ]
  },
  {
   "cell_type": "markdown",
   "id": "214348b9",
   "metadata": {},
   "source": [
    "Note that the matrix $\\m{R}$ defined above is a Rotation Matrix and represents another sneak peek at [4 Linear Transformations](4_Linear_Transformations.ipynb). We will be using the `boat()` function returning a boat shape that you created in [1.2 Self Study Exercise 1](1_Introduction.ipynb#1_2_Self_Study_Exercise_1'). "
   ]
  },
  {
   "cell_type": "code",
   "execution_count": null,
   "id": "1f0a87bf",
   "metadata": {},
   "outputs": [],
   "source": [
    "B = boat()\n",
    "A = np.asarray([[1,0],[0,1]])\n",
    "origin = np.array([[0, 0],[0, 0]]) # origin point\n",
    "print('Matrix B holds a polygon defining a boat shape')\n",
    "\n",
    "plt.figure(figsize=(4, 4))\n",
    "# plt.gca().invert_yaxis()\n",
    "plt.axis('equal')\n",
    "plt.fill(B[0,:],B[1,:],'C0', ec='k')\n",
    "plt.quiver(*origin, A[:,0], -A[:,1], color=['r','b','g'], scale=5)\n",
    "plt.show()\n",
    "\n",
    "display_matrix(B)\n"
   ]
  },
  {
   "cell_type": "markdown",
   "id": "e2eb0cdb",
   "metadata": {},
   "source": [
    "A right handed coordinate system is used for the boat; the x-axis points in the boat's forward direction, and the z-axis in the down direction. thus the y-axis is positive in the boat's starboard direction."
   ]
  },
  {
   "cell_type": "code",
   "execution_count": null,
   "id": "55e3ace4",
   "metadata": {},
   "outputs": [],
   "source": [
    "B = boat()\n",
    "print('Matrix B holds a polygon defining a boat shape')\n",
    "\n",
    "# Rotate the boat so that the x-axis aligns to the North axis (heading rotation of -pi/2)\n",
    "Rn = np.asarray([[cos(-pi/2), sin(-pi/2)],[-sin(-pi/2),cos(-pi/2)]])\n",
    "B = Rn@boat()\n",
    "\n",
    "# Now rotate it by the heading angle th defined by the matrix R\n",
    "Br = R@B\n",
    "\n",
    "display_matrix(Br)\n",
    "\n",
    "# Br = Ri@Br\n",
    "\n",
    "plt.figure(figsize=(8, 8))\n",
    "plt.axis('equal')\n",
    "plt.fill(Br[0,:],Br[1,:],'C0', ec='k')\n",
    "plt.show()"
   ]
  },
  {
   "cell_type": "markdown",
   "id": "6274a968",
   "metadata": {},
   "source": [
    "In the code cell above we created matrix $\\m{B}$ holding a boat shape. All we had to do to rotate the Boat was to multiply the polygon contained in $\\m{B}$ by the rotation matrix $\\m{R}$"
   ]
  },
  {
   "cell_type": "markdown",
   "id": "b25fc20c",
   "metadata": {},
   "source": [
    "### 2.3.5 Self Study Exercise 2\n",
    "\n",
    "    a) What matrix would you use to rotate `Br` back to match B? Note, that you have \n",
    "       already created the rotation matrix to do this in 2.3.5 Self Study Exercise 1"
   ]
  },
  {
   "cell_type": "code",
   "execution_count": null,
   "id": "7ef7b4a7",
   "metadata": {},
   "outputs": [],
   "source": [
    "q_2_3_5_3 = 'I would use matrix ... to rotate `Br` back `B`'"
   ]
  },
  {
   "cell_type": "markdown",
   "id": "2779f1a4",
   "metadata": {},
   "source": [
    "___\n",
    "### Optional Challenge of your Python Knowledge\n",
    "\n",
    "Here a sneak preview at some of the things you will learn to do in this module. some of the coding and linear algebra concepts have not been explained yet i.e., you need to either know already, or do a deep dive into `Python`, and particularly `numpy`.\n",
    "\n",
    "Analyze the code below and see whether you can guess what every line does, add a comment after each line explaining what it does\n",
    "\n",
    "Note that from this example you may observe that the course over ground is not the same as the heading of the vessel! What in this visualization shows this?"
   ]
  },
  {
   "cell_type": "markdown",
   "id": "816b53b5",
   "metadata": {},
   "source": [
    " ___\n",
    " <a id='Inverse_of_a_Matrix_Computation'></a>\n",
    " ### 2.3.6 Inverse of a Matrix: Computation\n",
    " \n",
    " Many methods for computing matrix inverses exist; some of these are direct methods, others require several iteration cycles. Some can be applied to any non-singular matrix, and some require special properties (such as symmetry). In fact, the matrices that we most often want to invert in Ocean Mapping are those involved in least-squares estimation and approximation, and have special properties: they are symmetric and positive definite (this will be defined in [4 Linear Transformations](4_Linear_Transformations.ipynb)). In this case the method that is most efficient and suffers least from computer roundoff is the **Choleski** method, which is described in [6 Choleski Method](6_The_Choleski_Method.ipynb).\n",
    " \n",
    " The problem of computing an inverse is closely related to the problem of solving a set of linear equations (discussed more fully in [3_Solution_of_Linear_Equations](3_Solution_of_Linear_Equations.ipynb). Here we show how computation of the inverse matrix can be formulated as the problem of solving systems of linear equations. In [3.2.2 Computation of Systems Having a Unique Solution](3_Solution_of_Linear_Equations.ipynb#Computation_of_Systems_Having_a_Unique_Solution) we show the reverse - how the computation of an inverse is involved in the solution of a system of linear equations.\n",
    " \n",
    " Given a square non-singular matrix $\\m{A}$ we wish to find the elements of its inverse:\n",
    " \n",
    " $$\\m{B} = \\m{A}^{-1}\\tag{73}$$\n",
    " \n",
    " Such that:\n",
    " \n",
    " $$\\m{AB} = \\m{I}\\tag{74}$$\n",
    " \n",
    " from [$(25)$](#eq25) we have the $n^2$ equations:\n",
    " \n",
    " $$c_{ij} = \\sum_{k=1}^{n}a_{ik}b_{k,j}=\\left\\{\\begin{array}. 0 & i\\neq j\\\\ 1 & i = j \\end{array}\\right.\\tag{75}$$\n",
    " \n",
    " Since we know the elements $a_{ij}$ of $\\m{A}$, these $n^2$ equations form a system of equations with the $n^2$ unknowns $a_{ij}$, the elements of $\\m{B} $. In fact, we can break these up in into $n$ independent sets of equations, each having the $n$ elements of one columns of $\\m{B}$ as unknowns. For example, given:\n",
    " \n",
    " $$_3\\m{A}_3 = \\begin{pmatrix} 1 & 2 & 1 \\\\ 3 & 2 & 1 \\\\ 2 & -1 & 2 \\end{pmatrix}\\tag{76}$$\n",
    " \n",
    " we can solve the $n^2$ equations:\n",
    " \n",
    " $$\\m{AB} = \\begin{pmatrix} 1 & 2 & 1 \\\\ 3 & 2 & 1 \\\\ 2 & -1 & 2 \\end{pmatrix}\\begin{pmatrix} b_{11} & b_{12} & b_{13}\\\\ b_{21} & b_{22} & b_{23} \\\\ b_{31} & b_{32} & b_{33} \\end{pmatrix}=\\begin{pmatrix} 1 & 0 & 0 \\\\ 0 & 1 & 0 \\\\ 0 & 0 & 1 \\end{pmatrix}=\\m{I}\\tag{77}$$\n",
    " \n",
    " to obtain the elements $b_{ij}$ of \n",
    " \n",
    " $$\\m{B} = \\m{A}^{-1}\\tag{78}$$\n",
    " \n",
    " For the first columns of $\\m{B}$, these are:\n",
    " \n",
    "$$\\begin{array}. 1b_{11}+2b_{21}+1b_{31} &=1 \\\\ 3b_{11}+2b_{21}+1b_{31} &=0 \\\\ 2b_{11}-1b_{21}+2b_{31} &=0  \\end{array}\\tag{79}$$\n",
    " \n",
    " Which has the solution:\n",
    " \n",
    " $$\\begin{array}. b_{11} = \\dfrac{-5}{10} \\\\ b_{21} = \\dfrac{4}{10} \\\\ b_{11} = \\dfrac{7}{10}\\end{array}\\tag{80}$$\n",
    " \n",
    " The complete solution for $\\m{B}$ is then:\n",
    " \n",
    " $$\\m{B} = \\m{A}^{-1} = \\dfrac{-1}{10}\\begin{pmatrix}5 & -5 & 0 \\\\ -4 & 0 & 2 \\\\ -7 & 5 & -4\\end{pmatrix}\\tag{81}$$\n",
    " "
   ]
  },
  {
   "cell_type": "markdown",
   "id": "4a2b4de1",
   "metadata": {},
   "source": [
    "____\n",
    "### 2.3.6 Self Study Exercise 1\n",
    "\n",
    "    a) Verify the correctness of the numerical example shown in equations (76) through (81), by using the `numpy` \n",
    "       `linear algebra` function `inv` (in this case `la.inv(A)`)"
   ]
  },
  {
   "cell_type": "code",
   "execution_count": null,
   "id": "f87a9b08",
   "metadata": {},
   "outputs": [],
   "source": [
    "### 2.3.6 Self Study Exercise 1\n",
    "\n",
    "#     a) Verify the correctness of the numerical example shown in equations (76) through (81)\n",
    "\n",
    "print( 'A = ')\n",
    "A = np.array([[1,2,1],[3,2,1],[2,-1,2]])\n",
    "display_matrix(A)\n",
    "print( 'A invserse:')\n",
    "display_matrix(la.inv(A))\n",
    "\n"
   ]
  },
  {
   "cell_type": "markdown",
   "id": "fa66e146",
   "metadata": {},
   "source": [
    "___\n",
    "### 2.3.7 Inverse of a Matrix: Generalized Inverse\n",
    "\n",
    "So far we have considered the **regular** inverse of a matrix $\\m{A}$ which is denoted by $\\m{A}^{-1}$ and which satisfies equation ([53](#eq53)). The regular inverse $\\m{A}^{-1}$ only exists when $\\m{A}$ is square and non-singular i.e., the rank of $_n\\m{A}_n$ is $n$.\n",
    "\n",
    "It is possible to expand the definition of the inverse to apply to rectangular matrices $_m\\m{A}_n$ of arbitrary rank. In this case we are dealing with ***generalized inverses***, which we denote by $\\m{A}^-$, reserving for regular inverses the symbol $\\m{A}^{-1}$. Generalized inverses must satisfy the relation:\n",
    "\n",
    "$$\\m{A}\\m{A}^-\\m{A} = \\m{A}\\tag{82}$$\n",
    "\n",
    "rather than satisfying [53](#eq53). However, this condition is not sufficient to define a unique $\\m{A}^-$. We can narrow down the possibilities by imposing one or more conditions on $\\m{A}^-$, such as:\n",
    "\n",
    "$$\\m{A}\\m{A}^-\\m{A} = \\m{A}\\tag{83}$$\n",
    "\n",
    "$$(\\m{A}\\m{A}^-)^T = \\m{A}\\m{A}^-\\tag{84}$$\n",
    "\n",
    "$$(\\m{A}^-\\m{A})^T = \\m{A}^-\\m{A}\\tag{85}$$\n",
    "\n",
    "A generalized inverse which satisfies all four of these conditions is unique and is known as a ***Moore Penrose inverse***, or more commonly as a ***pseudo inverse***, denoted by $\\m{A}^+$. Techniques for computing $\\m{A}^+$ are implemented in the `linear algebra` module of `numpy` in the `pinv()` function. Mathematical description of finding the solution to calculating the pseudo inverse is far beyond the scope of these Notebooks, but the interested reader may refer to [Rao, C.R. and Mitra, S.K. (1971) Generalized Inverse of Matrices and Its Applications](https://archive.org/details/in.ernet.dli.2015.141571/mode/2up).\n",
    "\n",
    "An example of a matrix $\\m{A}$ and its pseudo inverse $\\m{A}^+$ is:\n",
    "\n",
    "$$_3\\m{A}_3 = \\begin{pmatrix} 1 & 10  & 15 \\\\ 10 & 4 & 6 \\\\ 15 & 6 & 9 \\end{pmatrix}\\tag{86}$$\n",
    "\n",
    "$$_3\\m{A}^+_3 =\\dfrac{-1}{312} \\begin{pmatrix} 13 & -10  & -15 \\\\ -10 & \\dfrac{4}{13} & \\dfrac{6}{13} \\\\ -15 & \\dfrac{6}{13} & \\dfrac{9}{13} \\end{pmatrix}\\tag{87}$$\n",
    "\n",
    "Note that both $\\m{A}$ and  $\\m{A}^0$ have zero-determinants i.e., are singular.\n"
   ]
  },
  {
   "cell_type": "code",
   "execution_count": null,
   "id": "f8216577",
   "metadata": {},
   "outputs": [],
   "source": [
    "A = np.array([[1, 10, 15],[10, 4, 6],[15, 6, 9]])\n",
    "312*la.pinv(A)"
   ]
  },
  {
   "cell_type": "code",
   "execution_count": null,
   "id": "c8c456d7",
   "metadata": {},
   "outputs": [],
   "source": []
  },
  {
   "cell_type": "code",
   "execution_count": null,
   "id": "72b04ba8",
   "metadata": {},
   "outputs": [],
   "source": []
  },
  {
   "cell_type": "code",
   "execution_count": null,
   "id": "683d6de6",
   "metadata": {},
   "outputs": [],
   "source": []
  },
  {
   "cell_type": "code",
   "execution_count": 1,
   "id": "a0b62a86",
   "metadata": {},
   "outputs": [
    {
     "ename": "NameError",
     "evalue": "name 'np' is not defined",
     "output_type": "error",
     "traceback": [
      "\u001b[0;31m---------------------------------------------------------------------------\u001b[0m",
      "\u001b[0;31mNameError\u001b[0m                                 Traceback (most recent call last)",
      "Input \u001b[0;32mIn [1]\u001b[0m, in \u001b[0;36m<module>\u001b[0;34m\u001b[0m\n\u001b[1;32m      1\u001b[0m num_pos \u001b[38;5;241m=\u001b[39m \u001b[38;5;241m20\u001b[39m\n\u001b[1;32m      2\u001b[0m r \u001b[38;5;241m=\u001b[39m \u001b[38;5;241m100\u001b[39m\n\u001b[0;32m----> 4\u001b[0m t \u001b[38;5;241m=\u001b[39m \u001b[43mnp\u001b[49m\u001b[38;5;241m.\u001b[39mlinspace(\u001b[38;5;241m0\u001b[39m, \u001b[38;5;241m3\u001b[39m\u001b[38;5;241m/\u001b[39m\u001b[38;5;241m2\u001b[39m\u001b[38;5;241m*\u001b[39mnp\u001b[38;5;241m.\u001b[39mpi, num_pos)\n\u001b[1;32m      5\u001b[0m h \u001b[38;5;241m=\u001b[39m t \u001b[38;5;241m+\u001b[39m pi\u001b[38;5;241m/\u001b[39m\u001b[38;5;241m2\u001b[39m\n\u001b[1;32m      6\u001b[0m pos\u001b[38;5;241m=\u001b[39mnp\u001b[38;5;241m.\u001b[39masarray([r\u001b[38;5;241m*\u001b[39msin(t), r\u001b[38;5;241m*\u001b[39mcos(t)])\n",
      "\u001b[0;31mNameError\u001b[0m: name 'np' is not defined"
     ]
    }
   ],
   "source": [
    "num_pos = 20\n",
    "r = 100\n",
    "\n",
    "t = np.linspace(0, 3/2*np.pi, num_pos)\n",
    "h = t + pi/2\n",
    "pos=np.asarray([r*sin(t), r*cos(t)])\n",
    "\n",
    "R = np.asarray([[cos(-pi/2), sin(-pi/2)],[-sin(-pi/2),cos(-pi/2)]])\n",
    "B = R@boat()\n",
    "\n",
    "plt.figure(figsize=(8, 8))\n",
    "plt.axis('equal')\n",
    "\n",
    "# The code below is relatively efficient, but can be optimized \n",
    "# significanly further (at the cost of readability)\n",
    "\n",
    "p_prev = pos[0:2,0:1]\n",
    "for i in range(pos.shape[1]):\n",
    "    p = pos[0:2,i:i+1]\n",
    "    plt.plot([p_prev[0,0], p[0,0]],[p_prev[1,0], p[1,0]],'C1',zorder=0)\n",
    "    R = np.asarray([[cos(h[i]), sin(h[i])],[-sin(h[i]),cos(h[i])]])\n",
    "    C = R@B+p\n",
    "    plt.fill(C[0,:],C[1,:],'C0', ec='k',zorder=1)\n",
    "    p_prev = p\n"
   ]
  },
  {
   "cell_type": "code",
   "execution_count": null,
   "id": "c567cbb4",
   "metadata": {},
   "outputs": [],
   "source": [
    "h\n"
   ]
  },
  {
   "cell_type": "code",
   "execution_count": null,
   "id": "ed2c1a90",
   "metadata": {},
   "outputs": [],
   "source": [
    "# https://towardsdatascience.com/matplotlib-animations-in-jupyter-notebook-4422e4f0e389\n",
    "\n",
    "def animate(frame_num):\n",
    "    y = np.sin(x + 2*pi * frame_num/100)\n",
    "    line.set_data((x,y))\n",
    "    return line\n",
    "\n",
    "# Simulate circular track\n",
    "\n",
    "t = np.linspace(0, 2*np.pi, 100)\n",
    "\n",
    "x = np.linspace(0, 2*np.pi, 100)\n",
    "# y = np.sin(x)\n",
    "fig, ax = plt.subplots() # Create a single subplot with axes ax in figure fig\n",
    "line, = ax.plot([])     # Line refers to the only plot present\n",
    "ax.set_xlim(0, 2*np.pi)\n",
    "ax.set_ylim(-1.1, 1.1)\n",
    "\n",
    "anim = FuncAnimation(fig, animate, frames=100, interval=20)\n",
    "plt.show()"
   ]
  },
  {
   "cell_type": "code",
   "execution_count": null,
   "id": "69bb9aef",
   "metadata": {},
   "outputs": [],
   "source": [
    "R = np.asarray([[cos(-pi/2), sin(-pi/2)],[-sin(-pi/2),cos(-pi/2)]])"
   ]
  },
  {
   "cell_type": "code",
   "execution_count": null,
   "id": "afa92ada",
   "metadata": {},
   "outputs": [],
   "source": [
    "R\n"
   ]
  },
  {
   "cell_type": "markdown",
   "id": "170f1f75",
   "metadata": {},
   "source": [
    "___\n",
    "## Useful Resources\n",
    "\n",
    "[Rao, C.R. and Mitra, S.K. (1971) Generalized Inverse of Matrices and Its Applications. John Wiley & Sons, New York.](https://archive.org/details/in.ernet.dli.2015.141571/mode/2up) "
   ]
  },
  {
   "cell_type": "markdown",
   "id": "e209bec5",
   "metadata": {},
   "source": [
    "___\n",
    "#### Copyright 2022, Semme J. Dijkstra\n",
    "\n",
    "Permission is hereby granted, free of charge, to any person obtaining a copy of this software and associated documentation files (the \"Software\"), to deal in the Software without restriction, including without limitation the rights to use, copy, modify, merge, publish, distribute, sublicense, and/or sell copies of the Software, and to permit persons to whom the Software is furnished to do so, subject to the following conditions:\n",
    "\n",
    "The above copyright notice and this permission notice shall be included in all copies or substantial portions of the Software.\n",
    "\n",
    "THE SOFTWARE IS PROVIDED \"AS IS\", WITHOUT WARRANTY OF ANY KIND, EXPRESS OR IMPLIED, INCLUDING BUT NOT LIMITED TO THE WARRANTIES OF MERCHANTABILITY, FITNESS FOR A PARTICULAR PURPOSE AND NONINFRINGEMENT. IN NO EVENT SHALL THE AUTHORS OR COPYRIGHT HOLDERS BE LIABLE FOR ANY CLAIM, DAMAGES OR OTHER LIABILITY, WHETHER IN AN ACTION OF CONTRACT, TORT OR OTHERWISE, ARISING FROM, OUT OF OR IN CONNECTION WITH THE SOFTWARE OR THE USE OR OTHER DEALINGS IN THE SOFTWARE."
   ]
  },
  {
   "cell_type": "code",
   "execution_count": null,
   "id": "f4803c30",
   "metadata": {},
   "outputs": [],
   "source": []
  }
 ],
 "metadata": {
  "kernelspec": {
   "display_name": "Python 3 (ipykernel)",
   "language": "python",
   "name": "python3"
  },
  "language_info": {
   "codemirror_mode": {
    "name": "ipython",
    "version": 3
   },
   "file_extension": ".py",
   "mimetype": "text/x-python",
   "name": "python",
   "nbconvert_exporter": "python",
   "pygments_lexer": "ipython3",
   "version": "3.9.7"
  }
 },
 "nbformat": 4,
 "nbformat_minor": 5
}
