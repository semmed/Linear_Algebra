{
 "cells": [
  {
   "cell_type": "markdown",
   "id": "7a3a8365",
   "metadata": {},
   "source": [
    "<img align=\"left\" width=\"30%\" style=\"padding-right:10px;\" src=\"Images/Ccom.png\">\n",
    "\n",
    "___\n",
    "# Review of Linear Algebra\n",
    "# Matrix Algebra\n",
    "<br><br>\n",
    "Text:\n",
    "David E. Wells, Kresho Frankich, 1994\n",
    "\n",
    "Jupyter Notebook Implementation: Semme J. Dijkstra, 2022\n",
    "<a href=\"https://teams.microsoft.com/l/team/19%3auL2OnH3RSfCWwU2Fd3VYGLT_03BYOfA3KB_OBp10CIY1%40thread.tacv2/conversations?groupId=5c11a428-14b6-429d-b7f5-a61ebc0a440b&tenantId=d6241893-512d-46dc-8d2b-be47e25f5666\"><img src=\"Images/help.png\"  title=\"Ask questions on Teams\" align=\"right\" width=\"10%\" alt=\"Teams.com\\\"></a><br><br> "
   ]
  },
  {
   "cell_type": "code",
   "execution_count": 2,
   "id": "9529f640",
   "metadata": {},
   "outputs": [],
   "source": [
    "import matplotlib.pyplot as plt\n",
    "import numpy as np"
   ]
  },
  {
   "cell_type": "markdown",
   "id": "1e230edf",
   "metadata": {},
   "source": [
    "___\n",
    "<img align=\"left\" width=\"6%\" style=\"padding-right:10px;\" src=\"./Images/info.png\">\n",
    "\n",
    "# LaTex<br>\n",
    "\n",
    "This is a [Jupyter](https://jupyter.org/) notebook in which heavy use of [LaTex](https://www.latex-project.org/) is made. LaTex is *\\\"a high-quality typesetting system; it includes features designed for the production of technical and scientific documentation. LaTeX is the de facto standard for the communication and publication of scientific documents.\\\"* according to [the Latex project](https://www.latex-project.org/)\n",
    "\n",
    "Latex allows the creation of macros and other type-setting methods of convenience. This particular Markdown cell you are reading is used for the definition of new LaTex operators and commands, but they are hidden from view. If you are interested: double click on this cell to enter its edit mode and you will be able see how they are implemented.\n",
    "\n",
    "<div hidden>\n",
    "$\\usepackage{amsmath,amssymb}$\n",
    "\n",
    "$\\DeclareRobustCommand{\\bbone}{\\text{\\usefont{U}{bbold}{m}{n}1}}$\n",
    "\n",
    "$\\DeclareMathOperator{\\EX}{\\mathbb{E}}% expected value$\n",
    "\n",
    "$\\DeclareMathOperator{\\res}{\\vec{r}}$\n",
    "\n",
    "$\\DeclareMathOperator{\\mf}{\\mu_{1}\\sigma_{2}^{2}+\\mu_{2}\\sigma_{1}^{2}\\over{\\sigma_{1}^{2} + \\sigma_{2}^{2}}}$\n",
    "    \n",
    "$\\DeclareMathOperator{\\sf}{{\\sigma_{1}^{2}\\sigma_{2}^{2}}\\over{\\sigma_{1}^{2}+\\sigma_{2}^{2}}}$\n",
    "    \n",
    "$\\newcommand{\\ex}[1]{\\mathbb{E}\\{#1\\}}$\n",
    "    \n",
    "$\\newcommand{\\dev}[1]{\\mathbb{E}\\{#1^o_i - \\mathbb{E}\\{#1\\}\\}}$\n",
    "    \n",
    "$\\newcommand{\\cov}[1]{\\mathbb{E}\\{(#1^o_i - \\mathbb{E}\\{#1\\})(#1 - \\mathbb{E}\\{#1\\})^T\\}}$\n",
    "    \n",
    "$\\newcommand{\\m}[1]{\\mathbf{#1}}$\n",
    "</div>"
   ]
  },
  {
   "cell_type": "markdown",
   "id": "2bdb5377",
   "metadata": {},
   "source": [
    "___\n",
    "## 2.1 Special Matrices\n",
    "\n",
    "We will often be concerned with matrices having the same numbers of columns as rows. Such a matrix ks called a ***square*** matrix:\n",
    "\n",
    "$$_n\\m{S}_n=\\begin{pmatrix}\n",
    "a_{11} & a_{12} & \\dots & a_{1n}\\\\\n",
    "a_{21} & a_{22} & \\dots & a_{2n}\\\\\n",
    "\\vdots & \\vdots & \\ddots & \\vdots \\\\\n",
    "a_{n1} & a_{n2} & \\dots & a_{nn}\n",
    "\\end{pmatrix}\\tag{4}$$\n",
    "\n",
    "\n",
    "A square matrix having all elements zero except along the principal diagonal running from the top left to the bottom right is a ***diagonal matrix***:\n",
    "\n",
    "$$_3\\m{D}_3=\\begin{pmatrix}\n",
    "-1 & 0 & 0\\\\\n",
    "0 & 1 & 0\\\\\n",
    "0 & 0 & 0\n",
    "\\end{pmatrix}\\tag{5}$$\n",
    "\n",
    "A diagonal matrix which has all the diagonal elements equal is called a ***scalar matrix***:\n",
    "\n",
    "$$_4\\m{K}_4=\\begin{pmatrix}\n",
    "3 & 0 & 0 & 0\\\\\n",
    "0 & 3 & 0 & 0\\\\\n",
    "0 & 0 & 3 & 0\\\\\n",
    "0 & 0 & 0 & 3\n",
    "\\end{pmatrix}\\tag{6}$$\n",
    "\n",
    "A scalar matrix which has diagonal elements equal to one is called a ***unit*** or ***identity matrix*** and is usually denoted $I$:\n",
    "\n",
    "$$_2\\m{I}_2=\\begin{pmatrix}\n",
    "1 & 0 \\\\\n",
    "0 & 1\n",
    "\\end{pmatrix}\\tag{7}$$\n"
   ]
  },
  {
   "cell_type": "markdown",
   "id": "2db456fd",
   "metadata": {},
   "source": [
    "___\n",
    "### 2.1 Self Study Exercise 1\n",
    "\n",
    "Write out the linear equations $\\m{Ax} = \\m{y}$ explicitly, when $\\m{A}$ is equal to the examples $(4)$ to $(7)$ on a piece of paper.\n",
    "\n",
    "Comment on the nature of these equations in each case in the code cell below"
   ]
  },
  {
   "cell_type": "code",
   "execution_count": 3,
   "id": "8ed97b75",
   "metadata": {},
   "outputs": [],
   "source": [
    "### 2.1 Self Study Exercise 7\n",
    "\n",
    "q_2_1_1a = 'The matrix S above ...'\n",
    "q_2_1_1b = 'The matrix D above ...'\n",
    "q_2_1_1c = 'The matrix K above ...'\n",
    "q_2_1_1d = 'The matrix I above ...'"
   ]
  },
  {
   "cell_type": "markdown",
   "id": "a13cafae",
   "metadata": {},
   "source": [
    "A square matrix in which all the elements above the diagonal are zero is a ***lower triangular*** matrix:\n",
    "\n",
    "$$_3\\m{L}_3=\\begin{pmatrix}\n",
    "5 & 0 & 0\\\\\n",
    "7 & 9 & 0\\\\\n",
    "8 & 6 & 3\n",
    "\\end{pmatrix}\\tag{8}$$\n",
    "\n",
    "If all the elements below the diagonal are zero, it is an ***upper triangular*** matrix.\n",
    "\n",
    "$$_3\\m{U}_3=\\begin{pmatrix}\n",
    "3 & 1 & 1 & 1\\\\\n",
    "0 & 3 & 1 & 1\\\\\n",
    "0 & 0 & 3 & 1\\\\\n",
    "0 & 0 & 0 & 1\n",
    "\\end{pmatrix}\\tag{9}$$\n",
    "\n",
    "If the equivalent elements above and below the diagonal are equal (that is for $\\m{A} a_{ij}=a{ji}$ for all $i,j$) then the matrix is a ***symmetric matrix***\n",
    "\n",
    "$$_2\\m{S}_2=\\begin{pmatrix}\n",
    "2 & 3 \\\\\n",
    "3 & 1\n",
    "\\end{pmatrix}\\tag{10}$$"
   ]
  },
  {
   "cell_type": "markdown",
   "id": "3f0c0eea",
   "metadata": {},
   "source": [
    "___\n",
    "### 2.1 Self Study Exercise 2\n",
    "\n",
    "Write out the linear equations $\\m{Ax} = \\m{y}$ explicitly, when $\\m{A}$ is equal to the examples $(8)$ to $(10)$ on a piece of paper.\n",
    "\n",
    "Comment on the nature of these equations in each case in the code cell below"
   ]
  },
  {
   "cell_type": "code",
   "execution_count": 4,
   "id": "f9eccdf2",
   "metadata": {},
   "outputs": [],
   "source": [
    "### 2.1 Self Study Exercise 7\n",
    "\n",
    "q_2_1_2a = 'The matrix L above ...'\n",
    "q_2_1_2b = 'The matrix U above ...'\n",
    "q_2_1_2c = 'The matrix S above ...'"
   ]
  },
  {
   "cell_type": "markdown",
   "id": "87e9884d",
   "metadata": {},
   "source": [
    "Finally, if all the elements of a matrix are zero the matrix is called a ***null matrix***, denoted $\\m{0}$.\n",
    "\n",
    "$$_2\\m{0}_3=\\begin{pmatrix}\n",
    "0 & 0 & 0 \\\\\n",
    "0 & 0 & 0\n",
    "\\end{pmatrix}\\tag{11}$$"
   ]
  },
  {
   "cell_type": "markdown",
   "id": "21156857",
   "metadata": {},
   "source": [
    "___\n",
    "## 2.2 Basic Matrix Operations\n",
    "\n",
    "The four basic operations on scalars are familiar: \n",
    "    \n",
    "    - addition\n",
    "    - subtraction\n",
    "    - multiplication\n",
    "    - division\n",
    "    \n",
    "Close equivalents of the first three of these are used on matrices. While there is no direct matrix equivalent to scalar division, matrix *inversion* is equivalent to taking the *reciprocal* of a scalar. This is discussed separately in the next section."
   ]
  },
  {
   "cell_type": "code",
   "execution_count": null,
   "id": "79ad3f65",
   "metadata": {},
   "outputs": [],
   "source": []
  },
  {
   "cell_type": "code",
   "execution_count": null,
   "id": "473f3c9a",
   "metadata": {},
   "outputs": [],
   "source": []
  }
 ],
 "metadata": {
  "kernelspec": {
   "display_name": "Python 3 (ipykernel)",
   "language": "python",
   "name": "python3"
  },
  "language_info": {
   "codemirror_mode": {
    "name": "ipython",
    "version": 3
   },
   "file_extension": ".py",
   "mimetype": "text/x-python",
   "name": "python",
   "nbconvert_exporter": "python",
   "pygments_lexer": "ipython3",
   "version": "3.9.7"
  }
 },
 "nbformat": 4,
 "nbformat_minor": 5
}
